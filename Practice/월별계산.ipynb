{
 "cells": [
  {
   "cell_type": "code",
   "execution_count": null,
   "id": "10519443-3318-49bc-ad51-42d91297d70f",
   "metadata": {},
   "outputs": [],
   "source": [
    "### 월별 과거 월을 계산하는 함수\n",
    "\n",
    "def monthCal(inputValue,inputMinusMonth) :\n",
    "    \"\"\"\n",
    "    parameter : inputValue(str),inputMinusMonth(str)\n",
    "    ex) inputValue = \"2017년05월\" inputMinusMonth = \"23\"\n",
    "    return : 계산된 월차값\n",
    "    \"\"\"\n",
    "    ###입력값\n",
    "\n",
    "    # inputValue = \"2017년05월\"\n",
    "    # inputMinusMonth = \"23\"\n",
    "\n",
    "    ##입력값 구분, 정수변환 및 주차 계산\n",
    "    inputString = str(inputValue)\n",
    "    currYear = inputString[0:4]\n",
    "    currMonth = inputString[5:7]\n",
    "    currYearInt = int(currYear)\n",
    "    currMonthInt = int(currMonth)\n",
    "    minusMonthInt = int(inputMinusMonth)\n",
    "    calMonth = currMonthInt - minusMonthInt\n",
    "\n",
    "    ##\n",
    "\n",
    "    for i in range(0,minusMonthInt):\n",
    "        if(calMonth<=0):\n",
    "            currYearInt = currYearInt-1\n",
    "            currMonthInt = 12 + calMonth\n",
    "            calMonth = currMonthInt\n",
    "        else:\n",
    "            currMonthInt = calMonth\n",
    "            break;\n",
    "    if(currMonthInt<10):\n",
    "        result = str(currYearInt) + \"년 0\" + str(currMonthInt)+\"월\"\n",
    "    else :\n",
    "        result = str(currYearInt) + \"년\" + str(currMonthInt)+\"월\"\n",
    "    return result"
   ]
  },
  {
   "cell_type": "code",
   "execution_count": 3,
   "id": "527de502-717f-4760-835d-1221336acdd5",
   "metadata": {},
   "outputs": [
    {
     "data": {
      "text/plain": [
       "'2022년 05월'"
      ]
     },
     "execution_count": 3,
     "metadata": {},
     "output_type": "execute_result"
    }
   ],
   "source": [
    "monthCal(\"2023년01월\",\"8\")"
   ]
  }
 ],
 "metadata": {
  "kernelspec": {
   "display_name": "Python 3 (ipykernel)",
   "language": "python",
   "name": "python3"
  },
  "language_info": {
   "codemirror_mode": {
    "name": "ipython",
    "version": 3
   },
   "file_extension": ".py",
   "mimetype": "text/x-python",
   "name": "python",
   "nbconvert_exporter": "python",
   "pygments_lexer": "ipython3",
   "version": "3.9.13"
  }
 },
 "nbformat": 4,
 "nbformat_minor": 5
}
