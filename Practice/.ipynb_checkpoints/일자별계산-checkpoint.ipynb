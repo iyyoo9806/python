{
 "cells": [
  {
   "cell_type": "code",
   "execution_count": 2,
   "id": "391966d2-41ce-443b-8b60-cefba42ee0b2",
   "metadata": {},
   "outputs": [],
   "source": [
    "### 일별 과거 일수를 계산하는 함수"
   ]
  },
  {
   "cell_type": "code",
   "execution_count": 5,
   "id": "d077e37f-c728-4a6a-a052-fba838d3d7b8",
   "metadata": {},
   "outputs": [],
   "source": [
    "###입력값\n",
    "def calDate(inputValue,inputMinusDay):\n",
    "    \"\"\"\n",
    "    parameter : inputValue(str),inputMinusMonth(str)\n",
    "    ex) inputValue = \"2017년05월4일\" inputMinusDay = \"3\"\n",
    "    return : 계산된 일차값\n",
    "    \"\"\"\n",
    "    ###라이브러리 불러오기\n",
    "    from datetime import datetime\n",
    "    from dateutil.relativedelta import relativedelta\n",
    "    \n",
    "    # inputValue = \"2017년05월04일\"\n",
    "    # minusDay = \"3\"\n",
    "\n",
    "    currYear = inputValue[0:4]\n",
    "    currMonth = inputValue[5:7]\n",
    "    currDay = inputValue[8:10]\n",
    "    minusDayInt = int(inputMinusDay)\n",
    "\n",
    "    currYearInt = int(currYear)\n",
    "    currMonthInt = int(currMonth)\n",
    "    currDayInt = int(currDay)\n",
    "\n",
    "    calDate = datetime(currYearInt,currMonthInt,currDayInt) + relativedelta(days=-minusDayInt)\n",
    "    finalDate = str(calDate.date())\n",
    "    return finalDate"
   ]
  },
  {
   "cell_type": "code",
   "execution_count": 7,
   "id": "1a895317-a4df-47a9-b609-3f3bcfefb4a6",
   "metadata": {},
   "outputs": [
    {
     "data": {
      "text/plain": [
       "'2017-08-22'"
      ]
     },
     "execution_count": 7,
     "metadata": {},
     "output_type": "execute_result"
    }
   ],
   "source": [
    "calDate(\"2017년11월10일\",\"80\")"
   ]
  }
 ],
 "metadata": {
  "kernelspec": {
   "display_name": "Python 3 (ipykernel)",
   "language": "python",
   "name": "python3"
  },
  "language_info": {
   "codemirror_mode": {
    "name": "ipython",
    "version": 3
   },
   "file_extension": ".py",
   "mimetype": "text/x-python",
   "name": "python",
   "nbconvert_exporter": "python",
   "pygments_lexer": "ipython3",
   "version": "3.9.13"
  }
 },
 "nbformat": 4,
 "nbformat_minor": 5
}
