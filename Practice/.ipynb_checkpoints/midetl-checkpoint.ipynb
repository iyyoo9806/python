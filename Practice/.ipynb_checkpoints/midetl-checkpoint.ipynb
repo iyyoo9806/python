{
 "cells": [
  {
   "cell_type": "code",
   "execution_count": 1,
   "id": "61c3c7ec-4a81-4a08-bd12-930cf52adbe0",
   "metadata": {},
   "outputs": [
    {
     "name": "stdout",
     "output_type": "stream",
     "text": [
      "'cp949' codec can't decode byte 0xeb in position 135: illegal multibyte sequence\n",
      "'cp949' codec can't decode byte 0xec in position 9: illegal multibyte sequence\n",
      "'cp949' codec can't decode byte 0xed in position 1: illegal multibyte sequence\n"
     ]
    }
   ],
   "source": [
    "#!/usr/bin/env python\n",
    "# coding: utf-8\n",
    "\n",
    "# In[1]:\n",
    "\n",
    "\n",
    "# oracle 연결\n",
    "import pandas as pd \n",
    "import pymysql \n",
    "from sqlalchemy import create_engine,types\n",
    "## os 라이브러리 임포트 (파일 내 모든 csv파일 보내기 위해)\n",
    "from glob import glob\n",
    "\n",
    "## DB정보\n",
    "id = 'KOPO'\n",
    "pw = 'kopo'\n",
    "ip = '192.168.110.112'\n",
    "port = '1521'\n",
    "dbName = 'orcl'\n",
    "\n",
    "## 엔진생성\n",
    "engine_oracle = create_engine('oracle+cx_oracle://{}:{}@{}:{}/{}'.format(id,pw,ip,port,dbName))\n",
    "\n",
    "\n",
    "# In[2]:\n",
    "\n",
    "\n",
    "## csv 데이터 가져오기\n",
    "outPutCsv = glob(\"../dataset/*.csv\")\n",
    "\n",
    "\n",
    "# In[4]:\n",
    "\n",
    "\n",
    "## 데이터와 테이블네임\n",
    "csv_list = []\n",
    "csv_name = []\n",
    "\n",
    "\n",
    "# In[5]:\n",
    "\n",
    "\n",
    "##csv_list 에 데이터를 , csv_name에 테이블네임 넣기\n",
    "for i in range(0, len(outPutCsv)):\n",
    "    try :\n",
    "        csv_list.append(pd.read_csv(outPutCsv[i],encoding =\"ms949\"))\n",
    "        csv_name.append(outPutCsv[i].replace(\"../dataset\\\\\",\"\").replace('.csv',\"\"))\n",
    "    except Exception as e:\n",
    "        print(e)\n",
    "\n",
    "\n",
    "# In[11]:\n",
    "\n",
    "\n",
    "## 보내기\n",
    "for j in range(0,len(csv_list)):\n",
    "    ##테이블 이름 lower 후 지정된 오라클 계정으로 data프레임 전송\n",
    "    ## 로그\n",
    "    print(j)\n",
    "    try:\n",
    "        tableName = csv_name[j]\n",
    "        tableName = tableName.lower()\n",
    "        df = csv_list[j]\n",
    "        objectColumns = list(df.columns[df.dtypes == 'object'])\n",
    "        typeDict={}\n",
    "        maxLen = 100\n",
    "        for i in range(0, len(objectColumns)):\n",
    "            typeDict[ objectColumns[i] ] = types.VARCHAR(100)\n",
    "        df.to_sql(name=\"{}\".format(tableName), if_exists=\"replace\", con=engine_oracle,dtype=typeDict, index=False)\n",
    "    except Exception as e:\n",
    "        print(e)\n",
    "\n"
   ]
  }
 ],
 "metadata": {
  "kernelspec": {
   "display_name": "Python 3 (ipykernel)",
   "language": "python",
   "name": "python3"
  },
  "language_info": {
   "codemirror_mode": {
    "name": "ipython",
    "version": 3
   },
   "file_extension": ".py",
   "mimetype": "text/x-python",
   "name": "python",
   "nbconvert_exporter": "python",
   "pygments_lexer": "ipython3",
   "version": "3.9.13"
  }
 },
 "nbformat": 4,
 "nbformat_minor": 5
}
