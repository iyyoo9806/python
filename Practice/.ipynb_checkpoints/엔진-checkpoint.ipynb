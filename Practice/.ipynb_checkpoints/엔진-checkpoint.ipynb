{
 "cells": [
  {
   "cell_type": "code",
   "execution_count": null,
   "id": "0341ed7d-8b25-4a3d-b271-ce1091ae579d",
   "metadata": {},
   "outputs": [],
   "source": [
    "##oracle\n",
    "import pandas as pd \n",
    "import pymysql \n",
    "from sqlalchemy import create_engine,types\n",
    "\n",
    "id = 'kopo'\n",
    "pw = 'kopo'\n",
    "ip = '192.168.110.112'\n",
    "port = '1521'\n",
    "dbName = 'orcl'\n",
    "\n",
    "\n",
    "engine_oracle = create_engine('oracle+cx_oracle://{}:{}@{}:{}/{}'.format(id,pw,ip,port,dbName))\n",
    "\n",
    "paramData = pd.read_sql_query('SELECT * FROM KOPO_PARAM_YOOINYOUNG2', engine_oracle) \n",
    "\n",
    "paramData"
   ]
  },
  {
   "cell_type": "code",
   "execution_count": null,
   "id": "034ca523-c897-4813-8fe6-08be0cad3f88",
   "metadata": {},
   "outputs": [],
   "source": [
    "##postgre"
   ]
  },
  {
   "cell_type": "code",
   "execution_count": null,
   "id": "b830dd9a-be6c-47f3-b569-0761c275d2c2",
   "metadata": {},
   "outputs": [],
   "source": [
    "import psycopg2 \n",
    "import pandas as pd\n",
    "from sqlalchemy import create_engine \n",
    "\n",
    "id = 'kopo'\n",
    "pw = 'kopo'\n",
    "ip = '192.168.110.112'\n",
    "port = '5432'\n",
    "dbName = 'postgres'\n",
    "\n",
    "# 엔진 생성 \n",
    "engine = create_engine('postgresql://{}:{}@{}:{}/{}'.format(id,pw,ip,port,dbName)) "
   ]
  },
  {
   "cell_type": "code",
   "execution_count": null,
   "id": "a1c0a202-e967-49a0-b26e-7c2f7e77846a",
   "metadata": {},
   "outputs": [],
   "source": [
    "##mariadb"
   ]
  },
  {
   "cell_type": "code",
   "execution_count": null,
   "id": "e25be34c-1c79-49ee-9762-c9265699f283",
   "metadata": {},
   "outputs": [],
   "source": [
    "import pandas as pd \n",
    "import pymysql \n",
    "from sqlalchemy import create_engine \n",
    "\n",
    "id = 'kopo'\n",
    "pw = 'kopo'\n",
    "ip = '192.168.110.112'\n",
    "port = '5432'\n",
    "dbName = 'kopo'\n",
    " \n",
    "# 엔진 생성 \n",
    "engine_mariadb = create_engine('mysql+pymysql://{}:{}@{}:{}/{}'.format(id,pw,ip,port,dbName))\n",
    "\n",
    "# DB 테이블을 읽어 Data Frame 변수에 저장하기\n",
    "selloutData = pd.read_sql_query('SELECT * FROM kopo_product_volume', engine_mariadb) "
   ]
  }
 ],
 "metadata": {
  "kernelspec": {
   "display_name": "Python 3 (ipykernel)",
   "language": "python",
   "name": "python3"
  },
  "language_info": {
   "codemirror_mode": {
    "name": "ipython",
    "version": 3
   },
   "file_extension": ".py",
   "mimetype": "text/x-python",
   "name": "python",
   "nbconvert_exporter": "python",
   "pygments_lexer": "ipython3",
   "version": "3.9.13"
  }
 },
 "nbformat": 4,
 "nbformat_minor": 5
}
