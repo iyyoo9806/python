{
 "cells": [
  {
   "cell_type": "code",
   "execution_count": 1,
   "id": "66a5369e-b13e-45f7-a0dc-445c4c3e8c0c",
   "metadata": {
    "tags": []
   },
   "outputs": [],
   "source": [
    " # oracle 연결\n",
    "import pandas as pd \n",
    "import pymysql \n",
    "from sqlalchemy import create_engine,types\n",
    "## os 라이브러리 임포트 (파일 내 모든 csv파일 보내기 위해)\n",
    "from glob import glob\n",
    "\n",
    "## DB정보\n",
    "id = 'KOPO'\n",
    "pw = 'kopo'\n",
    "ip = '192.168.110.112'\n",
    "port = '1521'\n",
    "dbName = 'orcl'\n",
    "\n",
    "## 엔진생성\n",
    "engine_oracle = create_engine('oracle+cx_oracle://{}:{}@{}:{}/{}'.format(id,pw,ip,port,dbName))"
   ]
  },
  {
   "cell_type": "code",
   "execution_count": 2,
   "id": "8f23c250-a09f-4c78-9bdc-0a95089ef7ef",
   "metadata": {},
   "outputs": [],
   "source": [
    "## csv 데이터 가져오기\n",
    "outPutCsv = glob(\"../dataset/*.csv\")"
   ]
  },
  {
   "cell_type": "code",
   "execution_count": 4,
   "id": "d7c6d7ad-7c33-4d56-a749-8dd87f9834d4",
   "metadata": {},
   "outputs": [],
   "source": [
    "## 데이터와 테이블네임\n",
    "csv_list = []\n",
    "csv_name = []"
   ]
  },
  {
   "cell_type": "code",
   "execution_count": 5,
   "id": "5b37f471-f711-45ef-b53b-87b727e908e6",
   "metadata": {
    "tags": []
   },
   "outputs": [
    {
     "name": "stdout",
     "output_type": "stream",
     "text": [
      "'cp949' codec can't decode byte 0xeb in position 135: illegal multibyte sequence\n",
      "'cp949' codec can't decode byte 0xec in position 9: illegal multibyte sequence\n",
      "'cp949' codec can't decode byte 0xed in position 1: illegal multibyte sequence\n"
     ]
    }
   ],
   "source": [
    "##csv_list 에 데이터를 , csv_name에 테이블네임 넣기\n",
    "for i in range(0, len(outPutCsv)):\n",
    "    try :\n",
    "        csv_list.append(pd.read_csv(outPutCsv[i],encoding =\"ms949\"))\n",
    "        csv_name.append(outPutCsv[i].replace(\"../dataset\\\\\",\"\").replace('.csv',\"\"))\n",
    "    except Exception as e:\n",
    "        print(e)"
   ]
  },
  {
   "cell_type": "code",
   "execution_count": 11,
   "id": "780bbbba-5df6-453c-92f3-d24420c01fdf",
   "metadata": {},
   "outputs": [
    {
     "name": "stdout",
     "output_type": "stream",
     "text": [
      "0\n",
      "1\n",
      "2\n",
      "3\n",
      "4\n",
      "5\n",
      "6\n",
      "7\n",
      "8\n",
      "9\n",
      "10\n",
      "11\n",
      "12\n",
      "13\n",
      "14\n",
      "15\n",
      "16\n",
      "17\n",
      "18\n",
      "19\n",
      "20\n",
      "21\n",
      "22\n",
      "23\n",
      "24\n",
      "25\n",
      "26\n",
      "27\n",
      "28\n",
      "29\n",
      "30\n",
      "31\n",
      "32\n",
      "33\n",
      "34\n",
      "35\n",
      "36\n",
      "37\n",
      "38\n",
      "39\n"
     ]
    }
   ],
   "source": [
    "## 보내기\n",
    "for j in range(0,len(csv_list)):\n",
    "    ##로그\n",
    "    print(j)\n",
    "    ##테이블 이름 lower 후 지정된 오라클 계정으로 data프레임 전송\n",
    "    try:\n",
    "        tableName = csv_name[j]\n",
    "        tableName = tableName.lower()\n",
    "        df = csv_list[j]\n",
    "        objectColumns = list(df.columns[df.dtypes == 'object'])\n",
    "        typeDict={}\n",
    "        maxLen = 100\n",
    "        for i in range(0, len(objectColumns)):\n",
    "            typeDict[ objectColumns[i] ] = types.VARCHAR(100)\n",
    "        df.to_sql(name=\"{}\".format(tableName), if_exists=\"replace\", con=engine_oracle,dtype=typeDict, index=False)\n",
    "    except Exception as e:\n",
    "        print(e)"
   ]
  }
 ],
 "metadata": {
  "kernelspec": {
   "display_name": "Python 3 (ipykernel)",
   "language": "python",
   "name": "python3"
  },
  "language_info": {
   "codemirror_mode": {
    "name": "ipython",
    "version": 3
   },
   "file_extension": ".py",
   "mimetype": "text/x-python",
   "name": "python",
   "nbconvert_exporter": "python",
   "pygments_lexer": "ipython3",
   "version": "3.9.13"
  }
 },
 "nbformat": 4,
 "nbformat_minor": 5
}
