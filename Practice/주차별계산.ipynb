{
 "cells": [
  {
   "cell_type": "code",
   "execution_count": 1,
   "id": "42f04a00-707f-4dec-bb4a-631db1959efd",
   "metadata": {},
   "outputs": [],
   "source": [
    "### 주차별 과거 주차를 계산하는 함수"
   ]
  },
  {
   "cell_type": "code",
   "execution_count": 2,
   "id": "6070d967-50e0-41dc-838f-1bffed80ea48",
   "metadata": {},
   "outputs": [],
   "source": [
    "def weekCal(inputValue,inputMinusWeek) :\n",
    "    \"\"\"\n",
    "    parameter : inputValue(str),inputMinusWeek(str)\n",
    "    ex) inputValue = \"201701\" inputMinusWeek = \"5\"\n",
    "    return : 계산된 주차값\n",
    "    \"\"\"\n",
    "    ###라이브러리 불러오기\n",
    "    from isoweek import Week\n",
    "    \n",
    "    ###입력값\n",
    "    #inputValue = \"201701\"\n",
    "    #inputMinusWeek = \"5\"\n",
    "\n",
    "    ##입력값 구분, 정수변환 및 주차 계산78\n",
    "    inputString = str(inputValue)\n",
    "    currYear = inputString[0:4]\n",
    "    currWeek = inputString[4:6]\n",
    "    currYearInt = int(currYear)\n",
    "    currWeekInt = int(currWeek)\n",
    "    minusWeekInt = int(inputMinusWeek)\n",
    "    calWeek = currWeekInt - minusWeekInt\n",
    "    ##\n",
    "    for i in range(0,minusWeekInt):\n",
    "        if(calWeek<=0):\n",
    "            currWeekInt = Week.last_week_of_year(currYearInt-1).week\n",
    "            currYearInt = currYearInt-1\n",
    "            currWeekInt = currWeekInt + calWeek\n",
    "            calWeek = currWeekInt\n",
    "        else:\n",
    "            currWeekInt = calWeek\n",
    "            break;\n",
    "    if(currWeekInt<10):\n",
    "        result = str(currYearInt) + \"0\" + str(currWeekInt)\n",
    "    else :\n",
    "        result = str(currYearInt) + str(currWeekInt)\n",
    "    return result"
   ]
  },
  {
   "cell_type": "code",
   "execution_count": 4,
   "id": "4b7a40e0-17e1-4fc6-b16a-d564e2621dc4",
   "metadata": {},
   "outputs": [
    {
     "data": {
      "text/plain": [
       "'201506'"
      ]
     },
     "execution_count": 4,
     "metadata": {},
     "output_type": "execute_result"
    }
   ],
   "source": [
    "weekCal(\"201701\",\"100\")"
   ]
  },
  {
   "cell_type": "code",
   "execution_count": null,
   "id": "04e37b29-2b86-4f49-a3e1-0640d5637df0",
   "metadata": {},
   "outputs": [],
   "source": []
  },
  {
   "cell_type": "code",
   "execution_count": null,
   "id": "65596ddf-0b91-4c7d-ae8e-925290b92910",
   "metadata": {},
   "outputs": [],
   "source": [
    "def weekCal(inputValue,inputMinusWeek) :\n",
    "    \"\"\"\n",
    "    parameter : inputValue(str),inputMinusWeek(str)\n",
    "    ex) inputValue = \"201701\" inputMinusWeek = \"5\"\n",
    "    return : 계산된 주차값\n",
    "    \"\"\"\n",
    "    ###라이브러리 불러오기\n",
    "    from isoweek import Week\n",
    "    \n",
    "    ###입력값\n",
    "    #inputValue = \"201701\"\n",
    "    #inputMinusWeek = \"5\"\n",
    "\n",
    "    ##입력값 구분, 정수변환 및 주차 계산78\n",
    "    inputString = str(inputValue)\n",
    "    currYear = inputString[0:4]\n",
    "    currWeek = inputString[4:6]\n",
    "    currYearInt = int(currYear)\n",
    "    currWeekInt = int(currWeek)\n",
    "    minusWeekInt = int(inputMinusWeek)\n",
    "    calWeek = currWeekInt - minusWeekInt\n",
    "    ##\n",
    "    for i in range(0,minusWeekInt):\n",
    "        if(calWeek<=0):\n",
    "            currWeekInt = Week.last_week_of_year(currYearInt-1).week\n",
    "            currYearInt = currYearInt-1\n",
    "            currWeekInt = currWeekInt + calWeek\n",
    "            calWeek = currWeekInt\n",
    "        else:\n",
    "            currWeekInt = calWeek\n",
    "            break;\n",
    "    if(currWeekInt<10):\n",
    "        result = str(currYearInt) + \"0\" + str(currWeekInt)\n",
    "    else :\n",
    "        result = str(currYearInt) + str(currWeekInt)\n",
    "    return result"
   ]
  }
 ],
 "metadata": {
  "kernelspec": {
   "display_name": "Python 3 (ipykernel)",
   "language": "python",
   "name": "python3"
  },
  "language_info": {
   "codemirror_mode": {
    "name": "ipython",
    "version": 3
   },
   "file_extension": ".py",
   "mimetype": "text/x-python",
   "name": "python",
   "nbconvert_exporter": "python",
   "pygments_lexer": "ipython3",
   "version": "3.9.13"
  }
 },
 "nbformat": 4,
 "nbformat_minor": 5
}
