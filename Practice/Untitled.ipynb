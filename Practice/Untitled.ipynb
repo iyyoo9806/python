{
 "cells": [
  {
   "cell_type": "code",
   "execution_count": 1,
   "id": "b5521fa9-e8ae-44ac-ae29-bd2b6b762210",
   "metadata": {},
   "outputs": [],
   "source": [
    "###라이브러리 불러오기\n",
    "from isoweek import Week\n",
    "\n",
    "##입력값\n",
    "inputValue = \"201701\"\n",
    "inputMinusWeek = \"5\"\n",
    "\n",
    "##입력값 구분, 정수변환 및 주차 계산\n",
    "inputString = str(inputValue)\n",
    "currYear = inputString[0:4]\n",
    "currWeek = inputString[4:6]"
   ]
  },
  {
   "cell_type": "code",
   "execution_count": null,
   "id": "628d12c7-8ad2-405c-ae43-d7bbddf90a49",
   "metadata": {},
   "outputs": [],
   "source": [
    "currYearInt = int(currYear)\n",
    "currWeekInt = int(currWeek)\n",
    "minusWeekInt = int(inputMinusWeek)\n",
    "calWeek = currWeekInt - minusWeekInt\n",
    "\n",
    "##\n",
    "\n",
    "for i in range(0,minusWeekInt):\n",
    "    if(calWeek<=0):\n",
    "        currWeekInt = Week.last_week_of_year(currYearInt-1).week\n",
    "        currYearInt = currYearInt-1\n",
    "        currWeekInt = currWeekInt + calWeek\n",
    "        calWeek = currWeekInt\n",
    "    else:\n",
    "        currWeekInt = calWeek\n",
    "        break;\n",
    "if(currWeekInt<10):\n",
    "    result = str(currYearInt) + \"0\" + str(currWeekInt)\n",
    "else :\n",
    "    result = str(currYearInt) + str(currWeekInt)"
   ]
  }
 ],
 "metadata": {
  "kernelspec": {
   "display_name": "Python 3 (ipykernel)",
   "language": "python",
   "name": "python3"
  },
  "language_info": {
   "codemirror_mode": {
    "name": "ipython",
    "version": 3
   },
   "file_extension": ".py",
   "mimetype": "text/x-python",
   "name": "python",
   "nbconvert_exporter": "python",
   "pygments_lexer": "ipython3",
   "version": "3.9.13"
  }
 },
 "nbformat": 4,
 "nbformat_minor": 5
}
