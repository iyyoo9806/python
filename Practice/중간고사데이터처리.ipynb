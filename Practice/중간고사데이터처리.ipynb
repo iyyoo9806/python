{
 "cells": [
  {
   "cell_type": "code",
   "execution_count": 1,
   "id": "b6a17c87-fea9-420b-8214-af1d6adb5380",
   "metadata": {},
   "outputs": [],
   "source": [
    "import pandas as pd\n",
    "\n",
    "##정규표현식을 위한 라이브러리\n",
    "import re\n",
    "\n",
    "paramData = pd.read_excel(\"../dataset/calsdata2.xlsx\",sheet_name=[0,1], skiprows=2)"
   ]
  },
  {
   "cell_type": "code",
   "execution_count": 2,
   "id": "a8bbe871-4ae8-42e9-b8fa-4bb342813bad",
   "metadata": {
    "tags": []
   },
   "outputs": [],
   "source": [
    "df1 = paramData[0]"
   ]
  },
  {
   "cell_type": "code",
   "execution_count": 3,
   "id": "0f7b5ecd-4e8b-48eb-84d7-9a574b436fe9",
   "metadata": {
    "tags": []
   },
   "outputs": [],
   "source": [
    "df2 = paramData[1]"
   ]
  },
  {
   "cell_type": "code",
   "execution_count": 4,
   "id": "1909f28b-08a6-4459-ae09-b8c232c38481",
   "metadata": {
    "collapsed": true,
    "jupyter": {
     "outputs_hidden": true
    },
    "tags": []
   },
   "outputs": [
    {
     "name": "stdout",
     "output_type": "stream",
     "text": [
      "<class 'pandas.core.frame.DataFrame'>\n",
      "RangeIndex: 69 entries, 0 to 68\n",
      "Data columns (total 69 columns):\n",
      " #   Column       Non-Null Count  Dtype  \n",
      "---  ------       --------------  -----  \n",
      " 0   설계사          69 non-null     object \n",
      " 1   프로젝트명        69 non-null     object \n",
      " 2   연도           69 non-null     object \n",
      " 3   실시설계 승인      67 non-null     float64\n",
      " 4   교량명          69 non-null     object \n",
      " 5   교량형식         69 non-null     object \n",
      " 6   축척           69 non-null     object \n",
      " 7   총경간장         69 non-null     int64  \n",
      " 8   경간개수         64 non-null     float64\n",
      " 9   1경간          64 non-null     float64\n",
      " 10  2경간          33 non-null     float64\n",
      " 11  3경간          22 non-null     float64\n",
      " 12  4경간          17 non-null     float64\n",
      " 13  5경간          15 non-null     float64\n",
      " 14  6경간          11 non-null     float64\n",
      " 15  7경간          7 non-null      float64\n",
      " 16  8경간          5 non-null      float64\n",
      " 17  9경간          2 non-null      float64\n",
      " 18  S            66 non-null     float64\n",
      " 19  Unnamed: 19  15 non-null     float64\n",
      " 20  L [m]        66 non-null     object \n",
      " 21  Unnamed: 21  15 non-null     float64\n",
      " 22  H [m]        66 non-null     object \n",
      " 23  Unnamed: 23  15 non-null     float64\n",
      " 24  K            7 non-null      float64\n",
      " 25  1교각 기둥높이     17 non-null     float64\n",
      " 26  2교각 기둥높이     15 non-null     float64\n",
      " 27  3교각 기둥높이     9 non-null      float64\n",
      " 28  4교각 기둥높이     7 non-null      float64\n",
      " 29  5교각 기둥높이     5 non-null      float64\n",
      " 30  6교각 기둥높이     3 non-null      float64\n",
      " 31  7교각 기둥높이     2 non-null      float64\n",
      " 32  8교각 기둥높이     1 non-null      float64\n",
      " 33  축척.1         68 non-null     object \n",
      " 34  폭원           67 non-null     object \n",
      " 35  차로폭(좌)       47 non-null     object \n",
      " 36  차로수(좌)       37 non-null     object \n",
      " 37  차로폭(우)       47 non-null     float64\n",
      " 38  차로수(우)       38 non-null     object \n",
      " 39  방호벽(좌)       66 non-null     object \n",
      " 40  방호벽(우)       66 non-null     object \n",
      " 41  보도폭(좌)       43 non-null     object \n",
      " 42  보도폭(우)       41 non-null     object \n",
      " 43  보차도경계석(좌)    35 non-null     object \n",
      " 44  보차도경계석(우)    35 non-null     object \n",
      " 45  길어깨(좌)       49 non-null     object \n",
      " 46  길어깨(우)       49 non-null     object \n",
      " 47  중앙부          60 non-null     object \n",
      " 48  도로포장두께       53 non-null     object \n",
      " 49  바닥슬라브두께      57 non-null     object \n",
      " 50  거더개수         57 non-null     object \n",
      " 51  거더높이         53 non-null     object \n",
      " 52  거더간격         52 non-null     object \n",
      " 53  거더받침높이       38 non-null     object \n",
      " 54  코핑높이(직선+곡선)  53 non-null     object \n",
      " 55  코핑높이(직선부)    53 non-null     object \n",
      " 56  코핑높이(곡선부)    53 non-null     object \n",
      " 57  코핑폭(최대)      53 non-null     object \n",
      " 58  코핑폭(최소)      47 non-null     object \n",
      " 59  기둥형태         47 non-null     object \n",
      " 60  기둥폭          44 non-null     object \n",
      " 61  기초폭          45 non-null     object \n",
      " 62  기초높이         46 non-null     object \n",
      " 63  자전거(좌)       1 non-null      float64\n",
      " 64  자전거(우)       1 non-null      float64\n",
      " 65  외측길어깨(좌)     15 non-null     object \n",
      " 66  외측길어깨(우)     14 non-null     float64\n",
      " 67  내측길어깨(좌)     3 non-null      float64\n",
      " 68  내측길어깨(우)     3 non-null      float64\n",
      "dtypes: float64(30), int64(1), object(38)\n",
      "memory usage: 37.3+ KB\n"
     ]
    }
   ],
   "source": [
    "##데이터 확인\n",
    "df1.info()"
   ]
  },
  {
   "cell_type": "code",
   "execution_count": 6,
   "id": "a309ba7a-a1ad-43b3-a972-0fb1a57d8694",
   "metadata": {},
   "outputs": [],
   "source": [
    "## 컬럼변경\n",
    "newColumnList = []\n",
    "\n",
    "for i in range(0,len(df1.columns)):\n",
    "    a=re.sub(\"[!@#$%^&*()_+-={}>?./]\",\"\",df1.columns[i])\n",
    "    b=a.replace(\" \",\"\")\n",
    "    c=b.replace(\"]\",\"\")\n",
    "    d=c.replace(\"[\",\"\")\n",
    "    e = (\"COL{}_\".format(i)) + d\n",
    "    newColumnList.append(e)"
   ]
  },
  {
   "cell_type": "code",
   "execution_count": 7,
   "id": "ae98d7f8-61db-49cd-8391-2c3361470b99",
   "metadata": {
    "collapsed": true,
    "jupyter": {
     "outputs_hidden": true
    },
    "tags": []
   },
   "outputs": [
    {
     "data": {
      "text/plain": [
       "['COL0_설계사',\n",
       " 'COL1_프로젝트명',\n",
       " 'COL2_연도',\n",
       " 'COL3_실시설계승인',\n",
       " 'COL4_교량명',\n",
       " 'COL5_교량형식',\n",
       " 'COL6_축척',\n",
       " 'COL7_총경간장',\n",
       " 'COL8_경간개수',\n",
       " 'COL9_경간',\n",
       " 'COL10_경간',\n",
       " 'COL11_경간',\n",
       " 'COL12_경간',\n",
       " 'COL13_경간',\n",
       " 'COL14_경간',\n",
       " 'COL15_경간',\n",
       " 'COL16_경간',\n",
       " 'COL17_경간',\n",
       " 'COL18_S',\n",
       " 'COL19_Unnamed',\n",
       " 'COL20_Lm',\n",
       " 'COL21_Unnamed',\n",
       " 'COL22_Hm',\n",
       " 'COL23_Unnamed',\n",
       " 'COL24_K',\n",
       " 'COL25_교각기둥높이',\n",
       " 'COL26_교각기둥높이',\n",
       " 'COL27_교각기둥높이',\n",
       " 'COL28_교각기둥높이',\n",
       " 'COL29_교각기둥높이',\n",
       " 'COL30_교각기둥높이',\n",
       " 'COL31_교각기둥높이',\n",
       " 'COL32_교각기둥높이',\n",
       " 'COL33_축척',\n",
       " 'COL34_폭원',\n",
       " 'COL35_차로폭좌',\n",
       " 'COL36_차로수좌',\n",
       " 'COL37_차로폭우',\n",
       " 'COL38_차로수우',\n",
       " 'COL39_방호벽좌',\n",
       " 'COL40_방호벽우',\n",
       " 'COL41_보도폭좌',\n",
       " 'COL42_보도폭우',\n",
       " 'COL43_보차도경계석좌',\n",
       " 'COL44_보차도경계석우',\n",
       " 'COL45_길어깨좌',\n",
       " 'COL46_길어깨우',\n",
       " 'COL47_중앙부',\n",
       " 'COL48_도로포장두께',\n",
       " 'COL49_바닥슬라브두께',\n",
       " 'COL50_거더개수',\n",
       " 'COL51_거더높이',\n",
       " 'COL52_거더간격',\n",
       " 'COL53_거더받침높이',\n",
       " 'COL54_코핑높이직선곡선',\n",
       " 'COL55_코핑높이직선부',\n",
       " 'COL56_코핑높이곡선부',\n",
       " 'COL57_코핑폭최대',\n",
       " 'COL58_코핑폭최소',\n",
       " 'COL59_기둥형태',\n",
       " 'COL60_기둥폭',\n",
       " 'COL61_기초폭',\n",
       " 'COL62_기초높이',\n",
       " 'COL63_자전거좌',\n",
       " 'COL64_자전거우',\n",
       " 'COL65_외측길어깨좌',\n",
       " 'COL66_외측길어깨우',\n",
       " 'COL67_내측길어깨좌',\n",
       " 'COL68_내측길어깨우']"
      ]
     },
     "execution_count": 7,
     "metadata": {},
     "output_type": "execute_result"
    }
   ],
   "source": [
    "newColumnList"
   ]
  },
  {
   "cell_type": "code",
   "execution_count": 9,
   "id": "e9d33ea3-8aa2-4d20-bfda-02f1e4744d80",
   "metadata": {
    "tags": []
   },
   "outputs": [],
   "source": [
    "df1.columns = newColumnList"
   ]
  },
  {
   "cell_type": "code",
   "execution_count": 11,
   "id": "ad038785-02b9-4941-8bef-2924319df09b",
   "metadata": {
    "collapsed": true,
    "jupyter": {
     "outputs_hidden": true
    },
    "tags": []
   },
   "outputs": [
    {
     "name": "stdout",
     "output_type": "stream",
     "text": [
      "<class 'pandas.core.frame.DataFrame'>\n",
      "RangeIndex: 69 entries, 0 to 68\n",
      "Data columns (total 69 columns):\n",
      " #   Column          Non-Null Count  Dtype  \n",
      "---  ------          --------------  -----  \n",
      " 0   COL0_설계사        69 non-null     object \n",
      " 1   COL1_프로젝트명      69 non-null     object \n",
      " 2   COL2_연도         69 non-null     object \n",
      " 3   COL3_실시설계승인     67 non-null     float64\n",
      " 4   COL4_교량명        69 non-null     object \n",
      " 5   COL5_교량형식       69 non-null     object \n",
      " 6   COL6_축척         69 non-null     object \n",
      " 7   COL7_총경간장       69 non-null     int64  \n",
      " 8   COL8_경간개수       64 non-null     float64\n",
      " 9   COL9_경간         64 non-null     float64\n",
      " 10  COL10_경간        33 non-null     float64\n",
      " 11  COL11_경간        22 non-null     float64\n",
      " 12  COL12_경간        17 non-null     float64\n",
      " 13  COL13_경간        15 non-null     float64\n",
      " 14  COL14_경간        11 non-null     float64\n",
      " 15  COL15_경간        7 non-null      float64\n",
      " 16  COL16_경간        5 non-null      float64\n",
      " 17  COL17_경간        2 non-null      float64\n",
      " 18  COL18_S         66 non-null     float64\n",
      " 19  COL19_Unnamed   15 non-null     float64\n",
      " 20  COL20_Lm        66 non-null     object \n",
      " 21  COL21_Unnamed   15 non-null     float64\n",
      " 22  COL22_Hm        66 non-null     object \n",
      " 23  COL23_Unnamed   15 non-null     float64\n",
      " 24  COL24_K         7 non-null      float64\n",
      " 25  COL25_교각기둥높이    17 non-null     float64\n",
      " 26  COL26_교각기둥높이    15 non-null     float64\n",
      " 27  COL27_교각기둥높이    9 non-null      float64\n",
      " 28  COL28_교각기둥높이    7 non-null      float64\n",
      " 29  COL29_교각기둥높이    5 non-null      float64\n",
      " 30  COL30_교각기둥높이    3 non-null      float64\n",
      " 31  COL31_교각기둥높이    2 non-null      float64\n",
      " 32  COL32_교각기둥높이    1 non-null      float64\n",
      " 33  COL33_축척        68 non-null     object \n",
      " 34  COL34_폭원        67 non-null     object \n",
      " 35  COL35_차로폭좌      47 non-null     object \n",
      " 36  COL36_차로수좌      37 non-null     object \n",
      " 37  COL37_차로폭우      47 non-null     float64\n",
      " 38  COL38_차로수우      38 non-null     object \n",
      " 39  COL39_방호벽좌      66 non-null     object \n",
      " 40  COL40_방호벽우      66 non-null     object \n",
      " 41  COL41_보도폭좌      43 non-null     object \n",
      " 42  COL42_보도폭우      41 non-null     object \n",
      " 43  COL43_보차도경계석좌   35 non-null     object \n",
      " 44  COL44_보차도경계석우   35 non-null     object \n",
      " 45  COL45_길어깨좌      49 non-null     object \n",
      " 46  COL46_길어깨우      49 non-null     object \n",
      " 47  COL47_중앙부       60 non-null     object \n",
      " 48  COL48_도로포장두께    53 non-null     object \n",
      " 49  COL49_바닥슬라브두께   57 non-null     object \n",
      " 50  COL50_거더개수      57 non-null     object \n",
      " 51  COL51_거더높이      53 non-null     object \n",
      " 52  COL52_거더간격      52 non-null     object \n",
      " 53  COL53_거더받침높이    38 non-null     object \n",
      " 54  COL54_코핑높이직선곡선  53 non-null     object \n",
      " 55  COL55_코핑높이직선부   53 non-null     object \n",
      " 56  COL56_코핑높이곡선부   53 non-null     object \n",
      " 57  COL57_코핑폭최대     53 non-null     object \n",
      " 58  COL58_코핑폭최소     47 non-null     object \n",
      " 59  COL59_기둥형태      47 non-null     object \n",
      " 60  COL60_기둥폭       44 non-null     object \n",
      " 61  COL61_기초폭       45 non-null     object \n",
      " 62  COL62_기초높이      46 non-null     object \n",
      " 63  COL63_자전거좌      1 non-null      float64\n",
      " 64  COL64_자전거우      1 non-null      float64\n",
      " 65  COL65_외측길어깨좌    15 non-null     object \n",
      " 66  COL66_외측길어깨우    14 non-null     float64\n",
      " 67  COL67_내측길어깨좌    3 non-null      float64\n",
      " 68  COL68_내측길어깨우    3 non-null      float64\n",
      "dtypes: float64(30), int64(1), object(38)\n",
      "memory usage: 37.3+ KB\n"
     ]
    }
   ],
   "source": [
    "df1.info()"
   ]
  },
  {
   "cell_type": "code",
   "execution_count": 12,
   "id": "aa23bcac-dfc1-45f4-9f12-2f17129cf9be",
   "metadata": {},
   "outputs": [],
   "source": [
    "newColumnList2 = []"
   ]
  },
  {
   "cell_type": "code",
   "execution_count": 13,
   "id": "6f7a5a72-f348-42da-be73-3c463e23fb56",
   "metadata": {},
   "outputs": [],
   "source": [
    "for i in range(0,len(df2.columns)):\n",
    "    a=re.sub(\"[!@#$%^&*()_+-={}>?./]\",\"\",df2.columns[i])\n",
    "    b=a.replace(\" \",\"\")\n",
    "    c=b.replace(\"]\",\"\")\n",
    "    d=c.replace(\"[\",\"\")\n",
    "    e = (\"COL{}_\".format(i)) + d\n",
    "    newColumnList2.append(e)"
   ]
  },
  {
   "cell_type": "code",
   "execution_count": 14,
   "id": "374b3e38-479a-435f-b05d-694579eb84bc",
   "metadata": {
    "collapsed": true,
    "jupyter": {
     "outputs_hidden": true
    },
    "tags": []
   },
   "outputs": [
    {
     "data": {
      "text/plain": [
       "['COL0_설계사',\n",
       " 'COL1_프로젝트명',\n",
       " 'COL2_연도',\n",
       " 'COL3_실시설계승인',\n",
       " 'COL4_건설준공',\n",
       " 'COL5_교량명',\n",
       " 'COL6_교량형식',\n",
       " 'COL7_축척',\n",
       " 'COL8_총경간장',\n",
       " 'COL9_경간개수',\n",
       " 'COL10_경간',\n",
       " 'COL11_경간',\n",
       " 'COL12_경간',\n",
       " 'COL13_경간',\n",
       " 'COL14_경간',\n",
       " 'COL15_경간',\n",
       " 'COL16_경간',\n",
       " 'COL17_경간',\n",
       " 'COL18_경간',\n",
       " 'COL19_경간',\n",
       " 'COL20_경간',\n",
       " 'COL21_경간',\n",
       " 'COL22_경간',\n",
       " 'COL23_경간',\n",
       " 'COL24_경간',\n",
       " 'COL25_경간',\n",
       " 'COL26_S',\n",
       " 'COL27_Unnamed',\n",
       " 'COL28_Lm',\n",
       " 'COL29_Unnamed',\n",
       " 'COL30_Hm',\n",
       " 'COL31_Unnamed',\n",
       " 'COL32_K',\n",
       " 'COL33_교각기둥높이',\n",
       " 'COL34_교각기둥높이',\n",
       " 'COL35_교각기둥높이',\n",
       " 'COL36_교각기둥높이',\n",
       " 'COL37_교각기둥높이',\n",
       " 'COL38_교각기둥높이',\n",
       " 'COL39_교각기둥높이',\n",
       " 'COL40_교각기둥높이',\n",
       " 'COL41_교각기둥높이',\n",
       " 'COL42_교각기둥높이',\n",
       " 'COL43_교각기둥높이',\n",
       " 'COL44_교각기둥높이',\n",
       " 'COL45_교각기둥높이',\n",
       " 'COL46_축척',\n",
       " 'COL47_폭원',\n",
       " 'COL48_차로폭좌',\n",
       " 'COL49_차로수좌',\n",
       " 'COL50_차로폭우',\n",
       " 'COL51_차로수우',\n",
       " 'COL52_방호벽좌',\n",
       " 'COL53_방호벽우',\n",
       " 'COL54_보도폭좌',\n",
       " 'COL55_보도폭우',\n",
       " 'COL56_보차도경계석좌',\n",
       " 'COL57_보차도경계석우',\n",
       " 'COL58_길어깨좌',\n",
       " 'COL59_길어깨우',\n",
       " 'COL60_중앙부',\n",
       " 'COL61_도로포장두께',\n",
       " 'COL62_바닥슬라브두께',\n",
       " 'COL63_거더개수',\n",
       " 'COL64_거더높이',\n",
       " 'COL65_거더간격',\n",
       " 'COL66_거더받침높이',\n",
       " 'COL67_코핑높이직선곡선',\n",
       " 'COL68_코핑높이직선부',\n",
       " 'COL69_코핑높이곡선부',\n",
       " 'COL70_코핑폭최대',\n",
       " 'COL71_코핑폭최소',\n",
       " 'COL72_기둥형태',\n",
       " 'COL73_기둥폭',\n",
       " 'COL74_기초폭',\n",
       " 'COL75_기초높이',\n",
       " 'COL76_자전거좌',\n",
       " 'COL77_자전거우',\n",
       " 'COL78_외측길어깨좌',\n",
       " 'COL79_외측길어깨우',\n",
       " 'COL80_내측길어깨좌',\n",
       " 'COL81_내측길어깨우']"
      ]
     },
     "execution_count": 14,
     "metadata": {},
     "output_type": "execute_result"
    }
   ],
   "source": [
    "newColumnList2"
   ]
  },
  {
   "cell_type": "code",
   "execution_count": 15,
   "id": "0a3bf8bc-d4ee-4b04-b002-1fb439c2f178",
   "metadata": {
    "tags": []
   },
   "outputs": [],
   "source": [
    "df2.columns = newColumnList2"
   ]
  },
  {
   "cell_type": "code",
   "execution_count": 16,
   "id": "f4cf4b89-81d2-4a98-82e0-bf7a3c49247c",
   "metadata": {},
   "outputs": [],
   "source": [
    "firstData = pd.concat( [df1,df2], axis=0)"
   ]
  },
  {
   "cell_type": "code",
   "execution_count": 22,
   "id": "d1bb3f1e-b031-4b14-a6ac-0d9103678557",
   "metadata": {
    "tags": []
   },
   "outputs": [
    {
     "name": "stdout",
     "output_type": "stream",
     "text": [
      "<class 'pandas.core.frame.DataFrame'>\n",
      "Int64Index: 424 entries, 0 to 354\n",
      "Columns: 139 entries, COL0_설계사 to COL81_내측길어깨우\n",
      "dtypes: float64(90), object(49)\n",
      "memory usage: 463.8+ KB\n"
     ]
    }
   ],
   "source": [
    "firstData.info()"
   ]
  },
  {
   "cell_type": "code",
   "execution_count": null,
   "id": "6dfa27e7-07fd-4902-8d4b-fcec10237c0c",
   "metadata": {},
   "outputs": [],
   "source": [
    "## 'nan','NAN',null,'null','NULL',공백 제거?\n",
    "## try except로 숫자로 바꾸는 것은 다 숫자로 변환?"
   ]
  }
 ],
 "metadata": {
  "kernelspec": {
   "display_name": "Python 3 (ipykernel)",
   "language": "python",
   "name": "python3"
  },
  "language_info": {
   "codemirror_mode": {
    "name": "ipython",
    "version": 3
   },
   "file_extension": ".py",
   "mimetype": "text/x-python",
   "name": "python",
   "nbconvert_exporter": "python",
   "pygments_lexer": "ipython3",
   "version": "3.9.13"
  }
 },
 "nbformat": 4,
 "nbformat_minor": 5
}
