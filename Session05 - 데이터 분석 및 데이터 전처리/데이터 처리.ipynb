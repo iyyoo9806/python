{
 "cells": [
  {
   "cell_type": "code",
   "execution_count": 13,
   "id": "a3da25c2-85a0-4741-99d3-e9d86ff60e80",
   "metadata": {},
   "outputs": [],
   "source": [
    "import pandas as pd\n",
    "\n",
    "customerData = pd.read_csv(\"../dataset/customerdata.csv\")"
   ]
  },
  {
   "cell_type": "code",
   "execution_count": 15,
   "id": "04f38afc-5d30-44b6-b4f1-e6f4680df4e1",
   "metadata": {},
   "outputs": [
    {
     "name": "stdout",
     "output_type": "stream",
     "text": [
      "<class 'pandas.core.frame.DataFrame'>\n",
      "RangeIndex: 150 entries, 0 to 149\n",
      "Data columns (total 6 columns):\n",
      " #   Column       Non-Null Count  Dtype  \n",
      "---  ------       --------------  -----  \n",
      " 0   CUSTID       150 non-null    object \n",
      " 1   AVGPRICE     150 non-null    float64\n",
      " 2   EMI          150 non-null    int64  \n",
      " 3   DEVICECOUNT  150 non-null    int64  \n",
      " 4   PRODUCTAGE   150 non-null    float64\n",
      " 5   CUSTTYPE     150 non-null    object \n",
      "dtypes: float64(2), int64(2), object(2)\n",
      "memory usage: 7.2+ KB\n"
     ]
    }
   ],
   "source": [
    "customerData.info()"
   ]
  },
  {
   "cell_type": "code",
   "execution_count": 34,
   "id": "9927b5f6-44d4-49ad-a781-499aa7de87f5",
   "metadata": {},
   "outputs": [
    {
     "data": {
      "text/html": [
       "<div>\n",
       "<style scoped>\n",
       "    .dataframe tbody tr th:only-of-type {\n",
       "        vertical-align: middle;\n",
       "    }\n",
       "\n",
       "    .dataframe tbody tr th {\n",
       "        vertical-align: top;\n",
       "    }\n",
       "\n",
       "    .dataframe thead th {\n",
       "        text-align: right;\n",
       "    }\n",
       "</style>\n",
       "<table border=\"1\" class=\"dataframe\">\n",
       "  <thead>\n",
       "    <tr style=\"text-align: right;\">\n",
       "      <th></th>\n",
       "      <th>CUSTID</th>\n",
       "      <th>AVGPRICE</th>\n",
       "      <th>EMI</th>\n",
       "      <th>DEVICECOUNT</th>\n",
       "      <th>PRODUCTAGE</th>\n",
       "      <th>CUSTTYPE</th>\n",
       "    </tr>\n",
       "  </thead>\n",
       "  <tbody>\n",
       "    <tr>\n",
       "      <th>0</th>\n",
       "      <td>A13566</td>\n",
       "      <td>4273.900000</td>\n",
       "      <td>3</td>\n",
       "      <td>6</td>\n",
       "      <td>1.679181</td>\n",
       "      <td>Big-Screen-lover</td>\n",
       "    </tr>\n",
       "    <tr>\n",
       "      <th>1</th>\n",
       "      <td>A14219</td>\n",
       "      <td>3642.441950</td>\n",
       "      <td>2</td>\n",
       "      <td>4</td>\n",
       "      <td>2.682023</td>\n",
       "      <td>Sleeping-dog</td>\n",
       "    </tr>\n",
       "    <tr>\n",
       "      <th>2</th>\n",
       "      <td>A15312</td>\n",
       "      <td>3653.884565</td>\n",
       "      <td>2</td>\n",
       "      <td>5</td>\n",
       "      <td>3.208202</td>\n",
       "      <td>Sleeping-dog</td>\n",
       "    </tr>\n",
       "    <tr>\n",
       "      <th>3</th>\n",
       "      <td>A16605</td>\n",
       "      <td>3713.211107</td>\n",
       "      <td>2</td>\n",
       "      <td>6</td>\n",
       "      <td>0.900000</td>\n",
       "      <td>Early-bird</td>\n",
       "    </tr>\n",
       "    <tr>\n",
       "      <th>4</th>\n",
       "      <td>B10634</td>\n",
       "      <td>3391.074215</td>\n",
       "      <td>2</td>\n",
       "      <td>4</td>\n",
       "      <td>2.453656</td>\n",
       "      <td>Sleeping-dog</td>\n",
       "    </tr>\n",
       "  </tbody>\n",
       "</table>\n",
       "</div>"
      ],
      "text/plain": [
       "   CUSTID     AVGPRICE  EMI  DEVICECOUNT  PRODUCTAGE          CUSTTYPE\n",
       "0  A13566  4273.900000    3            6    1.679181  Big-Screen-lover\n",
       "1  A14219  3642.441950    2            4    2.682023      Sleeping-dog\n",
       "2  A15312  3653.884565    2            5    3.208202      Sleeping-dog\n",
       "3  A16605  3713.211107    2            6    0.900000        Early-bird\n",
       "4  B10634  3391.074215    2            4    2.453656      Sleeping-dog"
      ]
     },
     "execution_count": 34,
     "metadata": {},
     "output_type": "execute_result"
    }
   ],
   "source": [
    "customerData.loc[[0,1,2,3,4]]"
   ]
  },
  {
   "cell_type": "code",
   "execution_count": 35,
   "id": "b8819a8b-82a8-44c1-8e01-9151b51c3dd5",
   "metadata": {},
   "outputs": [
    {
     "data": {
      "text/html": [
       "<div>\n",
       "<style scoped>\n",
       "    .dataframe tbody tr th:only-of-type {\n",
       "        vertical-align: middle;\n",
       "    }\n",
       "\n",
       "    .dataframe tbody tr th {\n",
       "        vertical-align: top;\n",
       "    }\n",
       "\n",
       "    .dataframe thead th {\n",
       "        text-align: right;\n",
       "    }\n",
       "</style>\n",
       "<table border=\"1\" class=\"dataframe\">\n",
       "  <thead>\n",
       "    <tr style=\"text-align: right;\">\n",
       "      <th></th>\n",
       "      <th>CUSTID</th>\n",
       "      <th>AVGPRICE</th>\n",
       "      <th>EMI</th>\n",
       "      <th>DEVICECOUNT</th>\n",
       "      <th>PRODUCTAGE</th>\n",
       "      <th>CUSTTYPE</th>\n",
       "    </tr>\n",
       "  </thead>\n",
       "  <tbody>\n",
       "    <tr>\n",
       "      <th>0</th>\n",
       "      <td>A13566</td>\n",
       "      <td>4273.900000</td>\n",
       "      <td>3</td>\n",
       "      <td>6</td>\n",
       "      <td>1.679181</td>\n",
       "      <td>Big-Screen-lover</td>\n",
       "    </tr>\n",
       "    <tr>\n",
       "      <th>1</th>\n",
       "      <td>A14219</td>\n",
       "      <td>3642.441950</td>\n",
       "      <td>2</td>\n",
       "      <td>4</td>\n",
       "      <td>2.682023</td>\n",
       "      <td>Sleeping-dog</td>\n",
       "    </tr>\n",
       "    <tr>\n",
       "      <th>2</th>\n",
       "      <td>A15312</td>\n",
       "      <td>3653.884565</td>\n",
       "      <td>2</td>\n",
       "      <td>5</td>\n",
       "      <td>3.208202</td>\n",
       "      <td>Sleeping-dog</td>\n",
       "    </tr>\n",
       "    <tr>\n",
       "      <th>3</th>\n",
       "      <td>A16605</td>\n",
       "      <td>3713.211107</td>\n",
       "      <td>2</td>\n",
       "      <td>6</td>\n",
       "      <td>0.900000</td>\n",
       "      <td>Early-bird</td>\n",
       "    </tr>\n",
       "    <tr>\n",
       "      <th>4</th>\n",
       "      <td>B10634</td>\n",
       "      <td>3391.074215</td>\n",
       "      <td>2</td>\n",
       "      <td>4</td>\n",
       "      <td>2.453656</td>\n",
       "      <td>Sleeping-dog</td>\n",
       "    </tr>\n",
       "    <tr>\n",
       "      <th>5</th>\n",
       "      <td>B16849</td>\n",
       "      <td>3755.263391</td>\n",
       "      <td>2</td>\n",
       "      <td>4</td>\n",
       "      <td>2.786665</td>\n",
       "      <td>Sleeping-dog</td>\n",
       "    </tr>\n",
       "    <tr>\n",
       "      <th>6</th>\n",
       "      <td>B18816</td>\n",
       "      <td>3213.911446</td>\n",
       "      <td>2</td>\n",
       "      <td>6</td>\n",
       "      <td>0.900000</td>\n",
       "      <td>Early-bird</td>\n",
       "    </tr>\n",
       "    <tr>\n",
       "      <th>7</th>\n",
       "      <td>C10639</td>\n",
       "      <td>3516.500000</td>\n",
       "      <td>2</td>\n",
       "      <td>5</td>\n",
       "      <td>2.564830</td>\n",
       "      <td>Big-Screen-lover</td>\n",
       "    </tr>\n",
       "    <tr>\n",
       "      <th>8</th>\n",
       "      <td>C12717</td>\n",
       "      <td>3732.900000</td>\n",
       "      <td>2</td>\n",
       "      <td>5</td>\n",
       "      <td>2.069995</td>\n",
       "      <td>Big-Screen-lover</td>\n",
       "    </tr>\n",
       "    <tr>\n",
       "      <th>9</th>\n",
       "      <td>C15050</td>\n",
       "      <td>4020.173425</td>\n",
       "      <td>2</td>\n",
       "      <td>4</td>\n",
       "      <td>3.013440</td>\n",
       "      <td>Sleeping-dog</td>\n",
       "    </tr>\n",
       "    <tr>\n",
       "      <th>10</th>\n",
       "      <td>C18306</td>\n",
       "      <td>4005.005142</td>\n",
       "      <td>2</td>\n",
       "      <td>4</td>\n",
       "      <td>3.113618</td>\n",
       "      <td>Sleeping-dog</td>\n",
       "    </tr>\n",
       "  </tbody>\n",
       "</table>\n",
       "</div>"
      ],
      "text/plain": [
       "    CUSTID     AVGPRICE  EMI  DEVICECOUNT  PRODUCTAGE          CUSTTYPE\n",
       "0   A13566  4273.900000    3            6    1.679181  Big-Screen-lover\n",
       "1   A14219  3642.441950    2            4    2.682023      Sleeping-dog\n",
       "2   A15312  3653.884565    2            5    3.208202      Sleeping-dog\n",
       "3   A16605  3713.211107    2            6    0.900000        Early-bird\n",
       "4   B10634  3391.074215    2            4    2.453656      Sleeping-dog\n",
       "5   B16849  3755.263391    2            4    2.786665      Sleeping-dog\n",
       "6   B18816  3213.911446    2            6    0.900000        Early-bird\n",
       "7   C10639  3516.500000    2            5    2.564830  Big-Screen-lover\n",
       "8   C12717  3732.900000    2            5    2.069995  Big-Screen-lover\n",
       "9   C15050  4020.173425    2            4    3.013440      Sleeping-dog\n",
       "10  C18306  4005.005142    2            4    3.113618      Sleeping-dog"
      ]
     },
     "execution_count": 35,
     "metadata": {},
     "output_type": "execute_result"
    }
   ],
   "source": [
    "customerData.loc[0:10]"
   ]
  },
  {
   "cell_type": "code",
   "execution_count": 18,
   "id": "de7815a9-fdbb-45f4-9137-314870a5878d",
   "metadata": {},
   "outputs": [],
   "source": [
    "tableDefine = pd.DataFrame(customerData.dtypes)"
   ]
  },
  {
   "cell_type": "code",
   "execution_count": null,
   "id": "632b89f5-4aac-4216-b432-e59759e43e84",
   "metadata": {},
   "outputs": [],
   "source": [
    "tableDefine[\"비고\"] = \"\" ##비고칸 만들 수 있다."
   ]
  },
  {
   "cell_type": "code",
   "execution_count": 19,
   "id": "c1737b56-b497-4894-bffc-6b11614dd9cb",
   "metadata": {},
   "outputs": [],
   "source": [
    "tableDefine.to_csv(\"../dataset/tabledefine.csv\")"
   ]
  },
  {
   "cell_type": "code",
   "execution_count": 28,
   "id": "061f6f2c-bfb8-493d-91e3-48c08c9cfd22",
   "metadata": {},
   "outputs": [],
   "source": [
    "refinedData = \\\n",
    "    customerData.loc[ customerData.EMI > 2  ]\n",
    "## customerData.loc[ customerData[\"EMI\"] > 2  ]\n",
    "## 문자열 for문 돌릴 때 용이함\n",
    "## .은 존재하는 컬럼에서만 가능\n",
    "## []로 하면 존재하지 않는 컬럼도 가능"
   ]
  },
  {
   "cell_type": "code",
   "execution_count": 29,
   "id": "019da95b-1211-4fd5-9e83-03c0f3daf126",
   "metadata": {
    "collapsed": true,
    "jupyter": {
     "outputs_hidden": true
    },
    "tags": []
   },
   "outputs": [
    {
     "data": {
      "text/html": [
       "<div>\n",
       "<style scoped>\n",
       "    .dataframe tbody tr th:only-of-type {\n",
       "        vertical-align: middle;\n",
       "    }\n",
       "\n",
       "    .dataframe tbody tr th {\n",
       "        vertical-align: top;\n",
       "    }\n",
       "\n",
       "    .dataframe thead th {\n",
       "        text-align: right;\n",
       "    }\n",
       "</style>\n",
       "<table border=\"1\" class=\"dataframe\">\n",
       "  <thead>\n",
       "    <tr style=\"text-align: right;\">\n",
       "      <th></th>\n",
       "      <th>CUSTID</th>\n",
       "      <th>AVGPRICE</th>\n",
       "      <th>EMI</th>\n",
       "      <th>DEVICECOUNT</th>\n",
       "      <th>PRODUCTAGE</th>\n",
       "      <th>CUSTTYPE</th>\n",
       "    </tr>\n",
       "  </thead>\n",
       "  <tbody>\n",
       "    <tr>\n",
       "      <th>0</th>\n",
       "      <td>A13566</td>\n",
       "      <td>4273.900000</td>\n",
       "      <td>3</td>\n",
       "      <td>6</td>\n",
       "      <td>1.679181</td>\n",
       "      <td>Big-Screen-lover</td>\n",
       "    </tr>\n",
       "    <tr>\n",
       "      <th>27</th>\n",
       "      <td>F17131</td>\n",
       "      <td>3179.708359</td>\n",
       "      <td>3</td>\n",
       "      <td>6</td>\n",
       "      <td>1.100000</td>\n",
       "      <td>Early-bird</td>\n",
       "    </tr>\n",
       "    <tr>\n",
       "      <th>33</th>\n",
       "      <td>G16437</td>\n",
       "      <td>3787.328898</td>\n",
       "      <td>3</td>\n",
       "      <td>6</td>\n",
       "      <td>1.000000</td>\n",
       "      <td>Early-bird</td>\n",
       "    </tr>\n",
       "    <tr>\n",
       "      <th>36</th>\n",
       "      <td>G18402</td>\n",
       "      <td>3402.199381</td>\n",
       "      <td>3</td>\n",
       "      <td>6</td>\n",
       "      <td>1.000000</td>\n",
       "      <td>Early-bird</td>\n",
       "    </tr>\n",
       "    <tr>\n",
       "      <th>40</th>\n",
       "      <td>H16326</td>\n",
       "      <td>3988.935304</td>\n",
       "      <td>3</td>\n",
       "      <td>6</td>\n",
       "      <td>0.900000</td>\n",
       "      <td>Early-bird</td>\n",
       "    </tr>\n",
       "    <tr>\n",
       "      <th>45</th>\n",
       "      <td>I12899</td>\n",
       "      <td>3018.895637</td>\n",
       "      <td>3</td>\n",
       "      <td>6</td>\n",
       "      <td>0.900000</td>\n",
       "      <td>Early-bird</td>\n",
       "    </tr>\n",
       "    <tr>\n",
       "      <th>51</th>\n",
       "      <td>J10809</td>\n",
       "      <td>3676.135627</td>\n",
       "      <td>3</td>\n",
       "      <td>6</td>\n",
       "      <td>0.800000</td>\n",
       "      <td>Early-bird</td>\n",
       "    </tr>\n",
       "    <tr>\n",
       "      <th>52</th>\n",
       "      <td>J15083</td>\n",
       "      <td>2811.265932</td>\n",
       "      <td>3</td>\n",
       "      <td>6</td>\n",
       "      <td>0.900000</td>\n",
       "      <td>Early-bird</td>\n",
       "    </tr>\n",
       "    <tr>\n",
       "      <th>53</th>\n",
       "      <td>J16445</td>\n",
       "      <td>3041.848186</td>\n",
       "      <td>3</td>\n",
       "      <td>6</td>\n",
       "      <td>0.800000</td>\n",
       "      <td>Early-bird</td>\n",
       "    </tr>\n",
       "    <tr>\n",
       "      <th>60</th>\n",
       "      <td>L13892</td>\n",
       "      <td>3263.515145</td>\n",
       "      <td>3</td>\n",
       "      <td>6</td>\n",
       "      <td>1.100000</td>\n",
       "      <td>Early-bird</td>\n",
       "    </tr>\n",
       "    <tr>\n",
       "      <th>67</th>\n",
       "      <td>N13273</td>\n",
       "      <td>3839.694732</td>\n",
       "      <td>3</td>\n",
       "      <td>6</td>\n",
       "      <td>1.100000</td>\n",
       "      <td>Early-bird</td>\n",
       "    </tr>\n",
       "    <tr>\n",
       "      <th>95</th>\n",
       "      <td>R16364</td>\n",
       "      <td>3592.353540</td>\n",
       "      <td>3</td>\n",
       "      <td>6</td>\n",
       "      <td>0.900000</td>\n",
       "      <td>Early-bird</td>\n",
       "    </tr>\n",
       "    <tr>\n",
       "      <th>107</th>\n",
       "      <td>S17396</td>\n",
       "      <td>3895.200000</td>\n",
       "      <td>3</td>\n",
       "      <td>6</td>\n",
       "      <td>2.055707</td>\n",
       "      <td>Big-Screen-lover</td>\n",
       "    </tr>\n",
       "    <tr>\n",
       "      <th>113</th>\n",
       "      <td>T11473</td>\n",
       "      <td>4165.700000</td>\n",
       "      <td>3</td>\n",
       "      <td>6</td>\n",
       "      <td>1.780674</td>\n",
       "      <td>Big-Screen-lover</td>\n",
       "    </tr>\n",
       "    <tr>\n",
       "      <th>126</th>\n",
       "      <td>V18566</td>\n",
       "      <td>3527.701867</td>\n",
       "      <td>3</td>\n",
       "      <td>6</td>\n",
       "      <td>0.900000</td>\n",
       "      <td>Early-bird</td>\n",
       "    </tr>\n",
       "    <tr>\n",
       "      <th>130</th>\n",
       "      <td>W13404</td>\n",
       "      <td>4296.873743</td>\n",
       "      <td>3</td>\n",
       "      <td>6</td>\n",
       "      <td>1.100000</td>\n",
       "      <td>Early-bird</td>\n",
       "    </tr>\n",
       "    <tr>\n",
       "      <th>135</th>\n",
       "      <td>X13390</td>\n",
       "      <td>2947.543982</td>\n",
       "      <td>3</td>\n",
       "      <td>6</td>\n",
       "      <td>1.100000</td>\n",
       "      <td>Early-bird</td>\n",
       "    </tr>\n",
       "    <tr>\n",
       "      <th>142</th>\n",
       "      <td>Z11525</td>\n",
       "      <td>3259.018704</td>\n",
       "      <td>3</td>\n",
       "      <td>6</td>\n",
       "      <td>0.900000</td>\n",
       "      <td>Early-bird</td>\n",
       "    </tr>\n",
       "    <tr>\n",
       "      <th>146</th>\n",
       "      <td>Z13534</td>\n",
       "      <td>3662.437527</td>\n",
       "      <td>3</td>\n",
       "      <td>6</td>\n",
       "      <td>0.900000</td>\n",
       "      <td>Early-bird</td>\n",
       "    </tr>\n",
       "  </tbody>\n",
       "</table>\n",
       "</div>"
      ],
      "text/plain": [
       "     CUSTID     AVGPRICE  EMI  DEVICECOUNT  PRODUCTAGE          CUSTTYPE\n",
       "0    A13566  4273.900000    3            6    1.679181  Big-Screen-lover\n",
       "27   F17131  3179.708359    3            6    1.100000        Early-bird\n",
       "33   G16437  3787.328898    3            6    1.000000        Early-bird\n",
       "36   G18402  3402.199381    3            6    1.000000        Early-bird\n",
       "40   H16326  3988.935304    3            6    0.900000        Early-bird\n",
       "45   I12899  3018.895637    3            6    0.900000        Early-bird\n",
       "51   J10809  3676.135627    3            6    0.800000        Early-bird\n",
       "52   J15083  2811.265932    3            6    0.900000        Early-bird\n",
       "53   J16445  3041.848186    3            6    0.800000        Early-bird\n",
       "60   L13892  3263.515145    3            6    1.100000        Early-bird\n",
       "67   N13273  3839.694732    3            6    1.100000        Early-bird\n",
       "95   R16364  3592.353540    3            6    0.900000        Early-bird\n",
       "107  S17396  3895.200000    3            6    2.055707  Big-Screen-lover\n",
       "113  T11473  4165.700000    3            6    1.780674  Big-Screen-lover\n",
       "126  V18566  3527.701867    3            6    0.900000        Early-bird\n",
       "130  W13404  4296.873743    3            6    1.100000        Early-bird\n",
       "135  X13390  2947.543982    3            6    1.100000        Early-bird\n",
       "142  Z11525  3259.018704    3            6    0.900000        Early-bird\n",
       "146  Z13534  3662.437527    3            6    0.900000        Early-bird"
      ]
     },
     "execution_count": 29,
     "metadata": {},
     "output_type": "execute_result"
    }
   ],
   "source": [
    "refinedData"
   ]
  },
  {
   "cell_type": "code",
   "execution_count": 30,
   "id": "a54cd22d-f30e-4e1f-b512-6a3ed0b1f0a4",
   "metadata": {},
   "outputs": [
    {
     "data": {
      "text/html": [
       "<div>\n",
       "<style scoped>\n",
       "    .dataframe tbody tr th:only-of-type {\n",
       "        vertical-align: middle;\n",
       "    }\n",
       "\n",
       "    .dataframe tbody tr th {\n",
       "        vertical-align: top;\n",
       "    }\n",
       "\n",
       "    .dataframe thead th {\n",
       "        text-align: right;\n",
       "    }\n",
       "</style>\n",
       "<table border=\"1\" class=\"dataframe\">\n",
       "  <thead>\n",
       "    <tr style=\"text-align: right;\">\n",
       "      <th></th>\n",
       "      <th>CUSTID</th>\n",
       "      <th>AVGPRICE</th>\n",
       "      <th>EMI</th>\n",
       "      <th>DEVICECOUNT</th>\n",
       "      <th>PRODUCTAGE</th>\n",
       "      <th>CUSTTYPE</th>\n",
       "    </tr>\n",
       "  </thead>\n",
       "  <tbody>\n",
       "  </tbody>\n",
       "</table>\n",
       "</div>"
      ],
      "text/plain": [
       "Empty DataFrame\n",
       "Columns: [CUSTID, AVGPRICE, EMI, DEVICECOUNT, PRODUCTAGE, CUSTTYPE]\n",
       "Index: []"
      ]
     },
     "execution_count": 30,
     "metadata": {},
     "output_type": "execute_result"
    }
   ],
   "source": [
    "refinedData.loc[customerData.EMI <=1]"
   ]
  },
  {
   "cell_type": "code",
   "execution_count": 36,
   "id": "dd96669a-2ffb-4004-9cb3-b3a80f81cef8",
   "metadata": {},
   "outputs": [],
   "source": [
    "emiCondition = 3\n",
    "deviceCondition = 5"
   ]
  },
  {
   "cell_type": "code",
   "execution_count": 41,
   "id": "bf80b41a-e629-4ee5-86b8-c85eb8a46dd2",
   "metadata": {
    "tags": []
   },
   "outputs": [],
   "source": [
    "##loc 해도 customerData 안바뀜 고로 꼭 다른 변수명으로 저장\n",
    "csData = customerData.loc[ (customerData.EMI >= emiCondition) &\n",
    "                           (customerData.DEVICECOUNT > deviceCondition) ]\n",
    "## 비교 대상은 같은 타입이여야 한다."
   ]
  },
  {
   "cell_type": "code",
   "execution_count": 40,
   "id": "ad37b6fb-9200-4667-8e3c-cd3baf3f8247",
   "metadata": {},
   "outputs": [
    {
     "data": {
      "text/html": [
       "<div>\n",
       "<style scoped>\n",
       "    .dataframe tbody tr th:only-of-type {\n",
       "        vertical-align: middle;\n",
       "    }\n",
       "\n",
       "    .dataframe tbody tr th {\n",
       "        vertical-align: top;\n",
       "    }\n",
       "\n",
       "    .dataframe thead th {\n",
       "        text-align: right;\n",
       "    }\n",
       "</style>\n",
       "<table border=\"1\" class=\"dataframe\">\n",
       "  <thead>\n",
       "    <tr style=\"text-align: right;\">\n",
       "      <th></th>\n",
       "      <th>CUSTID</th>\n",
       "      <th>AVGPRICE</th>\n",
       "      <th>EMI</th>\n",
       "      <th>DEVICECOUNT</th>\n",
       "      <th>PRODUCTAGE</th>\n",
       "      <th>CUSTTYPE</th>\n",
       "    </tr>\n",
       "  </thead>\n",
       "  <tbody>\n",
       "  </tbody>\n",
       "</table>\n",
       "</div>"
      ],
      "text/plain": [
       "Empty DataFrame\n",
       "Columns: [CUSTID, AVGPRICE, EMI, DEVICECOUNT, PRODUCTAGE, CUSTTYPE]\n",
       "Index: []"
      ]
     },
     "execution_count": 40,
     "metadata": {},
     "output_type": "execute_result"
    }
   ],
   "source": [
    "csData.loc[csData.DEVICECOUNT <= 5]"
   ]
  },
  {
   "cell_type": "code",
   "execution_count": 42,
   "id": "3d2765f8-c61b-4133-8a15-c260218bd4d2",
   "metadata": {},
   "outputs": [
    {
     "data": {
      "text/plain": [
       "CUSTID          object\n",
       "AVGPRICE       float64\n",
       "EMI              int64\n",
       "DEVICECOUNT      int64\n",
       "PRODUCTAGE     float64\n",
       "CUSTTYPE        object\n",
       "dtype: object"
      ]
     },
     "execution_count": 42,
     "metadata": {},
     "output_type": "execute_result"
    }
   ],
   "source": [
    "customerData.dtypes"
   ]
  },
  {
   "cell_type": "code",
   "execution_count": 46,
   "id": "e9cea4bc-0ae8-4df9-9e26-cf7333581b41",
   "metadata": {},
   "outputs": [],
   "source": [
    "customerData[\"EMI_STR\"] = customerData.EMI.astype(str)\n",
    "# customerData.EMI = customerData.EMI.astype(str)"
   ]
  },
  {
   "cell_type": "code",
   "execution_count": 50,
   "id": "23b7b4c9-4b34-41ce-913a-a6719e477bc3",
   "metadata": {},
   "outputs": [],
   "source": [
    "customerData[\"PRODUCTAGE_int\"] = customerData.PRODUCTAGE.astype(int)"
   ]
  },
  {
   "cell_type": "code",
   "execution_count": 51,
   "id": "bd4cf6e3-183a-4d52-9824-a0edd1be4021",
   "metadata": {},
   "outputs": [
    {
     "data": {
      "text/plain": [
       "CUSTID             object\n",
       "AVGPRICE          float64\n",
       "EMI                 int64\n",
       "DEVICECOUNT         int64\n",
       "PRODUCTAGE        float64\n",
       "CUSTTYPE           object\n",
       "EMI_STR            object\n",
       "PRODUCTAGE_int      int32\n",
       "dtype: object"
      ]
     },
     "execution_count": 51,
     "metadata": {},
     "output_type": "execute_result"
    }
   ],
   "source": [
    "customerData.dtypes"
   ]
  },
  {
   "cell_type": "code",
   "execution_count": 52,
   "id": "9a2abdf4-eaa8-4ae1-9e50-fd02d940e6e7",
   "metadata": {},
   "outputs": [],
   "source": [
    "customerData2 = pd.read_csv(\"../dataset/customerdata.csv\")\n",
    "\n",
    "csColumns = list( customerData2.columns)"
   ]
  },
  {
   "cell_type": "code",
   "execution_count": 55,
   "id": "4e9c79c2-f5dc-4c27-a54a-874fc8476cae",
   "metadata": {},
   "outputs": [],
   "source": [
    "for i in range(0, len(csColumns)):\n",
    "    try:\n",
    "        customerData2[csColumns[i]] = customerData2[csColumns[i]].astype(str)\n",
    "    except Exception as e:\n",
    "        print(e)"
   ]
  },
  {
   "cell_type": "code",
   "execution_count": 57,
   "id": "d7787bde-6b29-4719-b943-748498d4e8c3",
   "metadata": {},
   "outputs": [
    {
     "data": {
      "text/plain": [
       "CUSTID         object\n",
       "AVGPRICE       object\n",
       "EMI            object\n",
       "DEVICECOUNT    object\n",
       "PRODUCTAGE     object\n",
       "CUSTTYPE       object\n",
       "dtype: object"
      ]
     },
     "execution_count": 57,
     "metadata": {},
     "output_type": "execute_result"
    }
   ],
   "source": [
    "customerData2.dtypes"
   ]
  },
  {
   "cell_type": "code",
   "execution_count": 58,
   "id": "f36d584f-865c-4a78-9c44-15320586be84",
   "metadata": {},
   "outputs": [],
   "source": [
    "customerData = pd.read_csv(\"../dataset/customerdata.csv\")"
   ]
  },
  {
   "cell_type": "code",
   "execution_count": 60,
   "id": "ac625639-cdfd-4118-8bd8-594ec1a906ea",
   "metadata": {},
   "outputs": [],
   "source": [
    "emiCondition=[2,3]"
   ]
  },
  {
   "cell_type": "code",
   "execution_count": 64,
   "id": "fcd3a78f-63f7-483b-a70a-ad8d7670aa07",
   "metadata": {},
   "outputs": [],
   "source": [
    "csData = customerData.loc[customerData.EMI.isin(emiCondition)]\n",
    "csData2 = customerData.loc[~customerData.EMI.isin(emiCondition)]"
   ]
  },
  {
   "cell_type": "code",
   "execution_count": 63,
   "id": "72be08f8-bff1-49ca-9bdf-7408201a3e59",
   "metadata": {},
   "outputs": [
    {
     "data": {
      "text/plain": [
       "(139, 6)"
      ]
     },
     "execution_count": 63,
     "metadata": {},
     "output_type": "execute_result"
    }
   ],
   "source": [
    "csData.shape"
   ]
  },
  {
   "cell_type": "code",
   "execution_count": 65,
   "id": "3e66d195-ac44-473e-9796-e1e462611d17",
   "metadata": {},
   "outputs": [
    {
     "data": {
      "text/plain": [
       "(11, 6)"
      ]
     },
     "execution_count": 65,
     "metadata": {},
     "output_type": "execute_result"
    }
   ],
   "source": [
    "csData2.shape"
   ]
  },
  {
   "cell_type": "code",
   "execution_count": 66,
   "id": "5aa95c06-7e0b-44b0-bf44-3b82dafccca6",
   "metadata": {},
   "outputs": [],
   "source": [
    "customerData = pd.read_csv(\"../dataset/customerdata.csv\")"
   ]
  },
  {
   "cell_type": "code",
   "execution_count": 69,
   "id": "bb5f1635-4ca7-4809-96e3-ef16f7eafdbe",
   "metadata": {},
   "outputs": [
    {
     "data": {
      "text/html": [
       "<div>\n",
       "<style scoped>\n",
       "    .dataframe tbody tr th:only-of-type {\n",
       "        vertical-align: middle;\n",
       "    }\n",
       "\n",
       "    .dataframe tbody tr th {\n",
       "        vertical-align: top;\n",
       "    }\n",
       "\n",
       "    .dataframe thead th {\n",
       "        text-align: right;\n",
       "    }\n",
       "</style>\n",
       "<table border=\"1\" class=\"dataframe\">\n",
       "  <thead>\n",
       "    <tr style=\"text-align: right;\">\n",
       "      <th></th>\n",
       "      <th>CUSTID</th>\n",
       "      <th>AVGPRICE</th>\n",
       "      <th>EMI</th>\n",
       "      <th>DEVICECOUNT</th>\n",
       "      <th>PRODUCTAGE</th>\n",
       "      <th>CUSTTYPE</th>\n",
       "    </tr>\n",
       "  </thead>\n",
       "  <tbody>\n",
       "    <tr>\n",
       "      <th>0</th>\n",
       "      <td>A13566</td>\n",
       "      <td>4273.900000</td>\n",
       "      <td>3</td>\n",
       "      <td>6</td>\n",
       "      <td>1.679181</td>\n",
       "      <td>Big-Screen-lover</td>\n",
       "    </tr>\n",
       "    <tr>\n",
       "      <th>1</th>\n",
       "      <td>A14219</td>\n",
       "      <td>3642.441950</td>\n",
       "      <td>2</td>\n",
       "      <td>4</td>\n",
       "      <td>2.682023</td>\n",
       "      <td>Sleeping-dog</td>\n",
       "    </tr>\n",
       "    <tr>\n",
       "      <th>2</th>\n",
       "      <td>A15312</td>\n",
       "      <td>3653.884565</td>\n",
       "      <td>2</td>\n",
       "      <td>5</td>\n",
       "      <td>3.208202</td>\n",
       "      <td>Sleeping-dog</td>\n",
       "    </tr>\n",
       "  </tbody>\n",
       "</table>\n",
       "</div>"
      ],
      "text/plain": [
       "   CUSTID     AVGPRICE  EMI  DEVICECOUNT  PRODUCTAGE          CUSTTYPE\n",
       "0  A13566  4273.900000    3            6    1.679181  Big-Screen-lover\n",
       "1  A14219  3642.441950    2            4    2.682023      Sleeping-dog\n",
       "2  A15312  3653.884565    2            5    3.208202      Sleeping-dog"
      ]
     },
     "execution_count": 69,
     "metadata": {},
     "output_type": "execute_result"
    }
   ],
   "source": [
    "customerData.loc[0:2]\n",
    "#customerData.loc[:] => 전체조회"
   ]
  },
  {
   "cell_type": "code",
   "execution_count": null,
   "id": "8d4d7d44-25c0-48f4-8f68-0ad725bd0ec3",
   "metadata": {},
   "outputs": [],
   "source": []
  },
  {
   "cell_type": "code",
   "execution_count": null,
   "id": "c343c0ff-31af-4fb1-b947-b25d22ae1256",
   "metadata": {},
   "outputs": [],
   "source": []
  },
  {
   "cell_type": "markdown",
   "id": "1c080869-ac15-4346-b162-6db977a46342",
   "metadata": {},
   "source": [
    "# 리스트로 데이터프레임 만들기"
   ]
  },
  {
   "cell_type": "code",
   "execution_count": 11,
   "id": "7dbba621-0ad1-488a-8596-4e065123616c",
   "metadata": {},
   "outputs": [
    {
     "data": {
      "text/html": [
       "<div>\n",
       "<style scoped>\n",
       "    .dataframe tbody tr th:only-of-type {\n",
       "        vertical-align: middle;\n",
       "    }\n",
       "\n",
       "    .dataframe tbody tr th {\n",
       "        vertical-align: top;\n",
       "    }\n",
       "\n",
       "    .dataframe thead th {\n",
       "        text-align: right;\n",
       "    }\n",
       "</style>\n",
       "<table border=\"1\" class=\"dataframe\">\n",
       "  <thead>\n",
       "    <tr style=\"text-align: right;\">\n",
       "      <th></th>\n",
       "      <th>0</th>\n",
       "      <th>1</th>\n",
       "      <th>2</th>\n",
       "    </tr>\n",
       "  </thead>\n",
       "  <tbody>\n",
       "    <tr>\n",
       "      <th>0</th>\n",
       "      <td>a</td>\n",
       "      <td>1</td>\n",
       "      <td>iyyoo</td>\n",
       "    </tr>\n",
       "    <tr>\n",
       "      <th>1</th>\n",
       "      <td>b</td>\n",
       "      <td>2</td>\n",
       "      <td>iy</td>\n",
       "    </tr>\n",
       "  </tbody>\n",
       "</table>\n",
       "</div>"
      ],
      "text/plain": [
       "   0  1      2\n",
       "0  a  1  iyyoo\n",
       "1  b  2     iy"
      ]
     },
     "execution_count": 11,
     "metadata": {},
     "output_type": "execute_result"
    }
   ],
   "source": [
    "import pandas as pd\n",
    "\n",
    "stNO = [1,2,3]\n",
    "stl = [\"a\",\"b\"]\n",
    "stName = [\"iyyoo\",\"iy\",\"y\"]\n",
    "\n",
    "testDf = pd.DataFrame(zip(stl,stNO,stName))\n",
    "testDf"
   ]
  },
  {
   "cell_type": "code",
   "execution_count": 16,
   "id": "a0a30ef0-6d80-441c-9cfc-2753dd14fcc1",
   "metadata": {
    "tags": []
   },
   "outputs": [
    {
     "data": {
      "text/html": [
       "<div>\n",
       "<style scoped>\n",
       "    .dataframe tbody tr th:only-of-type {\n",
       "        vertical-align: middle;\n",
       "    }\n",
       "\n",
       "    .dataframe tbody tr th {\n",
       "        vertical-align: top;\n",
       "    }\n",
       "\n",
       "    .dataframe thead th {\n",
       "        text-align: right;\n",
       "    }\n",
       "</style>\n",
       "<table border=\"1\" class=\"dataframe\">\n",
       "  <thead>\n",
       "    <tr style=\"text-align: right;\">\n",
       "      <th></th>\n",
       "      <th>번호</th>\n",
       "      <th>이름</th>\n",
       "      <th>주소</th>\n",
       "    </tr>\n",
       "  </thead>\n",
       "  <tbody>\n",
       "    <tr>\n",
       "      <th>0</th>\n",
       "      <td>1</td>\n",
       "      <td>iyyoo</td>\n",
       "      <td>!</td>\n",
       "    </tr>\n",
       "    <tr>\n",
       "      <th>1</th>\n",
       "      <td>2</td>\n",
       "      <td>iy</td>\n",
       "      <td>None</td>\n",
       "    </tr>\n",
       "    <tr>\n",
       "      <th>2</th>\n",
       "      <td>3</td>\n",
       "      <td>y</td>\n",
       "      <td>?</td>\n",
       "    </tr>\n",
       "  </tbody>\n",
       "</table>\n",
       "</div>"
      ],
      "text/plain": [
       "   번호     이름    주소\n",
       "0   1  iyyoo     !\n",
       "1   2     iy  None\n",
       "2   3      y     ?"
      ]
     },
     "execution_count": 16,
     "metadata": {},
     "output_type": "execute_result"
    }
   ],
   "source": [
    "row1 = [1,\"iyyoo\",\"!\"]\n",
    "row2 = [2,\"iy\"]\n",
    "row3 = [3,\"y\",\"?\"]\n",
    "\n",
    "testDf2 = pd.DataFrame([row1,row2,row3],columns=(\"번호\",\"이름\",\"주소\"))\n",
    "testDf2"
   ]
  }
 ],
 "metadata": {
  "kernelspec": {
   "display_name": "Python 3 (ipykernel)",
   "language": "python",
   "name": "python3"
  },
  "language_info": {
   "codemirror_mode": {
    "name": "ipython",
    "version": 3
   },
   "file_extension": ".py",
   "mimetype": "text/x-python",
   "name": "python",
   "nbconvert_exporter": "python",
   "pygments_lexer": "ipython3",
   "version": "3.9.13"
  }
 },
 "nbformat": 4,
 "nbformat_minor": 5
}
