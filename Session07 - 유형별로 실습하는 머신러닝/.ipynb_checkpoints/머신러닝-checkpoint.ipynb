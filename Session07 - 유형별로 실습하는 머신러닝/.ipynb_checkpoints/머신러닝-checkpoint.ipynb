{
 "cells": [
  {
   "cell_type": "code",
   "execution_count": 1,
   "id": "22c2c22a-ba6d-4fc9-a13a-088778912c67",
   "metadata": {},
   "outputs": [],
   "source": [
    "## 라이브러리 선언 및 데이터 불러오기"
   ]
  },
  {
   "cell_type": "code",
   "execution_count": 2,
   "id": "c0d3b8ea-6498-4e17-ae19-42e2e0f14cb2",
   "metadata": {},
   "outputs": [],
   "source": [
    "# 데이터 처리 라이브러리\n",
    "import numpy as np\n",
    "import pandas as pd"
   ]
  },
  {
   "cell_type": "code",
   "execution_count": 3,
   "id": "bd639a39-f533-4202-9889-4ebaa07a9bc4",
   "metadata": {},
   "outputs": [],
   "source": [
    "# 머신러닝 라이브러리\n",
    "from sklearn import tree\n",
    "from sklearn import ensemble\n",
    "## tree.DecisionRegressor()\n",
    "## ensemble.RandomForestRegressor()\n",
    "\n",
    "## 모델 정확도 라이브러리 선언\n",
    "##from sklearn.metrics import mean_squared_error\n",
    "##from sklearn.metrics import mean_absolute_error"
   ]
  },
  {
   "cell_type": "code",
   "execution_count": 4,
   "id": "bd2f79c3-a101-4cb2-8c55-fb3491fd1a82",
   "metadata": {},
   "outputs": [],
   "source": [
    "featuresData = pd.read_csv(\"../dataset/feature_regression_example.csv\")"
   ]
  },
  {
   "cell_type": "code",
   "execution_count": 5,
   "id": "dc9da757-9755-467e-891e-54dd8d32f000",
   "metadata": {
    "tags": []
   },
   "outputs": [
    {
     "data": {
      "text/html": [
       "<div>\n",
       "<style scoped>\n",
       "    .dataframe tbody tr th:only-of-type {\n",
       "        vertical-align: middle;\n",
       "    }\n",
       "\n",
       "    .dataframe tbody tr th {\n",
       "        vertical-align: top;\n",
       "    }\n",
       "\n",
       "    .dataframe thead th {\n",
       "        text-align: right;\n",
       "    }\n",
       "</style>\n",
       "<table border=\"1\" class=\"dataframe\">\n",
       "  <thead>\n",
       "    <tr style=\"text-align: right;\">\n",
       "      <th></th>\n",
       "      <th>YEARWEEK</th>\n",
       "      <th>YEAR</th>\n",
       "      <th>WEEK</th>\n",
       "      <th>QTY</th>\n",
       "      <th>HCLUS</th>\n",
       "      <th>PRO_PERCENT</th>\n",
       "    </tr>\n",
       "  </thead>\n",
       "  <tbody>\n",
       "    <tr>\n",
       "      <th>count</th>\n",
       "      <td>105.000000</td>\n",
       "      <td>105.000000</td>\n",
       "      <td>105.000000</td>\n",
       "      <td>105.000000</td>\n",
       "      <td>105.000000</td>\n",
       "      <td>105.000000</td>\n",
       "    </tr>\n",
       "    <tr>\n",
       "      <th>mean</th>\n",
       "      <td>201576.276190</td>\n",
       "      <td>2015.495238</td>\n",
       "      <td>26.752381</td>\n",
       "      <td>1210.238095</td>\n",
       "      <td>2.742857</td>\n",
       "      <td>0.205780</td>\n",
       "    </tr>\n",
       "    <tr>\n",
       "      <th>std</th>\n",
       "      <td>52.254278</td>\n",
       "      <td>0.502375</td>\n",
       "      <td>15.229514</td>\n",
       "      <td>820.097819</td>\n",
       "      <td>1.587382</td>\n",
       "      <td>0.128636</td>\n",
       "    </tr>\n",
       "    <tr>\n",
       "      <th>min</th>\n",
       "      <td>201501.000000</td>\n",
       "      <td>2015.000000</td>\n",
       "      <td>1.000000</td>\n",
       "      <td>15.000000</td>\n",
       "      <td>0.000000</td>\n",
       "      <td>0.000000</td>\n",
       "    </tr>\n",
       "    <tr>\n",
       "      <th>25%</th>\n",
       "      <td>201527.000000</td>\n",
       "      <td>2015.000000</td>\n",
       "      <td>14.000000</td>\n",
       "      <td>542.000000</td>\n",
       "      <td>1.000000</td>\n",
       "      <td>0.208155</td>\n",
       "    </tr>\n",
       "    <tr>\n",
       "      <th>50%</th>\n",
       "      <td>201553.000000</td>\n",
       "      <td>2015.000000</td>\n",
       "      <td>27.000000</td>\n",
       "      <td>1139.000000</td>\n",
       "      <td>4.000000</td>\n",
       "      <td>0.209442</td>\n",
       "    </tr>\n",
       "    <tr>\n",
       "      <th>75%</th>\n",
       "      <td>201626.000000</td>\n",
       "      <td>2016.000000</td>\n",
       "      <td>40.000000</td>\n",
       "      <td>1753.000000</td>\n",
       "      <td>4.000000</td>\n",
       "      <td>0.280258</td>\n",
       "    </tr>\n",
       "    <tr>\n",
       "      <th>max</th>\n",
       "      <td>201652.000000</td>\n",
       "      <td>2016.000000</td>\n",
       "      <td>53.000000</td>\n",
       "      <td>4035.000000</td>\n",
       "      <td>4.000000</td>\n",
       "      <td>0.421888</td>\n",
       "    </tr>\n",
       "  </tbody>\n",
       "</table>\n",
       "</div>"
      ],
      "text/plain": [
       "            YEARWEEK         YEAR        WEEK          QTY       HCLUS  \\\n",
       "count     105.000000   105.000000  105.000000   105.000000  105.000000   \n",
       "mean   201576.276190  2015.495238   26.752381  1210.238095    2.742857   \n",
       "std        52.254278     0.502375   15.229514   820.097819    1.587382   \n",
       "min    201501.000000  2015.000000    1.000000    15.000000    0.000000   \n",
       "25%    201527.000000  2015.000000   14.000000   542.000000    1.000000   \n",
       "50%    201553.000000  2015.000000   27.000000  1139.000000    4.000000   \n",
       "75%    201626.000000  2016.000000   40.000000  1753.000000    4.000000   \n",
       "max    201652.000000  2016.000000   53.000000  4035.000000    4.000000   \n",
       "\n",
       "       PRO_PERCENT  \n",
       "count   105.000000  \n",
       "mean      0.205780  \n",
       "std       0.128636  \n",
       "min       0.000000  \n",
       "25%       0.208155  \n",
       "50%       0.209442  \n",
       "75%       0.280258  \n",
       "max       0.421888  "
      ]
     },
     "execution_count": 5,
     "metadata": {},
     "output_type": "execute_result"
    }
   ],
   "source": [
    "featuresData.describe()"
   ]
  },
  {
   "cell_type": "code",
   "execution_count": 6,
   "id": "fcf4f285-e078-4911-b216-1b4ac355406e",
   "metadata": {},
   "outputs": [],
   "source": [
    "# A. 데이터 전처리"
   ]
  },
  {
   "cell_type": "code",
   "execution_count": 7,
   "id": "b1405574-020c-4e04-b4aa-073c63159cad",
   "metadata": {},
   "outputs": [],
   "source": [
    "# A-1 타입 통합 / 특성 숫자 컬럼 추가"
   ]
  },
  {
   "cell_type": "code",
   "execution_count": 8,
   "id": "57902d42-ab01-484d-a8df-386c42425ba2",
   "metadata": {},
   "outputs": [
    {
     "data": {
      "text/plain": [
       "REGIONID         object\n",
       "PRODUCTGROUP     object\n",
       "PRODUCT          object\n",
       "ITEM             object\n",
       "YEARWEEK          int64\n",
       "YEAR              int64\n",
       "WEEK              int64\n",
       "QTY               int64\n",
       "HOLIDAY          object\n",
       "HCLUS             int64\n",
       "PROMOTION        object\n",
       "PRO_PERCENT     float64\n",
       "dtype: object"
      ]
     },
     "execution_count": 8,
     "metadata": {},
     "output_type": "execute_result"
    }
   ],
   "source": [
    "featuresData.dtypes"
   ]
  },
  {
   "cell_type": "code",
   "execution_count": 9,
   "id": "2f49b6f7-d831-4ad0-abb2-946fbcda432d",
   "metadata": {},
   "outputs": [],
   "source": [
    "## 데이터 타입 통합\n",
    "featuresData[\"REGIONID\"] = featuresData[\"REGIONID\"].astype(str)\n",
    "featuresData[\"PRODUCTGROUP\"] = featuresData[\"PRODUCTGROUP\"].astype(str)"
   ]
  },
  {
   "cell_type": "code",
   "execution_count": 10,
   "id": "7384dd3f-d9a9-4716-a40c-8ff1ef902a90",
   "metadata": {},
   "outputs": [],
   "source": [
    "# 특정값 숫자컬럼 변경"
   ]
  },
  {
   "cell_type": "code",
   "execution_count": 54,
   "id": "828fb2f0-0a56-4d7b-b738-c2621a19e64c",
   "metadata": {},
   "outputs": [],
   "source": [
    "## np.where 을 쓰는 것은 가장 간단하게 데이터를 변환시키는 방법이다.\n",
    "## 변환대상이 적을경우는 np.where\n",
    "## 변환대상이 5개 정도 될 경우에는 MAP 항수를 써 보는 것도 괜찮다."
   ]
  },
  {
   "cell_type": "code",
   "execution_count": 55,
   "id": "283c948f-bec0-46df-9411-d3f1d955988f",
   "metadata": {},
   "outputs": [],
   "source": [
    "# dictionary type 딕셔너리 타입\n",
    "# ynMap = {\"Y\":1 , \"N\":2}\n",
    "# ynMap[\"Y\"] ->1이나옴\n",
    "# ynMap[\"N\"] ->2이나옴\n",
    "# featuresData.HOLIDAY.map(ynMap)"
   ]
  },
  {
   "cell_type": "code",
   "execution_count": 57,
   "id": "cf01e614-b2bc-4b9c-8cc2-324993b3419d",
   "metadata": {
    "collapsed": true,
    "jupyter": {
     "outputs_hidden": true
    },
    "tags": []
   },
   "outputs": [
    {
     "data": {
      "text/plain": [
       "0      1\n",
       "1      2\n",
       "2      2\n",
       "3      1\n",
       "4      2\n",
       "      ..\n",
       "100    1\n",
       "101    2\n",
       "102    2\n",
       "103    2\n",
       "104    1\n",
       "Name: HOLIDAY, Length: 105, dtype: int64"
      ]
     },
     "execution_count": 57,
     "metadata": {},
     "output_type": "execute_result"
    }
   ],
   "source": [
    "ynMap = {\"Y\":1,\"N\":2}\n",
    "featuresData.HOLIDAY.map(ynMap)\n",
    "## featuresData[\"HOLIDAY_YNMAP\"] = featuresData.HOLIDAY.map(ynMap)"
   ]
  },
  {
   "cell_type": "code",
   "execution_count": 58,
   "id": "ff8864ee-2234-4e91-85c1-b3014493ea28",
   "metadata": {},
   "outputs": [],
   "source": [
    "# 변환대상이 100개정도 될 경우에는?\n",
    "# labelencode 를 쓴다."
   ]
  },
  {
   "cell_type": "code",
   "execution_count": 59,
   "id": "e6bef8a0-aa87-4c1a-8325-6e10771bf44f",
   "metadata": {},
   "outputs": [],
   "source": [
    "from sklearn.preprocessing import LabelEncoder"
   ]
  },
  {
   "cell_type": "code",
   "execution_count": 63,
   "id": "c30ffb2b-a83c-4364-a1a5-7dcf9e3ac0ca",
   "metadata": {
    "tags": []
   },
   "outputs": [],
   "source": [
    "csData = pd.read_csv(\"../dataset/customerdata.csv\")"
   ]
  },
  {
   "cell_type": "code",
   "execution_count": 60,
   "id": "5da4710b-1256-4d4c-acde-e909ba9a9c27",
   "metadata": {},
   "outputs": [],
   "source": [
    "ynLabelEn = LabelEncoder()"
   ]
  },
  {
   "cell_type": "code",
   "execution_count": 65,
   "id": "6de6b986-d2e2-4f05-887a-f436f6f16aea",
   "metadata": {},
   "outputs": [],
   "source": [
    "csData[\"CSLABEL\"] = ynLabelEn.fit_transform(csData[\"CUSTID\"])"
   ]
  },
  {
   "cell_type": "code",
   "execution_count": 67,
   "id": "d572830d-c9cf-4095-a1fa-1db55abc0d21",
   "metadata": {
    "collapsed": true,
    "jupyter": {
     "outputs_hidden": true
    },
    "tags": []
   },
   "outputs": [
    {
     "data": {
      "text/plain": [
       "array(['A13566', 'A14219', 'A15312', 'A16605', 'B10634', 'B16849',\n",
       "       'B18816', 'C10639', 'C12717', 'C15050', 'C18306', 'C18622',\n",
       "       'C19178', 'D11795', 'D13030', 'D15289', 'D17241', 'D17880',\n",
       "       'E10778', 'E11917', 'E16075', 'E16221', 'E18145', 'E19404',\n",
       "       'F10222', 'F12979', 'F14866', 'F17131', 'F18646', 'F19938',\n",
       "       'G11453', 'G15439', 'G15736', 'G16437', 'G16681', 'G16922',\n",
       "       'G18402', 'G19717', 'H10188', 'H15023', 'H16326', 'H16434',\n",
       "       'H18821', 'H19829', 'I11601', 'I12899', 'I14835', 'I17056',\n",
       "       'I17780', 'I18190', 'I19586', 'J10809', 'J15083', 'J16445',\n",
       "       'J18368', 'J18640', 'K10712', 'K13300', 'K16632', 'L10919',\n",
       "       'L13892', 'L16344', 'L17101', 'L18000', 'M10156', 'M16452',\n",
       "       'M17538', 'N13273', 'N14862', 'N15762', 'O10236', 'O12193',\n",
       "       'O13037', 'O13586', 'O16407', 'O19630', 'P14445', 'P14740',\n",
       "       'P18446', 'P18769', 'P19679', 'Q11876', 'Q12581', 'Q13484',\n",
       "       'Q14673', 'Q15445', 'Q16449', 'Q16970', 'Q18064', 'Q18901',\n",
       "       'Q19870', 'R10086', 'R11271', 'R12480', 'R15454', 'R16364',\n",
       "       'R18220', 'S10909', 'S12066', 'S12785', 'S13238', 'S14751',\n",
       "       'S14878', 'S15191', 'S15607', 'S15966', 'S16151', 'S17396',\n",
       "       'S17893', 'S18699', 'S18924', 'T10762', 'T11116', 'T11473',\n",
       "       'T11512', 'T12735', 'T13866', 'T16556', 'U15861', 'U16637',\n",
       "       'U16894', 'U17547', 'U17748', 'V10654', 'V16516', 'V16704',\n",
       "       'V18566', 'V19072', 'W10832', 'W13032', 'W13404', 'W13995',\n",
       "       'W16193', 'W18228', 'X10158', 'X13390', 'X14259', 'X19598',\n",
       "       'X19768', 'Y10906', 'Y12458', 'Y13678', 'Z11525', 'Z12343',\n",
       "       'Z12772', 'Z13253', 'Z13534', 'Z16428', 'Z16735', 'Z19835'],\n",
       "      dtype=object)"
      ]
     },
     "execution_count": 67,
     "metadata": {},
     "output_type": "execute_result"
    }
   ],
   "source": [
    "ynLabelEn.inverse_transform(csData[\"CSLABEL\"])"
   ]
  },
  {
   "cell_type": "code",
   "execution_count": 66,
   "id": "e79c817a-c4ed-433c-9eb0-1c83f7c48df7",
   "metadata": {
    "collapsed": true,
    "jupyter": {
     "outputs_hidden": true
    },
    "tags": []
   },
   "outputs": [
    {
     "data": {
      "text/plain": [
       "0        0\n",
       "1        1\n",
       "2        2\n",
       "3        3\n",
       "4        4\n",
       "      ... \n",
       "145    145\n",
       "146    146\n",
       "147    147\n",
       "148    148\n",
       "149    149\n",
       "Name: CSLABEL, Length: 150, dtype: int32"
      ]
     },
     "execution_count": 66,
     "metadata": {},
     "output_type": "execute_result"
    }
   ],
   "source": [
    "csData[\"CSLABEL\"]"
   ]
  },
  {
   "cell_type": "code",
   "execution_count": 11,
   "id": "3df2dcec-9679-4a09-9564-aac9db58287a",
   "metadata": {},
   "outputs": [
    {
     "data": {
      "text/html": [
       "<div>\n",
       "<style scoped>\n",
       "    .dataframe tbody tr th:only-of-type {\n",
       "        vertical-align: middle;\n",
       "    }\n",
       "\n",
       "    .dataframe tbody tr th {\n",
       "        vertical-align: top;\n",
       "    }\n",
       "\n",
       "    .dataframe thead th {\n",
       "        text-align: right;\n",
       "    }\n",
       "</style>\n",
       "<table border=\"1\" class=\"dataframe\">\n",
       "  <thead>\n",
       "    <tr style=\"text-align: right;\">\n",
       "      <th></th>\n",
       "      <th>REGIONID</th>\n",
       "      <th>PRODUCTGROUP</th>\n",
       "      <th>PRODUCT</th>\n",
       "      <th>ITEM</th>\n",
       "      <th>YEARWEEK</th>\n",
       "      <th>YEAR</th>\n",
       "      <th>WEEK</th>\n",
       "      <th>QTY</th>\n",
       "      <th>HOLIDAY</th>\n",
       "      <th>HCLUS</th>\n",
       "      <th>PROMOTION</th>\n",
       "      <th>PRO_PERCENT</th>\n",
       "    </tr>\n",
       "  </thead>\n",
       "  <tbody>\n",
       "    <tr>\n",
       "      <th>0</th>\n",
       "      <td>SEOUL_BANK_001</td>\n",
       "      <td>PG02</td>\n",
       "      <td>PRODUCT0010</td>\n",
       "      <td>ITEM0115</td>\n",
       "      <td>201501</td>\n",
       "      <td>2015</td>\n",
       "      <td>1</td>\n",
       "      <td>1225</td>\n",
       "      <td>Y</td>\n",
       "      <td>1</td>\n",
       "      <td>Y</td>\n",
       "      <td>0.209442</td>\n",
       "    </tr>\n",
       "  </tbody>\n",
       "</table>\n",
       "</div>"
      ],
      "text/plain": [
       "         REGIONID PRODUCTGROUP      PRODUCT      ITEM  YEARWEEK  YEAR  WEEK  \\\n",
       "0  SEOUL_BANK_001         PG02  PRODUCT0010  ITEM0115    201501  2015     1   \n",
       "\n",
       "    QTY HOLIDAY  HCLUS PROMOTION  PRO_PERCENT  \n",
       "0  1225       Y      1         Y     0.209442  "
      ]
     },
     "execution_count": 11,
     "metadata": {},
     "output_type": "execute_result"
    }
   ],
   "source": [
    "featuresData.head(1)"
   ]
  },
  {
   "cell_type": "code",
   "execution_count": 12,
   "id": "52ac1035-d8ab-40d4-a4a6-e28fdac60129",
   "metadata": {},
   "outputs": [
    {
     "data": {
      "text/plain": [
       "0    Y\n",
       "1    N\n",
       "Name: HOLIDAY, dtype: object"
      ]
     },
     "execution_count": 12,
     "metadata": {},
     "output_type": "execute_result"
    }
   ],
   "source": [
    "featuresData.HOLIDAY.drop_duplicates()"
   ]
  },
  {
   "cell_type": "code",
   "execution_count": 13,
   "id": "b653d6f9-ed72-4e1b-b3a4-ccfe48c817fc",
   "metadata": {},
   "outputs": [
    {
     "data": {
      "text/plain": [
       "0    Y\n",
       "9    N\n",
       "Name: PROMOTION, dtype: object"
      ]
     },
     "execution_count": 13,
     "metadata": {},
     "output_type": "execute_result"
    }
   ],
   "source": [
    "featuresData.PROMOTION.drop_duplicates()"
   ]
  },
  {
   "cell_type": "code",
   "execution_count": 14,
   "id": "5e72dac3-f962-4924-9aeb-7e9f75feeb9e",
   "metadata": {},
   "outputs": [],
   "source": [
    "featuresData[\"PROMOTION_LB\"] = np.where(featuresData.PROMOTION == \"Y\",1,0)\n",
    "\n",
    "featuresData[\"HOLIDAY_LB\"] = np.where(featuresData.HOLIDAY == \"Y\",1,0)"
   ]
  },
  {
   "cell_type": "code",
   "execution_count": 15,
   "id": "d817d2e3-a157-4734-8179-17988f71fcdd",
   "metadata": {
    "tags": []
   },
   "outputs": [
    {
     "data": {
      "text/html": [
       "<div>\n",
       "<style scoped>\n",
       "    .dataframe tbody tr th:only-of-type {\n",
       "        vertical-align: middle;\n",
       "    }\n",
       "\n",
       "    .dataframe tbody tr th {\n",
       "        vertical-align: top;\n",
       "    }\n",
       "\n",
       "    .dataframe thead th {\n",
       "        text-align: right;\n",
       "    }\n",
       "</style>\n",
       "<table border=\"1\" class=\"dataframe\">\n",
       "  <thead>\n",
       "    <tr style=\"text-align: right;\">\n",
       "      <th></th>\n",
       "      <th>REGIONID</th>\n",
       "      <th>PRODUCTGROUP</th>\n",
       "      <th>PRODUCT</th>\n",
       "      <th>ITEM</th>\n",
       "      <th>YEARWEEK</th>\n",
       "      <th>YEAR</th>\n",
       "      <th>WEEK</th>\n",
       "      <th>QTY</th>\n",
       "      <th>HOLIDAY</th>\n",
       "      <th>HCLUS</th>\n",
       "      <th>PROMOTION</th>\n",
       "      <th>PRO_PERCENT</th>\n",
       "      <th>PROMOTION_LB</th>\n",
       "      <th>HOLIDAY_LB</th>\n",
       "    </tr>\n",
       "  </thead>\n",
       "  <tbody>\n",
       "    <tr>\n",
       "      <th>0</th>\n",
       "      <td>SEOUL_BANK_001</td>\n",
       "      <td>PG02</td>\n",
       "      <td>PRODUCT0010</td>\n",
       "      <td>ITEM0115</td>\n",
       "      <td>201501</td>\n",
       "      <td>2015</td>\n",
       "      <td>1</td>\n",
       "      <td>1225</td>\n",
       "      <td>Y</td>\n",
       "      <td>1</td>\n",
       "      <td>Y</td>\n",
       "      <td>0.209442</td>\n",
       "      <td>1</td>\n",
       "      <td>1</td>\n",
       "    </tr>\n",
       "    <tr>\n",
       "      <th>1</th>\n",
       "      <td>SEOUL_BANK_001</td>\n",
       "      <td>PG02</td>\n",
       "      <td>PRODUCT0010</td>\n",
       "      <td>ITEM0115</td>\n",
       "      <td>201502</td>\n",
       "      <td>2015</td>\n",
       "      <td>2</td>\n",
       "      <td>968</td>\n",
       "      <td>N</td>\n",
       "      <td>4</td>\n",
       "      <td>Y</td>\n",
       "      <td>0.209442</td>\n",
       "      <td>1</td>\n",
       "      <td>0</td>\n",
       "    </tr>\n",
       "    <tr>\n",
       "      <th>2</th>\n",
       "      <td>SEOUL_BANK_001</td>\n",
       "      <td>PG02</td>\n",
       "      <td>PRODUCT0010</td>\n",
       "      <td>ITEM0115</td>\n",
       "      <td>201503</td>\n",
       "      <td>2015</td>\n",
       "      <td>3</td>\n",
       "      <td>1209</td>\n",
       "      <td>N</td>\n",
       "      <td>4</td>\n",
       "      <td>Y</td>\n",
       "      <td>0.208155</td>\n",
       "      <td>1</td>\n",
       "      <td>0</td>\n",
       "    </tr>\n",
       "    <tr>\n",
       "      <th>3</th>\n",
       "      <td>SEOUL_BANK_001</td>\n",
       "      <td>PG02</td>\n",
       "      <td>PRODUCT0010</td>\n",
       "      <td>ITEM0115</td>\n",
       "      <td>201504</td>\n",
       "      <td>2015</td>\n",
       "      <td>4</td>\n",
       "      <td>1810</td>\n",
       "      <td>Y</td>\n",
       "      <td>2</td>\n",
       "      <td>Y</td>\n",
       "      <td>0.208155</td>\n",
       "      <td>1</td>\n",
       "      <td>1</td>\n",
       "    </tr>\n",
       "    <tr>\n",
       "      <th>4</th>\n",
       "      <td>SEOUL_BANK_001</td>\n",
       "      <td>PG02</td>\n",
       "      <td>PRODUCT0010</td>\n",
       "      <td>ITEM0115</td>\n",
       "      <td>201505</td>\n",
       "      <td>2015</td>\n",
       "      <td>5</td>\n",
       "      <td>1773</td>\n",
       "      <td>N</td>\n",
       "      <td>4</td>\n",
       "      <td>Y</td>\n",
       "      <td>0.208155</td>\n",
       "      <td>1</td>\n",
       "      <td>0</td>\n",
       "    </tr>\n",
       "    <tr>\n",
       "      <th>...</th>\n",
       "      <td>...</td>\n",
       "      <td>...</td>\n",
       "      <td>...</td>\n",
       "      <td>...</td>\n",
       "      <td>...</td>\n",
       "      <td>...</td>\n",
       "      <td>...</td>\n",
       "      <td>...</td>\n",
       "      <td>...</td>\n",
       "      <td>...</td>\n",
       "      <td>...</td>\n",
       "      <td>...</td>\n",
       "      <td>...</td>\n",
       "      <td>...</td>\n",
       "    </tr>\n",
       "    <tr>\n",
       "      <th>100</th>\n",
       "      <td>SEOUL_BANK_001</td>\n",
       "      <td>PG02</td>\n",
       "      <td>PRODUCT0010</td>\n",
       "      <td>ITEM0115</td>\n",
       "      <td>201648</td>\n",
       "      <td>2016</td>\n",
       "      <td>48</td>\n",
       "      <td>2412</td>\n",
       "      <td>Y</td>\n",
       "      <td>0</td>\n",
       "      <td>Y</td>\n",
       "      <td>0.421888</td>\n",
       "      <td>1</td>\n",
       "      <td>1</td>\n",
       "    </tr>\n",
       "    <tr>\n",
       "      <th>101</th>\n",
       "      <td>SEOUL_BANK_001</td>\n",
       "      <td>PG02</td>\n",
       "      <td>PRODUCT0010</td>\n",
       "      <td>ITEM0115</td>\n",
       "      <td>201649</td>\n",
       "      <td>2016</td>\n",
       "      <td>49</td>\n",
       "      <td>1955</td>\n",
       "      <td>N</td>\n",
       "      <td>4</td>\n",
       "      <td>Y</td>\n",
       "      <td>0.421888</td>\n",
       "      <td>1</td>\n",
       "      <td>0</td>\n",
       "    </tr>\n",
       "    <tr>\n",
       "      <th>102</th>\n",
       "      <td>SEOUL_BANK_001</td>\n",
       "      <td>PG02</td>\n",
       "      <td>PRODUCT0010</td>\n",
       "      <td>ITEM0115</td>\n",
       "      <td>201650</td>\n",
       "      <td>2016</td>\n",
       "      <td>50</td>\n",
       "      <td>1800</td>\n",
       "      <td>N</td>\n",
       "      <td>4</td>\n",
       "      <td>Y</td>\n",
       "      <td>0.352361</td>\n",
       "      <td>1</td>\n",
       "      <td>0</td>\n",
       "    </tr>\n",
       "    <tr>\n",
       "      <th>103</th>\n",
       "      <td>SEOUL_BANK_001</td>\n",
       "      <td>PG02</td>\n",
       "      <td>PRODUCT0010</td>\n",
       "      <td>ITEM0115</td>\n",
       "      <td>201651</td>\n",
       "      <td>2016</td>\n",
       "      <td>51</td>\n",
       "      <td>1173</td>\n",
       "      <td>N</td>\n",
       "      <td>4</td>\n",
       "      <td>Y</td>\n",
       "      <td>0.352361</td>\n",
       "      <td>1</td>\n",
       "      <td>0</td>\n",
       "    </tr>\n",
       "    <tr>\n",
       "      <th>104</th>\n",
       "      <td>SEOUL_BANK_001</td>\n",
       "      <td>PG02</td>\n",
       "      <td>PRODUCT0010</td>\n",
       "      <td>ITEM0115</td>\n",
       "      <td>201652</td>\n",
       "      <td>2016</td>\n",
       "      <td>52</td>\n",
       "      <td>332</td>\n",
       "      <td>Y</td>\n",
       "      <td>1</td>\n",
       "      <td>Y</td>\n",
       "      <td>0.352361</td>\n",
       "      <td>1</td>\n",
       "      <td>1</td>\n",
       "    </tr>\n",
       "  </tbody>\n",
       "</table>\n",
       "<p>105 rows × 14 columns</p>\n",
       "</div>"
      ],
      "text/plain": [
       "           REGIONID PRODUCTGROUP      PRODUCT      ITEM  YEARWEEK  YEAR  WEEK  \\\n",
       "0    SEOUL_BANK_001         PG02  PRODUCT0010  ITEM0115    201501  2015     1   \n",
       "1    SEOUL_BANK_001         PG02  PRODUCT0010  ITEM0115    201502  2015     2   \n",
       "2    SEOUL_BANK_001         PG02  PRODUCT0010  ITEM0115    201503  2015     3   \n",
       "3    SEOUL_BANK_001         PG02  PRODUCT0010  ITEM0115    201504  2015     4   \n",
       "4    SEOUL_BANK_001         PG02  PRODUCT0010  ITEM0115    201505  2015     5   \n",
       "..              ...          ...          ...       ...       ...   ...   ...   \n",
       "100  SEOUL_BANK_001         PG02  PRODUCT0010  ITEM0115    201648  2016    48   \n",
       "101  SEOUL_BANK_001         PG02  PRODUCT0010  ITEM0115    201649  2016    49   \n",
       "102  SEOUL_BANK_001         PG02  PRODUCT0010  ITEM0115    201650  2016    50   \n",
       "103  SEOUL_BANK_001         PG02  PRODUCT0010  ITEM0115    201651  2016    51   \n",
       "104  SEOUL_BANK_001         PG02  PRODUCT0010  ITEM0115    201652  2016    52   \n",
       "\n",
       "      QTY HOLIDAY  HCLUS PROMOTION  PRO_PERCENT  PROMOTION_LB  HOLIDAY_LB  \n",
       "0    1225       Y      1         Y     0.209442             1           1  \n",
       "1     968       N      4         Y     0.209442             1           0  \n",
       "2    1209       N      4         Y     0.208155             1           0  \n",
       "3    1810       Y      2         Y     0.208155             1           1  \n",
       "4    1773       N      4         Y     0.208155             1           0  \n",
       "..    ...     ...    ...       ...          ...           ...         ...  \n",
       "100  2412       Y      0         Y     0.421888             1           1  \n",
       "101  1955       N      4         Y     0.421888             1           0  \n",
       "102  1800       N      4         Y     0.352361             1           0  \n",
       "103  1173       N      4         Y     0.352361             1           0  \n",
       "104   332       Y      1         Y     0.352361             1           1  \n",
       "\n",
       "[105 rows x 14 columns]"
      ]
     },
     "execution_count": 15,
     "metadata": {},
     "output_type": "execute_result"
    }
   ],
   "source": [
    "featuresData"
   ]
  },
  {
   "cell_type": "code",
   "execution_count": 16,
   "id": "7bf77b77-4a6f-4121-a493-0e44fa763b0e",
   "metadata": {},
   "outputs": [],
   "source": [
    "## 검증"
   ]
  },
  {
   "cell_type": "code",
   "execution_count": 17,
   "id": "1f372c34-8760-4b39-aad8-db8ccb3d5314",
   "metadata": {},
   "outputs": [
    {
     "data": {
      "text/html": [
       "<div>\n",
       "<style scoped>\n",
       "    .dataframe tbody tr th:only-of-type {\n",
       "        vertical-align: middle;\n",
       "    }\n",
       "\n",
       "    .dataframe tbody tr th {\n",
       "        vertical-align: top;\n",
       "    }\n",
       "\n",
       "    .dataframe thead th {\n",
       "        text-align: right;\n",
       "    }\n",
       "</style>\n",
       "<table border=\"1\" class=\"dataframe\">\n",
       "  <thead>\n",
       "    <tr style=\"text-align: right;\">\n",
       "      <th></th>\n",
       "      <th>REGIONID</th>\n",
       "      <th>PRODUCTGROUP</th>\n",
       "      <th>PRODUCT</th>\n",
       "      <th>ITEM</th>\n",
       "      <th>YEARWEEK</th>\n",
       "      <th>YEAR</th>\n",
       "      <th>WEEK</th>\n",
       "      <th>QTY</th>\n",
       "      <th>HOLIDAY</th>\n",
       "      <th>HCLUS</th>\n",
       "      <th>PROMOTION</th>\n",
       "      <th>PRO_PERCENT</th>\n",
       "      <th>PROMOTION_LB</th>\n",
       "      <th>HOLIDAY_LB</th>\n",
       "    </tr>\n",
       "  </thead>\n",
       "  <tbody>\n",
       "  </tbody>\n",
       "</table>\n",
       "</div>"
      ],
      "text/plain": [
       "Empty DataFrame\n",
       "Columns: [REGIONID, PRODUCTGROUP, PRODUCT, ITEM, YEARWEEK, YEAR, WEEK, QTY, HOLIDAY, HCLUS, PROMOTION, PRO_PERCENT, PROMOTION_LB, HOLIDAY_LB]\n",
       "Index: []"
      ]
     },
     "execution_count": 17,
     "metadata": {},
     "output_type": "execute_result"
    }
   ],
   "source": [
    "featuresData.loc[ (featuresData.PROMOTION_LB==1) &\n",
    "                  (featuresData.PROMOTION !=\"Y\")]"
   ]
  },
  {
   "cell_type": "code",
   "execution_count": 18,
   "id": "5e673196-258f-42c1-8b91-ef5ba8e84ba0",
   "metadata": {},
   "outputs": [
    {
     "data": {
      "text/html": [
       "<div>\n",
       "<style scoped>\n",
       "    .dataframe tbody tr th:only-of-type {\n",
       "        vertical-align: middle;\n",
       "    }\n",
       "\n",
       "    .dataframe tbody tr th {\n",
       "        vertical-align: top;\n",
       "    }\n",
       "\n",
       "    .dataframe thead th {\n",
       "        text-align: right;\n",
       "    }\n",
       "</style>\n",
       "<table border=\"1\" class=\"dataframe\">\n",
       "  <thead>\n",
       "    <tr style=\"text-align: right;\">\n",
       "      <th></th>\n",
       "      <th>REGIONID</th>\n",
       "      <th>PRODUCTGROUP</th>\n",
       "      <th>PRODUCT</th>\n",
       "      <th>ITEM</th>\n",
       "      <th>YEARWEEK</th>\n",
       "      <th>YEAR</th>\n",
       "      <th>WEEK</th>\n",
       "      <th>QTY</th>\n",
       "      <th>HOLIDAY</th>\n",
       "      <th>HCLUS</th>\n",
       "      <th>PROMOTION</th>\n",
       "      <th>PRO_PERCENT</th>\n",
       "      <th>PROMOTION_LB</th>\n",
       "      <th>HOLIDAY_LB</th>\n",
       "    </tr>\n",
       "  </thead>\n",
       "  <tbody>\n",
       "  </tbody>\n",
       "</table>\n",
       "</div>"
      ],
      "text/plain": [
       "Empty DataFrame\n",
       "Columns: [REGIONID, PRODUCTGROUP, PRODUCT, ITEM, YEARWEEK, YEAR, WEEK, QTY, HOLIDAY, HCLUS, PROMOTION, PRO_PERCENT, PROMOTION_LB, HOLIDAY_LB]\n",
       "Index: []"
      ]
     },
     "execution_count": 18,
     "metadata": {},
     "output_type": "execute_result"
    }
   ],
   "source": [
    "featuresData.loc[ (featuresData.HOLIDAY_LB==1) &\n",
    "                  (featuresData.HOLIDAY!=\"Y\")]"
   ]
  },
  {
   "cell_type": "code",
   "execution_count": 19,
   "id": "02bacebe-a96d-467b-8827-14dce7d2e3d8",
   "metadata": {},
   "outputs": [],
   "source": [
    "## A-2 특성 선정 / 데이터 분리"
   ]
  },
  {
   "cell_type": "code",
   "execution_count": 74,
   "id": "7ab8fca1-b081-47b1-b3a3-41e40b66d881",
   "metadata": {},
   "outputs": [],
   "source": [
    "# 차트\n",
    "import matplotlib.pyplot as plt\n",
    "import seaborn as sns\n",
    "%matplotlib inline ##plt.show() 안써도되게"
   ]
  },
  {
   "cell_type": "code",
   "execution_count": 75,
   "id": "e39377d4-29e7-4309-84f4-5f243285b972",
   "metadata": {},
   "outputs": [
    {
     "data": {
      "text/plain": [
       "<seaborn.axisgrid.FacetGrid at 0x1e9b5c7ac10>"
      ]
     },
     "execution_count": 75,
     "metadata": {},
     "output_type": "execute_result"
    },
    {
     "data": {
      "image/png": "[encoded data removed]",
      "text/plain": [
       "<Figure size 500x500 with 1 Axes>"
      ]
     },
     "metadata": {},
     "output_type": "display_data"
    }
   ],
   "source": [
    "sns.displot(featuresData[\"QTY\"])"
   ]
  },
  {
   "cell_type": "code",
   "execution_count": 77,
   "id": "42807812-fb69-4f88-ad92-819c09c36707",
   "metadata": {},
   "outputs": [
    {
     "data": {
      "text/plain": [
       "<seaborn.axisgrid.FacetGrid at 0x1e9b69f7a30>"
      ]
     },
     "execution_count": 77,
     "metadata": {},
     "output_type": "execute_result"
    },
    {
     "data": {
      "image/png": "[encoded data removed]",
      "text/plain": [
       "<Figure size 500x500 with 1 Axes>"
      ]
     },
     "metadata": {},
     "output_type": "display_data"
    }
   ],
   "source": [
    "# plt.figure(figsize=(5,3))\n",
    "sns.lmplot(data = featuresData, x=\"QTY\", y=\"PRO_PERCENT\")\n",
    "# plt.show()"
   ]
  },
  {
   "cell_type": "code",
   "execution_count": 20,
   "id": "144f34a1-8f62-40e3-9d9a-2ff3eab45ef6",
   "metadata": {},
   "outputs": [],
   "source": [
    "corrDf = featuresData.corr()\n",
    "stdCorr = 0.5"
   ]
  },
  {
   "cell_type": "code",
   "execution_count": 21,
   "id": "9a989761-2bbb-4360-8ae2-55c60b9b05e9",
   "metadata": {},
   "outputs": [],
   "source": [
    "features = list(corrDf.loc[ (abs(corrDf.QTY) >= stdCorr) & (corrDf.QTY != 1)].index)"
   ]
  },
  {
   "cell_type": "code",
   "execution_count": 22,
   "id": "39fd5abe-075b-4b41-bf40-5a140381f6b1",
   "metadata": {},
   "outputs": [
    {
     "data": {
      "text/plain": [
       "['HCLUS', 'PRO_PERCENT', 'PROMOTION_LB', 'HOLIDAY_LB']"
      ]
     },
     "execution_count": 22,
     "metadata": {},
     "output_type": "execute_result"
    }
   ],
   "source": [
    "features"
   ]
  },
  {
   "cell_type": "code",
   "execution_count": 23,
   "id": "404f0fba-d4b9-4e4a-95fe-02587519c0c7",
   "metadata": {},
   "outputs": [],
   "source": [
    "label = [\"QTY\"]"
   ]
  },
  {
   "cell_type": "code",
   "execution_count": 24,
   "id": "8f1bc80d-fabc-425a-93e6-b9ddde2b78c7",
   "metadata": {},
   "outputs": [],
   "source": [
    "## 데이터 분리"
   ]
  },
  {
   "cell_type": "code",
   "execution_count": 25,
   "id": "603d938a-df86-4a4d-9067-f981a4b2b459",
   "metadata": {},
   "outputs": [],
   "source": [
    "stdRatio = 0.7"
   ]
  },
  {
   "cell_type": "code",
   "execution_count": 26,
   "id": "6874c712-3b38-4fc1-8b9c-0d6571629708",
   "metadata": {},
   "outputs": [],
   "source": [
    "stdIndex = int(featuresData.shape[0] * stdRatio)"
   ]
  },
  {
   "cell_type": "code",
   "execution_count": 27,
   "id": "83c6e68f-5f69-48a3-8c89-3262d1e205fb",
   "metadata": {},
   "outputs": [
    {
     "data": {
      "text/plain": [
       "73"
      ]
     },
     "execution_count": 27,
     "metadata": {},
     "output_type": "execute_result"
    }
   ],
   "source": [
    "stdIndex"
   ]
  },
  {
   "cell_type": "code",
   "execution_count": 28,
   "id": "3627545d-0276-407f-ba46-e320bbb794c5",
   "metadata": {},
   "outputs": [],
   "source": [
    "trainingData = featuresData.loc[0:stdIndex, :]\n",
    "testData = featuresData.loc[stdIndex+1:, :]"
   ]
  },
  {
   "cell_type": "code",
   "execution_count": 29,
   "id": "c90c6af0-d1fa-4246-871d-fa0428fc4b2f",
   "metadata": {},
   "outputs": [
    {
     "name": "stdout",
     "output_type": "stream",
     "text": [
      "(74, 14)\n",
      "(31, 14)\n"
     ]
    }
   ],
   "source": [
    "print(trainingData.shape)\n",
    "print(testData.shape)"
   ]
  },
  {
   "cell_type": "code",
   "execution_count": 30,
   "id": "00ec4bf5-6607-47a0-b3c7-dc6f9db61b09",
   "metadata": {},
   "outputs": [],
   "source": [
    "trainingDataFeatures = featuresData.loc[0:stdIndex, features]\n",
    "trainingDataLabel = featuresData.loc[0:stdIndex, label]\n",
    "testDataFeatures = featuresData.loc[stdIndex+1:, features]\n",
    "testDataLabel = featuresData.loc[stdIndex+1:, label]"
   ]
  },
  {
   "cell_type": "code",
   "execution_count": 31,
   "id": "3e802821-6bc4-4121-9350-251fac58332d",
   "metadata": {},
   "outputs": [
    {
     "name": "stdout",
     "output_type": "stream",
     "text": [
      "(74, 4)\n",
      "(74, 1)\n",
      "--------------------\n",
      "(31, 4)\n",
      "(31, 1)\n"
     ]
    }
   ],
   "source": [
    "print(trainingDataFeatures.shape)\n",
    "print(trainingDataLabel.shape)\n",
    "print(\"--------------------\")\n",
    "print(testDataFeatures.shape)\n",
    "print(testDataLabel.shape)"
   ]
  },
  {
   "cell_type": "code",
   "execution_count": 32,
   "id": "06ea8394-e9b0-4a41-a29b-d05fd575c370",
   "metadata": {},
   "outputs": [],
   "source": [
    "# B. 모델적용"
   ]
  },
  {
   "cell_type": "code",
   "execution_count": 33,
   "id": "bb091595-5974-4ad8-9c1b-553cfec0d174",
   "metadata": {},
   "outputs": [],
   "source": [
    "# b-3. 모델적용"
   ]
  },
  {
   "cell_type": "code",
   "execution_count": 34,
   "id": "da18d685-dce8-48f6-b203-7d2e46ae83b7",
   "metadata": {},
   "outputs": [],
   "source": [
    "# 알고리즘을 고정시킴으로써 예측값을 재현 가능하게 해줌\n",
    "dtModel = tree.DecisionTreeRegressor(random_state=10)"
   ]
  },
  {
   "cell_type": "code",
   "execution_count": 35,
   "id": "dd9a1947-4192-47a3-8580-d0771d432fbc",
   "metadata": {},
   "outputs": [],
   "source": [
    "# 알고리즘을 고정시킴으로써 예측값을 재현 가능하게 해줌\n",
    "rfModel = ensemble.RandomForestRegressor(random_state=11)"
   ]
  },
  {
   "cell_type": "code",
   "execution_count": 36,
   "id": "b5169d61-f62d-4b9b-bd4b-7947144d390e",
   "metadata": {},
   "outputs": [],
   "source": [
    "model = dtModel.fit(X=trainingDataFeatures,\n",
    "                    y=trainingDataLabel)"
   ]
  },
  {
   "cell_type": "code",
   "execution_count": 37,
   "id": "cdd25f1c-f75b-4478-8b06-55fa602438f5",
   "metadata": {},
   "outputs": [
    {
     "name": "stderr",
     "output_type": "stream",
     "text": [
      "C:\\Users\\SMART01\\AppData\\Local\\Temp\\ipykernel_8636\\1426860594.py:1: DataConversionWarning: A column-vector y was passed when a 1d array was expected. Please change the shape of y to (n_samples,), for example using ravel().\n",
      "  model2 = rfModel.fit(X=trainingDataFeatures,\n"
     ]
    }
   ],
   "source": [
    "model2 = rfModel.fit(X=trainingDataFeatures,\n",
    "                    y=trainingDataLabel)"
   ]
  },
  {
   "cell_type": "code",
   "execution_count": 38,
   "id": "b6ea4a1d-fec8-494b-826b-070fcbb273f7",
   "metadata": {},
   "outputs": [],
   "source": [
    "# c. 예측/검증"
   ]
  },
  {
   "cell_type": "code",
   "execution_count": 39,
   "id": "61a91872-6ccf-4fb2-8ba3-a12f14105ea8",
   "metadata": {},
   "outputs": [],
   "source": [
    "# c-4 예측"
   ]
  },
  {
   "cell_type": "code",
   "execution_count": 40,
   "id": "14f1cc5e-98ca-4e82-92af-fd73dbe29195",
   "metadata": {},
   "outputs": [],
   "source": [
    "predictRf = model2.predict(X = testDataFeatures)"
   ]
  },
  {
   "cell_type": "code",
   "execution_count": 41,
   "id": "02f6118d-8509-4b6a-a227-b5378044d65c",
   "metadata": {},
   "outputs": [],
   "source": [
    "predict = model.predict(X = testDataFeatures)"
   ]
  },
  {
   "cell_type": "code",
   "execution_count": 42,
   "id": "8c6d2a81-584f-4b71-b010-bfbd27f41f83",
   "metadata": {},
   "outputs": [
    {
     "data": {
      "text/plain": [
       "31"
      ]
     },
     "execution_count": 42,
     "metadata": {},
     "output_type": "execute_result"
    }
   ],
   "source": [
    "len(predict)"
   ]
  },
  {
   "cell_type": "code",
   "execution_count": 43,
   "id": "0cf24bef-5d5c-42f0-971d-e97d280173a5",
   "metadata": {},
   "outputs": [
    {
     "data": {
      "text/plain": [
       "array([2676.83333333, 2676.83333333,  367.2       , 2676.83333333,\n",
       "       2676.83333333, 2676.83333333, 2676.83333333, 2676.83333333,\n",
       "       2676.83333333, 2676.83333333, 2676.83333333,  367.2       ,\n",
       "       2676.83333333, 2676.83333333, 2676.83333333, 2676.83333333,\n",
       "       2676.83333333, 2676.83333333, 2676.83333333, 2676.83333333,\n",
       "       2676.83333333,  367.2       , 2193.8       , 2193.8       ,\n",
       "       2193.8       , 2193.8       , 2193.8       , 2193.8       ,\n",
       "       2193.8       , 2193.8       , 2193.8       ])"
      ]
     },
     "execution_count": 43,
     "metadata": {},
     "output_type": "execute_result"
    }
   ],
   "source": [
    "predict"
   ]
  },
  {
   "cell_type": "code",
   "execution_count": 44,
   "id": "22e335c4-fc8b-4fdb-880d-c16450c575dc",
   "metadata": {},
   "outputs": [],
   "source": [
    "# c-5 데이터 정리"
   ]
  },
  {
   "cell_type": "code",
   "execution_count": 45,
   "id": "47d5c5c2-2cab-4016-bb0b-07ba69ee4e2e",
   "metadata": {},
   "outputs": [],
   "source": [
    "testDataLabel[\"PREDICT_DT\"] = predict\n",
    "testDataLabel[\"PREDICT_RF\"] = predictRf"
   ]
  },
  {
   "cell_type": "code",
   "execution_count": 46,
   "id": "c1199b32-7568-41c2-8524-8369f48cbce6",
   "metadata": {
    "tags": []
   },
   "outputs": [
    {
     "data": {
      "text/html": [
       "<div>\n",
       "<style scoped>\n",
       "    .dataframe tbody tr th:only-of-type {\n",
       "        vertical-align: middle;\n",
       "    }\n",
       "\n",
       "    .dataframe tbody tr th {\n",
       "        vertical-align: top;\n",
       "    }\n",
       "\n",
       "    .dataframe thead th {\n",
       "        text-align: right;\n",
       "    }\n",
       "</style>\n",
       "<table border=\"1\" class=\"dataframe\">\n",
       "  <thead>\n",
       "    <tr style=\"text-align: right;\">\n",
       "      <th></th>\n",
       "      <th>QTY</th>\n",
       "      <th>PREDICT_DT</th>\n",
       "      <th>PREDICT_RF</th>\n",
       "    </tr>\n",
       "  </thead>\n",
       "  <tbody>\n",
       "    <tr>\n",
       "      <th>74</th>\n",
       "      <td>2282</td>\n",
       "      <td>2676.833333</td>\n",
       "      <td>2677.670950</td>\n",
       "    </tr>\n",
       "    <tr>\n",
       "      <th>75</th>\n",
       "      <td>973</td>\n",
       "      <td>2676.833333</td>\n",
       "      <td>2312.894694</td>\n",
       "    </tr>\n",
       "    <tr>\n",
       "      <th>76</th>\n",
       "      <td>21</td>\n",
       "      <td>367.200000</td>\n",
       "      <td>366.318105</td>\n",
       "    </tr>\n",
       "    <tr>\n",
       "      <th>77</th>\n",
       "      <td>968</td>\n",
       "      <td>2676.833333</td>\n",
       "      <td>2677.670950</td>\n",
       "    </tr>\n",
       "    <tr>\n",
       "      <th>78</th>\n",
       "      <td>1685</td>\n",
       "      <td>2676.833333</td>\n",
       "      <td>2677.670950</td>\n",
       "    </tr>\n",
       "    <tr>\n",
       "      <th>79</th>\n",
       "      <td>1586</td>\n",
       "      <td>2676.833333</td>\n",
       "      <td>2677.670950</td>\n",
       "    </tr>\n",
       "    <tr>\n",
       "      <th>80</th>\n",
       "      <td>1616</td>\n",
       "      <td>2676.833333</td>\n",
       "      <td>2677.670950</td>\n",
       "    </tr>\n",
       "    <tr>\n",
       "      <th>81</th>\n",
       "      <td>1318</td>\n",
       "      <td>2676.833333</td>\n",
       "      <td>2677.670950</td>\n",
       "    </tr>\n",
       "    <tr>\n",
       "      <th>82</th>\n",
       "      <td>2240</td>\n",
       "      <td>2676.833333</td>\n",
       "      <td>2312.894694</td>\n",
       "    </tr>\n",
       "    <tr>\n",
       "      <th>83</th>\n",
       "      <td>1522</td>\n",
       "      <td>2676.833333</td>\n",
       "      <td>2312.894694</td>\n",
       "    </tr>\n",
       "    <tr>\n",
       "      <th>84</th>\n",
       "      <td>2100</td>\n",
       "      <td>2676.833333</td>\n",
       "      <td>2312.894694</td>\n",
       "    </tr>\n",
       "    <tr>\n",
       "      <th>85</th>\n",
       "      <td>43</td>\n",
       "      <td>367.200000</td>\n",
       "      <td>366.318105</td>\n",
       "    </tr>\n",
       "    <tr>\n",
       "      <th>86</th>\n",
       "      <td>1700</td>\n",
       "      <td>2676.833333</td>\n",
       "      <td>2677.670950</td>\n",
       "    </tr>\n",
       "    <tr>\n",
       "      <th>87</th>\n",
       "      <td>1514</td>\n",
       "      <td>2676.833333</td>\n",
       "      <td>2677.670950</td>\n",
       "    </tr>\n",
       "    <tr>\n",
       "      <th>88</th>\n",
       "      <td>1501</td>\n",
       "      <td>2676.833333</td>\n",
       "      <td>2677.670950</td>\n",
       "    </tr>\n",
       "    <tr>\n",
       "      <th>89</th>\n",
       "      <td>1491</td>\n",
       "      <td>2676.833333</td>\n",
       "      <td>2312.894694</td>\n",
       "    </tr>\n",
       "    <tr>\n",
       "      <th>90</th>\n",
       "      <td>806</td>\n",
       "      <td>2676.833333</td>\n",
       "      <td>2312.894694</td>\n",
       "    </tr>\n",
       "    <tr>\n",
       "      <th>91</th>\n",
       "      <td>2111</td>\n",
       "      <td>2676.833333</td>\n",
       "      <td>2312.894694</td>\n",
       "    </tr>\n",
       "    <tr>\n",
       "      <th>92</th>\n",
       "      <td>2400</td>\n",
       "      <td>2676.833333</td>\n",
       "      <td>2312.894694</td>\n",
       "    </tr>\n",
       "    <tr>\n",
       "      <th>93</th>\n",
       "      <td>2010</td>\n",
       "      <td>2676.833333</td>\n",
       "      <td>2470.361398</td>\n",
       "    </tr>\n",
       "    <tr>\n",
       "      <th>94</th>\n",
       "      <td>1900</td>\n",
       "      <td>2676.833333</td>\n",
       "      <td>2312.894694</td>\n",
       "    </tr>\n",
       "    <tr>\n",
       "      <th>95</th>\n",
       "      <td>141</td>\n",
       "      <td>367.200000</td>\n",
       "      <td>366.318105</td>\n",
       "    </tr>\n",
       "    <tr>\n",
       "      <th>96</th>\n",
       "      <td>1615</td>\n",
       "      <td>2193.800000</td>\n",
       "      <td>2131.789990</td>\n",
       "    </tr>\n",
       "    <tr>\n",
       "      <th>97</th>\n",
       "      <td>1574</td>\n",
       "      <td>2193.800000</td>\n",
       "      <td>2131.789990</td>\n",
       "    </tr>\n",
       "    <tr>\n",
       "      <th>98</th>\n",
       "      <td>1800</td>\n",
       "      <td>2193.800000</td>\n",
       "      <td>2131.789990</td>\n",
       "    </tr>\n",
       "    <tr>\n",
       "      <th>99</th>\n",
       "      <td>2600</td>\n",
       "      <td>2193.800000</td>\n",
       "      <td>2131.789990</td>\n",
       "    </tr>\n",
       "    <tr>\n",
       "      <th>100</th>\n",
       "      <td>2412</td>\n",
       "      <td>2193.800000</td>\n",
       "      <td>2131.789990</td>\n",
       "    </tr>\n",
       "    <tr>\n",
       "      <th>101</th>\n",
       "      <td>1955</td>\n",
       "      <td>2193.800000</td>\n",
       "      <td>2140.230535</td>\n",
       "    </tr>\n",
       "    <tr>\n",
       "      <th>102</th>\n",
       "      <td>1800</td>\n",
       "      <td>2193.800000</td>\n",
       "      <td>2140.230535</td>\n",
       "    </tr>\n",
       "    <tr>\n",
       "      <th>103</th>\n",
       "      <td>1173</td>\n",
       "      <td>2193.800000</td>\n",
       "      <td>2140.230535</td>\n",
       "    </tr>\n",
       "    <tr>\n",
       "      <th>104</th>\n",
       "      <td>332</td>\n",
       "      <td>2193.800000</td>\n",
       "      <td>2454.943204</td>\n",
       "    </tr>\n",
       "  </tbody>\n",
       "</table>\n",
       "</div>"
      ],
      "text/plain": [
       "      QTY   PREDICT_DT   PREDICT_RF\n",
       "74   2282  2676.833333  2677.670950\n",
       "75    973  2676.833333  2312.894694\n",
       "76     21   367.200000   366.318105\n",
       "77    968  2676.833333  2677.670950\n",
       "78   1685  2676.833333  2677.670950\n",
       "79   1586  2676.833333  2677.670950\n",
       "80   1616  2676.833333  2677.670950\n",
       "81   1318  2676.833333  2677.670950\n",
       "82   2240  2676.833333  2312.894694\n",
       "83   1522  2676.833333  2312.894694\n",
       "84   2100  2676.833333  2312.894694\n",
       "85     43   367.200000   366.318105\n",
       "86   1700  2676.833333  2677.670950\n",
       "87   1514  2676.833333  2677.670950\n",
       "88   1501  2676.833333  2677.670950\n",
       "89   1491  2676.833333  2312.894694\n",
       "90    806  2676.833333  2312.894694\n",
       "91   2111  2676.833333  2312.894694\n",
       "92   2400  2676.833333  2312.894694\n",
       "93   2010  2676.833333  2470.361398\n",
       "94   1900  2676.833333  2312.894694\n",
       "95    141   367.200000   366.318105\n",
       "96   1615  2193.800000  2131.789990\n",
       "97   1574  2193.800000  2131.789990\n",
       "98   1800  2193.800000  2131.789990\n",
       "99   2600  2193.800000  2131.789990\n",
       "100  2412  2193.800000  2131.789990\n",
       "101  1955  2193.800000  2140.230535\n",
       "102  1800  2193.800000  2140.230535\n",
       "103  1173  2193.800000  2140.230535\n",
       "104   332  2193.800000  2454.943204"
      ]
     },
     "execution_count": 46,
     "metadata": {},
     "output_type": "execute_result"
    }
   ],
   "source": [
    "testDataLabel"
   ]
  },
  {
   "cell_type": "code",
   "execution_count": 47,
   "id": "e0ee66a4-310d-4885-a5b1-1fbd4e2dda4b",
   "metadata": {},
   "outputs": [],
   "source": [
    "## 미래 예측"
   ]
  },
  {
   "cell_type": "code",
   "execution_count": 48,
   "id": "3563e3ae-0d86-461d-b9ae-afd042bebcb1",
   "metadata": {},
   "outputs": [
    {
     "data": {
      "text/plain": [
       "['HCLUS', 'PRO_PERCENT', 'PROMOTION_LB', 'HOLIDAY_LB']"
      ]
     },
     "execution_count": 48,
     "metadata": {},
     "output_type": "execute_result"
    }
   ],
   "source": [
    "features"
   ]
  },
  {
   "cell_type": "code",
   "execution_count": 49,
   "id": "d7779100-ba9a-4b9b-ae42-5fe08162f7f9",
   "metadata": {},
   "outputs": [],
   "source": [
    "inputHclus = 4 # 대휴일은 1 소휴일은 4\n",
    "inputProPercent = 0 # 프로모션 비율\n",
    "inputPromotionLb = 0 # 프로모션 적용 Y\n",
    "inputHlb = 0 # 홀리데이 적용 Y"
   ]
  },
  {
   "cell_type": "code",
   "execution_count": 50,
   "id": "0beffdce-ffb4-41bf-b880-454cd9724f7d",
   "metadata": {},
   "outputs": [],
   "source": [
    "testData = pd.DataFrame([ [inputHclus,inputProPercent,inputPromotionLb,inputHlb] ])"
   ]
  },
  {
   "cell_type": "code",
   "execution_count": 51,
   "id": "5d092904-12f0-42c7-aee0-4546b5f273aa",
   "metadata": {},
   "outputs": [
    {
     "name": "stderr",
     "output_type": "stream",
     "text": [
      "C:\\Users\\SMART01\\anaconda3\\lib\\site-packages\\sklearn\\base.py:450: UserWarning: X does not have valid feature names, but DecisionTreeRegressor was fitted with feature names\n",
      "  warnings.warn(\n"
     ]
    },
    {
     "data": {
      "text/plain": [
       "array([367.2])"
      ]
     },
     "execution_count": 51,
     "metadata": {},
     "output_type": "execute_result"
    }
   ],
   "source": [
    "dtModel.predict(testData)"
   ]
  },
  {
   "cell_type": "code",
   "execution_count": null,
   "id": "dcb5fb33-99b9-438c-b5f9-1522edbf18df",
   "metadata": {},
   "outputs": [],
   "source": []
  }
 ],
 "metadata": {
  "kernelspec": {
   "display_name": "Python 3 (ipykernel)",
   "language": "python",
   "name": "python3"
  },
  "language_info": {
   "codemirror_mode": {
    "name": "ipython",
    "version": 3
   },
   "file_extension": ".py",
   "mimetype": "text/x-python",
   "name": "python",
   "nbconvert_exporter": "python",
   "pygments_lexer": "ipython3",
   "version": "3.9.13"
  }
 },
 "nbformat": 4,
 "nbformat_minor": 5
}
