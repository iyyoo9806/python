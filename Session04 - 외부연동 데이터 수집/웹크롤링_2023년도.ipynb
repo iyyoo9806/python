{
 "cells": [
  {
   "cell_type": "code",
   "execution_count": 2,
   "id": "3ba05538-7082-431e-ba25-d5e26ca98aa6",
   "metadata": {},
   "outputs": [],
   "source": [
    "import pandas as pd\n",
    "\n",
    "import bs4, requests\n",
    "\n",
    "targetUrl = \"https://finance.naver.com/\"\n",
    "\n",
    "try :\n",
    "    resp = requests.get(targetUrl)\n",
    "except Exception as e:\n",
    "    print(e)\n",
    "\n",
    "webPageSrc = resp.text"
   ]
  },
  {
   "cell_type": "code",
   "execution_count": 3,
   "id": "b8c214ca-4f99-487b-ab1a-5dc7deda7aab",
   "metadata": {},
   "outputs": [],
   "source": [
    "### 태그정보 수집하기\n",
    "\n",
    "htmlObj = bs4.BeautifulSoup(webPageSrc, \"html.parser\")\n",
    "\n",
    "div = htmlObj.find(name = \"div\", attrs ={\"class\" : \"aside_area aside_popular\"})\n",
    "\n",
    "table = div.find(name = \"table\", attrs ={\"class\" : \"tbl_home\"})\n",
    "\n",
    "tbody = table.find(name = \"tbody\")\n",
    "\n",
    "trLinks = tbody.findAll(name =\"tr\")"
   ]
  },
  {
   "cell_type": "code",
   "execution_count": 4,
   "id": "5fb72c12-1f74-41e0-a69d-523966b6873f",
   "metadata": {},
   "outputs": [
    {
     "data": {
      "text/plain": [
       "<tr class=\"up\">\n",
       "<th scope=\"row\"><em>2.</em><a href=\"/item/main.naver?code=000990\" onclick=\"clickcr(this, 'boa.list', '000990', '2', event);\">DB하이텍</a></th>\n",
       "<td>72,300</td>\n",
       "<td> <img alt=\"상승\" height=\"6\" src=\"https://ssl.pstatic.net/imgstock/images/images4/ico_up.gif\" style=\"margin-right:4px;\" width=\"7\"/><span class=\"tah p11 red02\"> 11,200 </span> </td>\n",
       "</tr>"
      ]
     },
     "execution_count": 4,
     "metadata": {},
     "output_type": "execute_result"
    }
   ],
   "source": [
    "trLinks[1]"
   ]
  },
  {
   "cell_type": "code",
   "execution_count": 5,
   "id": "45e1b732-bb91-4635-89bf-bc2522438447",
   "metadata": {},
   "outputs": [],
   "source": [
    "trLinksLen = len(trLinks)"
   ]
  },
  {
   "cell_type": "code",
   "execution_count": 6,
   "id": "1c831d43-72c0-4fb5-8fdb-5490c7accc30",
   "metadata": {},
   "outputs": [],
   "source": [
    "### 한 값 행 리스트와 전체 행 값 리스트 선언\n",
    "columnList = []\n",
    "dataList = []"
   ]
  },
  {
   "cell_type": "code",
   "execution_count": 7,
   "id": "c0ec975f-dd6f-42da-a1c4-61f5540c0594",
   "metadata": {},
   "outputs": [],
   "source": [
    "financeName = trLinks[0].attrs[\"class\"]"
   ]
  },
  {
   "cell_type": "code",
   "execution_count": 8,
   "id": "ac64d262-c6ad-42f3-87da-c4dbf56f2905",
   "metadata": {},
   "outputs": [
    {
     "data": {
      "text/plain": [
       "['down']"
      ]
     },
     "execution_count": 8,
     "metadata": {},
     "output_type": "execute_result"
    }
   ],
   "source": [
    "financeName"
   ]
  },
  {
   "cell_type": "code",
   "execution_count": null,
   "id": "f9a5625b-bbac-45d5-9ec3-91c8bed75c7c",
   "metadata": {},
   "outputs": [],
   "source": [
    "### 반복문 작성\n",
    "### 이름, 상승/하락, 가격, 가격등락 링크\n",
    "for i in range(0,len(trLinks)):\n",
    "    financeName = trLinks[i].text\n",
    "    financeUpDown = trLinks[i].attrs[\"class\"]\n",
    "    financeUpPirce = trLinks[i].name\n",
    "    financeUpLink = trLinks[i].attrs[\"href\"]"
   ]
  },
  {
   "cell_type": "code",
   "execution_count": 18,
   "id": "256ac2ac-bb0f-4d71-9e43-4f0319736ec6",
   "metadata": {
    "tags": []
   },
   "outputs": [
    {
     "data": {
      "text/plain": [
       "[]"
      ]
     },
     "execution_count": 18,
     "metadata": {},
     "output_type": "execute_result"
    }
   ],
   "source": []
  },
  {
   "cell_type": "code",
   "execution_count": 51,
   "id": "11ca64a7-428c-49ff-a761-0d2905e57b8a",
   "metadata": {},
   "outputs": [],
   "source": [
    "aTagFirst = htmlObj.find(name =\"tr\")"
   ]
  },
  {
   "cell_type": "code",
   "execution_count": 52,
   "id": "693d7c03-a87f-498f-a2bf-cc38f5b7bf9a",
   "metadata": {},
   "outputs": [
    {
     "data": {
      "text/plain": [
       "<tr>\n",
       "<th scope=\"col\">종목명</th>\n",
       "<th scope=\"col\">현재가</th>\n",
       "<th scope=\"col\">전일대비</th>\n",
       "<th scope=\"col\">등락률</th>\n",
       "</tr>"
      ]
     },
     "execution_count": 52,
     "metadata": {},
     "output_type": "execute_result"
    }
   ],
   "source": [
    "aTagFirst"
   ]
  },
  {
   "cell_type": "code",
   "execution_count": 51,
   "id": "fdab6ac2-8527-409b-a22f-3623495faa92",
   "metadata": {},
   "outputs": [
    {
     "data": {
      "text/plain": [
       "str"
      ]
     },
     "execution_count": 51,
     "metadata": {},
     "output_type": "execute_result"
    }
   ],
   "source": [
    "type(aTagFirst.text)"
   ]
  },
  {
   "cell_type": "code",
   "execution_count": 53,
   "id": "945f4e0f-f44d-4fa3-b083-149b5d18582e",
   "metadata": {},
   "outputs": [
    {
     "data": {
      "text/plain": [
       "'컨텐츠로 건너뛰기'"
      ]
     },
     "execution_count": 53,
     "metadata": {},
     "output_type": "execute_result"
    }
   ],
   "source": [
    "aTagFirst.text"
   ]
  },
  {
   "cell_type": "code",
   "execution_count": 52,
   "id": "64315d13-90ab-4e85-bb64-01674149644b",
   "metadata": {},
   "outputs": [
    {
     "data": {
      "text/plain": [
       "str"
      ]
     },
     "execution_count": 52,
     "metadata": {},
     "output_type": "execute_result"
    }
   ],
   "source": [
    "type( aTagFirst.attrs[\"href\"] )"
   ]
  },
  {
   "cell_type": "code",
   "execution_count": 54,
   "id": "817bea81-4c87-4cd1-81cb-6c79594b9b98",
   "metadata": {},
   "outputs": [
    {
     "data": {
      "text/plain": [
       "'#content'"
      ]
     },
     "execution_count": 54,
     "metadata": {},
     "output_type": "execute_result"
    }
   ],
   "source": [
    "aTagFirst.attrs[\"href\"]"
   ]
  },
  {
   "cell_type": "code",
   "execution_count": 46,
   "id": "026c2ea0-5998-45bd-aa81-ee05b6c026e0",
   "metadata": {},
   "outputs": [
    {
     "data": {
      "text/plain": [
       "<div class=\"site-info\">\n",
       "<a href=\"https://wordpress.com/?ref=footer_segment_business\" rel=\"nofollow\">워드프레스닷컴 웹사이트.</a>\n",
       "</div>"
      ]
     },
     "execution_count": 46,
     "metadata": {},
     "output_type": "execute_result"
    }
   ],
   "source": [
    "divs[16]"
   ]
  },
  {
   "cell_type": "code",
   "execution_count": null,
   "id": "254baba4-6a51-421b-8d0b-300643a29c82",
   "metadata": {},
   "outputs": [],
   "source": [
    "div = htmlObj.find(name = \"div\")"
   ]
  },
  {
   "cell_type": "code",
   "execution_count": null,
   "id": "2b3d4533-2a73-4e56-8cb2-7dd16e64c2c4",
   "metadata": {},
   "outputs": [],
   "source": []
  },
  {
   "cell_type": "code",
   "execution_count": null,
   "id": "84a15422-e38c-4f7e-8b5b-02d56bc1b7aa",
   "metadata": {},
   "outputs": [],
   "source": [
    "aTags = htmlObj.findAll(name =\"a\")"
   ]
  },
  {
   "cell_type": "code",
   "execution_count": null,
   "id": "0a91feca-85e9-49a7-8466-297df8a08b30",
   "metadata": {},
   "outputs": [],
   "source": [
    "for i in range(0, len(aTags)):\n",
    "    try:\n",
    "        linkList.append(aTags[i].attrs[\"href\"])\n",
    "    except Exception as e:\n",
    "        print(e)"
   ]
  },
  {
   "cell_type": "code",
   "execution_count": null,
   "id": "d38c4a0f-4d47-45bc-94ce-7575f574e974",
   "metadata": {},
   "outputs": [],
   "source": [
    "### 속성값을 활용해서 태그정보를 수집하자!"
   ]
  },
  {
   "cell_type": "code",
   "execution_count": null,
   "id": "8a3e9e7c-3acc-4c98-b667-b51df94d9d8a",
   "metadata": {},
   "outputs": [],
   "source": [
    "#딕셔너리 (KEY, VALUE) 타입\n",
    "#\n",
    "{\"ID\" : \"ID_SPARK_QUIZ\"}"
   ]
  },
  {
   "cell_type": "code",
   "execution_count": 58,
   "id": "b8107339-2751-486c-adeb-85c1b4035944",
   "metadata": {},
   "outputs": [],
   "source": [
    "testDict = {\"address\":\"seoul\",\n",
    "            \"name\":\"haiteam\"}"
   ]
  },
  {
   "cell_type": "code",
   "execution_count": 59,
   "id": "28c815ed-f3b6-49ae-acd2-0b82a776e2da",
   "metadata": {},
   "outputs": [
    {
     "data": {
      "text/plain": [
       "'seoul'"
      ]
     },
     "execution_count": 59,
     "metadata": {},
     "output_type": "execute_result"
    }
   ],
   "source": [
    "testDict[\"address\"]"
   ]
  },
  {
   "cell_type": "code",
   "execution_count": 60,
   "id": "25f3b414-5b7f-43bf-92d1-717c144347fd",
   "metadata": {},
   "outputs": [],
   "source": [
    "targetDiv = htmlObj.find(name = \"div\", attrs ={\"id\" : \"id_spark_quiz\"})"
   ]
  },
  {
   "cell_type": "code",
   "execution_count": 63,
   "id": "91341dac-b594-4512-ab46-644c4127eff9",
   "metadata": {},
   "outputs": [],
   "source": [
    "aLinks = targetDiv.findAll(name =\"a\")"
   ]
  },
  {
   "cell_type": "code",
   "execution_count": 67,
   "id": "43b05672-036e-4ece-84fb-838fb89e9db3",
   "metadata": {},
   "outputs": [],
   "source": [
    "quizName = aLinks[0].text"
   ]
  },
  {
   "cell_type": "code",
   "execution_count": 69,
   "id": "891fe6bd-fa6a-42c4-b6f1-6348d8adb437",
   "metadata": {},
   "outputs": [],
   "source": [
    "quizLink = aLinks[0].attrs[\"href\"]"
   ]
  },
  {
   "cell_type": "code",
   "execution_count": 70,
   "id": "a696ca1f-5112-403d-a2ee-7f809b92ba97",
   "metadata": {},
   "outputs": [
    {
     "data": {
      "text/plain": [
       "'https://forms.gle/Fw49w9GhWQChDcZm7'"
      ]
     },
     "execution_count": 70,
     "metadata": {},
     "output_type": "execute_result"
    }
   ],
   "source": [
    "quizLink"
   ]
  },
  {
   "cell_type": "code",
   "execution_count": 71,
   "id": "338d05d1-c15f-4283-81b8-841dec7f7c7a",
   "metadata": {},
   "outputs": [],
   "source": [
    "aLinksLen = len(aLinks)"
   ]
  },
  {
   "cell_type": "code",
   "execution_count": 73,
   "id": "f62bd095-72f3-4981-bc29-54a332274dfe",
   "metadata": {},
   "outputs": [],
   "source": [
    "nameList = []\n",
    "linkList = []"
   ]
  },
  {
   "cell_type": "code",
   "execution_count": 75,
   "id": "20b6d70b-bd4a-4776-81a7-ebb032e6237e",
   "metadata": {},
   "outputs": [],
   "source": [
    "for i in range(0, aLinksLen):\n",
    "    #퀴즈 이름 및 링크 정보 수집\n",
    "    quizName = aLinks[i].text\n",
    "    quizLink = aLinks[i].attrs[\"href\"]\n",
    "    # 리스트에 수집한 값 append\n",
    "    nameList.append(quizName)\n",
    "    linkList.append(quizLink)"
   ]
  },
  {
   "cell_type": "code",
   "execution_count": 76,
   "id": "2e210433-74fb-4a9c-bd15-4446a85d6454",
   "metadata": {},
   "outputs": [],
   "source": [
    "result = pd.DataFrame( zip (nameList, linkList), columns = [\"퀴즈이름\",\"퀴즈링크\"])"
   ]
  },
  {
   "cell_type": "code",
   "execution_count": 77,
   "id": "ae851f7a-0e42-4e70-bd97-c5e457ad15ac",
   "metadata": {},
   "outputs": [
    {
     "data": {
      "text/html": [
       "<div>\n",
       "<style scoped>\n",
       "    .dataframe tbody tr th:only-of-type {\n",
       "        vertical-align: middle;\n",
       "    }\n",
       "\n",
       "    .dataframe tbody tr th {\n",
       "        vertical-align: top;\n",
       "    }\n",
       "\n",
       "    .dataframe thead th {\n",
       "        text-align: right;\n",
       "    }\n",
       "</style>\n",
       "<table border=\"1\" class=\"dataframe\">\n",
       "  <thead>\n",
       "    <tr style=\"text-align: right;\">\n",
       "      <th></th>\n",
       "      <th>퀴즈이름</th>\n",
       "      <th>퀴즈링크</th>\n",
       "    </tr>\n",
       "  </thead>\n",
       "  <tbody>\n",
       "    <tr>\n",
       "      <th>0</th>\n",
       "      <td>6/13 Spark 심화과정</td>\n",
       "      <td>https://forms.gle/Fw49w9GhWQChDcZm7</td>\n",
       "    </tr>\n",
       "    <tr>\n",
       "      <th>1</th>\n",
       "      <td>6/13 Spark 심화과정</td>\n",
       "      <td>https://forms.gle/G4TcXm3fKuHLHA6D6</td>\n",
       "    </tr>\n",
       "    <tr>\n",
       "      <th>2</th>\n",
       "      <td>6/13 Spark 기본과정</td>\n",
       "      <td>https://forms.gle/M8gr1kC2ubA3UDVp8</td>\n",
       "    </tr>\n",
       "    <tr>\n",
       "      <th>3</th>\n",
       "      <td>6/18 Spark [MAP_FILTER]</td>\n",
       "      <td>https://forms.gle/h8w5mZ4MNaPLCPbi6</td>\n",
       "    </tr>\n",
       "    <tr>\n",
       "      <th>4</th>\n",
       "      <td>6/18 Spark GroupBy 심화</td>\n",
       "      <td>https://forms.gle/q5yL6QHfueDLM5w27</td>\n",
       "    </tr>\n",
       "    <tr>\n",
       "      <th>5</th>\n",
       "      <td>6/25 Spark RDD 실전 분석</td>\n",
       "      <td>https://forms.gle/Gxb4y6LfVYiaLu4M7</td>\n",
       "    </tr>\n",
       "  </tbody>\n",
       "</table>\n",
       "</div>"
      ],
      "text/plain": [
       "                        퀴즈이름                                 퀴즈링크\n",
       "0           6/13 Spark 심화과정   https://forms.gle/Fw49w9GhWQChDcZm7\n",
       "1           6/13 Spark 심화과정   https://forms.gle/G4TcXm3fKuHLHA6D6\n",
       "2           6/13 Spark 기본과정   https://forms.gle/M8gr1kC2ubA3UDVp8\n",
       "3   6/18 Spark [MAP_FILTER]   https://forms.gle/h8w5mZ4MNaPLCPbi6\n",
       "4     6/18 Spark GroupBy 심화   https://forms.gle/q5yL6QHfueDLM5w27\n",
       "5      6/25 Spark RDD 실전 분석   https://forms.gle/Gxb4y6LfVYiaLu4M7"
      ]
     },
     "execution_count": 77,
     "metadata": {},
     "output_type": "execute_result"
    }
   ],
   "source": [
    "result"
   ]
  },
  {
   "cell_type": "code",
   "execution_count": 84,
   "id": "0cf7146d-c217-45bf-9a67-7b1526d583ad",
   "metadata": {},
   "outputs": [],
   "source": [
    "import bs4, requests\n",
    "\n",
    "targetUrl = \"https://sparkkorea.com/%ed%80%b4%ec%a6%88/\"\n",
    "\n",
    "try :\n",
    "    resp = requests.get(targetUrl)\n",
    "except Exception as e:\n",
    "    print(e)\n",
    "\n",
    "htmlObj = bs4.BeautifulSoup(webPageSrc, \"html.parser\")\n",
    "\n",
    "targetDiv = htmlObj.find(name = \"div\", attrs ={\"id\" : \"id_spark_quiz\"})\n",
    "\n",
    "aLinks = targetDiv.findAll(name =\"a\")\n",
    "\n",
    "rowList = []\n",
    "\n",
    "for i in range (0,aLinksLen):\n",
    "    quizText = aLinks[i].text\n",
    "    quizAttrs = aLinks[i].attrs[\"href\"]\n",
    "    rowList.append([quizText,quizAttrs])\n",
    "\n",
    "pd.DataFrame( rowList ,columns=[\"문제\",\"링크\"])\n",
    "\n",
    "resultDf = pd.DataFrame( rowList ,columns=[\"문제\",\"링크\"])\n",
    "\n",
    "resultDf.to_csv(\"./result.csv\", encoding = \"ms949\")"
   ]
  },
  {
   "cell_type": "code",
   "execution_count": 104,
   "id": "cd2d4d48-5667-4fdb-b0c9-ca15e8df4af8",
   "metadata": {},
   "outputs": [],
   "source": [
    "## encoding = \"ms949\" => 한글 깨지지 않게 인코딩"
   ]
  },
  {
   "cell_type": "code",
   "execution_count": null,
   "id": "15d9bb1d-ed0b-4446-af12-0292d7f573a9",
   "metadata": {},
   "outputs": [],
   "source": [
    "#추가 실습 풀 경우에는 해당 코드로 우베사이트 접근\n",
    "# user_agent = 'Mozilla/5.0 (Windows NT 10.0; Win64; x64) AppleWebKit/537.36 (KHTML, like Gecko) Chrome/100.0.4896.75 Safari/537.36'\n",
    "# resp = requests.get(targetUrl,headers = {'User-Agent':user_agent} )"
   ]
  },
  {
   "cell_type": "code",
   "execution_count": null,
   "id": "f8d34f7a-f5eb-4844-8e73-63a04ee5a124",
   "metadata": {},
   "outputs": [],
   "source": [
    "## 테이블 정보 수집"
   ]
  }
 ],
 "metadata": {
  "kernelspec": {
   "display_name": "Python 3 (ipykernel)",
   "language": "python",
   "name": "python3"
  },
  "language_info": {
   "codemirror_mode": {
    "name": "ipython",
    "version": 3
   },
   "file_extension": ".py",
   "mimetype": "text/x-python",
   "name": "python",
   "nbconvert_exporter": "python",
   "pygments_lexer": "ipython3",
   "version": "3.9.13"
  }
 },
 "nbformat": 4,
 "nbformat_minor": 5
}
