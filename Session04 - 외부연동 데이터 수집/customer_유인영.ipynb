{
 "cells": [
  {
   "cell_type": "code",
   "execution_count": 2,
   "id": "07283bcc-799b-4ea9-9480-e40e3084899d",
   "metadata": {},
   "outputs": [],
   "source": [
    "import pandas as pd\n",
    "\n",
    "selloutData = pd.read_csv(\"../dataset/customerdata.csv\") \n",
    "\n",
    "selloutData\n",
    "\n",
    "# PANDAS 패키지 불러오기\n",
    "import pandas as pd \n",
    "import pymysql \n",
    "from sqlalchemy import create_engine \n",
    "\n",
    "inId = \"kopo\"\n",
    "inPw = \"kopo\"\n",
    "inIp = \"192.168.110.111\"\n",
    "inPort =\"3306\"\n",
    "inDbName = \"kopo\"\n",
    "\n",
    "# DB 커넥션 열기\n",
    "engine_mariadb = create_engine('mysql+pymysql://{}:{}@{}:{}/{}'.format(inId,inPw,inIp,inPort,inDbName))\n",
    "\n",
    "selloutData.to_sql(name=\"customer_유인영\", con= engine_mariadb, if_exists=\"replace\", index = False)"
   ]
  }
 ],
 "metadata": {
  "kernelspec": {
   "display_name": "Python 3 (ipykernel)",
   "language": "python",
   "name": "python3"
  },
  "language_info": {
   "codemirror_mode": {
    "name": "ipython",
    "version": 3
   },
   "file_extension": ".py",
   "mimetype": "text/x-python",
   "name": "python",
   "nbconvert_exporter": "python",
   "pygments_lexer": "ipython3",
   "version": "3.9.13"
  }
 },
 "nbformat": 4,
 "nbformat_minor": 5
}
