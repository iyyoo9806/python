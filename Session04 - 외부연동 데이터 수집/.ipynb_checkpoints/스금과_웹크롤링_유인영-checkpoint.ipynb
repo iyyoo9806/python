{
 "cells": [
  {
   "cell_type": "code",
   "execution_count": 1,
   "id": "74053fbb-7045-43fa-b6c4-6f6d7a982a9c",
   "metadata": {},
   "outputs": [],
   "source": [
    "import pandas as pd\n",
    "\n",
    "import bs4, requests\n",
    "\n",
    "targetUrl = \"https://finance.naver.com/\"\n",
    "\n",
    "try :\n",
    "    resp = requests.get(targetUrl)\n",
    "except Exception as e:\n",
    "    print(e)\n",
    "\n",
    "webPageSrc = resp.text\n",
    "\n",
    "### 태그정보 수집하기\n",
    "\n",
    "htmlObj = bs4.BeautifulSoup(webPageSrc, \"html.parser\")\n",
    "\n",
    "div = htmlObj.find(name = \"div\", attrs ={\"class\" : \"aside_area aside_popular\"})\n",
    "\n",
    "table = div.find(name = \"table\", attrs ={\"class\" : \"tbl_home\"})\n",
    "\n",
    "tbody = table.find(name = \"tbody\")\n",
    "tr = tbody.findAll(name = \"tr\")"
   ]
  },
  {
   "cell_type": "code",
   "execution_count": 18,
   "id": "fc9b29a2-95fe-4339-b818-fb452c1d43a5",
   "metadata": {},
   "outputs": [
    {
     "name": "stdout",
     "output_type": "stream",
     "text": [
      "5\n",
      "1.\n",
      "에코프로비엠\n",
      "224,500\n",
      "['down']\n",
      " 2,000 \n"
     ]
    }
   ],
   "source": [
    "print(len(tr))\n",
    "\n",
    "rank = tr[0].find(name = \"em\").text\n",
    "print(rank)\n",
    "\n",
    "name = tr[0].find(name = \"a\").text\n",
    "print(name)\n",
    "\n",
    "price = tr[0].find(name = \"td\").text\n",
    "print(price)\n",
    "\n",
    "upDown = tr[0].attrs[\"class\"]\n",
    "print(upDown)\n",
    "\n",
    "plusMinus = tr[0].find(name = \"span\").text\n",
    "print(plusMinus)"
   ]
  },
  {
   "cell_type": "code",
   "execution_count": 19,
   "id": "af7dee4d-457b-45ca-87f8-8674ae7bfa65",
   "metadata": {},
   "outputs": [],
   "source": [
    "rowList = []\n",
    "\n",
    "for i in range(0,len(tr)):\n",
    "    rank = tr[i].find(name = \"em\").text\n",
    "    name = tr[i].find(name = \"a\").text\n",
    "    price = tr[i].find(name = \"td\").text\n",
    "    upDown = tr[i].attrs[\"class\"]\n",
    "    plusMinus = tr[i].find(name = \"span\").text\n",
    "    rowList.append( [rank,name,price,upDown,plusMinus] )"
   ]
  },
  {
   "cell_type": "code",
   "execution_count": 20,
   "id": "3b77ad33-b242-4c46-be97-66b476632fb5",
   "metadata": {},
   "outputs": [
    {
     "data": {
      "text/html": [
       "<div>\n",
       "<style scoped>\n",
       "    .dataframe tbody tr th:only-of-type {\n",
       "        vertical-align: middle;\n",
       "    }\n",
       "\n",
       "    .dataframe tbody tr th {\n",
       "        vertical-align: top;\n",
       "    }\n",
       "\n",
       "    .dataframe thead th {\n",
       "        text-align: right;\n",
       "    }\n",
       "</style>\n",
       "<table border=\"1\" class=\"dataframe\">\n",
       "  <thead>\n",
       "    <tr style=\"text-align: right;\">\n",
       "      <th></th>\n",
       "      <th>순위</th>\n",
       "      <th>이름</th>\n",
       "      <th>가격</th>\n",
       "      <th>등락</th>\n",
       "      <th>증감</th>\n",
       "    </tr>\n",
       "  </thead>\n",
       "  <tbody>\n",
       "    <tr>\n",
       "      <th>0</th>\n",
       "      <td>1.</td>\n",
       "      <td>에코프로비엠</td>\n",
       "      <td>224,500</td>\n",
       "      <td>[down]</td>\n",
       "      <td>2,000</td>\n",
       "    </tr>\n",
       "    <tr>\n",
       "      <th>1</th>\n",
       "      <td>2.</td>\n",
       "      <td>DB하이텍</td>\n",
       "      <td>72,300</td>\n",
       "      <td>[up]</td>\n",
       "      <td>11,200</td>\n",
       "    </tr>\n",
       "    <tr>\n",
       "      <th>2</th>\n",
       "      <td>3.</td>\n",
       "      <td>카나리아바이..</td>\n",
       "      <td>36,400</td>\n",
       "      <td>[up]</td>\n",
       "      <td>200</td>\n",
       "    </tr>\n",
       "    <tr>\n",
       "      <th>3</th>\n",
       "      <td>4.</td>\n",
       "      <td>삼성전자</td>\n",
       "      <td>64,000</td>\n",
       "      <td>[up]</td>\n",
       "      <td>800</td>\n",
       "    </tr>\n",
       "    <tr>\n",
       "      <th>4</th>\n",
       "      <td>5.</td>\n",
       "      <td>POSCO홀..</td>\n",
       "      <td>368,000</td>\n",
       "      <td>[up]</td>\n",
       "      <td>28,500</td>\n",
       "    </tr>\n",
       "  </tbody>\n",
       "</table>\n",
       "</div>"
      ],
      "text/plain": [
       "   순위        이름       가격      등락        증감\n",
       "0  1.    에코프로비엠  224,500  [down]    2,000 \n",
       "1  2.     DB하이텍   72,300    [up]   11,200 \n",
       "2  3.  카나리아바이..   36,400    [up]      200 \n",
       "3  4.      삼성전자   64,000    [up]      800 \n",
       "4  5.  POSCO홀..  368,000    [up]   28,500 "
      ]
     },
     "execution_count": 20,
     "metadata": {},
     "output_type": "execute_result"
    }
   ],
   "source": [
    "financeDf = pd.DataFrame(rowList)\n",
    "financeDf.columns = [\"순위\", \"이름\",\"가격\",\"등락\",\"증감\"]   \n",
    "financeDf"
   ]
  }
 ],
 "metadata": {
  "kernelspec": {
   "display_name": "Python 3 (ipykernel)",
   "language": "python",
   "name": "python3"
  },
  "language_info": {
   "codemirror_mode": {
    "name": "ipython",
    "version": 3
   },
   "file_extension": ".py",
   "mimetype": "text/x-python",
   "name": "python",
   "nbconvert_exporter": "python",
   "pygments_lexer": "ipython3",
   "version": "3.9.13"
  }
 },
 "nbformat": 4,
 "nbformat_minor": 5
}
