{
 "cells": [
  {
   "cell_type": "code",
   "execution_count": 4,
   "id": "a5f73cdf-590b-44be-9b55-610971ad6eb8",
   "metadata": {},
   "outputs": [
    {
     "data": {
      "text/plain": [
       "100"
      ]
     },
     "execution_count": 4,
     "metadata": {},
     "output_type": "execute_result"
    }
   ],
   "source": [
    "#XML 태그 변환 라이브러리\n",
    "#BeautifulSoup 라이브러리\n",
    "import requests\n",
    "from lxml import html\n",
    "from bs4 import BeautifulSoup \n",
    "import pandas as pd\n",
    "\n",
    "\n",
    "targetUrl=\"http://apis.data.go.kr/B552584/UlfptcaAlarmInqireSvc/getUlfptcaAlarmInfo?year=2023&pageNo=1&numOfRows=100&returnType=xml&serviceKey=%2BATjNWhkb6XZPstkzk5Jn7%2FhVFlCHsLbbnkjjh4v7Sn1SHTpiMKOWhOJnYtnR5MEQiay%2FKE9ZSx1%2BcSleOzY%2FQ%3D%3D\"\n",
    "\n",
    "#웹페이지 html 소스 가져오기\n",
    "response = requests.get(targetUrl)\n",
    "# response.encoding='utf-8'\n",
    "xmlobj = BeautifulSoup(response.text,\"lxml-xml\")\n",
    "row1s = xmlobj.find(name=\"items\")\n",
    "rows = row1s.findAll(name=\"item\")\n",
    "rowsLen = len(rows)\n",
    "rowsLen"
   ]
  }
 ],
 "metadata": {
  "kernelspec": {
   "display_name": "Python 3 (ipykernel)",
   "language": "python",
   "name": "python3"
  },
  "language_info": {
   "codemirror_mode": {
    "name": "ipython",
    "version": 3
   },
   "file_extension": ".py",
   "mimetype": "text/x-python",
   "name": "python",
   "nbconvert_exporter": "python",
   "pygments_lexer": "ipython3",
   "version": "3.9.13"
  }
 },
 "nbformat": 4,
 "nbformat_minor": 5
}
