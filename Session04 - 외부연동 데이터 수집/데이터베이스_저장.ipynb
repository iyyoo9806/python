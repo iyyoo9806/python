{
 "cells": [
  {
   "cell_type": "markdown",
   "id": "c4631c2a-64af-4328-94f0-71383a01153e",
   "metadata": {},
   "source": [
    "## 마리아DB"
   ]
  },
  {
   "cell_type": "code",
   "execution_count": null,
   "id": "1171490a-65f4-489b-9c52-9d80d9e65853",
   "metadata": {},
   "outputs": [],
   "source": [
    "refinedSelloutData \n",
    "\n",
    "# PANDAS 패키지 불러오기\n",
    "import pandas as pd \n",
    "import pymysql \n",
    "from sqlalchemy import create_engine \n",
    "\n",
    "inId = \"kopo\"\n",
    "inPw = \"kopo\"\n",
    "inIp = \"192.168.110.111\"\n",
    "inPort =\"3306\"\n",
    "inDbName = \"kopo\"\n",
    "\n",
    "# DB 커넥션 열기\n",
    "engine_mariadb = create_engine('mysql+pymysql://{}:{}@{}:{}/{}'.format(inId,inPw,inIp,inPort,inDbName))\n",
    "\n",
    "refinedSelloutData.to_sql(name=\"refinedSelloutData_유인영\", con= engine_mariadb, if_exists=\"replace\", index = False)"
   ]
  },
  {
   "cell_type": "markdown",
   "id": "cb771bab-6a16-4c2b-ad4f-d8c342b35e1c",
   "metadata": {},
   "source": [
    "## 오라클"
   ]
  },
  {
   "cell_type": "code",
   "execution_count": null,
   "id": "bf6b7091-4f04-4ff6-a7b2-c3387f4bff73",
   "metadata": {},
   "outputs": [],
   "source": []
  },
  {
   "cell_type": "markdown",
   "id": "85524c1f-e540-40fe-a8a8-ee7804ed233f",
   "metadata": {},
   "source": [
    "## 포스트그레스"
   ]
  }
 ],
 "metadata": {
  "kernelspec": {
   "display_name": "Python 3 (ipykernel)",
   "language": "python",
   "name": "python3"
  },
  "language_info": {
   "codemirror_mode": {
    "name": "ipython",
    "version": 3
   },
   "file_extension": ".py",
   "mimetype": "text/x-python",
   "name": "python",
   "nbconvert_exporter": "python",
   "pygments_lexer": "ipython3",
   "version": "3.9.13"
  }
 },
 "nbformat": 4,
 "nbformat_minor": 5
}
