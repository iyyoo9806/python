{
 "cells": [
  {
   "cell_type": "code",
   "execution_count": null,
   "id": "6e9ca315-4c7d-4381-89d7-4d30d0ccfeb0",
   "metadata": {},
   "outputs": [],
   "source": [
    "## 테이블 정보 수집(수업보고 다시 해보기)"
   ]
  },
  {
   "cell_type": "code",
   "execution_count": 1,
   "id": "e5696f01-06e0-43ea-b2fa-f8f918bdc318",
   "metadata": {},
   "outputs": [],
   "source": [
    "import pandas as pd\n",
    "import requests, bs4"
   ]
  },
  {
   "cell_type": "markdown",
   "id": "865ac0ac-b20d-4085-8ee0-311525d14421",
   "metadata": {},
   "source": [
    "# 1.웹페이지 접속"
   ]
  },
  {
   "cell_type": "code",
   "execution_count": 4,
   "id": "666a6e05-2f20-44e3-b9ea-813c060f5832",
   "metadata": {},
   "outputs": [],
   "source": [
    "targetUrl = \"https://sparkkorea.com/%ed%85%8c%ec%8a%a4%ed%8a%b8/\"\n",
    "resp = requests.get(targetUrl)\n",
    "webSrc = resp.text\n",
    "htmlObj = bs4.BeautifulSoup(webSrc, \"html.parser\")"
   ]
  },
  {
   "cell_type": "code",
   "execution_count": 2,
   "id": "679957f8-3ec5-4983-8665-a3bb1e267f98",
   "metadata": {},
   "outputs": [],
   "source": [
    "# 테이블 태그 찾기"
   ]
  },
  {
   "cell_type": "code",
   "execution_count": 6,
   "id": "2b2c60c6-e492-4d27-9cd1-65d115e36247",
   "metadata": {},
   "outputs": [],
   "source": [
    "tableTag = htmlObj.find(name=\"table\",attrs={\"id\":\"test_table\"})"
   ]
  },
  {
   "cell_type": "code",
   "execution_count": 7,
   "id": "5e6db7fc-a5a6-4154-920d-f45d83ff34f3",
   "metadata": {},
   "outputs": [],
   "source": [
    "tbodyTag = tableTag.find(name=\"body\")"
   ]
  },
  {
   "cell_type": "code",
   "execution_count": 12,
   "id": "0f2c2428-42ae-4bef-bcb5-5a64314021aa",
   "metadata": {},
   "outputs": [
    {
     "ename": "AttributeError",
     "evalue": "'NoneType' object has no attribute 'find'",
     "output_type": "error",
     "traceback": [
      "\u001b[1;31m---------------------------------------------------------------------------\u001b[0m",
      "\u001b[1;31mAttributeError\u001b[0m                            Traceback (most recent call last)",
      "\u001b[1;32m~\\AppData\\Local\\Temp\\ipykernel_3772\\3932901696.py\u001b[0m in \u001b[0;36m<module>\u001b[1;34m\u001b[0m\n\u001b[1;32m----> 1\u001b[1;33m \u001b[0mtrs\u001b[0m \u001b[1;33m=\u001b[0m \u001b[0mtbodyTag\u001b[0m\u001b[1;33m.\u001b[0m\u001b[0mfind\u001b[0m\u001b[1;33m(\u001b[0m\u001b[0mname\u001b[0m\u001b[1;33m=\u001b[0m\u001b[1;34m\"tbody\"\u001b[0m\u001b[1;33m)\u001b[0m\u001b[1;33m\u001b[0m\u001b[1;33m\u001b[0m\u001b[0m\n\u001b[0m",
      "\u001b[1;31mAttributeError\u001b[0m: 'NoneType' object has no attribute 'find'"
     ]
    }
   ],
   "source": [
    "trs = tbodyTag.find(name=\"tbody\")"
   ]
  },
  {
   "cell_type": "code",
   "execution_count": 9,
   "id": "8a977ea4-d61a-4d33-931d-04c80884304f",
   "metadata": {},
   "outputs": [
    {
     "ename": "AttributeError",
     "evalue": "'NoneType' object has no attribute 'findAll'",
     "output_type": "error",
     "traceback": [
      "\u001b[1;31m---------------------------------------------------------------------------\u001b[0m",
      "\u001b[1;31mAttributeError\u001b[0m                            Traceback (most recent call last)",
      "\u001b[1;32m~\\AppData\\Local\\Temp\\ipykernel_3772\\3057017051.py\u001b[0m in \u001b[0;36m<module>\u001b[1;34m\u001b[0m\n\u001b[1;32m----> 1\u001b[1;33m \u001b[0mtrs\u001b[0m \u001b[1;33m=\u001b[0m \u001b[0mtbodyTag\u001b[0m\u001b[1;33m.\u001b[0m\u001b[0mfindAll\u001b[0m\u001b[1;33m(\u001b[0m\u001b[0mname\u001b[0m\u001b[1;33m=\u001b[0m\u001b[1;34m\"tr\"\u001b[0m\u001b[1;33m)\u001b[0m\u001b[1;33m\u001b[0m\u001b[1;33m\u001b[0m\u001b[0m\n\u001b[0m",
      "\u001b[1;31mAttributeError\u001b[0m: 'NoneType' object has no attribute 'findAll'"
     ]
    }
   ],
   "source": [
    "trs = tbodyTag.findAll(name=\"tr\")"
   ]
  },
  {
   "cell_type": "code",
   "execution_count": 10,
   "id": "4e02dc37-9c09-4d2b-b11b-8b754327bd3c",
   "metadata": {},
   "outputs": [
    {
     "ename": "NameError",
     "evalue": "name 'trs' is not defined",
     "output_type": "error",
     "traceback": [
      "\u001b[1;31m---------------------------------------------------------------------------\u001b[0m",
      "\u001b[1;31mNameError\u001b[0m                                 Traceback (most recent call last)",
      "\u001b[1;32m~\\AppData\\Local\\Temp\\ipykernel_3772\\2688753576.py\u001b[0m in \u001b[0;36m<module>\u001b[1;34m\u001b[0m\n\u001b[1;32m----> 1\u001b[1;33m \u001b[0meachRow\u001b[0m \u001b[1;33m=\u001b[0m \u001b[0mtrs\u001b[0m\u001b[1;33m[\u001b[0m\u001b[1;36m0\u001b[0m\u001b[1;33m]\u001b[0m\u001b[1;33m\u001b[0m\u001b[1;33m\u001b[0m\u001b[0m\n\u001b[0m",
      "\u001b[1;31mNameError\u001b[0m: name 'trs' is not defined"
     ]
    }
   ],
   "source": [
    "eachRow = trs[0]"
   ]
  }
 ],
 "metadata": {
  "kernelspec": {
   "display_name": "Python 3 (ipykernel)",
   "language": "python",
   "name": "python3"
  },
  "language_info": {
   "codemirror_mode": {
    "name": "ipython",
    "version": 3
   },
   "file_extension": ".py",
   "mimetype": "text/x-python",
   "name": "python",
   "nbconvert_exporter": "python",
   "pygments_lexer": "ipython3",
   "version": "3.9.13"
  }
 },
 "nbformat": 4,
 "nbformat_minor": 5
}
