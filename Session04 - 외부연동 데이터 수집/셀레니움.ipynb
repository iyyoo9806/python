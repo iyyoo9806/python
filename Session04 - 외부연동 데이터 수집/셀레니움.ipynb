{
 "cells": [
  {
   "cell_type": "code",
   "execution_count": 13,
   "id": "82737588-23c5-4e78-9a47-8854c100bc55",
   "metadata": {},
   "outputs": [],
   "source": [
    "from selenium import webdriver\n",
    "from selenium.webdriver.chrome.service import Service\n",
    "from selenium.webdriver.chrome.options import Options\n",
    "from webdriver_manager.chrome import ChromeDriverManager"
   ]
  },
  {
   "cell_type": "code",
   "execution_count": 14,
   "id": "2c1b7e75-17cf-4392-a06c-beae3441531c",
   "metadata": {},
   "outputs": [],
   "source": [
    "chromeOption = Options()"
   ]
  },
  {
   "cell_type": "code",
   "execution_count": 15,
   "id": "6076c30e-5425-4dac-9598-e7e0f77ebc16",
   "metadata": {},
   "outputs": [],
   "source": [
    "chromeOption.add_argument(\"window-size-1920x1080\")"
   ]
  },
  {
   "cell_type": "code",
   "execution_count": 11,
   "id": "b5c191bf-2cba-4464-9575-285304643a64",
   "metadata": {},
   "outputs": [],
   "source": [
    "# driver = webdriver.Chrome(executable_path=\"../externs/chrome/chromedriver.exe\" , \n",
    "#                           options= chromeOption)"
   ]
  },
  {
   "cell_type": "code",
   "execution_count": 18,
   "id": "edc6b987-e541-4c04-9a3b-a6c9b9019867",
   "metadata": {},
   "outputs": [],
   "source": [
    "driver = webdriver.Chrome(service=Service(ChromeDriverManager().install() ) , \n",
    "                          options= chromeOption)"
   ]
  },
  {
   "cell_type": "code",
   "execution_count": 19,
   "id": "d61d4908-7cc2-4143-aab8-3dbe5865372d",
   "metadata": {},
   "outputs": [],
   "source": [
    "# html의 구성 컴포넌트가 다 올라올때까지 최대 3초를 기다린다.\n",
    "driver.implicitly_wait(3)"
   ]
  },
  {
   "cell_type": "code",
   "execution_count": 23,
   "id": "ac056e83-7815-4325-9a14-4f0e059b9a88",
   "metadata": {},
   "outputs": [],
   "source": [
    "import time\n",
    "time.sleep(5)"
   ]
  },
  {
   "cell_type": "code",
   "execution_count": 25,
   "id": "ac76527b-90f3-4595-a70c-127d4820b2fe",
   "metadata": {},
   "outputs": [],
   "source": [
    "targetUrl = \"https://sparkkorea.com/\""
   ]
  },
  {
   "cell_type": "code",
   "execution_count": 26,
   "id": "06dd8bcc-b05a-4523-ac96-ab365cb4e9c3",
   "metadata": {},
   "outputs": [],
   "source": [
    "driver.get(targetUrl)"
   ]
  },
  {
   "cell_type": "code",
   "execution_count": 27,
   "id": "e3acb9d1-0df1-479f-8feb-c6cfddace501",
   "metadata": {},
   "outputs": [
    {
     "data": {
      "text/plain": [
       "'https://sparkkorea.com/'"
      ]
     },
     "execution_count": 27,
     "metadata": {},
     "output_type": "execute_result"
    }
   ],
   "source": [
    "driver.current_url"
   ]
  },
  {
   "cell_type": "code",
   "execution_count": 29,
   "id": "7a6e660c-3cdc-4b5a-9c24-b943a40e1ec7",
   "metadata": {},
   "outputs": [],
   "source": [
    "htmlCode = driver.page_source"
   ]
  },
  {
   "cell_type": "code",
   "execution_count": 32,
   "id": "4b417f5d-e7b3-4101-ba0e-b7b77c1b30fb",
   "metadata": {},
   "outputs": [],
   "source": [
    "# import bs4\n",
    "\n",
    "# bsObj = bs4.BeautifulSoup(htmlCode, \"html.parser\")\n",
    "\n",
    "# bsObj = "
   ]
  },
  {
   "cell_type": "code",
   "execution_count": 52,
   "id": "ce6ae6d4-18f2-4f5e-be13-344880d40d17",
   "metadata": {},
   "outputs": [],
   "source": [
    "quizBtnXPath = '//*[@id=\"menu-item-382\"]/a'"
   ]
  },
  {
   "cell_type": "code",
   "execution_count": 53,
   "id": "da719b2d-d195-4773-9208-8acc18551785",
   "metadata": {},
   "outputs": [],
   "source": [
    "from selenium.webdriver.common.by import By"
   ]
  },
  {
   "cell_type": "code",
   "execution_count": 54,
   "id": "9c27cddd-5561-4746-a79d-0f6f41c674e6",
   "metadata": {},
   "outputs": [
    {
     "ename": "NoSuchElementException",
     "evalue": "Message: no such element: Unable to locate element: {\"method\":\"xpath\",\"selector\":\"//*[@id=\"menu-item-382\"]/a\"}\n  (Session info: chrome=111.0.5563.147)\nStacktrace:\nBacktrace:\n\t(No symbol) [0x00D2DCE3]\n\t(No symbol) [0x00CC39D1]\n\t(No symbol) [0x00BD4DA8]\n\t(No symbol) [0x00C0019F]\n\t(No symbol) [0x00C003AB]\n\t(No symbol) [0x00C2EE62]\n\t(No symbol) [0x00C1AF14]\n\t(No symbol) [0x00C2D57C]\n\t(No symbol) [0x00C1ACC6]\n\t(No symbol) [0x00BF6F68]\n\t(No symbol) [0x00BF80CD]\n\tGetHandleVerifier [0x00FA3832+2506274]\n\tGetHandleVerifier [0x00FD9794+2727300]\n\tGetHandleVerifier [0x00FDE36C+2746716]\n\tGetHandleVerifier [0x00DD6690+617600]\n\t(No symbol) [0x00CCC712]\n\t(No symbol) [0x00CD1FF8]\n\t(No symbol) [0x00CD20DB]\n\t(No symbol) [0x00CDC63B]\n\tBaseThreadInitThunk [0x7686FA29+25]\n\tRtlGetAppContainerNamedObjectPath [0x775A7A9E+286]\n\tRtlGetAppContainerNamedObjectPath [0x775A7A6E+238]\n",
     "output_type": "error",
     "traceback": [
      "\u001b[1;31m---------------------------------------------------------------------------\u001b[0m",
      "\u001b[1;31mNoSuchElementException\u001b[0m                    Traceback (most recent call last)",
      "\u001b[1;32m~\\AppData\\Local\\Temp\\ipykernel_12644\\3937384239.py\u001b[0m in \u001b[0;36m<module>\u001b[1;34m\u001b[0m\n\u001b[1;32m----> 1\u001b[1;33m \u001b[0mdriver\u001b[0m\u001b[1;33m.\u001b[0m\u001b[0mfind_element\u001b[0m\u001b[1;33m(\u001b[0m\u001b[0mBy\u001b[0m\u001b[1;33m.\u001b[0m\u001b[0mXPATH\u001b[0m\u001b[1;33m,\u001b[0m \u001b[0mquizBtnXPath\u001b[0m\u001b[1;33m)\u001b[0m\u001b[1;33m.\u001b[0m\u001b[0mclick\u001b[0m\u001b[1;33m(\u001b[0m\u001b[1;33m)\u001b[0m\u001b[1;33m\u001b[0m\u001b[1;33m\u001b[0m\u001b[0m\n\u001b[0m",
      "\u001b[1;32m~\\anaconda3\\lib\\site-packages\\selenium\\webdriver\\remote\\webdriver.py\u001b[0m in \u001b[0;36mfind_element\u001b[1;34m(self, by, value)\u001b[0m\n\u001b[0;32m    829\u001b[0m             \u001b[0mvalue\u001b[0m \u001b[1;33m=\u001b[0m \u001b[1;34mf'[name=\"{value}\"]'\u001b[0m\u001b[1;33m\u001b[0m\u001b[1;33m\u001b[0m\u001b[0m\n\u001b[0;32m    830\u001b[0m \u001b[1;33m\u001b[0m\u001b[0m\n\u001b[1;32m--> 831\u001b[1;33m         \u001b[1;32mreturn\u001b[0m \u001b[0mself\u001b[0m\u001b[1;33m.\u001b[0m\u001b[0mexecute\u001b[0m\u001b[1;33m(\u001b[0m\u001b[0mCommand\u001b[0m\u001b[1;33m.\u001b[0m\u001b[0mFIND_ELEMENT\u001b[0m\u001b[1;33m,\u001b[0m \u001b[1;33m{\u001b[0m\u001b[1;34m\"using\"\u001b[0m\u001b[1;33m:\u001b[0m \u001b[0mby\u001b[0m\u001b[1;33m,\u001b[0m \u001b[1;34m\"value\"\u001b[0m\u001b[1;33m:\u001b[0m \u001b[0mvalue\u001b[0m\u001b[1;33m}\u001b[0m\u001b[1;33m)\u001b[0m\u001b[1;33m[\u001b[0m\u001b[1;34m\"value\"\u001b[0m\u001b[1;33m]\u001b[0m\u001b[1;33m\u001b[0m\u001b[1;33m\u001b[0m\u001b[0m\n\u001b[0m\u001b[0;32m    832\u001b[0m \u001b[1;33m\u001b[0m\u001b[0m\n\u001b[0;32m    833\u001b[0m     \u001b[1;32mdef\u001b[0m \u001b[0mfind_elements\u001b[0m\u001b[1;33m(\u001b[0m\u001b[0mself\u001b[0m\u001b[1;33m,\u001b[0m \u001b[0mby\u001b[0m\u001b[1;33m=\u001b[0m\u001b[0mBy\u001b[0m\u001b[1;33m.\u001b[0m\u001b[0mID\u001b[0m\u001b[1;33m,\u001b[0m \u001b[0mvalue\u001b[0m\u001b[1;33m:\u001b[0m \u001b[0mOptional\u001b[0m\u001b[1;33m[\u001b[0m\u001b[0mstr\u001b[0m\u001b[1;33m]\u001b[0m \u001b[1;33m=\u001b[0m \u001b[1;32mNone\u001b[0m\u001b[1;33m)\u001b[0m \u001b[1;33m->\u001b[0m \u001b[0mList\u001b[0m\u001b[1;33m[\u001b[0m\u001b[0mWebElement\u001b[0m\u001b[1;33m]\u001b[0m\u001b[1;33m:\u001b[0m\u001b[1;33m\u001b[0m\u001b[1;33m\u001b[0m\u001b[0m\n",
      "\u001b[1;32m~\\anaconda3\\lib\\site-packages\\selenium\\webdriver\\remote\\webdriver.py\u001b[0m in \u001b[0;36mexecute\u001b[1;34m(self, driver_command, params)\u001b[0m\n\u001b[0;32m    438\u001b[0m         \u001b[0mresponse\u001b[0m \u001b[1;33m=\u001b[0m \u001b[0mself\u001b[0m\u001b[1;33m.\u001b[0m\u001b[0mcommand_executor\u001b[0m\u001b[1;33m.\u001b[0m\u001b[0mexecute\u001b[0m\u001b[1;33m(\u001b[0m\u001b[0mdriver_command\u001b[0m\u001b[1;33m,\u001b[0m \u001b[0mparams\u001b[0m\u001b[1;33m)\u001b[0m\u001b[1;33m\u001b[0m\u001b[1;33m\u001b[0m\u001b[0m\n\u001b[0;32m    439\u001b[0m         \u001b[1;32mif\u001b[0m \u001b[0mresponse\u001b[0m\u001b[1;33m:\u001b[0m\u001b[1;33m\u001b[0m\u001b[1;33m\u001b[0m\u001b[0m\n\u001b[1;32m--> 440\u001b[1;33m             \u001b[0mself\u001b[0m\u001b[1;33m.\u001b[0m\u001b[0merror_handler\u001b[0m\u001b[1;33m.\u001b[0m\u001b[0mcheck_response\u001b[0m\u001b[1;33m(\u001b[0m\u001b[0mresponse\u001b[0m\u001b[1;33m)\u001b[0m\u001b[1;33m\u001b[0m\u001b[1;33m\u001b[0m\u001b[0m\n\u001b[0m\u001b[0;32m    441\u001b[0m             \u001b[0mresponse\u001b[0m\u001b[1;33m[\u001b[0m\u001b[1;34m\"value\"\u001b[0m\u001b[1;33m]\u001b[0m \u001b[1;33m=\u001b[0m \u001b[0mself\u001b[0m\u001b[1;33m.\u001b[0m\u001b[0m_unwrap_value\u001b[0m\u001b[1;33m(\u001b[0m\u001b[0mresponse\u001b[0m\u001b[1;33m.\u001b[0m\u001b[0mget\u001b[0m\u001b[1;33m(\u001b[0m\u001b[1;34m\"value\"\u001b[0m\u001b[1;33m,\u001b[0m \u001b[1;32mNone\u001b[0m\u001b[1;33m)\u001b[0m\u001b[1;33m)\u001b[0m\u001b[1;33m\u001b[0m\u001b[1;33m\u001b[0m\u001b[0m\n\u001b[0;32m    442\u001b[0m             \u001b[1;32mreturn\u001b[0m \u001b[0mresponse\u001b[0m\u001b[1;33m\u001b[0m\u001b[1;33m\u001b[0m\u001b[0m\n",
      "\u001b[1;32m~\\anaconda3\\lib\\site-packages\\selenium\\webdriver\\remote\\errorhandler.py\u001b[0m in \u001b[0;36mcheck_response\u001b[1;34m(self, response)\u001b[0m\n\u001b[0;32m    243\u001b[0m                 \u001b[0malert_text\u001b[0m \u001b[1;33m=\u001b[0m \u001b[0mvalue\u001b[0m\u001b[1;33m[\u001b[0m\u001b[1;34m\"alert\"\u001b[0m\u001b[1;33m]\u001b[0m\u001b[1;33m.\u001b[0m\u001b[0mget\u001b[0m\u001b[1;33m(\u001b[0m\u001b[1;34m\"text\"\u001b[0m\u001b[1;33m)\u001b[0m\u001b[1;33m\u001b[0m\u001b[1;33m\u001b[0m\u001b[0m\n\u001b[0;32m    244\u001b[0m             \u001b[1;32mraise\u001b[0m \u001b[0mexception_class\u001b[0m\u001b[1;33m(\u001b[0m\u001b[0mmessage\u001b[0m\u001b[1;33m,\u001b[0m \u001b[0mscreen\u001b[0m\u001b[1;33m,\u001b[0m \u001b[0mstacktrace\u001b[0m\u001b[1;33m,\u001b[0m \u001b[0malert_text\u001b[0m\u001b[1;33m)\u001b[0m  \u001b[1;31m# type: ignore[call-arg]  # mypy is not smart enough here\u001b[0m\u001b[1;33m\u001b[0m\u001b[1;33m\u001b[0m\u001b[0m\n\u001b[1;32m--> 245\u001b[1;33m         \u001b[1;32mraise\u001b[0m \u001b[0mexception_class\u001b[0m\u001b[1;33m(\u001b[0m\u001b[0mmessage\u001b[0m\u001b[1;33m,\u001b[0m \u001b[0mscreen\u001b[0m\u001b[1;33m,\u001b[0m \u001b[0mstacktrace\u001b[0m\u001b[1;33m)\u001b[0m\u001b[1;33m\u001b[0m\u001b[1;33m\u001b[0m\u001b[0m\n\u001b[0m",
      "\u001b[1;31mNoSuchElementException\u001b[0m: Message: no such element: Unable to locate element: {\"method\":\"xpath\",\"selector\":\"//*[@id=\"menu-item-382\"]/a\"}\n  (Session info: chrome=111.0.5563.147)\nStacktrace:\nBacktrace:\n\t(No symbol) [0x00D2DCE3]\n\t(No symbol) [0x00CC39D1]\n\t(No symbol) [0x00BD4DA8]\n\t(No symbol) [0x00C0019F]\n\t(No symbol) [0x00C003AB]\n\t(No symbol) [0x00C2EE62]\n\t(No symbol) [0x00C1AF14]\n\t(No symbol) [0x00C2D57C]\n\t(No symbol) [0x00C1ACC6]\n\t(No symbol) [0x00BF6F68]\n\t(No symbol) [0x00BF80CD]\n\tGetHandleVerifier [0x00FA3832+2506274]\n\tGetHandleVerifier [0x00FD9794+2727300]\n\tGetHandleVerifier [0x00FDE36C+2746716]\n\tGetHandleVerifier [0x00DD6690+617600]\n\t(No symbol) [0x00CCC712]\n\t(No symbol) [0x00CD1FF8]\n\t(No symbol) [0x00CD20DB]\n\t(No symbol) [0x00CDC63B]\n\tBaseThreadInitThunk [0x7686FA29+25]\n\tRtlGetAppContainerNamedObjectPath [0x775A7A9E+286]\n\tRtlGetAppContainerNamedObjectPath [0x775A7A6E+238]\n"
     ]
    }
   ],
   "source": [
    "driver.find_element(By.XPATH, quizBtnXPath).click()"
   ]
  },
  {
   "cell_type": "code",
   "execution_count": 61,
   "id": "f01f5e31-5048-4035-be98-646607a540b5",
   "metadata": {},
   "outputs": [],
   "source": [
    "googleUrl = \"https://www.google.com/\""
   ]
  },
  {
   "cell_type": "code",
   "execution_count": 62,
   "id": "8c1c7857-da42-4c99-a2c6-1636f403d258",
   "metadata": {},
   "outputs": [],
   "source": [
    "driver.get(googleUrl)"
   ]
  },
  {
   "cell_type": "code",
   "execution_count": 63,
   "id": "b6d8d1e3-8969-4fbf-a830-2d9112266e75",
   "metadata": {},
   "outputs": [],
   "source": [
    "gooInputXPath = '/html/body/div[1]/div[3]/form/div[1]/div[1]/div[1]/div/div[2]/input'"
   ]
  },
  {
   "cell_type": "code",
   "execution_count": 64,
   "id": "de744f80-74d2-4bf5-8e7a-4655fdd69fd8",
   "metadata": {},
   "outputs": [],
   "source": [
    "driver.find_element(By.XPATH , gooInputXPath).send_keys(\"selenium\")"
   ]
  },
  {
   "cell_type": "code",
   "execution_count": 65,
   "id": "85a7cfbe-e0ff-47e8-8826-78417c8fbcd9",
   "metadata": {},
   "outputs": [],
   "source": [
    "from selenium.webdriver.common.keys import Keys"
   ]
  },
  {
   "cell_type": "code",
   "execution_count": 67,
   "id": "3d80b29f-a070-4b8b-ac46-ff0a8cb433d2",
   "metadata": {},
   "outputs": [],
   "source": [
    "driver.find_element(By.XPATH , gooInputXPath).send_keys(Keys.ENTER)"
   ]
  },
  {
   "cell_type": "code",
   "execution_count": 68,
   "id": "5d640d08-5080-4d8e-a44b-bb37359623cb",
   "metadata": {},
   "outputs": [],
   "source": [
    "htmlObj = driver.page_source"
   ]
  },
  {
   "cell_type": "code",
   "execution_count": 72,
   "id": "6424cd67-011f-4b80-98bb-562e907ee6bf",
   "metadata": {},
   "outputs": [],
   "source": [
    "bsObj = bs4.BeautifulSoup(htmlObj, \"html.parser\")"
   ]
  },
  {
   "cell_type": "markdown",
   "id": "f8dd4b55-2f1c-4b01-a751-9b9fd78b433a",
   "metadata": {},
   "source": [
    "## 메일 자동 전송 코드"
   ]
  },
  {
   "cell_type": "code",
   "execution_count": 1,
   "id": "3ed8fbb5-602a-4271-b83f-fcc83e870489",
   "metadata": {},
   "outputs": [
    {
     "data": {
      "text/plain": [
       "(235, b'2.7.0 Accepted')"
      ]
     },
     "execution_count": 1,
     "metadata": {},
     "output_type": "execute_result"
    }
   ],
   "source": [
    "# SMTP 프로토콜 로드\n",
    "import smtplib\n",
    "\n",
    "# 이메일을 간단하게 보낼수 있는 라이브러리 로드\n",
    "from email.message import EmailMessage\n",
    "\n",
    "# import pickle\n",
    "# pw = \"password\"    \n",
    "# pickle.dump(pw, open(\"pw.pickle\", 'wb'))\n",
    "# pw = pickle.load(open('pw.pickle', 'rb'))\n",
    "\n",
    "# GMAIL 메일 설정\n",
    "smtp_gmail = smtplib.SMTP('smtp.gmail.com', 587)\n",
    "\n",
    "# 서버 연결을 설정하는 단계\n",
    "smtp_gmail.ehlo()\n",
    " \n",
    "# 연결을 암호화\n",
    "smtp_gmail.starttls()\n",
    " \n",
    "\n",
    "userid = \"iyyoo9806@gmail.com\"\n",
    "\n",
    "# import getpass\n",
    "\n",
    "# mypass = getpass.getpass()\n",
    "\n",
    "# userpw = mypass\n",
    "\n",
    "#로그인 아이디 / 앱 비밀번호\n",
    "userid = \"iyyoo9806\"\n",
    "userpw = \"rrfaickuxvvadpex\"\n",
    "smtp_gmail.login(userid, userpw)\n",
    "\n",
    "# ### 3. 수신자 목록 정의 및 불러오기\n",
    "\n",
    "# import pandas as pd\n",
    "# emailList =pd.read_csv(\"./emailaddress.csv\")\n",
    "\n",
    "# emailList.이메일주소.tolist()\n",
    "\n",
    "# # 저장된 csv 파일 불러오기\n",
    "# # emaillist = pd.read_csv(\"./emailaddress.csv\", encoding='ms949')\n",
    "# # emaillist\n",
    "# # 이메일 주소정보 리스트 변환\n",
    "# # to = emaillist['이메일'].tolist()\n",
    "# # to\n",
    "\n",
    "# to = [\"haiteam@kopo.ac.kr\", \"haiteam@naver.com\"]\n",
    "\n",
    "# ### 4. 메일전송\n",
    "\n",
    "# msg=EmailMessage()\n",
    "\n",
    "# # 제목 입력\n",
    "# msg['Subject']=\"퀴즈 정보\"\n",
    " \n",
    "# # 내용 입력\n",
    "# msg.set_content(\"퀴즈정보\")\n",
    " \n",
    "# # 보내는 사람\n",
    "# msg['From']='haiteamm@gmail.com'\n",
    " \n",
    "# # 받는 사람\n",
    "# msg['To'] = \",\".join(to)\n",
    "\n",
    "# \",\".join(to)\n",
    "\n",
    "# # 첨부파일 추가\n",
    "# # file='0318_오후2.png'\n",
    "# # fp = open(file,'rb')\n",
    "# # file_data=fp.read()\n",
    "# # msg.add_attachment(file_data,\n",
    "# #                    maintype='text',\n",
    "# #                    subtype='plain',\n",
    "# #                    filename=file)\n",
    "# file='emailaddress.csv'\n",
    "# fp = open(file,'rb')\n",
    "# file_data=fp.read()\n",
    "\n",
    "# msg.add_attachment(file_data,\n",
    "#                    maintype='text',\n",
    "#                    subtype='plain',\n",
    "#                    filename=file)\n",
    "# # 메일 전송\n",
    "# smtp_gmail.send_message(msg)\n",
    "# smtp_gmail.close()"
   ]
  },
  {
   "cell_type": "code",
   "execution_count": 2,
   "id": "dbf6c913-d718-44bd-9316-2dc50e9eca82",
   "metadata": {},
   "outputs": [],
   "source": [
    "to =[\"iyyoo980615@naver.com\",\"iyyoo98@nate.com\",\"iyyoo@naver.com\"]\n",
    "\n",
    "import pandas as pd\n",
    "\n",
    "mailData = pd.read_csv(\"../dataset/mailadress.csv\")\n",
    "\n",
    "to = list(mailData.email)"
   ]
  },
  {
   "cell_type": "code",
   "execution_count": 3,
   "id": "2022c981-f97b-4cf8-ba9e-0bd590d5c38b",
   "metadata": {},
   "outputs": [
    {
     "data": {
      "text/html": [
       "<div>\n",
       "<style scoped>\n",
       "    .dataframe tbody tr th:only-of-type {\n",
       "        vertical-align: middle;\n",
       "    }\n",
       "\n",
       "    .dataframe tbody tr th {\n",
       "        vertical-align: top;\n",
       "    }\n",
       "\n",
       "    .dataframe thead th {\n",
       "        text-align: right;\n",
       "    }\n",
       "</style>\n",
       "<table border=\"1\" class=\"dataframe\">\n",
       "  <thead>\n",
       "    <tr style=\"text-align: right;\">\n",
       "      <th></th>\n",
       "      <th>id</th>\n",
       "      <th>email</th>\n",
       "    </tr>\n",
       "  </thead>\n",
       "  <tbody>\n",
       "    <tr>\n",
       "      <th>0</th>\n",
       "      <td>유인영</td>\n",
       "      <td>iyyoo980615@naver.com</td>\n",
       "    </tr>\n",
       "    <tr>\n",
       "      <th>1</th>\n",
       "      <td>유인영2</td>\n",
       "      <td>iyyoo98@nate.com</td>\n",
       "    </tr>\n",
       "    <tr>\n",
       "      <th>2</th>\n",
       "      <td>유인영3</td>\n",
       "      <td>iyyoo@naver.com</td>\n",
       "    </tr>\n",
       "  </tbody>\n",
       "</table>\n",
       "</div>"
      ],
      "text/plain": [
       "     id                  email\n",
       "0   유인영  iyyoo980615@naver.com\n",
       "1  유인영2       iyyoo98@nate.com\n",
       "2  유인영3        iyyoo@naver.com"
      ]
     },
     "execution_count": 3,
     "metadata": {},
     "output_type": "execute_result"
    }
   ],
   "source": [
    "mailData"
   ]
  },
  {
   "cell_type": "code",
   "execution_count": 4,
   "id": "3d330b9b-934f-455e-a0ac-cc96dff69649",
   "metadata": {},
   "outputs": [
    {
     "data": {
      "text/plain": [
       "'iyyoo980615@naver.com,iyyoo98@nate.com,iyyoo@naver.com'"
      ]
     },
     "execution_count": 4,
     "metadata": {},
     "output_type": "execute_result"
    }
   ],
   "source": [
    "### 4. 메일전송\n",
    "\n",
    "msg=EmailMessage()\n",
    "\n",
    "# 제목 입력\n",
    "msg['Subject']=\"퀴즈수집정보 메일 이름\"\n",
    " \n",
    "# 내용 입력\n",
    "msg.set_content(\"퀴즈수집정보 메일 내용\")\n",
    " \n",
    "# 보내는 사람\n",
    "msg['From']='iyyoo9806@gmail.com'\n",
    " \n",
    "# 받는 사람\n",
    "msg['To'] = \",\".join(to)\n",
    "\n",
    "\",\".join(to)\n"
   ]
  },
  {
   "cell_type": "code",
   "execution_count": 5,
   "id": "dcc9f1cb-f9bf-429d-b396-d01aa726a298",
   "metadata": {},
   "outputs": [],
   "source": [
    "sendDf = \\\n",
    "pd.DataFrame([[\"퀴즈1\",\"spark1.com\"], [\"퀴즈2\",\"spark2,com\"]])"
   ]
  },
  {
   "cell_type": "code",
   "execution_count": 6,
   "id": "266e0be3-291c-4cb6-bb96-f18d48714873",
   "metadata": {},
   "outputs": [],
   "source": [
    "sendDf.columns = [\"퀴즈이름\",\"퀴즈링크\"]"
   ]
  },
  {
   "cell_type": "code",
   "execution_count": 7,
   "id": "e07c52e6-05c9-4901-b9c3-3897f097ac41",
   "metadata": {},
   "outputs": [],
   "source": [
    "sendDf.to_csv(\"../dataset/attach.csv\", encoding=\"ms949\")"
   ]
  },
  {
   "cell_type": "code",
   "execution_count": 8,
   "id": "be1dcbb7-c722-45c2-966e-03b988d24a9e",
   "metadata": {},
   "outputs": [],
   "source": [
    "# 첨부파일 추가\n",
    "# file='0318_오후2.png'\n",
    "# fp = open(file,'rb')\n",
    "# file_data=fp.read()\n",
    "# msg.add_attachment(file_data,\n",
    "#                    maintype='text',\n",
    "#                    subtype='plain',\n",
    "#                    filename=file)\n",
    "file='../dataset/attach.csv'\n",
    "fp = open(file,'rb')\n",
    "file_data=fp.read()\n",
    "\n",
    "msg.add_attachment(file_data,\n",
    "                   maintype='text',\n",
    "                   subtype='plain',\n",
    "                   filename=file)\n",
    "# 메일 전송\n",
    "smtp_gmail.send_message(msg)\n",
    "smtp_gmail.close()"
   ]
  },
  {
   "cell_type": "code",
   "execution_count": 11,
   "id": "85d43047-6dce-403a-98ce-8e0d1830378c",
   "metadata": {},
   "outputs": [],
   "source": [
    "import getpass"
   ]
  },
  {
   "cell_type": "code",
   "execution_count": 12,
   "id": "57702fcb-40ba-4d32-9394-eed5d61aa140",
   "metadata": {},
   "outputs": [
    {
     "name": "stdin",
     "output_type": "stream",
     "text": [
      " ········\n"
     ]
    }
   ],
   "source": [
    "myInput = getpass.getpass()"
   ]
  },
  {
   "cell_type": "code",
   "execution_count": 4,
   "id": "68d3f8c3-24ff-4b0e-b6b7-d72556669079",
   "metadata": {},
   "outputs": [],
   "source": [
    "inPass = \"wqeqweqwe\""
   ]
  },
  {
   "cell_type": "code",
   "execution_count": 5,
   "id": "361406b1-41f9-4b54-b1b1-a6da3d4f7caa",
   "metadata": {},
   "outputs": [],
   "source": [
    "import pickle"
   ]
  },
  {
   "cell_type": "code",
   "execution_count": 6,
   "id": "5c15e8f0-c47c-4fae-b5fc-daabde30254b",
   "metadata": {},
   "outputs": [],
   "source": [
    "with open(\"./pw.pickle\",\"wb\") as fw:\n",
    "    pickle.dump(inPass,fw)"
   ]
  },
  {
   "cell_type": "code",
   "execution_count": 7,
   "id": "e948a1ce-9ff9-40b2-b988-1bded00400c4",
   "metadata": {},
   "outputs": [],
   "source": [
    "with open(\"./pw.pickle\",\"rb\") as fr:\n",
    "    data = pickle.load(fr)"
   ]
  },
  {
   "cell_type": "code",
   "execution_count": 8,
   "id": "e2268fd7-359d-42ce-867d-0aeff946a52d",
   "metadata": {},
   "outputs": [
    {
     "data": {
      "text/plain": [
       "'wqeqweqwe'"
      ]
     },
     "execution_count": 8,
     "metadata": {},
     "output_type": "execute_result"
    }
   ],
   "source": [
    "data"
   ]
  }
 ],
 "metadata": {
  "kernelspec": {
   "display_name": "Python 3 (ipykernel)",
   "language": "python",
   "name": "python3"
  },
  "language_info": {
   "codemirror_mode": {
    "name": "ipython",
    "version": 3
   },
   "file_extension": ".py",
   "mimetype": "text/x-python",
   "name": "python",
   "nbconvert_exporter": "python",
   "pygments_lexer": "ipython3",
   "version": "3.9.13"
  }
 },
 "nbformat": 4,
 "nbformat_minor": 5
}
