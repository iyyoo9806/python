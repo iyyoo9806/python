{
 "cells": [
  {
   "cell_type": "code",
   "execution_count": 2,
   "id": "05f4e251-fd2f-4e71-ade9-ede1f10e9d1b",
   "metadata": {},
   "outputs": [],
   "source": [
    "### 1번 함수 만들기"
   ]
  },
  {
   "cell_type": "code",
   "execution_count": 4,
   "id": "fe4ac33d-cebf-4717-8402-22d6daab5444",
   "metadata": {},
   "outputs": [],
   "source": [
    "## 두 변수를 입력받아서 두 수의 차를 및 제곱"
   ]
  },
  {
   "cell_type": "code",
   "execution_count": 16,
   "id": "5b99f5cb-db4b-4082-84f1-41234324bee6",
   "metadata": {},
   "outputs": [],
   "source": [
    "def diffPowerFunc(inFirstValue,inSecondValue):\n",
    "    #디버깅용\n",
    "    inFirstValue = 10\n",
    "    inSecondValue = 5\n",
    "\n",
    "    result = (inFirstValue-inSecondValue)**2 \n",
    "\n",
    "    return result"
   ]
  },
  {
   "cell_type": "code",
   "execution_count": 17,
   "id": "88ea00aa-d902-4715-be5f-9d07ce629431",
   "metadata": {},
   "outputs": [
    {
     "data": {
      "text/plain": [
       "4"
      ]
     },
     "execution_count": 17,
     "metadata": {},
     "output_type": "execute_result"
    }
   ],
   "source": [
    "diffPowerFunc(5,3)"
   ]
  },
  {
   "cell_type": "code",
   "execution_count": 19,
   "id": "9bfa5bc1-4565-4a80-89d7-ba2e939fbf30",
   "metadata": {},
   "outputs": [],
   "source": [
    "def diffPowerFunc2(inFirstValue,inSecondValue):\n",
    "\n",
    "    # inFirstValue = 10\n",
    "    # inSecondValue = 5\n",
    "\n",
    "    result = abs(inFirstValue-inSecondValue)**2 \n",
    "\n",
    "    return result"
   ]
  },
  {
   "cell_type": "code",
   "execution_count": 20,
   "id": "7773e968-84ca-4afb-9f5a-1b7821b88bd7",
   "metadata": {},
   "outputs": [
    {
     "data": {
      "text/plain": [
       "4"
      ]
     },
     "execution_count": 20,
     "metadata": {},
     "output_type": "execute_result"
    }
   ],
   "source": [
    "diffPowerFunc2(5,7)"
   ]
  },
  {
   "cell_type": "code",
   "execution_count": 36,
   "id": "1bb8bdc9-10c8-45be-8ee1-6dafb7fb7bd9",
   "metadata": {},
   "outputs": [],
   "source": [
    "recallProduct = \"MODEL02\""
   ]
  },
  {
   "cell_type": "code",
   "execution_count": 37,
   "id": "18623df1-e4ee-4214-99ac-5cc0d12813a2",
   "metadata": {},
   "outputs": [],
   "source": [
    "productList = [\"MODEL01\", \"MODEL02\", \"MODEL03\"]"
   ]
  },
  {
   "cell_type": "code",
   "execution_count": 38,
   "id": "28e8fe9d-69b7-4d24-9dfb-8e689f5871f0",
   "metadata": {},
   "outputs": [
    {
     "name": "stdout",
     "output_type": "stream",
     "text": [
      "MODEL02\n"
     ]
    }
   ],
   "source": [
    "for i in range(0, len(productList)):\n",
    "    if productList[i] == recallProduct:\n",
    "        print(productList[i])\n",
    "        break"
   ]
  },
  {
   "cell_type": "code",
   "execution_count": 40,
   "id": "aed09d94-204f-466b-a53d-a77d8204358f",
   "metadata": {},
   "outputs": [],
   "source": [
    "productList = [\"MODEL01\", \"MODEL02\", \"MODEL03\"]"
   ]
  },
  {
   "cell_type": "code",
   "execution_count": 41,
   "id": "0dcabb4b-2f8c-4602-9d21-30de6acd17f1",
   "metadata": {},
   "outputs": [],
   "source": [
    "recallProduct = \"MODEL02\""
   ]
  },
  {
   "cell_type": "code",
   "execution_count": 46,
   "id": "d0843742-3f46-4e4b-a2d7-55c84ee44d5c",
   "metadata": {},
   "outputs": [
    {
     "name": "stdout",
     "output_type": "stream",
     "text": [
      "MODEL01\n",
      "MODEL03\n"
     ]
    }
   ],
   "source": [
    "for i in range(0, len(productList)):\n",
    "    if productList[i] == recallProduct:\n",
    "        continue\n",
    "    print(productList[i])"
   ]
  },
  {
   "cell_type": "code",
   "execution_count": 44,
   "id": "99d6715b-f36e-488d-b821-6610a4d4082d",
   "metadata": {},
   "outputs": [],
   "source": [
    "productList = [\"MODEL01\", \"MODEL02\", \"MODEL03\"]\n",
    "recallProduct = \"MODEL02\""
   ]
  },
  {
   "cell_type": "code",
   "execution_count": 45,
   "id": "34dc1824-8f1a-4bfb-b118-2bbec5069755",
   "metadata": {},
   "outputs": [
    {
     "name": "stdout",
     "output_type": "stream",
     "text": [
      "MODEL01\n",
      "MODEL02\n",
      "MODEL03\n"
     ]
    }
   ],
   "source": [
    "for i in range(0, len(productList)):\n",
    "    if productList[i] == recallProduct:\n",
    "        pass\n",
    "    print(productList[i])"
   ]
  },
  {
   "cell_type": "code",
   "execution_count": 50,
   "id": "56e830ce-3b54-47da-8c13-577f66f6950b",
   "metadata": {},
   "outputs": [],
   "source": [
    "import pandas as pd"
   ]
  },
  {
   "cell_type": "code",
   "execution_count": 51,
   "id": "f0f7dde4-6d9f-40d9-bf9f-57becf440330",
   "metadata": {},
   "outputs": [],
   "source": [
    "dataSum = []"
   ]
  },
  {
   "cell_type": "code",
   "execution_count": 54,
   "id": "ee37f0b8-2aed-4fd5-863d-d0476797b101",
   "metadata": {},
   "outputs": [
    {
     "name": "stdout",
     "output_type": "stream",
     "text": [
      "../dataset/kopo_product_volume0.csv\n",
      "../dataset/kopo_product_volume1.csv\n",
      "[Errno 2] No such file or directory: '../dataset/kopo_product_volume1.csv'\n",
      "../dataset/kopo_product_volume2.csv\n"
     ]
    }
   ],
   "source": [
    "for i in range(0, 3):\n",
    "    loadFileName = \"../dataset/kopo_product_volume{}.csv\".format(i)\n",
    "    print(loadFileName)\n",
    "    try:\n",
    "        dataSum.append( pd.read_csv(loadFileName))\n",
    "    except Exception as e:\n",
    "        print(e) ##오류코드를 디비에 저장 (타임태그)"
   ]
  },
  {
   "cell_type": "code",
   "execution_count": null,
   "id": "f5559b19-eed2-4ba6-8159-878e82ede505",
   "metadata": {},
   "outputs": [],
   "source": []
  },
  {
   "cell_type": "code",
   "execution_count": 5,
   "id": "babf155d-5da4-48ef-a95f-7e44ddce1c65",
   "metadata": {},
   "outputs": [],
   "source": [
    "import pandas as pd\n",
    "\n",
    "indata = pd.read_csv(\"../dataset/kopo_customerdata.csv\")\n",
    "\n",
    "indata.CUSTOMERCODE = indata.CUSTOMERCODE.astype(float) ## int를 float으로\n",
    "\n",
    "indata[\"CUSTOMERCODE\"] = indata[\"CUSTOMERCODE\"].astype(float) ## 같은거"
   ]
  },
  {
   "cell_type": "code",
   "execution_count": 61,
   "id": "ea904725-3e9f-4fdc-b2cb-fe59e0ad97d2",
   "metadata": {},
   "outputs": [
    {
     "data": {
      "text/html": [
       "<div>\n",
       "<style scoped>\n",
       "    .dataframe tbody tr th:only-of-type {\n",
       "        vertical-align: middle;\n",
       "    }\n",
       "\n",
       "    .dataframe tbody tr th {\n",
       "        vertical-align: top;\n",
       "    }\n",
       "\n",
       "    .dataframe thead th {\n",
       "        text-align: right;\n",
       "    }\n",
       "</style>\n",
       "<table border=\"1\" class=\"dataframe\">\n",
       "  <thead>\n",
       "    <tr style=\"text-align: right;\">\n",
       "      <th></th>\n",
       "      <th>CUSTOMERCODE</th>\n",
       "      <th>STATENAME</th>\n",
       "      <th>ST</th>\n",
       "      <th>GENDER</th>\n",
       "      <th>DOB</th>\n",
       "      <th>GENDER1</th>\n",
       "      <th>EMAIL</th>\n",
       "      <th>FEST_CNT</th>\n",
       "      <th>TOTAL_AMOUNT</th>\n",
       "      <th>AC_AMOUNT</th>\n",
       "      <th>AV_AMOUNT</th>\n",
       "      <th>HA_AMOUNT</th>\n",
       "      <th>EMI_CE_AMOUNT</th>\n",
       "      <th>IS_HIGHEND</th>\n",
       "      <th>CNT_VIST</th>\n",
       "      <th>GAP_VISIT</th>\n",
       "    </tr>\n",
       "  </thead>\n",
       "  <tbody>\n",
       "    <tr>\n",
       "      <th>0</th>\n",
       "      <td>1503989.0</td>\n",
       "      <td>State2</td>\n",
       "      <td>2</td>\n",
       "      <td>Male</td>\n",
       "      <td>0</td>\n",
       "      <td>1</td>\n",
       "      <td>1</td>\n",
       "      <td>0</td>\n",
       "      <td>30300</td>\n",
       "      <td>0</td>\n",
       "      <td>30300</td>\n",
       "      <td>0</td>\n",
       "      <td>0</td>\n",
       "      <td>0</td>\n",
       "      <td>1</td>\n",
       "      <td>0</td>\n",
       "    </tr>\n",
       "    <tr>\n",
       "      <th>1</th>\n",
       "      <td>1190338.0</td>\n",
       "      <td>State2</td>\n",
       "      <td>2</td>\n",
       "      <td>Male</td>\n",
       "      <td>0</td>\n",
       "      <td>1</td>\n",
       "      <td>0</td>\n",
       "      <td>1</td>\n",
       "      <td>46500</td>\n",
       "      <td>0</td>\n",
       "      <td>46500</td>\n",
       "      <td>0</td>\n",
       "      <td>0</td>\n",
       "      <td>0</td>\n",
       "      <td>1</td>\n",
       "      <td>0</td>\n",
       "    </tr>\n",
       "    <tr>\n",
       "      <th>2</th>\n",
       "      <td>1424715.0</td>\n",
       "      <td>State2</td>\n",
       "      <td>2</td>\n",
       "      <td>Female</td>\n",
       "      <td>0</td>\n",
       "      <td>2</td>\n",
       "      <td>0</td>\n",
       "      <td>0</td>\n",
       "      <td>22700</td>\n",
       "      <td>0</td>\n",
       "      <td>0</td>\n",
       "      <td>22700</td>\n",
       "      <td>0</td>\n",
       "      <td>0</td>\n",
       "      <td>1</td>\n",
       "      <td>0</td>\n",
       "    </tr>\n",
       "    <tr>\n",
       "      <th>3</th>\n",
       "      <td>2483305.0</td>\n",
       "      <td>State2</td>\n",
       "      <td>2</td>\n",
       "      <td>Male</td>\n",
       "      <td>0</td>\n",
       "      <td>1</td>\n",
       "      <td>0</td>\n",
       "      <td>1</td>\n",
       "      <td>31400</td>\n",
       "      <td>0</td>\n",
       "      <td>31400</td>\n",
       "      <td>0</td>\n",
       "      <td>0</td>\n",
       "      <td>0</td>\n",
       "      <td>1</td>\n",
       "      <td>0</td>\n",
       "    </tr>\n",
       "    <tr>\n",
       "      <th>4</th>\n",
       "      <td>1178802.0</td>\n",
       "      <td>State2</td>\n",
       "      <td>2</td>\n",
       "      <td>Male</td>\n",
       "      <td>0</td>\n",
       "      <td>1</td>\n",
       "      <td>0</td>\n",
       "      <td>1</td>\n",
       "      <td>44900</td>\n",
       "      <td>0</td>\n",
       "      <td>0</td>\n",
       "      <td>44900</td>\n",
       "      <td>0</td>\n",
       "      <td>0</td>\n",
       "      <td>1</td>\n",
       "      <td>0</td>\n",
       "    </tr>\n",
       "    <tr>\n",
       "      <th>...</th>\n",
       "      <td>...</td>\n",
       "      <td>...</td>\n",
       "      <td>...</td>\n",
       "      <td>...</td>\n",
       "      <td>...</td>\n",
       "      <td>...</td>\n",
       "      <td>...</td>\n",
       "      <td>...</td>\n",
       "      <td>...</td>\n",
       "      <td>...</td>\n",
       "      <td>...</td>\n",
       "      <td>...</td>\n",
       "      <td>...</td>\n",
       "      <td>...</td>\n",
       "      <td>...</td>\n",
       "      <td>...</td>\n",
       "    </tr>\n",
       "    <tr>\n",
       "      <th>299995</th>\n",
       "      <td>465757.0</td>\n",
       "      <td>State1</td>\n",
       "      <td>1</td>\n",
       "      <td>Male</td>\n",
       "      <td>0</td>\n",
       "      <td>1</td>\n",
       "      <td>0</td>\n",
       "      <td>0</td>\n",
       "      <td>40600</td>\n",
       "      <td>0</td>\n",
       "      <td>40600</td>\n",
       "      <td>0</td>\n",
       "      <td>0</td>\n",
       "      <td>0</td>\n",
       "      <td>1</td>\n",
       "      <td>0</td>\n",
       "    </tr>\n",
       "    <tr>\n",
       "      <th>299996</th>\n",
       "      <td>1890264.0</td>\n",
       "      <td>State1</td>\n",
       "      <td>1</td>\n",
       "      <td>Male</td>\n",
       "      <td>0</td>\n",
       "      <td>1</td>\n",
       "      <td>0</td>\n",
       "      <td>1</td>\n",
       "      <td>48000</td>\n",
       "      <td>48000</td>\n",
       "      <td>0</td>\n",
       "      <td>0</td>\n",
       "      <td>0</td>\n",
       "      <td>0</td>\n",
       "      <td>1</td>\n",
       "      <td>0</td>\n",
       "    </tr>\n",
       "    <tr>\n",
       "      <th>299997</th>\n",
       "      <td>1857537.0</td>\n",
       "      <td>State1</td>\n",
       "      <td>1</td>\n",
       "      <td>Female</td>\n",
       "      <td>0</td>\n",
       "      <td>2</td>\n",
       "      <td>0</td>\n",
       "      <td>0</td>\n",
       "      <td>32300</td>\n",
       "      <td>0</td>\n",
       "      <td>0</td>\n",
       "      <td>32300</td>\n",
       "      <td>0</td>\n",
       "      <td>0</td>\n",
       "      <td>1</td>\n",
       "      <td>0</td>\n",
       "    </tr>\n",
       "    <tr>\n",
       "      <th>299998</th>\n",
       "      <td>2209324.0</td>\n",
       "      <td>State1</td>\n",
       "      <td>1</td>\n",
       "      <td>Male</td>\n",
       "      <td>0</td>\n",
       "      <td>1</td>\n",
       "      <td>0</td>\n",
       "      <td>1</td>\n",
       "      <td>48500</td>\n",
       "      <td>0</td>\n",
       "      <td>48500</td>\n",
       "      <td>0</td>\n",
       "      <td>0</td>\n",
       "      <td>0</td>\n",
       "      <td>1</td>\n",
       "      <td>0</td>\n",
       "    </tr>\n",
       "    <tr>\n",
       "      <th>299999</th>\n",
       "      <td>1875146.0</td>\n",
       "      <td>State1</td>\n",
       "      <td>1</td>\n",
       "      <td>Male</td>\n",
       "      <td>0</td>\n",
       "      <td>1</td>\n",
       "      <td>0</td>\n",
       "      <td>1</td>\n",
       "      <td>16500</td>\n",
       "      <td>0</td>\n",
       "      <td>0</td>\n",
       "      <td>16500</td>\n",
       "      <td>0</td>\n",
       "      <td>0</td>\n",
       "      <td>1</td>\n",
       "      <td>0</td>\n",
       "    </tr>\n",
       "  </tbody>\n",
       "</table>\n",
       "<p>300000 rows × 16 columns</p>\n",
       "</div>"
      ],
      "text/plain": [
       "        CUSTOMERCODE STATENAME  ST  GENDER  DOB  GENDER1  EMAIL  FEST_CNT  \\\n",
       "0          1503989.0    State2   2    Male    0        1      1         0   \n",
       "1          1190338.0    State2   2    Male    0        1      0         1   \n",
       "2          1424715.0    State2   2  Female    0        2      0         0   \n",
       "3          2483305.0    State2   2    Male    0        1      0         1   \n",
       "4          1178802.0    State2   2    Male    0        1      0         1   \n",
       "...              ...       ...  ..     ...  ...      ...    ...       ...   \n",
       "299995      465757.0    State1   1    Male    0        1      0         0   \n",
       "299996     1890264.0    State1   1    Male    0        1      0         1   \n",
       "299997     1857537.0    State1   1  Female    0        2      0         0   \n",
       "299998     2209324.0    State1   1    Male    0        1      0         1   \n",
       "299999     1875146.0    State1   1    Male    0        1      0         1   \n",
       "\n",
       "        TOTAL_AMOUNT  AC_AMOUNT  AV_AMOUNT  HA_AMOUNT  EMI_CE_AMOUNT  \\\n",
       "0              30300          0      30300          0              0   \n",
       "1              46500          0      46500          0              0   \n",
       "2              22700          0          0      22700              0   \n",
       "3              31400          0      31400          0              0   \n",
       "4              44900          0          0      44900              0   \n",
       "...              ...        ...        ...        ...            ...   \n",
       "299995         40600          0      40600          0              0   \n",
       "299996         48000      48000          0          0              0   \n",
       "299997         32300          0          0      32300              0   \n",
       "299998         48500          0      48500          0              0   \n",
       "299999         16500          0          0      16500              0   \n",
       "\n",
       "        IS_HIGHEND  CNT_VIST  GAP_VISIT  \n",
       "0                0         1          0  \n",
       "1                0         1          0  \n",
       "2                0         1          0  \n",
       "3                0         1          0  \n",
       "4                0         1          0  \n",
       "...            ...       ...        ...  \n",
       "299995           0         1          0  \n",
       "299996           0         1          0  \n",
       "299997           0         1          0  \n",
       "299998           0         1          0  \n",
       "299999           0         1          0  \n",
       "\n",
       "[300000 rows x 16 columns]"
      ]
     },
     "execution_count": 61,
     "metadata": {},
     "output_type": "execute_result"
    }
   ],
   "source": [
    "indata"
   ]
  },
  {
   "cell_type": "code",
   "execution_count": 6,
   "id": "75563cce-aa0b-4918-b835-dc3dfc433a92",
   "metadata": {},
   "outputs": [],
   "source": [
    "columnList = list( indata.columns)"
   ]
  },
  {
   "cell_type": "code",
   "execution_count": 7,
   "id": "7c9cdb12-fe32-48d4-8702-76894cfb9c85",
   "metadata": {},
   "outputs": [
    {
     "data": {
      "text/plain": [
       "16"
      ]
     },
     "execution_count": 7,
     "metadata": {},
     "output_type": "execute_result"
    }
   ],
   "source": [
    "len(columnList)"
   ]
  },
  {
   "cell_type": "code",
   "execution_count": 1,
   "id": "39f78acd-64b8-403b-baaa-0b7452d2158c",
   "metadata": {},
   "outputs": [],
   "source": [
    "import pandas as pd\n",
    "\n",
    "indata = pd.read_csv(\"../dataset/kopo_customerdata.csv\")"
   ]
  },
  {
   "cell_type": "code",
   "execution_count": 83,
   "id": "d4c53e3c-958b-4607-94ad-da33d14aee22",
   "metadata": {},
   "outputs": [
    {
     "name": "stdout",
     "output_type": "stream",
     "text": [
      "CUSTOMERCODE\n",
      "STATENAME\n",
      "could not convert string to float: 'State2'\n",
      "ST\n",
      "GENDER\n",
      "could not convert string to float: 'Male'\n",
      "DOB\n",
      "GENDER1\n",
      "EMAIL\n",
      "FEST_CNT\n",
      "TOTAL_AMOUNT\n",
      "AC_AMOUNT\n",
      "AV_AMOUNT\n",
      "HA_AMOUNT\n",
      "EMI_CE_AMOUNT\n",
      "IS_HIGHEND\n",
      "CNT_VIST\n",
      "GAP_VISIT\n"
     ]
    }
   ],
   "source": [
    "for i in range(0, len(columnList)):\n",
    "    print(columnList[i])\n",
    "    # 타입변경 (기존타입 -> float)\n",
    "    try:\n",
    "        indata[columnList[i]] = indata[columnList[i]].astype(float)\n",
    "    # 타입을 못바꾸는 경우 오류메세지를 띄운다.\n",
    "    except Exception as e:\n",
    "        print(e)"
   ]
  },
  {
   "cell_type": "code",
   "execution_count": 85,
   "id": "1ad794c0-ea1f-4e57-8248-f55251415e4e",
   "metadata": {},
   "outputs": [
    {
     "data": {
      "text/plain": [
       "CUSTOMERCODE     float64\n",
       "STATENAME         object\n",
       "ST               float64\n",
       "GENDER            object\n",
       "DOB              float64\n",
       "GENDER1          float64\n",
       "EMAIL            float64\n",
       "FEST_CNT         float64\n",
       "TOTAL_AMOUNT     float64\n",
       "AC_AMOUNT        float64\n",
       "AV_AMOUNT        float64\n",
       "HA_AMOUNT        float64\n",
       "EMI_CE_AMOUNT    float64\n",
       "IS_HIGHEND       float64\n",
       "CNT_VIST         float64\n",
       "GAP_VISIT        float64\n",
       "dtype: object"
      ]
     },
     "execution_count": 85,
     "metadata": {},
     "output_type": "execute_result"
    }
   ],
   "source": [
    "indata.dtypes"
   ]
  },
  {
   "cell_type": "code",
   "execution_count": 87,
   "id": "7883715f-ac9a-4525-be15-60af3d657feb",
   "metadata": {},
   "outputs": [
    {
     "data": {
      "text/plain": [
       "str"
      ]
     },
     "execution_count": 87,
     "metadata": {},
     "output_type": "execute_result"
    }
   ],
   "source": [
    "type(indata.loc[0,\"STATENAME\"])"
   ]
  },
  {
   "cell_type": "code",
   "execution_count": 8,
   "id": "9abc8925-73a9-45b8-bb84-79a170601757",
   "metadata": {},
   "outputs": [
    {
     "name": "stdout",
     "output_type": "stream",
     "text": [
      "CUSTOMERCODE\n",
      "STATENAME\n",
      "STATENAME컬럼은 문자열이기 때문에 continue탐\n",
      "ST\n",
      "GENDER\n",
      "GENDER컬럼은 문자열이기 때문에 continue탐\n",
      "DOB\n",
      "GENDER1\n",
      "EMAIL\n",
      "FEST_CNT\n",
      "TOTAL_AMOUNT\n",
      "AC_AMOUNT\n",
      "AV_AMOUNT\n",
      "HA_AMOUNT\n",
      "EMI_CE_AMOUNT\n",
      "IS_HIGHEND\n",
      "CNT_VIST\n",
      "GAP_VISIT\n"
     ]
    }
   ],
   "source": [
    "for i in range(0, len(columnList)):\n",
    "    targetColumn = columnList[i]\n",
    "    print(columnList[i])\n",
    "    if(type(indata.loc[0,columnList[i]]) == str):\n",
    "        print(\"{}컬럼은 문자열이기 때문에 continue탐\".format(targetColumn))\n",
    "        continue\n",
    "    indata[targetColumn] = indata[targetColumn].astype(float)\n",
    "##정확하게 오류가 어떻게 나는지 알면 컨티뉴를 쓸 수 있지만, 모르는 경우가 대부분이기 때문에\n",
    "## try except씀"
   ]
  },
  {
   "cell_type": "code",
   "execution_count": null,
   "id": "e7f3b23f-7c4b-45c8-ad2a-0cebf3674b29",
   "metadata": {},
   "outputs": [],
   "source": []
  }
 ],
 "metadata": {
  "kernelspec": {
   "display_name": "Python 3 (ipykernel)",
   "language": "python",
   "name": "python3"
  },
  "language_info": {
   "codemirror_mode": {
    "name": "ipython",
    "version": 3
   },
   "file_extension": ".py",
   "mimetype": "text/x-python",
   "name": "python",
   "nbconvert_exporter": "python",
   "pygments_lexer": "ipython3",
   "version": "3.9.13"
  }
 },
 "nbformat": 4,
 "nbformat_minor": 5
}
