{
 "cells": [
  {
   "cell_type": "code",
   "execution_count": 1,
   "id": "58dd8567-26e9-4288-bee3-f046683044ee",
   "metadata": {},
   "outputs": [],
   "source": [
    "import pandas as pd"
   ]
  },
  {
   "cell_type": "code",
   "execution_count": 3,
   "id": "edd76f91-0200-4d32-bd52-2b08f27bfd2b",
   "metadata": {},
   "outputs": [],
   "source": [
    "row1List = [\"김효관\",\"1234\",\"haiteam\"]\n",
    "row2List = [\"김어진\",\"2345\",\"eojin\"]"
   ]
  },
  {
   "cell_type": "code",
   "execution_count": null,
   "id": "93314ef3-9afc-4ff7-8d39-ef08dac6fd9e",
   "metadata": {},
   "outputs": [],
   "source": [
    "testDF = pd.DataFrame([row1List, row2List])\n",
    "testDF.columns = [\"이%%름\", \"학번$$\", \"이메일##@\"]"
   ]
  },
  {
   "cell_type": "code",
   "execution_count": 6,
   "id": "9add80a7-2c6e-4b4d-9194-dcbbf22b48ac",
   "metadata": {},
   "outputs": [
    {
     "data": {
      "text/html": [
       "<div>\n",
       "<style scoped>\n",
       "    .dataframe tbody tr th:only-of-type {\n",
       "        vertical-align: middle;\n",
       "    }\n",
       "\n",
       "    .dataframe tbody tr th {\n",
       "        vertical-align: top;\n",
       "    }\n",
       "\n",
       "    .dataframe thead th {\n",
       "        text-align: right;\n",
       "    }\n",
       "</style>\n",
       "<table border=\"1\" class=\"dataframe\">\n",
       "  <thead>\n",
       "    <tr style=\"text-align: right;\">\n",
       "      <th></th>\n",
       "      <th>이%%름</th>\n",
       "      <th>학번$$</th>\n",
       "      <th>이메일##@</th>\n",
       "    </tr>\n",
       "  </thead>\n",
       "  <tbody>\n",
       "    <tr>\n",
       "      <th>0</th>\n",
       "      <td>김효관</td>\n",
       "      <td>1234</td>\n",
       "      <td>haiteam</td>\n",
       "    </tr>\n",
       "    <tr>\n",
       "      <th>1</th>\n",
       "      <td>김어진</td>\n",
       "      <td>2345</td>\n",
       "      <td>eojin</td>\n",
       "    </tr>\n",
       "  </tbody>\n",
       "</table>\n",
       "</div>"
      ],
      "text/plain": [
       "  이%%름  학번$$   이메일##@\n",
       "0  김효관  1234  haiteam\n",
       "1  김어진  2345    eojin"
      ]
     },
     "execution_count": 6,
     "metadata": {},
     "output_type": "execute_result"
    }
   ],
   "source": [
    "testDF ## 데이터 전처리 -일반적으로 컬럼의 이름은 앞에 숫자 x, 득수문자 x"
   ]
  },
  {
   "cell_type": "code",
   "execution_count": 9,
   "id": "0c4e8945-a3ca-4e16-b5b1-efba013bde46",
   "metadata": {},
   "outputs": [],
   "source": [
    "columnList = list(testDF.columns)"
   ]
  },
  {
   "cell_type": "code",
   "execution_count": 10,
   "id": "d80522aa-000f-4468-8f39-999eeb6d28c9",
   "metadata": {},
   "outputs": [
    {
     "data": {
      "text/plain": [
       "['이%%름', '학번$$', '이메일##@']"
      ]
     },
     "execution_count": 10,
     "metadata": {},
     "output_type": "execute_result"
    }
   ],
   "source": [
    "columnList"
   ]
  },
  {
   "cell_type": "code",
   "execution_count": null,
   "id": "5cd12f69-ba0d-4967-9802-625f4a02254b",
   "metadata": {},
   "outputs": [],
   "source": [
    "### 문제 : 여기에서 컬럼이름을 전처리 한다"
   ]
  },
  {
   "cell_type": "code",
   "execution_count": 13,
   "id": "2bc464c4-7195-4534-8ac2-0b3f0221b00e",
   "metadata": {},
   "outputs": [],
   "source": [
    "## 이건 하드코딩\n",
    "## -> 로직으로 작성하세요\n",
    "# newColumn = [\"이름\", \"학번\", \"이메일\"]\n",
    "# testDF.columns = newColumn"
   ]
  },
  {
   "cell_type": "markdown",
   "id": "c053b644-01cb-45c2-a2e6-f547deac57b6",
   "metadata": {},
   "source": [
    "len(columnList)\n",
    "\n",
    "for i in range (0,len(columnList)) :\n",
    "\n",
    "    columnList [i] = columnList[i].replace(\"%%\",\"\")\n",
    "\n",
    "    columnList [i] = columnList[i].replace(\"$$\",\"\")\n",
    "    columnList [i] = columnList[i].replace(\"##@\",\"\")\n",
    "    ####  .replace().replace() 이렇게 여러개 써도 됨\n",
    "\n",
    "print(columnList)"
   ]
  },
  {
   "cell_type": "code",
   "execution_count": 34,
   "id": "a3122b3f-a99b-4898-bccb-b7682b259433",
   "metadata": {},
   "outputs": [
    {
     "data": {
      "text/plain": [
       "['이%%름', '학번$$', '이메일##@']"
      ]
     },
     "execution_count": 34,
     "metadata": {},
     "output_type": "execute_result"
    }
   ],
   "source": [
    "## 다른 풀이\n",
    "\n",
    "import pandas as pd\n",
    "row1List = [\"김효관\",\"1234\",\"haiteam\"]\n",
    "row2List = [\"김어진\",\"2345\",\"eojin\"]\n",
    "testDF = pd.DataFrame([row1List, row2List])\n",
    "testDF.columns = [\"이%%름\", \"학번$$\", \"이메일##@\"]\n",
    "columnList = list(testDF.columns)\n",
    "columnList"
   ]
  },
  {
   "cell_type": "code",
   "execution_count": 33,
   "id": "7c7c7e00-c915-4a44-a00d-fde65812a754",
   "metadata": {},
   "outputs": [],
   "source": [
    "## 로직 작성 시작###############\n",
    "len(columnList)\n",
    "\n",
    "for i in range(0, len(columnList)) :\n",
    "    \n",
    "\n",
    "\n",
    "\n",
    "## 로직 작성 마무리#############"
   ]
  },
  {
   "cell_type": "markdown",
   "id": "56ed4d8c-8dc4-43a4-b010-5bb14217ca6f",
   "metadata": {},
   "source": [
    "# 디버그"
   ]
  },
  {
   "cell_type": "code",
   "execution_count": 35,
   "id": "ae3f1c58-cbca-4802-92e0-910fc2fb99ed",
   "metadata": {},
   "outputs": [],
   "source": [
    "# 1. 헤더는 주석처리 한다.\n",
    "# 2. 로직은 shift + tab으로 땡긴다.\n",
    "# 3. i값을 위에 선언 후 돌려본다 하나씩\n",
    "# 4. 그리고 위에 올려서 돌려본다.\n",
    "# for i in range(o,len(columnList)) :\n",
    "    # 각 리스트의 요소값에서 특수문자가 나오면 빈 공백으로 바꾼다."
   ]
  },
  {
   "cell_type": "code",
   "execution_count": null,
   "id": "ce71a811-9f76-4983-8c34-26faa6091263",
   "metadata": {},
   "outputs": [],
   "source": []
  },
  {
   "cell_type": "code",
   "execution_count": 5,
   "id": "4f8d5874-7d27-472a-894b-5045a422af4c",
   "metadata": {},
   "outputs": [
    {
     "name": "stdout",
     "output_type": "stream",
     "text": [
      "EN001\n",
      "EN002\n",
      "EN003\n"
     ]
    }
   ],
   "source": [
    "preFix = \"대출상품_\"\n",
    "\n",
    "\n",
    "targetItem = [\"EN001\",\"EN002\",\"EN003\"]\n",
    "\n",
    "for i in range(0,len(targetItem)) :\n",
    "    print(targetItem[i])\n",
    "    targetItem[i] = preFix + targetItem[i]"
   ]
  },
  {
   "cell_type": "code",
   "execution_count": null,
   "id": "da59be25-73e8-4760-b6e0-c5ae6ee9c082",
   "metadata": {},
   "outputs": [],
   "source": []
  },
  {
   "cell_type": "code",
   "execution_count": null,
   "id": "4d8653fa-808d-489f-8b60-5756497513e9",
   "metadata": {},
   "outputs": [],
   "source": []
  },
  {
   "cell_type": "code",
   "execution_count": 12,
   "id": "b0e5e622-1dcd-49f3-8c79-00f67528b601",
   "metadata": {},
   "outputs": [],
   "source": [
    "##문제\n",
    "# 1. 특정 폴더에 있는 파일을 불러와야한다.\n",
    "# 2. 파일들이 file01.csv, file02.csv, file03.csv ->전부 merge해야한다.\n",
    "# specificFolder"
   ]
  },
  {
   "cell_type": "code",
   "execution_count": null,
   "id": "05bc6273-8d6e-4b06-8f92-ca5ee7bf0f3e",
   "metadata": {},
   "outputs": [],
   "source": [
    "# dataset/indoData\n",
    "# file 만들기\n",
    "# product, qty\n",
    "# st0001, 1000 /sk\n",
    "# st0002, 2000 /sk"
   ]
  },
  {
   "cell_type": "code",
   "execution_count": null,
   "id": "fb5cec89-6e78-4f4f-8edb-ba7ca94e2e8c",
   "metadata": {},
   "outputs": [],
   "source": []
  },
  {
   "cell_type": "code",
   "execution_count": 14,
   "id": "03da58fa-51ec-4551-b560-092881ac8aa3",
   "metadata": {},
   "outputs": [],
   "source": [
    "import pandas as pd"
   ]
  },
  {
   "cell_type": "code",
   "execution_count": 15,
   "id": "951daa07-6e59-47e0-8ee9-b740a4028d0b",
   "metadata": {},
   "outputs": [],
   "source": [
    "import os"
   ]
  },
  {
   "cell_type": "code",
   "execution_count": 16,
   "id": "7a0ffdb3-8049-41d8-b3da-95510a4bfc27",
   "metadata": {},
   "outputs": [],
   "source": [
    "fileList = os.listdir(\"../dataset/indoData/\")"
   ]
  },
  {
   "cell_type": "code",
   "execution_count": 21,
   "id": "51300af7-3a03-4818-b0b7-9b6483c5f5e4",
   "metadata": {},
   "outputs": [],
   "source": [
    "indata1 = pd.read_csv(\"../dataset/indoData/file01.txt\")\n",
    "indata2 = pd.read_csv(\"../dataset/indoData/file02.txt\")\n",
    "indata3 = pd.read_csv(\"../dataset/indoData/file03.txt\")"
   ]
  },
  {
   "cell_type": "code",
   "execution_count": 22,
   "id": "0b32a518-86fc-4821-8e48-6ab1132f8eb6",
   "metadata": {},
   "outputs": [],
   "source": [
    "mergedList = []"
   ]
  },
  {
   "cell_type": "code",
   "execution_count": 23,
   "id": "69b7421b-7318-427b-98dd-6a63d11dc6ba",
   "metadata": {},
   "outputs": [],
   "source": [
    "mergedList.append(indata1)\n",
    "mergedList.append(indata2)\n",
    "mergedList.append(indata3)"
   ]
  },
  {
   "cell_type": "code",
   "execution_count": 24,
   "id": "c5113afd-cf2f-40e5-b135-98c55606ef06",
   "metadata": {},
   "outputs": [],
   "source": [
    "### step1 : 파일은 어떤 확장자로 저장되는지 확인 [txt]\n",
    "### step2 : 파일은 깨진 파일도 있는가? [x]\n",
    "### step3 : 특정폴더를 기준폴더로 잡는다. [../dataset/indoDAta]\n",
    "### step4 : 특정폴더 내 파일을 모두 검색한다. 0> a.txt, b.txt, c.txt......\n",
    "### step5 : 기준폴더 + 파일명을 붙여서 데이터를 불러온다. ../dataset/indoData a.txt. 조"
   ]
  },
  {
   "cell_type": "code",
   "execution_count": 25,
   "id": "581f509f-f85f-444b-b059-21293e835742",
   "metadata": {},
   "outputs": [],
   "source": [
    "### step3\n",
    "stdFolder = \"../dataset/indoData/\""
   ]
  },
  {
   "cell_type": "code",
   "execution_count": 29,
   "id": "6d29af00-c648-4207-a9e0-24cbc89fab85",
   "metadata": {},
   "outputs": [],
   "source": [
    "### step 4\n",
    "import os"
   ]
  },
  {
   "cell_type": "code",
   "execution_count": 30,
   "id": "3ce2c3b4-c795-4282-98b9-9bb71155bacf",
   "metadata": {},
   "outputs": [
    {
     "data": {
      "text/plain": [
       "['.ipynb_checkpoints', 'file01.txt', 'file02.txt', 'file03.txt']"
      ]
     },
     "execution_count": 32,
     "metadata": {},
     "output_type": "execute_result"
    }
   ],
   "source": [
    "fileList = os.listdir(stdFolder)"
   ]
  },
  {
   "cell_type": "code",
   "execution_count": 31,
   "id": "19d67239-df63-4980-b87a-811b049d9e80",
   "metadata": {},
   "outputs": [],
   "source": [
    "### step 5"
   ]
  },
  {
   "cell_type": "code",
   "execution_count": 33,
   "id": "91ea1f49-4307-4e18-b559-54f2bb3fe861",
   "metadata": {},
   "outputs": [],
   "source": [
    "emptyList = []"
   ]
  },
  {
   "cell_type": "code",
   "execution_count": null,
   "id": "85b077c7-300e-4adb-9ac8-592fc5460a47",
   "metadata": {},
   "outputs": [],
   "source": [
    "for i in range(0, len(fileList)):\n",
    "    try:\n",
    "            eachData = pd.read_csv(stdFolder + fileList[i]\n",
    "            emptyList.append(eachDAta)\n",
    "    except Exception as e :\n",
    "        pass\n",
    "        ~~~"
   ]
  },
  {
   "cell_type": "code",
   "execution_count": null,
   "id": "c1e9de6d-4c19-44da-ac49-4497c19c1c1f",
   "metadata": {},
   "outputs": [],
   "source": []
  },
  {
   "cell_type": "code",
   "execution_count": null,
   "id": "725812fc-ba57-4ad4-a0e8-dbeb781c22a4",
   "metadata": {},
   "outputs": [],
   "source": [
    "###"
   ]
  },
  {
   "cell_type": "code",
   "execution_count": null,
   "id": "97dff6dc-6e63-46bd-ad47-d38324516a7b",
   "metadata": {},
   "outputs": [],
   "source": []
  }
 ],
 "metadata": {
  "kernelspec": {
   "display_name": "Python 3 (ipykernel)",
   "language": "python",
   "name": "python3"
  },
  "language_info": {
   "codemirror_mode": {
    "name": "ipython",
    "version": 3
   },
   "file_extension": ".py",
   "mimetype": "text/x-python",
   "name": "python",
   "nbconvert_exporter": "python",
   "pygments_lexer": "ipython3",
   "version": "3.9.13"
  }
 },
 "nbformat": 4,
 "nbformat_minor": 5
}
