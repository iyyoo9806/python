{
 "cells": [
  {
   "cell_type": "code",
   "execution_count": 1,
   "id": "549eefad-618f-45c1-8d6e-f3e16c899d68",
   "metadata": {},
   "outputs": [],
   "source": [
    "import pandas as pd"
   ]
  },
  {
   "cell_type": "code",
   "execution_count": 2,
   "id": "2cd52d5f-583c-4bf0-93e6-924cb848518a",
   "metadata": {},
   "outputs": [],
   "source": [
    "test = [1,10,100,1000]"
   ]
  },
  {
   "cell_type": "code",
   "execution_count": 3,
   "id": "bcaeb417-fdad-43fd-936c-7773cefac06e",
   "metadata": {},
   "outputs": [
    {
     "data": {
      "text/html": [
       "<div>\n",
       "<style scoped>\n",
       "    .dataframe tbody tr th:only-of-type {\n",
       "        vertical-align: middle;\n",
       "    }\n",
       "\n",
       "    .dataframe tbody tr th {\n",
       "        vertical-align: top;\n",
       "    }\n",
       "\n",
       "    .dataframe thead th {\n",
       "        text-align: right;\n",
       "    }\n",
       "</style>\n",
       "<table border=\"1\" class=\"dataframe\">\n",
       "  <thead>\n",
       "    <tr style=\"text-align: right;\">\n",
       "      <th></th>\n",
       "      <th>0</th>\n",
       "    </tr>\n",
       "  </thead>\n",
       "  <tbody>\n",
       "    <tr>\n",
       "      <th>0</th>\n",
       "      <td>1</td>\n",
       "    </tr>\n",
       "    <tr>\n",
       "      <th>1</th>\n",
       "      <td>10</td>\n",
       "    </tr>\n",
       "    <tr>\n",
       "      <th>2</th>\n",
       "      <td>100</td>\n",
       "    </tr>\n",
       "    <tr>\n",
       "      <th>3</th>\n",
       "      <td>1000</td>\n",
       "    </tr>\n",
       "  </tbody>\n",
       "</table>\n",
       "</div>"
      ],
      "text/plain": [
       "      0\n",
       "0     1\n",
       "1    10\n",
       "2   100\n",
       "3  1000"
      ]
     },
     "execution_count": 3,
     "metadata": {},
     "output_type": "execute_result"
    }
   ],
   "source": [
    "testDF = pd.DataFrame(test)\n",
    "testDF"
   ]
  },
  {
   "cell_type": "code",
   "execution_count": 4,
   "id": "71838ad0-443f-4a39-884e-886b6dd81e1f",
   "metadata": {},
   "outputs": [
    {
     "data": {
      "text/html": [
       "<div>\n",
       "<style scoped>\n",
       "    .dataframe tbody tr th:only-of-type {\n",
       "        vertical-align: middle;\n",
       "    }\n",
       "\n",
       "    .dataframe tbody tr th {\n",
       "        vertical-align: top;\n",
       "    }\n",
       "\n",
       "    .dataframe thead th {\n",
       "        text-align: right;\n",
       "    }\n",
       "</style>\n",
       "<table border=\"1\" class=\"dataframe\">\n",
       "  <thead>\n",
       "    <tr style=\"text-align: right;\">\n",
       "      <th></th>\n",
       "      <th>test</th>\n",
       "    </tr>\n",
       "  </thead>\n",
       "  <tbody>\n",
       "    <tr>\n",
       "      <th>0</th>\n",
       "      <td>1</td>\n",
       "    </tr>\n",
       "    <tr>\n",
       "      <th>1</th>\n",
       "      <td>10</td>\n",
       "    </tr>\n",
       "    <tr>\n",
       "      <th>2</th>\n",
       "      <td>100</td>\n",
       "    </tr>\n",
       "    <tr>\n",
       "      <th>3</th>\n",
       "      <td>1000</td>\n",
       "    </tr>\n",
       "  </tbody>\n",
       "</table>\n",
       "</div>"
      ],
      "text/plain": [
       "   test\n",
       "0     1\n",
       "1    10\n",
       "2   100\n",
       "3  1000"
      ]
     },
     "execution_count": 4,
     "metadata": {},
     "output_type": "execute_result"
    }
   ],
   "source": [
    "testDF.columns =[\"test\"]\n",
    "testDF"
   ]
  },
  {
   "cell_type": "code",
   "execution_count": 5,
   "id": "fc9f2f9f-f2fb-403c-b502-7cae911274ea",
   "metadata": {},
   "outputs": [],
   "source": [
    "import pandas as pd"
   ]
  },
  {
   "cell_type": "code",
   "execution_count": 6,
   "id": "d6322b49-111a-487a-991e-8838069e568e",
   "metadata": {},
   "outputs": [
    {
     "name": "stdout",
     "output_type": "stream",
     "text": [
      "  name  age  stock_age\n",
      "0  A고객   27          2\n",
      "1  B고객   40         10\n",
      "2  C고객   33          5\n",
      "3  D고객   29          1\n"
     ]
    }
   ],
   "source": [
    "data = {'name': ['A고객','B고객','C고객','D고객'],\n",
    "'age': [27,40,33,29],\n",
    "'stock_age': [2,10,5,1]}\n",
    "dataFrame = pd.DataFrame(data)\n",
    "print(dataFrame)"
   ]
  },
  {
   "cell_type": "code",
   "execution_count": 13,
   "id": "97ae2d4d-c2e2-4612-917c-55baf7114fe0",
   "metadata": {},
   "outputs": [
    {
     "data": {
      "text/html": [
       "<div>\n",
       "<style scoped>\n",
       "    .dataframe tbody tr th:only-of-type {\n",
       "        vertical-align: middle;\n",
       "    }\n",
       "\n",
       "    .dataframe tbody tr th {\n",
       "        vertical-align: top;\n",
       "    }\n",
       "\n",
       "    .dataframe thead th {\n",
       "        text-align: right;\n",
       "    }\n",
       "</style>\n",
       "<table border=\"1\" class=\"dataframe\">\n",
       "  <thead>\n",
       "    <tr style=\"text-align: right;\">\n",
       "      <th></th>\n",
       "      <th>date2</th>\n",
       "      <th>date23</th>\n",
       "    </tr>\n",
       "  </thead>\n",
       "  <tbody>\n",
       "    <tr>\n",
       "      <th>0</th>\n",
       "      <td>16.02.29</td>\n",
       "      <td>17.02.29</td>\n",
       "    </tr>\n",
       "    <tr>\n",
       "      <th>1</th>\n",
       "      <td>16.02.26</td>\n",
       "      <td>17.02.26</td>\n",
       "    </tr>\n",
       "    <tr>\n",
       "      <th>2</th>\n",
       "      <td>16.02.25</td>\n",
       "      <td>17.02.25</td>\n",
       "    </tr>\n",
       "    <tr>\n",
       "      <th>3</th>\n",
       "      <td>16.02.24</td>\n",
       "      <td>17.02.24</td>\n",
       "    </tr>\n",
       "    <tr>\n",
       "      <th>4</th>\n",
       "      <td>16.02.23</td>\n",
       "      <td>17.02.23</td>\n",
       "    </tr>\n",
       "  </tbody>\n",
       "</table>\n",
       "</div>"
      ],
      "text/plain": [
       "      date2    date23\n",
       "0  16.02.29  17.02.29\n",
       "1  16.02.26  17.02.26\n",
       "2  16.02.25  17.02.25\n",
       "3  16.02.24  17.02.24\n",
       "4  16.02.23  17.02.23"
      ]
     },
     "execution_count": 13,
     "metadata": {},
     "output_type": "execute_result"
    }
   ],
   "source": [
    "import pandas as pd\n",
    "date = ['16.02.29', '16.02.26', '16.02.25', '16.02.24', '16.02.23']\n",
    "date2 = ['17.02.29', '17.02.26', '17.02.25', '17.02.24', '17.02.23']\n",
    "date_df = pd.DataFrame(date, columns=['date2'])\n",
    "date_df2 = pd.DataFrame(date2, columns=['date23'])\n",
    "final = pd.concat([date_df,date_df2], axis = 1)\n",
    "final"
   ]
  },
  {
   "cell_type": "code",
   "execution_count": 1,
   "id": "9c04d4a4-b748-4dee-bb27-1624f1aaa860",
   "metadata": {},
   "outputs": [],
   "source": [
    "import pandas as pd\n",
    "key = ['1']\n",
    "value = ['q']"
   ]
  },
  {
   "cell_type": "code",
   "execution_count": 3,
   "id": "09676790-9015-41c9-bf35-3990b812845f",
   "metadata": {},
   "outputs": [
    {
     "name": "stdout",
     "output_type": "stream",
     "text": [
      "  name age\n",
      "0   1번  27\n",
      "1   2번   0\n"
     ]
    }
   ],
   "source": [
    "data = {'name': ['1번','2번',],\n",
    "'age': ['27','0'],}\n",
    "dataFrame = pd.DataFrame(data)\n",
    "print(dataFrame)"
   ]
  },
  {
   "cell_type": "code",
   "execution_count": 8,
   "id": "19d63821-9a49-4339-a09b-57cb0143d470",
   "metadata": {},
   "outputs": [
    {
     "data": {
      "text/html": [
       "<div>\n",
       "<style scoped>\n",
       "    .dataframe tbody tr th:only-of-type {\n",
       "        vertical-align: middle;\n",
       "    }\n",
       "\n",
       "    .dataframe tbody tr th {\n",
       "        vertical-align: top;\n",
       "    }\n",
       "\n",
       "    .dataframe thead th {\n",
       "        text-align: right;\n",
       "    }\n",
       "</style>\n",
       "<table border=\"1\" class=\"dataframe\">\n",
       "  <thead>\n",
       "    <tr style=\"text-align: right;\">\n",
       "      <th></th>\n",
       "      <th>name</th>\n",
       "    </tr>\n",
       "  </thead>\n",
       "  <tbody>\n",
       "    <tr>\n",
       "      <th>0</th>\n",
       "      <td>1번</td>\n",
       "    </tr>\n",
       "    <tr>\n",
       "      <th>1</th>\n",
       "      <td>2번</td>\n",
       "    </tr>\n",
       "  </tbody>\n",
       "</table>\n",
       "</div>"
      ],
      "text/plain": [
       "  name\n",
       "0   1번\n",
       "1   2번"
      ]
     },
     "execution_count": 8,
     "metadata": {},
     "output_type": "execute_result"
    }
   ],
   "source": [
    "dataFrame.drop(['age'], axis=1)"
   ]
  }
 ],
 "metadata": {
  "kernelspec": {
   "display_name": "Python 3 (ipykernel)",
   "language": "python",
   "name": "python3"
  },
  "language_info": {
   "codemirror_mode": {
    "name": "ipython",
    "version": 3
   },
   "file_extension": ".py",
   "mimetype": "text/x-python",
   "name": "python",
   "nbconvert_exporter": "python",
   "pygments_lexer": "ipython3",
   "version": "3.9.13"
  }
 },
 "nbformat": 4,
 "nbformat_minor": 5
}
