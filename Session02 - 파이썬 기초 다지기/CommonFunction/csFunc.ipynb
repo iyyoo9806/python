{
 "cells": [
  {
   "cell_type": "code",
   "execution_count": 1,
   "id": "8edc5974-483b-40b3-afbe-3bdf9696986f",
   "metadata": {},
   "outputs": [],
   "source": [
    "def minMaxAvg(testList) :\n",
    "    \"\"\"\n",
    "    최소최대값을 뺀 평균\n",
    "    parameter : testList = 리스트\n",
    "    return : 리스트 내 값에서 최소 최대값을 뺀 평균을 반환한다.\n",
    "    \"\"\"\n",
    "    # testList = [1,5,7,2,6,8,2,5,11]\n",
    "    minValue = min(testList)\n",
    "    maxValue = max(testList)\n",
    "    print(\"최대값{} 최소값{}\".format(maxValue, minValue))\n",
    "\n",
    "    testList.remove(minValue)\n",
    "    testList.remove(maxValue)\n",
    "\n",
    "    average = 0\n",
    "\n",
    "    if len(testList) !=0:\n",
    "        average = sum(testList)/len(testList)\n",
    "    else:\n",
    "        pass\n",
    "\n",
    "    return average"
   ]
  }
 ],
 "metadata": {
  "kernelspec": {
   "display_name": "Python 3 (ipykernel)",
   "language": "python",
   "name": "python3"
  },
  "language_info": {
   "codemirror_mode": {
    "name": "ipython",
    "version": 3
   },
   "file_extension": ".py",
   "mimetype": "text/x-python",
   "name": "python",
   "nbconvert_exporter": "python",
   "pygments_lexer": "ipython3",
   "version": "3.9.13"
  }
 },
 "nbformat": 4,
 "nbformat_minor": 5
}
