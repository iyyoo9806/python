{
 "cells": [
  {
   "cell_type": "code",
   "execution_count": 1,
   "id": "4ad10127-0ee7-461f-9aae-eef53dfe30c3",
   "metadata": {},
   "outputs": [],
   "source": [
    "## 최소, 최대값을 모두 뺀 평균을 구하는 함수\n",
    "## 단 최소값과 최대값이 여러개 있을 때는 모두 뺀 나머지를 출력"
   ]
  },
  {
   "cell_type": "code",
   "execution_count": 32,
   "id": "12f26c82-42be-4d0a-bbe6-1ac64c350cb5",
   "metadata": {},
   "outputs": [
    {
     "data": {
      "text/plain": [
       "'[5, 1, 6, 8, 9, 7, 3, 2, 1, 1, 1, 1, 1, 9, 9, 9, 9, 9, 9]'"
      ]
     },
     "execution_count": 32,
     "metadata": {},
     "output_type": "execute_result"
    }
   ],
   "source": [
    "listA = [5,1,6,8,9,7,3,2,1,1,1,1,1,9,9,9,9,9,9]\n",
    "str(listA)"
   ]
  },
  {
   "cell_type": "code",
   "execution_count": 33,
   "id": "94b12e49-224b-4c89-b8dd-d8837be3f510",
   "metadata": {},
   "outputs": [
    {
     "data": {
      "text/plain": [
       "list"
      ]
     },
     "execution_count": 33,
     "metadata": {},
     "output_type": "execute_result"
    }
   ],
   "source": []
  },
  {
   "cell_type": "code",
   "execution_count": 35,
   "id": "93cd5dd7-d95c-459e-9618-5b1147f08eea",
   "metadata": {},
   "outputs": [
    {
     "name": "stdout",
     "output_type": "stream",
     "text": [
      "리스트는 : [5, 1, 6, 8, 9, 7, 3, 2, 1, 1, 1, 1, 1, 9, 9, 9, 9, 9, 9]\n",
      "최대값9, 최소값1\n",
      "최대값 : 1 , 최솟값 :  9\n",
      "[5, 6, 8, 9, 7, 3, 2, 1, 1, 1, 1, 1, 9, 9, 9, 9, 9, 9] 1\n",
      "[5, 6, 8, 7, 3, 2, 1, 1, 1, 1, 1, 9, 9, 9, 9, 9, 9] 2 9\n",
      "[5, 6, 8, 7, 3, 2, 1, 1, 1, 1, 1, 9, 9, 9, 9, 9, 9]\n"
     ]
    }
   ],
   "source": [
    "listA = [5,1,6,8,9,7,3,2,1,1,1,1,1,9,9,9,9,9,9]\n",
    "strList = str(listA)\n",
    "print(\"리스트는 : \" + strList)\n",
    "minValue = min(listA)\n",
    "strMin = str(minValue)\n",
    "maxValue = max(listA)\n",
    "strMax = str(maxValue)\n",
    "print(\"최대값\"+strMax+\",\"+\" \"+\"최소값\"+strMin)\n",
    "print('최대값 : {} , 최솟값 :  {}'.format(minValue,maxValue))\n",
    "listA.remove(minValue)\n",
    "print(listA,1)\n",
    "listA.remove(maxValue)\n",
    "print(listA,2,maxValue)\n",
    "\n",
    "average = 0\n",
    "\n",
    "if len(listA) !=0:\n",
    "    average = sum(listA)/len(listA)\n",
    "print(listA)"
   ]
  },
  {
   "cell_type": "code",
   "execution_count": 29,
   "id": "6b938c75-b22a-40e8-82b9-2973409e7fb6",
   "metadata": {},
   "outputs": [
    {
     "name": "stdout",
     "output_type": "stream",
     "text": [
      "리스트는 : [5, 1, 6, 8, 9, 7, 3, 2, 1, 1, 1, 1, 1, 9, 9, 9, 9, 9, 9]\n",
      "최대값9, 최소값1\n",
      "최소값 최대값을 뺀 평균은 5.294117647058823\n"
     ]
    }
   ],
   "source": [
    "    intAverage = float(average)\n",
    "    strAverage = str(intAverage)\n",
    "else:\n",
    "    pass\n",
    "\n",
    "print(\"최소값 최대값을 뺀 평균은 \" + strAverage)"
   ]
  }
 ],
 "metadata": {
  "kernelspec": {
   "display_name": "Python 3 (ipykernel)",
   "language": "python",
   "name": "python3"
  },
  "language_info": {
   "codemirror_mode": {
    "name": "ipython",
    "version": 3
   },
   "file_extension": ".py",
   "mimetype": "text/x-python",
   "name": "python",
   "nbconvert_exporter": "python",
   "pygments_lexer": "ipython3",
   "version": "3.9.13"
  }
 },
 "nbformat": 4,
 "nbformat_minor": 5
}
