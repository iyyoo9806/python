{
 "cells": [
  {
   "cell_type": "code",
   "execution_count": 2,
   "id": "d5e81879-f305-4133-8baf-977d78ac2e26",
   "metadata": {},
   "outputs": [],
   "source": [
    "## 자료형 복습"
   ]
  },
  {
   "cell_type": "code",
   "execution_count": 2,
   "id": "ed69aac6-cff3-467a-a6ee-f124abc39251",
   "metadata": {},
   "outputs": [
    {
     "name": "stdout",
     "output_type": "stream",
     "text": [
      "smart class\n"
     ]
    }
   ],
   "source": [
    "#문자열 더하기\n",
    "head = \"smart\"\n",
    "tail = \"class\"\n",
    "fullString = head + \" \" + tail\n",
    "print(fullString)"
   ]
  },
  {
   "cell_type": "code",
   "execution_count": 3,
   "id": "dd34abd9-0e34-48dd-99ba-f6c23e7a39b5",
   "metadata": {},
   "outputs": [
    {
     "name": "stdout",
     "output_type": "stream",
     "text": [
      "********************\n"
     ]
    }
   ],
   "source": [
    "#문자열 곱하기\n",
    "print(\"*\"*20)"
   ]
  },
  {
   "cell_type": "code",
   "execution_count": 4,
   "id": "48028c8f-00a9-4e4b-b54b-f2a4d4a3c8ee",
   "metadata": {},
   "outputs": [
    {
     "name": "stdout",
     "output_type": "stream",
     "text": [
      "2\n",
      "2023\n",
      "0315\n",
      "5\n",
      "15\n",
      "202303\n"
     ]
    }
   ],
   "source": [
    "#문자열 인덱스\n",
    "yearweek = \"20230315\"\n",
    "print(yearweek[0]) # 첫번째 문자열 / 양수 인덱스는 0부터 시작\n",
    "print(yearweek[:4]) # 0~4번째 전 문자열\n",
    "print(yearweek[4:]) # 4번째부터 끝까지\n",
    "print(yearweek[-1]) # 마지막 인덱스 문자 추출 / 음수 인덱스는 -1부터 시작\n",
    "print(yearweek[-2:]) # -2부터 끝까지 문자 추출\n",
    "print(yearweek[:-2]) # 처음부터 -2 전 인덱스 문자 추출"
   ]
  },
  {
   "cell_type": "code",
   "execution_count": 8,
   "id": "ed32439a-f7ab-46c7-91d0-cd35b277dab6",
   "metadata": {},
   "outputs": [
    {
     "name": "stdout",
     "output_type": "stream",
     "text": [
      "1\n",
      "4\n",
      "202303\n"
     ]
    }
   ],
   "source": [
    "#문자열 개수게시 (count)\n",
    "yearweek2 = \"2023W03\"\n",
    "print(yearweek2.count('W'))\n",
    "\n",
    "#문자열 위치확인 (index)\n",
    "print(yearweek2.index('W')) ## W위치확인\n",
    "delimeter = yearweek2.index('W')\n",
    "newYearweek = yearweek2[:delimeter] + yearweek2[delimeter+1 :]\n",
    "print(newYearweek)## W제외한 나머지 숫자들"
   ]
  },
  {
   "cell_type": "code",
   "execution_count": 9,
   "id": "cc545372-e967-41bf-9afb-395e543f176e",
   "metadata": {},
   "outputs": [
    {
     "name": "stdout",
     "output_type": "stream",
     "text": [
      "LED_TV\n",
      "led_tv\n"
     ]
    }
   ],
   "source": [
    "#대소문자 구별함수 (upper/lower)\n",
    "letters = \"LeD_tv\"\n",
    "print(letters.upper())\n",
    "print(letters.lower())"
   ]
  },
  {
   "cell_type": "code",
   "execution_count": 12,
   "id": "031d043f-f8a9-45f0-87b2-41cda1e70f99",
   "metadata": {},
   "outputs": [
    {
     "name": "stdout",
     "output_type": "stream",
     "text": [
      "2023_03\n"
     ]
    }
   ],
   "source": [
    "#문자 치환(replace)\n",
    "repLetters = \"2023W03\"\n",
    "print(repLetters.replace(\"W\",\"_\"))"
   ]
  },
  {
   "cell_type": "code",
   "execution_count": 13,
   "id": "b99d744b-540f-4fef-9d34-b6965a0f201e",
   "metadata": {},
   "outputs": [
    {
     "name": "stdout",
     "output_type": "stream",
     "text": [
      "['20230315']\n"
     ]
    }
   ],
   "source": [
    "#문자 분리(split)\n",
    "yearweek_list = yearweek.split(\"W\")\n",
    "print(yearweek_list)"
   ]
  },
  {
   "cell_type": "code",
   "execution_count": 19,
   "id": "b76d8e51-6ff1-4309-b607-3705a63257b3",
   "metadata": {},
   "outputs": [
    {
     "name": "stdout",
     "output_type": "stream",
     "text": [
      "1234\n",
      "1234\n",
      "<class 'int'>\n",
      "1234\n",
      "1234.0\n",
      "<class 'float'>\n",
      "1234\n",
      "1234\n",
      "<class 'str'>\n"
     ]
    }
   ],
   "source": [
    "#형변환\n",
    "\n",
    "#문자 -> 수(정수)\n",
    "strValue ='1234'\n",
    "print(strValue)\n",
    "cvlntValue = int(strValue)\n",
    "print(cvlntValue)\n",
    "print(type(cvlntValue))\n",
    "\n",
    "#문자 -> 수(실수)\n",
    "strValue ='1234'\n",
    "print(strValue)\n",
    "cvFloatValue = float(strValue)\n",
    "print(cvFloatValue)\n",
    "print(type(cvFloatValue))\n",
    "\n",
    "#숫자 -> 문자\n",
    "numberValue = 1234\n",
    "print(numberValue)\n",
    "cvStrValue = str(numberValue)\n",
    "print(cvStrValue)\n",
    "print(type(cvStrValue))"
   ]
  },
  {
   "cell_type": "code",
   "execution_count": 23,
   "id": "bd9501eb-d749-40d1-9740-9cdd86ecfe88",
   "metadata": {},
   "outputs": [
    {
     "name": "stdout",
     "output_type": "stream",
     "text": [
      "AAA\n",
      "aaa\n"
     ]
    }
   ],
   "source": [
    "#소문자 -> 대문자\n",
    "lowerletter = \"aaa\"\n",
    "upperletter = lowerletter.upper()\n",
    "print(upperletter)\n",
    "\n",
    "#대문자 -> 소문자\n",
    "replaylowerletter = upperletter.lower()\n",
    "print(replaylowerletter)"
   ]
  },
  {
   "cell_type": "code",
   "execution_count": 25,
   "id": "1d3e624f-2e8e-4765-82e9-a8ed14a2da92",
   "metadata": {},
   "outputs": [
    {
     "name": "stdout",
     "output_type": "stream",
     "text": [
      "2023\n",
      "03\n"
     ]
    }
   ],
   "source": [
    "#문자열 분리\n",
    "letter = \"2023w03\"\n",
    "splitter = \"w\"\n",
    "\n",
    "answer = letter.split(splitter)\n",
    "\n",
    "print(answer[0])\n",
    "print(answer[1])"
   ]
  },
  {
   "cell_type": "code",
   "execution_count": 32,
   "id": "928930da-521d-48c9-8e88-3738c87d1ff7",
   "metadata": {},
   "outputs": [
    {
     "name": "stdout",
     "output_type": "stream",
     "text": [
      "['SEC', '201828', '250']\n",
      "SEC\n",
      "201828\n",
      "250\n"
     ]
    }
   ],
   "source": [
    "# \"Sec 2018W28 250\" 문자열 생성 후\n",
    "# stock_name, date, value로 각각 의미하는 문자열을 생성\n",
    "# 단 모두 대문자, 'W'를 삭제\n",
    "\n",
    "letterValue = \"Sec 2018W28 250\"\n",
    "upperletterValue = letterValue.upper()\n",
    "firstletter = upperletterValue.replace(\"W\",\"\")\n",
    "secondletter = firstletter.split(\" \")\n",
    "print(secondletter)\n",
    "stock_name = secondletter[0]\n",
    "date = secondletter[1]\n",
    "value = secondletter[2]\n",
    "\n",
    "print(stock_name)\n",
    "print(date)\n",
    "print(value)"
   ]
  },
  {
   "cell_type": "code",
   "execution_count": null,
   "id": "94c5c20c-cd93-4623-9039-5eabf44ef0b7",
   "metadata": {},
   "outputs": [],
   "source": [
    "#리스트(List)\n",
    "#특정 집합 모음을 표현할 수 있는 자료형"
   ]
  },
  {
   "cell_type": "code",
   "execution_count": 2,
   "id": "9f6c2916-e3bc-4b00-bf5b-e1f2b5655f35",
   "metadata": {},
   "outputs": [
    {
     "name": "stdout",
     "output_type": "stream",
     "text": [
      "['SEC', 120, 130, [202303, 202304]]\n"
     ]
    }
   ],
   "source": [
    "#리스트 연산\n",
    "stockName = [\"SEC\"]\n",
    "priceList = [120,130]\n",
    "dateList =[202303,202304]\n",
    "secinfo = stockName + priceList +[dateList]\n",
    "print(secinfo)"
   ]
  },
  {
   "cell_type": "code",
   "execution_count": 5,
   "id": "a50eb773-1baa-4ddf-8ead-fc7f5024a1fe",
   "metadata": {},
   "outputs": [
    {
     "name": "stdout",
     "output_type": "stream",
     "text": [
      "120\n",
      "[202303, 202304]\n",
      "202303\n",
      "['SEC', 120, 130]\n"
     ]
    }
   ],
   "source": [
    "#리스트 인덱싱\n",
    "secinfo = [\"SEC\",120,130,[202303,202304]]\n",
    "print(secinfo[1])\n",
    "print(secinfo[3])\n",
    "print(secinfo[3][0])\n",
    "print(secinfo[:3])"
   ]
  },
  {
   "cell_type": "code",
   "execution_count": 7,
   "id": "bb50730b-5e51-4d04-98de-511af1b58103",
   "metadata": {},
   "outputs": [
    {
     "data": {
      "text/plain": [
       "4"
      ]
     },
     "execution_count": 7,
     "metadata": {},
     "output_type": "execute_result"
    }
   ],
   "source": [
    "#리스트 길이\n",
    "secinfo = [\"SEC\",120,130,[202303,202304]]\n",
    "len(secinfo)"
   ]
  },
  {
   "cell_type": "code",
   "execution_count": 8,
   "id": "f85fb57a-b4d2-4cc2-a160-c4e805794f1f",
   "metadata": {},
   "outputs": [
    {
     "name": "stdout",
     "output_type": "stream",
     "text": [
      "50\n",
      "[70, 80, 60, 50]\n",
      "50\n",
      "[90, 50]\n",
      "[70, 80, 60, 50]\n"
     ]
    }
   ],
   "source": [
    "##리스트 인덱스\n",
    "scoreList = [70,80,60,50,90,50]\n",
    "print(scoreList[3]) ## 3번째 리스트 값 추출\n",
    "print(scoreList[:4]) ## 0번째부터 3번째 리스트 추출 4는 포함안됨\n",
    "print(scoreList[-1]) ## 마지막 인덱스 리스트 추출 / 음수 인덱스는 -1부터 시작\n",
    "print(scoreList[-2:]) ## -2부터 끝까지 리스트 추출\n",
    "print(scoreList[:-2]) ## 처음부터 -2 전 인덱스 리스트 추출"
   ]
  },
  {
   "cell_type": "code",
   "execution_count": 9,
   "id": "910fda20-eebe-4184-b174-c05276becbd1",
   "metadata": {},
   "outputs": [
    {
     "name": "stdout",
     "output_type": "stream",
     "text": [
      "[120, 130, 140, 150]\n",
      "[120, 130, 180, 150]\n"
     ]
    }
   ],
   "source": [
    "##리스트 값 업데이트 하기\n",
    "updateList = [120,130,140,150]\n",
    "print(updateList)\n",
    "updateList[2] = 180\n",
    "print(updateList)"
   ]
  },
  {
   "cell_type": "code",
   "execution_count": 11,
   "id": "e6c049fa-0801-4b7c-875b-ba8676eeeec5",
   "metadata": {},
   "outputs": [
    {
     "name": "stdout",
     "output_type": "stream",
     "text": [
      "[120, 140, 150]\n"
     ]
    }
   ],
   "source": [
    "##리스트 값 삭제하기 -1\n",
    "updateList = [120,130,140,150]\n",
    "updateList.remove(130)\n",
    "print(updateList)"
   ]
  },
  {
   "cell_type": "code",
   "execution_count": 12,
   "id": "823bd31c-df6c-4d16-b23d-4de431f43c7d",
   "metadata": {},
   "outputs": [
    {
     "name": "stdout",
     "output_type": "stream",
     "text": [
      "[120, 130, 150]\n"
     ]
    }
   ],
   "source": [
    "##리스트 값 삭제하기 -2\n",
    "updateList = [120,130,140,150]\n",
    "del updateList[2]\n",
    "print(updateList)"
   ]
  },
  {
   "cell_type": "code",
   "execution_count": 13,
   "id": "f3747bd5-230a-476b-bbae-5321d4f650d8",
   "metadata": {},
   "outputs": [
    {
     "name": "stdout",
     "output_type": "stream",
     "text": [
      "[120]\n"
     ]
    }
   ],
   "source": [
    "##리스트 구간 데이터 삭제하기 구간(1 이후 인덱스 삭제)\n",
    "updateList = [120,130,140,150]\n",
    "updateList[1:] = []\n",
    "print(updateList)"
   ]
  },
  {
   "cell_type": "code",
   "execution_count": 14,
   "id": "0bffe923-812a-4cc2-a5d8-73defd942cdd",
   "metadata": {},
   "outputs": [],
   "source": [
    "##리스트 관련 주요 함수"
   ]
  },
  {
   "cell_type": "code",
   "execution_count": 17,
   "id": "4de8a7d6-fa9e-4727-aea0-f892d80b044a",
   "metadata": {},
   "outputs": [
    {
     "name": "stdout",
     "output_type": "stream",
     "text": [
      "[120, 130, 140, 100, 150, 100, 11, 12]\n"
     ]
    }
   ],
   "source": [
    "##리스트에 요소 추가하기\n",
    "alist = [120,130,140,150]\n",
    "alist.append(100)\n",
    "alist.insert(3,100) #3번째 인덱스에 값 추가\n",
    "alist.extend([11,12])\n",
    "print(alist)"
   ]
  },
  {
   "cell_type": "code",
   "execution_count": 21,
   "id": "f332d684-44b1-4270-bd5d-e99bd702699a",
   "metadata": {},
   "outputs": [
    {
     "name": "stdout",
     "output_type": "stream",
     "text": [
      "[120, 130, 140, 150, [11, 12]]\n",
      "[120, 130, 140, 150, 11, 12]\n"
     ]
    }
   ],
   "source": [
    "##리스트 append / extend 차이점\n",
    "alist = [120,130,140,150]\n",
    "alist.append([11,12])\n",
    "print(alist)\n",
    "alist = [120,130,140,150]\n",
    "alist.extend([11,12])\n",
    "print(alist)\n",
    "## extend 뒤에는 int값이 아닌 list가 와야함"
   ]
  },
  {
   "cell_type": "code",
   "execution_count": 18,
   "id": "bb74dc3a-0402-4fab-a3ae-3491f20b2560",
   "metadata": {},
   "outputs": [
    {
     "name": "stdout",
     "output_type": "stream",
     "text": [
      "[150, 140, 130, 120]\n"
     ]
    }
   ],
   "source": [
    "##리스트 정렬하기\n",
    "alist = [120,130,140,150]\n",
    "alist.sort(reverse = True)\n",
    "print(alist)"
   ]
  },
  {
   "cell_type": "code",
   "execution_count": 22,
   "id": "f5b50b20-60d5-410d-8026-f2cea5279594",
   "metadata": {},
   "outputs": [],
   "source": [
    "list_a = [1,2,3,\"a\",\"b\",\"c\"]"
   ]
  },
  {
   "cell_type": "code",
   "execution_count": 24,
   "id": "2fe1ba72-1f80-4fba-9df0-cadb4edc75f9",
   "metadata": {},
   "outputs": [],
   "source": [
    "list_a.append([\"1\",\"2\",1,2])"
   ]
  },
  {
   "cell_type": "code",
   "execution_count": 25,
   "id": "0caae613-9790-4fb6-a2ba-935633c35aee",
   "metadata": {},
   "outputs": [
    {
     "data": {
      "text/plain": [
       "[1, 2, 3, 'a', 'b', 'c', ['1', '2', 1, 2]]"
      ]
     },
     "execution_count": 25,
     "metadata": {},
     "output_type": "execute_result"
    }
   ],
   "source": [
    "list_a"
   ]
  },
  {
   "cell_type": "code",
   "execution_count": 29,
   "id": "b8ff7e8d-fcc4-4709-ada5-379dcc2c0875",
   "metadata": {},
   "outputs": [
    {
     "data": {
      "text/plain": [
       "'1'"
      ]
     },
     "execution_count": 29,
     "metadata": {},
     "output_type": "execute_result"
    }
   ],
   "source": [
    "list_a[6][0]   #행렬 좌표 "
   ]
  },
  {
   "cell_type": "code",
   "execution_count": null,
   "id": "a7d9fd13-3954-4f45-bfd9-e1d3ffe47c3e",
   "metadata": {},
   "outputs": [],
   "source": []
  }
 ],
 "metadata": {
  "kernelspec": {
   "display_name": "Python 3 (ipykernel)",
   "language": "python",
   "name": "python3"
  },
  "language_info": {
   "codemirror_mode": {
    "name": "ipython",
    "version": 3
   },
   "file_extension": ".py",
   "mimetype": "text/x-python",
   "name": "python",
   "nbconvert_exporter": "python",
   "pygments_lexer": "ipython3",
   "version": "3.9.13"
  }
 },
 "nbformat": 4,
 "nbformat_minor": 5
}
