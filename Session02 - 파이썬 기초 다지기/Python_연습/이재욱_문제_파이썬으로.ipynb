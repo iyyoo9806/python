{
 "cells": [
  {
   "cell_type": "code",
   "execution_count": null,
   "id": "752c4cf2-6021-4d2f-bcb3-f167f374ac46",
   "metadata": {},
   "outputs": [],
   "source": [
    "## 구구단 7단과 8단 만들기"
   ]
  },
  {
   "cell_type": "code",
   "execution_count": 16,
   "id": "cef76458-6f8c-4c7a-bd4c-3e2c18e5d0fc",
   "metadata": {},
   "outputs": [],
   "source": [
    "def sevenEight() :\n",
    "    \"\"\"\n",
    "    multiseventoeight\n",
    "    \"\"\"\n",
    "\n",
    "    for i in range(1,10):\n",
    "        sevenMulti = 7*i\n",
    "        print(\"7 x\",i,\"=\",sevenMulti)\n",
    "    for i in range(1,10):\n",
    "        eightMulti = 8*i\n",
    "        print(\"8 x\",i,\"=\",eightMulti)"
   ]
  },
  {
   "cell_type": "code",
   "execution_count": 17,
   "id": "399e7ef7-9635-49db-8caa-3e73a6d7af7a",
   "metadata": {},
   "outputs": [
    {
     "name": "stdout",
     "output_type": "stream",
     "text": [
      "7 x 1 = 7\n",
      "7 x 2 = 14\n",
      "7 x 3 = 21\n",
      "7 x 4 = 28\n",
      "7 x 5 = 35\n",
      "7 x 6 = 42\n",
      "7 x 7 = 49\n",
      "7 x 8 = 56\n",
      "7 x 9 = 63\n",
      "8 x 1 = 8\n",
      "8 x 2 = 16\n",
      "8 x 3 = 24\n",
      "8 x 4 = 32\n",
      "8 x 5 = 40\n",
      "8 x 6 = 48\n",
      "8 x 7 = 56\n",
      "8 x 8 = 64\n",
      "8 x 9 = 72\n"
     ]
    }
   ],
   "source": [
    "sevenEight()"
   ]
  },
  {
   "cell_type": "code",
   "execution_count": 21,
   "id": "00ca8bf4-5757-4be7-931a-94d036717161",
   "metadata": {},
   "outputs": [],
   "source": [
    "def sixOddNum() :\n",
    "    \"\"\"\n",
    "    \"\"\"\n",
    "    for i in range(1,10):\n",
    "        sixMulti = 6*i\n",
    "        if(i%2==1):\n",
    "            print(\"6 x\",i,\"=\",sixMulti)"
   ]
  },
  {
   "cell_type": "code",
   "execution_count": 22,
   "id": "be9f4700-de0a-4ced-9efd-d2331565f77d",
   "metadata": {},
   "outputs": [
    {
     "name": "stdout",
     "output_type": "stream",
     "text": [
      "6 x 1 = 6\n",
      "6 x 3 = 18\n",
      "6 x 5 = 30\n",
      "6 x 7 = 42\n",
      "6 x 9 = 54\n"
     ]
    }
   ],
   "source": [
    "sixOddNum()"
   ]
  },
  {
   "cell_type": "code",
   "execution_count": 26,
   "id": "ef868273-ed11-4772-bfdd-c79ca5620b7c",
   "metadata": {},
   "outputs": [],
   "source": [
    "def sixOddNum2() :\n",
    "    \"\"\"\n",
    "    \"\"\"\n",
    "    for i in range(1,10,2):\n",
    "        print(\"6 x\",i,\"=\",6*i)"
   ]
  },
  {
   "cell_type": "code",
   "execution_count": 27,
   "id": "a3b46f75-6f2f-478a-b367-b1b90584de3f",
   "metadata": {},
   "outputs": [
    {
     "name": "stdout",
     "output_type": "stream",
     "text": [
      "6 x 1 = 6\n",
      "6 x 3 = 18\n",
      "6 x 5 = 30\n",
      "6 x 7 = 42\n",
      "6 x 9 = 54\n"
     ]
    }
   ],
   "source": [
    "sixOddNum2()"
   ]
  },
  {
   "cell_type": "code",
   "execution_count": 6,
   "id": "fae143ef-c88d-4326-a38c-9f9f5410fa2e",
   "metadata": {},
   "outputs": [],
   "source": [
    "###4번\n",
    "def sevenMultiTwenty() :\n",
    "    \"\"\"\n",
    "    입력받은 값을 7에 입력받은 수부터 20까지 곱하는 함수\n",
    "    parameter : sevenMulti = ?\n",
    "    return : 입력받은 값을 7에 입력받은 수부터 20까지 곱한다.\n",
    "    \"\"\"\n",
    "\n",
    "    print(\"숫자입력 : \")\n",
    "    x = input()\n",
    "    x= int(x)\n",
    "    if x >= 21:\n",
    "        print(\"Error\")\n",
    "    else :\n",
    "        for x in range(x,21):\n",
    "            print(\"7 x\",x,\"=\",7*x)\n"
   ]
  },
  {
   "cell_type": "code",
   "execution_count": 9,
   "id": "cd94b130-06d7-4e8c-961a-81b1bc61b486",
   "metadata": {},
   "outputs": [
    {
     "name": "stdout",
     "output_type": "stream",
     "text": [
      "숫자입력 : \n"
     ]
    },
    {
     "name": "stdin",
     "output_type": "stream",
     "text": [
      " 15\n"
     ]
    },
    {
     "name": "stdout",
     "output_type": "stream",
     "text": [
      "7 x 15 = 105\n",
      "7 x 16 = 112\n",
      "7 x 17 = 119\n",
      "7 x 18 = 126\n",
      "7 x 19 = 133\n",
      "7 x 20 = 140\n"
     ]
    }
   ],
   "source": [
    "sevenMultiTwenty()"
   ]
  },
  {
   "cell_type": "code",
   "execution_count": 31,
   "id": "a6c91196-a759-4535-9232-5702c04f17a8",
   "metadata": {},
   "outputs": [],
   "source": [
    "###5번"
   ]
  },
  {
   "cell_type": "code",
   "execution_count": 14,
   "id": "dd61dea7-f853-4b4f-af2d-5711e8378ec7",
   "metadata": {},
   "outputs": [],
   "source": [
    "def randomGame() :\n",
    "\n",
    "    from random import randrange\n",
    "    randNum = randrange(101)\n",
    "    comNum = randrange(101)\n",
    "    print(\"랜덤숫자놀이게임\")\n",
    "    print(\"0~100사이의 숫자를 입력해주세요\")\n",
    "    print(\"입력 : \")\n",
    "    inputNum = input()\n",
    "    inputNum = int(inputNum)\n",
    "    if (inputNum>100 or inputNum<0):\n",
    "        print(\"0~100사이의 숫자가 아닙니다.\")\n",
    "    elif (inputNum + randNum > comNum + randNum) :\n",
    "        print(inputNum,inputNum + randNum,comNum + randNum,\"승리\")\n",
    "    elif(inputNum + randNum < comNum + randNum) :\n",
    "        print(inputNum,inputNum + randNum,comNum + randNum,\"패배\")"
   ]
  },
  {
   "cell_type": "code",
   "execution_count": 15,
   "id": "7248050f-5997-417a-9bab-b78b57e51d49",
   "metadata": {},
   "outputs": [
    {
     "name": "stdout",
     "output_type": "stream",
     "text": [
      "랜덤숫자놀이게임\n",
      "0~100사이의 숫자를 입력해주세요\n",
      "입력 : \n"
     ]
    },
    {
     "name": "stdin",
     "output_type": "stream",
     "text": [
      " 25\n"
     ]
    },
    {
     "name": "stdout",
     "output_type": "stream",
     "text": [
      "25 104 162 패배\n"
     ]
    }
   ],
   "source": [
    "randomGame()"
   ]
  },
  {
   "cell_type": "code",
   "execution_count": 50,
   "id": "e9cb4f22-b3cc-4941-b247-62eb6cdffd2c",
   "metadata": {},
   "outputs": [],
   "source": [
    "def test1() :\n",
    "    \n",
    "    for i in range(1,10):\n",
    "        sevenMulti = 7*i\n",
    "        print(\"7 x\",i,\"=\",sevenMulti)\n",
    "    print(\"----------------------------\")\n",
    "    for i in range(1,10):\n",
    "        eightMulti = 8*i\n",
    "        print(\"8 x\",i,\"=\",eightMulti)\n",
    "    print(\"----------------------------\")\n",
    "    for i in range(1,10):\n",
    "        nineMulti = 9*i\n",
    "        print(\"9 x\",i,\"=\",nineMulti)\n",
    "    print(\"----------------------------\")"
   ]
  },
  {
   "cell_type": "code",
   "execution_count": 51,
   "id": "bffdb797-4f68-4475-9dfe-cba0f176def5",
   "metadata": {},
   "outputs": [
    {
     "name": "stdout",
     "output_type": "stream",
     "text": [
      "7 x 1 = 7\n",
      "7 x 2 = 14\n",
      "7 x 3 = 21\n",
      "7 x 4 = 28\n",
      "7 x 5 = 35\n",
      "7 x 6 = 42\n",
      "7 x 7 = 49\n",
      "7 x 8 = 56\n",
      "7 x 9 = 63\n",
      "----------------------------\n",
      "8 x 1 = 8\n",
      "8 x 2 = 16\n",
      "8 x 3 = 24\n",
      "8 x 4 = 32\n",
      "8 x 5 = 40\n",
      "8 x 6 = 48\n",
      "8 x 7 = 56\n",
      "8 x 8 = 64\n",
      "8 x 9 = 72\n",
      "----------------------------\n",
      "9 x 1 = 9\n",
      "9 x 2 = 18\n",
      "9 x 3 = 27\n",
      "9 x 4 = 36\n",
      "9 x 5 = 45\n",
      "9 x 6 = 54\n",
      "9 x 7 = 63\n",
      "9 x 8 = 72\n",
      "9 x 9 = 81\n",
      "----------------------------\n"
     ]
    }
   ],
   "source": [
    "test1()"
   ]
  },
  {
   "cell_type": "code",
   "execution_count": 48,
   "id": "ccc1c3fa-3011-4921-961b-52f6e7cfb5ac",
   "metadata": {},
   "outputs": [],
   "source": [
    "def test() :\n",
    "\n",
    "    for i in range(1,10):\n",
    "        sevenMulti = 7*i\n",
    "        if ((7*i)%2 == 0):\n",
    "             print(\"7 x\",i,\"=\",sevenMulti,\"짝수입니다.\")\n",
    "        else :\n",
    "            print(\"7 x\",i,\"=\",sevenMulti,\"홀수입니다.\")\n",
    "    print(\"----------------------------\")\n",
    "    for i in range(1,10):\n",
    "        eightMulti = 8*i\n",
    "        if ((8*i)%2 == 0):\n",
    "            print(\"8 x\",i,\"=\",eightMulti,\"짝수입니다.\")\n",
    "        else :\n",
    "            print(\"8 x\",i,\"=\",eightMulti,\"홀수입니다.\")\n",
    "    print(\"----------------------------\")\n",
    "    for i in range(1,10):\n",
    "        ninetMulti = 9*i\n",
    "        if ((9*i)%2 == 0):\n",
    "            print(\"9 x\",i,\"=\",ninetMulti,\"짝수입니다.\")\n",
    "        else :\n",
    "            print(\"9 x\",i,\"=\",ninetMulti,\"홀수입니다.\")\n",
    "    print(\"----------------------------\")"
   ]
  },
  {
   "cell_type": "code",
   "execution_count": 49,
   "id": "9522f517-bd83-4bee-8578-292832e1318a",
   "metadata": {},
   "outputs": [
    {
     "name": "stdout",
     "output_type": "stream",
     "text": [
      "7 x 1 = 7 홀수입니다.\n",
      "7 x 2 = 14 짝수입니다.\n",
      "7 x 3 = 21 홀수입니다.\n",
      "7 x 4 = 28 짝수입니다.\n",
      "7 x 5 = 35 홀수입니다.\n",
      "7 x 6 = 42 짝수입니다.\n",
      "7 x 7 = 49 홀수입니다.\n",
      "7 x 8 = 56 짝수입니다.\n",
      "7 x 9 = 63 홀수입니다.\n",
      "----------------------------\n",
      "8 x 1 = 8 짝수입니다.\n",
      "8 x 2 = 16 짝수입니다.\n",
      "8 x 3 = 24 짝수입니다.\n",
      "8 x 4 = 32 짝수입니다.\n",
      "8 x 5 = 40 짝수입니다.\n",
      "8 x 6 = 48 짝수입니다.\n",
      "8 x 7 = 56 짝수입니다.\n",
      "8 x 8 = 64 짝수입니다.\n",
      "8 x 9 = 72 짝수입니다.\n",
      "----------------------------\n",
      "9 x 1 = 9 홀수입니다.\n",
      "9 x 2 = 18 짝수입니다.\n",
      "9 x 3 = 27 홀수입니다.\n",
      "9 x 4 = 36 짝수입니다.\n",
      "9 x 5 = 45 홀수입니다.\n",
      "9 x 6 = 54 짝수입니다.\n",
      "9 x 7 = 63 홀수입니다.\n",
      "9 x 8 = 72 짝수입니다.\n",
      "9 x 9 = 81 홀수입니다.\n",
      "----------------------------\n"
     ]
    }
   ],
   "source": [
    "test()"
   ]
  },
  {
   "cell_type": "code",
   "execution_count": null,
   "id": "f8c44b80-2d9c-440c-b7a9-20d50d8775ab",
   "metadata": {},
   "outputs": [],
   "source": [
    "##8번문제"
   ]
  },
  {
   "cell_type": "code",
   "execution_count": 40,
   "id": "c4872ef1-75bf-4bae-839a-3349755070b8",
   "metadata": {},
   "outputs": [],
   "source": [
    "def randomDivGame() :\n",
    "\n",
    "    from random import randrange\n",
    "    randNum = randrange(11)\n",
    "    print(\"숫자를 입력하세요(0~100) : \")\n",
    "    inputNum = input()\n",
    "    inputNum = int(inputNum)\n",
    "    intDiv = int(inputNum/randNum)\n",
    "    if(inputNum<0 or inputNum>100):\n",
    "        print(\"숫자가 큽니다.\")\n",
    "    elif(intDiv % 2 == 1):\n",
    "        print(inputNum,\"을\",randNum, \"로 나눈 값은\",int(inputNum/randNum), \"해당 숫자는 홀수입니다.\")\n",
    "    else:\n",
    "        print(inputNum,\"을\",randNum, \"로 나눈 값은\",int(inputNum/randNum), \"해당 숫자는 짝수입니다.\")"
   ]
  },
  {
   "cell_type": "code",
   "execution_count": 41,
   "id": "3cf5c755-8ef5-4283-b13a-724e1f2d67d6",
   "metadata": {},
   "outputs": [
    {
     "name": "stdout",
     "output_type": "stream",
     "text": [
      "숫자를 입력하세요(0~100) : \n"
     ]
    },
    {
     "name": "stdin",
     "output_type": "stream",
     "text": [
      " 54\n"
     ]
    },
    {
     "name": "stdout",
     "output_type": "stream",
     "text": [
      "54 을 5 로 나눈 값은 10 해당 숫자는 짝수입니다.\n"
     ]
    }
   ],
   "source": [
    "randomDivGame()"
   ]
  },
  {
   "cell_type": "code",
   "execution_count": null,
   "id": "c32597b7-28fd-44b3-98ff-4583f67a663b",
   "metadata": {},
   "outputs": [],
   "source": [
    "##9번문제 만들기"
   ]
  },
  {
   "cell_type": "code",
   "execution_count": 46,
   "id": "147f0696-e9c0-461c-9534-7471b9de30e6",
   "metadata": {},
   "outputs": [],
   "source": [
    "def testGame() :\n",
    "\n",
    "    print(\"숫자를 입력해주세요:\")\n",
    "    inputNum = input()\n",
    "    inputNum = int(inputNum)\n",
    "    divThree = int(inputNum/3)\n",
    "    for i in range(divThree+1):\n",
    "        print(\"입력하신 숫자\",inputNum,\"를 3으로 나눈 값은\",inputNum-(3*i),\"입니다.\")"
   ]
  },
  {
   "cell_type": "code",
   "execution_count": null,
   "id": "1958677b-29c9-4c83-9501-ce3cf42ebd66",
   "metadata": {},
   "outputs": [
    {
     "name": "stdout",
     "output_type": "stream",
     "text": [
      "숫자를 입력해주세요:\n"
     ]
    }
   ],
   "source": [
    "testGame()"
   ]
  }
 ],
 "metadata": {
  "kernelspec": {
   "display_name": "Python 3 (ipykernel)",
   "language": "python",
   "name": "python3"
  },
  "language_info": {
   "codemirror_mode": {
    "name": "ipython",
    "version": 3
   },
   "file_extension": ".py",
   "mimetype": "text/x-python",
   "name": "python",
   "nbconvert_exporter": "python",
   "pygments_lexer": "ipython3",
   "version": "3.9.13"
  }
 },
 "nbformat": 4,
 "nbformat_minor": 5
}
