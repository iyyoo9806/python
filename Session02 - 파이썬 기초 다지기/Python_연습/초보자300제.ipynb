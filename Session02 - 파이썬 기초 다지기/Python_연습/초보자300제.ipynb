{
 "cells": [
  {
   "cell_type": "code",
   "execution_count": 1,
   "id": "84b3a1a0-5eae-4e5b-b879-556726b3ff2d",
   "metadata": {},
   "outputs": [
    {
     "name": "stdout",
     "output_type": "stream",
     "text": [
      "Hello World\n"
     ]
    }
   ],
   "source": [
    "strValue = \"Hello World\"\n",
    "print(strValue)"
   ]
  },
  {
   "cell_type": "code",
   "execution_count": 2,
   "id": "56bb33a4-6c35-4a1b-8a4c-77a7e80ad7d0",
   "metadata": {},
   "outputs": [
    {
     "name": "stdout",
     "output_type": "stream",
     "text": [
      "Mary's cosmetics\n"
     ]
    }
   ],
   "source": [
    "strValue = \"Mary's cosmetics\"\n",
    "print(strValue)"
   ]
  },
  {
   "cell_type": "code",
   "execution_count": 3,
   "id": "8fa13248-1904-4b91-bfdf-2cfcc7b7950b",
   "metadata": {},
   "outputs": [
    {
     "name": "stdout",
     "output_type": "stream",
     "text": [
      "신씨가 소리질렀다. \"도둑이야\".\n"
     ]
    }
   ],
   "source": [
    "strValue = '신씨가 소리질렀다. \"도둑이야\".'\n",
    "print(strValue)"
   ]
  },
  {
   "cell_type": "code",
   "execution_count": 4,
   "id": "3e1987d7-3489-46da-bfa4-8a4f2573e1a0",
   "metadata": {},
   "outputs": [
    {
     "name": "stdout",
     "output_type": "stream",
     "text": [
      "c:\\windows\n"
     ]
    }
   ],
   "source": [
    "print(\"c:\\windows\")"
   ]
  },
  {
   "cell_type": "code",
   "execution_count": 5,
   "id": "8f6ad8fc-8183-40f1-96bd-aa1b5e9f9caf",
   "metadata": {},
   "outputs": [
    {
     "name": "stdout",
     "output_type": "stream",
     "text": [
      "안녕하세요.\n",
      "만나서\t\t반갑습니다.\n"
     ]
    }
   ],
   "source": [
    "print(\"안녕하세요.\\n만나서\\t\\t반갑습니다.\")"
   ]
  },
  {
   "cell_type": "code",
   "execution_count": 6,
   "id": "ded22d5b-5a22-487a-bb0b-66238cc70043",
   "metadata": {},
   "outputs": [
    {
     "name": "stdout",
     "output_type": "stream",
     "text": [
      "오늘은 일요일\n"
     ]
    }
   ],
   "source": [
    "print(\"오늘은\", \"일요일\")"
   ]
  },
  {
   "cell_type": "code",
   "execution_count": 10,
   "id": "779c6325-5d44-4c9a-9dc5-a0c17685a62a",
   "metadata": {},
   "outputs": [
    {
     "name": "stdout",
     "output_type": "stream",
     "text": [
      "naver;kakao;samsung\n"
     ]
    }
   ],
   "source": [
    "print(\"naver\", \"kakao\", \"samsung\", sep=\";\")"
   ]
  },
  {
   "cell_type": "code",
   "execution_count": 11,
   "id": "4911cf6b-e9db-4361-8a6b-486522dcf12e",
   "metadata": {},
   "outputs": [
    {
     "name": "stdout",
     "output_type": "stream",
     "text": [
      "firstsecond\n"
     ]
    }
   ],
   "source": [
    "print(\"first\", end = \"\");print(\"second\")"
   ]
  },
  {
   "cell_type": "code",
   "execution_count": 1,
   "id": "20208963-d500-4491-9e03-3773043ba953",
   "metadata": {},
   "outputs": [
    {
     "name": "stdout",
     "output_type": "stream",
     "text": [
      "29800000000 <class 'int'>\n",
      "50000 <class 'int'>\n",
      "15.79 <class 'float'>\n"
     ]
    }
   ],
   "source": [
    "시가총액 = 29800000000\n",
    "현재가 = 50000\n",
    "PER = 15.79\n",
    "print(시가총액, type(시가총액))\n",
    "print(현재가, type(현재가))\n",
    "print(PER, type(PER))"
   ]
  },
  {
   "cell_type": "code",
   "execution_count": 3,
   "id": "f7f49cb7-1e64-43af-9fb3-519f9217acb7",
   "metadata": {},
   "outputs": [
    {
     "name": "stdout",
     "output_type": "stream",
     "text": [
      "hello! python\n"
     ]
    }
   ],
   "source": [
    "s = \"hello\"\n",
    "t = \"python\"\n",
    "print(s+\"!\",t)"
   ]
  },
  {
   "cell_type": "code",
   "execution_count": 5,
   "id": "e01aa5a8-a746-4c7f-8b31-13831cbdcefe",
   "metadata": {},
   "outputs": [
    {
     "data": {
      "text/plain": [
       "str"
      ]
     },
     "execution_count": 5,
     "metadata": {},
     "output_type": "execute_result"
    }
   ],
   "source": [
    "a = \"132\"\n",
    "type(a)"
   ]
  },
  {
   "cell_type": "code",
   "execution_count": 8,
   "id": "e8cf3240-ea70-4668-a496-52dd4d169b7c",
   "metadata": {},
   "outputs": [
    {
     "name": "stdout",
     "output_type": "stream",
     "text": [
      "720 <class 'int'>\n"
     ]
    }
   ],
   "source": [
    "num_str = \"720\"\n",
    "num_Int = int(num_str)\n",
    "print(num_Int, type(num_Int))"
   ]
  },
  {
   "cell_type": "code",
   "execution_count": 9,
   "id": "b8952ce8-8540-4713-9dbd-7dcf89a5c1f8",
   "metadata": {},
   "outputs": [
    {
     "name": "stdout",
     "output_type": "stream",
     "text": [
      "100 <class 'str'>\n"
     ]
    }
   ],
   "source": [
    "num = 100\n",
    "numStr = str(num)\n",
    "print(numStr, type(numStr))"
   ]
  },
  {
   "cell_type": "code",
   "execution_count": 11,
   "id": "e2d0bcec-79bd-4e5a-acac-2f00cd314b62",
   "metadata": {},
   "outputs": [
    {
     "name": "stdout",
     "output_type": "stream",
     "text": [
      "15.79 <class 'float'>\n"
     ]
    }
   ],
   "source": [
    "floatNum = float(\"15.79\")\n",
    "print(floatNum, type(floatNum))"
   ]
  },
  {
   "cell_type": "code",
   "execution_count": 13,
   "id": "91f0cc3b-fcbe-4bf5-9e4b-af9168143319",
   "metadata": {},
   "outputs": [
    {
     "name": "stdout",
     "output_type": "stream",
     "text": [
      "1년전 2019\n",
      "2년전 2018\n",
      "3년전 2017\n"
     ]
    }
   ],
   "source": [
    "year = \"2020\"\n",
    "yearInt = int(year)\n",
    "print(\"1년전\",yearInt-1)\n",
    "print(\"2년전\",yearInt-2)\n",
    "print(\"3년전\",yearInt-3)"
   ]
  },
  {
   "cell_type": "code",
   "execution_count": 15,
   "id": "ba4608c4-b65d-4d31-b265-dd570c7f8dd3",
   "metadata": {},
   "outputs": [
    {
     "name": "stdout",
     "output_type": "stream",
     "text": [
      "1749024\n"
     ]
    }
   ],
   "source": [
    "monthPrice = 48584\n",
    "period = 36\n",
    "airconPrice = monthPrice * period\n",
    "print(airconPrice)"
   ]
  },
  {
   "cell_type": "code",
   "execution_count": 17,
   "id": "40a51bd4-c364-49e0-8d18-c4a0a9b458fa",
   "metadata": {},
   "outputs": [
    {
     "name": "stdout",
     "output_type": "stream",
     "text": [
      "p t\n"
     ]
    }
   ],
   "source": [
    "letters = 'python'\n",
    "lettersList = list(letters)\n",
    "print(lettersList[0],lettersList[2])"
   ]
  },
  {
   "cell_type": "code",
   "execution_count": 20,
   "id": "604a7455-c079-4203-a851-f85902be891f",
   "metadata": {},
   "outputs": [
    {
     "data": {
      "text/plain": [
       "'2210'"
      ]
     },
     "execution_count": 20,
     "metadata": {},
     "output_type": "execute_result"
    }
   ],
   "source": [
    "license_plate = \"24가 2210\"\n",
    "license_plate[-4:]"
   ]
  },
  {
   "cell_type": "code",
   "execution_count": 27,
   "id": "f7ebb1fc-0e2d-4dfc-89f2-8a27c1e50a6c",
   "metadata": {},
   "outputs": [
    {
     "name": "stdout",
     "output_type": "stream",
     "text": [
      "홀홀홀\n",
      "홀홀홀\n"
     ]
    }
   ],
   "source": [
    "string = \"홀짝홀짝홀짝\"\n",
    "holNum = string.count(\"홀\")\n",
    "threeHol = holNum*string[0]\n",
    "print(string[::2])\n",
    "print(threeHol)\n",
    "      \n",
    "## print(string[::2]"
   ]
  },
  {
   "cell_type": "code",
   "execution_count": 36,
   "id": "158fe6de-6758-4230-b3d3-0c1306d1956d",
   "metadata": {},
   "outputs": [
    {
     "name": "stdout",
     "output_type": "stream",
     "text": [
      "NOHTYP\n"
     ]
    }
   ],
   "source": [
    "string = \"PYTHON\"\n",
    "print(string[::-1])"
   ]
  },
  {
   "cell_type": "code",
   "execution_count": 41,
   "id": "87f44783-58d2-4f94-852a-9e1e5050a84b",
   "metadata": {},
   "outputs": [
    {
     "name": "stdout",
     "output_type": "stream",
     "text": [
      "010 1111 2222\n"
     ]
    }
   ],
   "source": [
    "phone_number = \"010-1111-2222\"\n",
    "phone_number2 = phone_number.replace(\"-\",\" \")\n",
    "print(phone_number2)"
   ]
  },
  {
   "cell_type": "code",
   "execution_count": 42,
   "id": "bb9ab859-6453-4802-b7ec-0d9b7467fed0",
   "metadata": {},
   "outputs": [
    {
     "name": "stdout",
     "output_type": "stream",
     "text": [
      "--------------------------------------------------------------------------------\n"
     ]
    }
   ],
   "source": [
    "print(\"-\" * 80)"
   ]
  },
  {
   "cell_type": "code",
   "execution_count": 45,
   "id": "96356385-16bc-483d-8847-682f057ae1b0",
   "metadata": {},
   "outputs": [
    {
     "name": "stdout",
     "output_type": "stream",
     "text": [
      "python java python java python java python java \n"
     ]
    }
   ],
   "source": [
    "t1 = \"python\"\n",
    "t2 = \"java\"\n",
    "t3 = t1+\" \"+t2 + \" \"\n",
    "print(t3 * 4)"
   ]
  },
  {
   "cell_type": "code",
   "execution_count": 46,
   "id": "17b8c68d-a784-4d96-88dc-22ca6b90d43a",
   "metadata": {},
   "outputs": [
    {
     "name": "stdout",
     "output_type": "stream",
     "text": [
      "이름 : 김민수 나이 : 10\n",
      "이름 : 이철희 나이 : 13\n"
     ]
    }
   ],
   "source": [
    "name1= \"김민수\"\n",
    "age1 = 10\n",
    "name2 = \"이철희\"\n",
    "age2 = 13\n",
    "## print 포맷팅에서 %s 는 문자열 데이터, %d는 정수형 데이터 값 출력)\n",
    "print(\"이름 : %s 나이 : %d\" % (name1,age1))\n",
    "print(\"이름 : %s 나이 : %d\" % (name2,age2))"
   ]
  },
  {
   "cell_type": "code",
   "execution_count": 47,
   "id": "ae22ba45-f17b-4a16-9b48-4c588c3b0c05",
   "metadata": {},
   "outputs": [
    {
     "name": "stdout",
     "output_type": "stream",
     "text": [
      "이름 : 김민수 나이 : 10\n",
      "이름 : 이철희 나이 : 13\n"
     ]
    }
   ],
   "source": [
    "name1= \"김민수\"\n",
    "age1 = 10\n",
    "name2 = \"이철희\"\n",
    "age2 = 13\n",
    "print(\"이름 : {} 나이 : {}\".format(name1, age1))\n",
    "print(\"이름 : {} 나이 : {}\".format(name2, age2))"
   ]
  },
  {
   "cell_type": "code",
   "execution_count": 49,
   "id": "6d452595-509c-450b-8d2d-2032bd600ca0",
   "metadata": {},
   "outputs": [
    {
     "name": "stdout",
     "output_type": "stream",
     "text": [
      "5969782550 <class 'int'>\n"
     ]
    }
   ],
   "source": [
    "상장주식수 = \"5,969,782,550\"\n",
    "strValue = 상장주식수.replace(\",\",\"\")\n",
    "intValue = int(strValue)\n",
    "print(intValue, type(intValue))"
   ]
  },
  {
   "cell_type": "code",
   "execution_count": 51,
   "id": "79c2fac8-cca9-4044-bd99-c1de8bf59216",
   "metadata": {},
   "outputs": [
    {
     "name": "stdout",
     "output_type": "stream",
     "text": [
      "BTC_KRW\n"
     ]
    }
   ],
   "source": [
    "ticker = \"btc_krw\"\n",
    "upperTicker = ticker.upper()\n",
    "print(upperTicker)"
   ]
  },
  {
   "cell_type": "code",
   "execution_count": 53,
   "id": "9b0aff38-6a22-4434-ab7d-a9cba5955deb",
   "metadata": {},
   "outputs": [
    {
     "name": "stdout",
     "output_type": "stream",
     "text": [
      "btc_krw\n"
     ]
    }
   ],
   "source": [
    "ticker = \"BTC_KRW\"\n",
    "lowerTicker = ticker.lower()\n",
    "print(lowerTicker)"
   ]
  },
  {
   "cell_type": "code",
   "execution_count": 57,
   "id": "b6afca3e-5a8c-4862-b08d-db9180b4fa16",
   "metadata": {},
   "outputs": [
    {
     "name": "stdout",
     "output_type": "stream",
     "text": [
      "Hello\n"
     ]
    }
   ],
   "source": [
    "stringValue = \"hello\"\n",
    "string2 = stringValue.capitalize()\n",
    "print(string2)"
   ]
  },
  {
   "cell_type": "code",
   "execution_count": 60,
   "id": "7b16a851-7972-4304-9d9e-6757d9172d65",
   "metadata": {},
   "outputs": [
    {
     "name": "stdout",
     "output_type": "stream",
     "text": [
      "True\n"
     ]
    }
   ],
   "source": [
    "file_name = \"보고서.xlsx\"\n",
    "checkname = file_name.endswith(\"xlsx\")\n",
    "print(checkname)"
   ]
  },
  {
   "cell_type": "code",
   "execution_count": 62,
   "id": "b6765d1f-5639-4f32-81f0-94e69c10b0ea",
   "metadata": {},
   "outputs": [
    {
     "name": "stdout",
     "output_type": "stream",
     "text": [
      "True\n"
     ]
    }
   ],
   "source": [
    "file_name = \"보고서.xlsx\"\n",
    "checkname = file_name.endswith((\"xlsx\",\"xls\"))\n",
    "print(checkname)"
   ]
  },
  {
   "cell_type": "code",
   "execution_count": 65,
   "id": "acef5795-6b1a-42e6-97da-8a2df4d7f3a2",
   "metadata": {},
   "outputs": [
    {
     "name": "stdout",
     "output_type": "stream",
     "text": [
      "['hello', 'world']\n"
     ]
    }
   ],
   "source": [
    "a = \"hello world\"\n",
    "splitWord = a.split()\n",
    "print(splitWord)"
   ]
  },
  {
   "cell_type": "code",
   "execution_count": 67,
   "id": "ff81c2e3-99e6-4dac-bd7a-1574e08af915",
   "metadata": {},
   "outputs": [
    {
     "data": {
      "text/plain": [
       "['btc', 'krw']"
      ]
     },
     "execution_count": 67,
     "metadata": {},
     "output_type": "execute_result"
    }
   ],
   "source": [
    "ticker = \"btc_krw\"\n",
    "ticker.split(\"_\")"
   ]
  },
  {
   "cell_type": "code",
   "execution_count": 71,
   "id": "b4ea2319-37ae-496d-beea-44a76657f7e9",
   "metadata": {},
   "outputs": [
    {
     "name": "stdout",
     "output_type": "stream",
     "text": [
      "2020\n",
      "05\n",
      "01\n"
     ]
    }
   ],
   "source": [
    "date = \"2020-05-01\"\n",
    "splitDate=date.split(\"-\")\n",
    "print(splitDate[0])\n",
    "print(splitDate[1])\n",
    "print(splitDate[2])"
   ]
  },
  {
   "cell_type": "code",
   "execution_count": 73,
   "id": "3fa2118d-6755-4959-800b-a7ab1c731089",
   "metadata": {},
   "outputs": [
    {
     "name": "stdout",
     "output_type": "stream",
     "text": [
      "['닥터 스트레인지', '스플릿', '럭키', '배트맨']\n"
     ]
    }
   ],
   "source": [
    "movie_rank = [\"닥터 스트레인지\",\"스플릿\",\"럭키\"]\n",
    "movie_rank.append(\"배트맨\")\n",
    "print(movie_rank)"
   ]
  }
 ],
 "metadata": {
  "kernelspec": {
   "display_name": "Python 3 (ipykernel)",
   "language": "python",
   "name": "python3"
  },
  "language_info": {
   "codemirror_mode": {
    "name": "ipython",
    "version": 3
   },
   "file_extension": ".py",
   "mimetype": "text/x-python",
   "name": "python",
   "nbconvert_exporter": "python",
   "pygments_lexer": "ipython3",
   "version": "3.9.13"
  }
 },
 "nbformat": 4,
 "nbformat_minor": 5
}
