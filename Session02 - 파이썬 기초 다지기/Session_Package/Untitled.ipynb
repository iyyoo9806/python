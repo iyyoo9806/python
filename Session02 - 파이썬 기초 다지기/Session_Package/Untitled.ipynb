{
 "cells": [
  {
   "cell_type": "code",
   "execution_count": 1,
   "id": "07cb81a8-41c2-4bc5-80db-9cd98fa82814",
   "metadata": {},
   "outputs": [],
   "source": [
    "from iyiyiy import cFunction as cf"
   ]
  },
  {
   "cell_type": "code",
   "execution_count": null,
   "id": "8bd1436c-7bb7-4508-a646-e124b9cfcabf",
   "metadata": {},
   "outputs": [],
   "source": [
    "cf.minMaxAvg"
   ]
  }
 ],
 "metadata": {
  "kernelspec": {
   "display_name": "Python 3 (ipykernel)",
   "language": "python",
   "name": "python3"
  },
  "language_info": {
   "codemirror_mode": {
    "name": "ipython",
    "version": 3
   },
   "file_extension": ".py",
   "mimetype": "text/x-python",
   "name": "python",
   "nbconvert_exporter": "python",
   "pygments_lexer": "ipython3",
   "version": "3.9.13"
  }
 },
 "nbformat": 4,
 "nbformat_minor": 5
}
