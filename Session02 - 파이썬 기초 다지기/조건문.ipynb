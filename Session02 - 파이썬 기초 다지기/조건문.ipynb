{
 "cells": [
  {
   "cell_type": "markdown",
   "id": "70a05de5-f558-461a-9dc5-2fa1c3cb169c",
   "metadata": {},
   "source": [
    "# 조건문"
   ]
  },
  {
   "cell_type": "code",
   "execution_count": 8,
   "id": "9f84c953-5523-47c1-9e4e-990894ed92db",
   "metadata": {},
   "outputs": [],
   "source": [
    "inputScore = 88"
   ]
  },
  {
   "cell_type": "code",
   "execution_count": 9,
   "id": "b5997fbf-fbe2-448e-b7b6-3e61ae54f34e",
   "metadata": {},
   "outputs": [],
   "source": [
    "if inputScore >= 90:\n",
    "    hakjum = \"프리미엄\"\n",
    "elif inputScore >= 80:\n",
    "    hakjum = \"중간\"\n",
    "elif inputScore >= 70:\n",
    "    hakjum = \"약함\"\n",
    "else :\n",
    "    hakjum = \"미달\""
   ]
  },
  {
   "cell_type": "code",
   "execution_count": 10,
   "id": "ccea075e-849d-4d9a-aa39-05b78b5e3a52",
   "metadata": {},
   "outputs": [
    {
     "data": {
      "text/plain": [
       "'중간'"
      ]
     },
     "execution_count": 10,
     "metadata": {},
     "output_type": "execute_result"
    }
   ],
   "source": [
    "hakjum"
   ]
  },
  {
   "cell_type": "code",
   "execution_count": 12,
   "id": "2ea9b9fa-1335-4b35-a1ef-15625c232ce8",
   "metadata": {},
   "outputs": [
    {
     "data": {
      "text/plain": [
       "False"
      ]
     },
     "execution_count": 12,
     "metadata": {},
     "output_type": "execute_result"
    }
   ],
   "source": [
    "inputScore >= 90"
   ]
  },
  {
   "cell_type": "code",
   "execution_count": 13,
   "id": "a4ee94b7-6def-48f6-a0eb-896404b7a194",
   "metadata": {},
   "outputs": [
    {
     "data": {
      "text/plain": [
       "True"
      ]
     },
     "execution_count": 13,
     "metadata": {},
     "output_type": "execute_result"
    }
   ],
   "source": [
    "inputScore >= 80"
   ]
  },
  {
   "cell_type": "code",
   "execution_count": 1,
   "id": "59cfbee8-937e-41a7-bb94-90db51f00d95",
   "metadata": {},
   "outputs": [],
   "source": [
    "## else가 없어도 if문이 돌아가긴 하지만\n",
    "## "
   ]
  },
  {
   "cell_type": "code",
   "execution_count": 6,
   "id": "2c41c605-3d0b-4cff-9c60-88cd3f8ebecf",
   "metadata": {},
   "outputs": [],
   "source": [
    "inputScore = 60\n",
    "\n",
    "hakjum = \"미달\"\n",
    "\n",
    "if inputScore >= 90:\n",
    "    hakjum = \"프리미엄\"\n",
    "elif inputScore >= 80:\n",
    "    hakjum = \"중간\"\n",
    "elif inputScore >= 70:\n",
    "    hakjum = \"약함\""
   ]
  },
  {
   "cell_type": "code",
   "execution_count": 7,
   "id": "dd811212-c426-4379-a4cb-58f5c12462e5",
   "metadata": {},
   "outputs": [
    {
     "data": {
      "text/plain": [
       "'미달'"
      ]
     },
     "execution_count": 7,
     "metadata": {},
     "output_type": "execute_result"
    }
   ],
   "source": [
    "hakjum"
   ]
  },
  {
   "cell_type": "code",
   "execution_count": null,
   "id": "c290ed41-f448-4fe2-a705-73ec32f2c931",
   "metadata": {},
   "outputs": [],
   "source": [
    "## 조건문\n",
    "## 1. 기본조건문 사용방법\n",
    "## 2. 조건문 위에꺼 다 날라간다 중복 조건 설정 필요 x\n",
    "## - 예를들면 >90 / 89> >80 이런게 아닌 >90 / >80\n",
    "## 3. else를 꼭 쓰는 버릇!\n",
    "## 안쓰는게 규칙인 팀에선 초기값을 설정!!!<- else!!"
   ]
  },
  {
   "cell_type": "code",
   "execution_count": null,
   "id": "080ed845-9cd7-4877-b5f7-5005e1a9bf46",
   "metadata": {},
   "outputs": [],
   "source": [
    "# 어떤 집단의 평균 점수를 구하세요\n",
    "# 집단의 인원 3명 점수합이 120\n",
    "# 120/3 = 40"
   ]
  },
  {
   "cell_type": "code",
   "execution_count": 18,
   "id": "3a9ab6d7-2ccb-4cff-9537-74e6cda5e4ea",
   "metadata": {},
   "outputs": [
    {
     "ename": "ZeroDivisionError",
     "evalue": "division by zero",
     "output_type": "error",
     "traceback": [
      "\u001b[1;31m---------------------------------------------------------------------------\u001b[0m",
      "\u001b[1;31mZeroDivisionError\u001b[0m                         Traceback (most recent call last)",
      "\u001b[1;32m~\\AppData\\Local\\Temp\\ipykernel_3068\\1663816245.py\u001b[0m in \u001b[0;36m<module>\u001b[1;34m\u001b[0m\n\u001b[0;32m      2\u001b[0m \u001b[0mbunja\u001b[0m \u001b[1;33m=\u001b[0m \u001b[1;36m300\u001b[0m\u001b[1;33m\u001b[0m\u001b[1;33m\u001b[0m\u001b[0m\n\u001b[0;32m      3\u001b[0m \u001b[1;31m# 나누기를 해보세요!\u001b[0m\u001b[1;33m\u001b[0m\u001b[1;33m\u001b[0m\u001b[0m\n\u001b[1;32m----> 4\u001b[1;33m \u001b[0mbunja\u001b[0m \u001b[1;33m/\u001b[0m \u001b[0mbunmo\u001b[0m\u001b[1;33m\u001b[0m\u001b[1;33m\u001b[0m\u001b[0m\n\u001b[0m",
      "\u001b[1;31mZeroDivisionError\u001b[0m: division by zero"
     ]
    }
   ],
   "source": [
    "bunmo = 0\n",
    "bunja = 300\n",
    "# 나누기를 해보세요!\n",
    "bunja / bunmo"
   ]
  },
  {
   "cell_type": "code",
   "execution_count": null,
   "id": "4faf8633-b051-4b69-97ff-505d6ecb477a",
   "metadata": {},
   "outputs": [],
   "source": [
    "##이런 문제 있을 때 if문을 씀"
   ]
  },
  {
   "cell_type": "code",
   "execution_count": 19,
   "id": "a29c0025-b58d-4ade-9289-4c67482dd21c",
   "metadata": {},
   "outputs": [],
   "source": [
    "if bunmo == 0:\n",
    "    bunja = 0\n",
    "else :\n",
    "    bunja = bunja / bunmo"
   ]
  },
  {
   "cell_type": "code",
   "execution_count": 20,
   "id": "3dca0061-551d-4847-a3d6-409414c0e4e4",
   "metadata": {},
   "outputs": [
    {
     "data": {
      "text/plain": [
       "0"
      ]
     },
     "execution_count": 20,
     "metadata": {},
     "output_type": "execute_result"
    }
   ],
   "source": [
    "bunja"
   ]
  },
  {
   "cell_type": "markdown",
   "id": "863d94d4-44ba-4265-9d37-7710fe4e173c",
   "metadata": {},
   "source": [
    "## tv모델을 선언한다"
   ]
  },
  {
   "cell_type": "code",
   "execution_count": 21,
   "id": "31d2548e-32b3-4078-9b48-cd5cf0593e2f",
   "metadata": {},
   "outputs": [],
   "source": [
    "tvModel = \"UN002\"\n",
    "preFix = \"LEDTV_\""
   ]
  },
  {
   "cell_type": "code",
   "execution_count": null,
   "id": "410ad6bd-10fd-4548-b531-bc26109c73b8",
   "metadata": {},
   "outputs": [],
   "source": [
    "## 모델에 접두억가 이미 있으면 그냥 놔둔다 -> pass\n",
    "## 접두어가 없으면 접두어 붙인다."
   ]
  },
  {
   "cell_type": "code",
   "execution_count": 23,
   "id": "e45675dd-fa78-4f18-b668-a525ad8889d2",
   "metadata": {},
   "outputs": [],
   "source": [
    "if tvModel.count(preFix)>0:\n",
    "    pass\n",
    "else:\n",
    "    tvModel = preFix + tvModel"
   ]
  },
  {
   "cell_type": "code",
   "execution_count": 24,
   "id": "c75e7ccc-fbbc-433a-a911-0efab3d9c43f",
   "metadata": {},
   "outputs": [
    {
     "data": {
      "text/plain": [
       "'LEDTV_UN002'"
      ]
     },
     "execution_count": 24,
     "metadata": {},
     "output_type": "execute_result"
    }
   ],
   "source": [
    "tvModel"
   ]
  },
  {
   "cell_type": "code",
   "execution_count": 25,
   "id": "e7546a14-d873-4308-af11-1de080b54238",
   "metadata": {},
   "outputs": [
    {
     "data": {
      "text/plain": [
       "True"
      ]
     },
     "execution_count": 25,
     "metadata": {},
     "output_type": "execute_result"
    }
   ],
   "source": [
    "tvModel.count(preFix)>0"
   ]
  }
 ],
 "metadata": {
  "kernelspec": {
   "display_name": "Python 3 (ipykernel)",
   "language": "python",
   "name": "python3"
  },
  "language_info": {
   "codemirror_mode": {
    "name": "ipython",
    "version": 3
   },
   "file_extension": ".py",
   "mimetype": "text/x-python",
   "name": "python",
   "nbconvert_exporter": "python",
   "pygments_lexer": "ipython3",
   "version": "3.9.13"
  }
 },
 "nbformat": 4,
 "nbformat_minor": 5
}
