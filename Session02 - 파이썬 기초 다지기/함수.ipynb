{
 "cells": [
  {
   "cell_type": "markdown",
   "id": "0137e506-1121-4f36-8d3d-492a3c8914f5",
   "metadata": {},
   "source": [
    "# 함수(를 만든다)"
   ]
  },
  {
   "cell_type": "code",
   "execution_count": 1,
   "id": "682ae593-d46e-484a-b2a6-8284d7dc7338",
   "metadata": {},
   "outputs": [],
   "source": [
    "### 함수를 만들기 (최소/최대값 빼는 것)"
   ]
  },
  {
   "cell_type": "code",
   "execution_count": 1,
   "id": "5f61a5d9-0075-4008-8a4f-f828b20862b0",
   "metadata": {},
   "outputs": [],
   "source": [
    "def minMaxAvg(testList) :\n",
    "    \"\"\"\n",
    "    최소최대값을 뺀 평균\n",
    "    parameter : testList = 리스트\n",
    "    return : 리스트 내 값에서 최소 최대값을 뺀 평균을 반환한다.\n",
    "    \"\"\"\n",
    "    # testList = [1,5,7,2,6,8,2,5,11]\n",
    "    minValue = min(testList)\n",
    "    maxValue = max(testList)\n",
    "    print(\"최대값{} 최소값{}\".format(maxValue, minValue))\n",
    "\n",
    "    testList.remove(minValue)\n",
    "    testList.remove(maxValue)\n",
    "\n",
    "    average = 0\n",
    "\n",
    "    if len(testList) !=0:\n",
    "        average = sum(testList)/len(testList)\n",
    "    else:\n",
    "        pass\n",
    "\n",
    "    return average"
   ]
  },
  {
   "cell_type": "code",
   "execution_count": 7,
   "id": "912514ac-fd90-4973-84a2-57203b6c1df0",
   "metadata": {},
   "outputs": [],
   "source": [
    "list1 = [1,2,3,4,5]\n",
    "list2 = [7,8,9,10,11,12]\n",
    "list3 = [11,12,13,14,15,16]"
   ]
  },
  {
   "cell_type": "code",
   "execution_count": 8,
   "id": "1bf47b72-0bf1-41dc-8a1c-49fce7d67837",
   "metadata": {},
   "outputs": [
    {
     "name": "stdout",
     "output_type": "stream",
     "text": [
      "최대값5 최소값1\n"
     ]
    }
   ],
   "source": [
    "list2Avg = minMaxAvg(list1)"
   ]
  },
  {
   "cell_type": "code",
   "execution_count": 7,
   "id": "ec518cf0-9d11-48e6-a4ec-45b73b169eb8",
   "metadata": {},
   "outputs": [],
   "source": [
    "def roundPoint2(inValue, inPoint=2) :\n",
    "    \"\"\"\n",
    "    숫자를 소수점 n째 자리에서 내림하는 함수\n",
    "    parameter : inValue ==> float값\n",
    "    return : inValue 값에서 소수점 n째 자리에서 내림한 값을 반환한다.\n",
    "    \"\"\"\n",
    "\n",
    "    # inVlaue = 10.123123124 \n",
    "    # inPoint = 4\n",
    "    roundPoint = 10**inPoint\n",
    "\n",
    "    step1 = inValue * roundPoint\n",
    "\n",
    "    step2 = int(step1)\n",
    "\n",
    "    step3 = step2/roundPoint\n",
    "    return step3"
   ]
  },
  {
   "cell_type": "code",
   "execution_count": 6,
   "id": "c34401d4-bc06-4762-ad6e-f9418192eac4",
   "metadata": {},
   "outputs": [
    {
     "data": {
      "text/plain": [
       "1234.151"
      ]
     },
     "execution_count": 6,
     "metadata": {},
     "output_type": "execute_result"
    }
   ],
   "source": [
    "roundPoint2("
   ]
  },
  {
   "cell_type": "code",
   "execution_count": null,
   "id": "83bcd7f9-0c98-493f-90c0-c3744f770bf0",
   "metadata": {},
   "outputs": [],
   "source": []
  },
  {
   "cell_type": "code",
   "execution_count": null,
   "id": "136a7fb9-13cf-40ab-9a21-96f5c685f8c9",
   "metadata": {},
   "outputs": [],
   "source": []
  },
  {
   "cell_type": "code",
   "execution_count": null,
   "id": "c29c512b-5211-4b8a-b6f9-47295e832c7e",
   "metadata": {},
   "outputs": [],
   "source": []
  },
  {
   "cell_type": "code",
   "execution_count": null,
   "id": "24304710-cba9-4f0a-b67a-4570ac503c7b",
   "metadata": {},
   "outputs": [],
   "source": []
  },
  {
   "cell_type": "code",
   "execution_count": null,
   "id": "d2ce659c-570f-4599-919d-1b54fdd1b9d5",
   "metadata": {},
   "outputs": [],
   "source": []
  },
  {
   "cell_type": "code",
   "execution_count": 6,
   "id": "d49c3d8c-51c5-4d08-a374-5b0bdfb04dad",
   "metadata": {},
   "outputs": [],
   "source": [
    "## 함수를 소숫점 몇째자리 내림하는 함수를 만든다.\n",
    "## 둘째 자리에서 내림하는 함수"
   ]
  },
  {
   "cell_type": "code",
   "execution_count": 27,
   "id": "a2f3fc71-9d30-447e-ba9d-089a8dadd40a",
   "metadata": {},
   "outputs": [],
   "source": [
    "def roundPoint2(inValue) :\n",
    "    \"\"\"\n",
    "    숫자를 소수점 둘째 자리에서 내림하는 함수\n",
    "    parameter : inValue ==> float값\n",
    "    return : inValue 값에서 소수점 둘째 자리에서 내림한 값을 반환한다.\n",
    "    \"\"\"\n",
    "\n",
    "    # inVlaue = 10.123123124 ##10.12 /나머지는 버림\n",
    "\n",
    "    roundPoint = 10**2\n",
    "\n",
    "    step1 = inVlaue * roundPoint\n",
    "\n",
    "    step2 = int(step1)\n",
    "\n",
    "    step3 = step2/roundPoint\n",
    "\n",
    "    return step3"
   ]
  },
  {
   "cell_type": "code",
   "execution_count": 25,
   "id": "be413b13-5d7f-46d9-9968-9963c84a179d",
   "metadata": {},
   "outputs": [],
   "source": [
    "##함수 실습"
   ]
  },
  {
   "cell_type": "code",
   "execution_count": 29,
   "id": "dc5e32e3-5ed9-46a9-bad0-5530bc4ffd47",
   "metadata": {},
   "outputs": [],
   "source": [
    "firstValue = 1124.12431513515\n",
    "\n",
    "answerValue = roundPoint2(firstValue)\n",
    "\n",
    "answerValue"
   ]
  },
  {
   "cell_type": "code",
   "execution_count": null,
   "id": "a22b45c4-59cc-46e1-8bd5-e61f76db8962",
   "metadata": {},
   "outputs": [],
   "source": []
  },
  {
   "cell_type": "code",
   "execution_count": 1,
   "id": "26c4a2b6-4133-4845-b7c2-a7f0ad120df5",
   "metadata": {},
   "outputs": [],
   "source": [
    "def weekCalcul(inputValue, inputMinusWeek):\n",
    "    \"\"\"\n",
    "    특정주차로부터 주차값을 빼서 과거주차를 계산해주는 함수\n",
    "    parameter : intputValue, inputMinusWeek\n",
    "    return : 주차값을 빼서 과거주차를 계산해준다\n",
    "    \"\"\"\n",
    "    from isoweek import Week # 주차정보를 불러오기 위한 라이브러리 선언\n",
    "    # inputValue = \"201701\" # 대입되는 연.주차값\n",
    "    # inputMinusWeek = \"5\" # 대입되는 빼는 주차값\n",
    "    inputValue = str(inputValue) # 문자열로 캐스팅\n",
    "    inputYear = inputValue[0:4] # 년도값을 추출\n",
    "    inputWeek = inputValue[4:6] # 주차값을 추출\n",
    "    year=int(inputYear) # 대입된 년도값을 int로 캐스팅\n",
    "    week=int(inputWeek) # 대입된 주차값을 int로 캐스팅\n",
    "    minusWeek=int(inputMinusWeek) # 대입된 빼는 주차값을 int로 캐스팅\n",
    "    currWeek = week - minusWeek # 계산된 주차값\n",
    "    for i in range(0, minusWeek):\n",
    "        if(currWeek<=0):# 계산된 주차값이 0이하일시(년도값을 내리는 추가적인 계산이 필요할시)\n",
    "            week = Week.last_week_of_year(year-1).week # 년도값을 하나 내려서 주차값 받아옴\n",
    "            year=year - 1 # 년도값을 하나 내림\n",
    "            week = week+currWeek # 년도값을 하나 내려 52or53이 충전된 week값에 잔여 계산된 주차값을 더함\n",
    "            currWeek = week # 추가적인 주차값 계산을 위해 \n",
    "        else:# 계산된 주차값이 0초과일시(년도값을 내리는 추가적인 계산이 필요없을시)\n",
    "            week = currWeek # 계산된 주차값을 주차값에 대입\n",
    "            break # for문을 탈출해서 result로\n",
    "    if(week<10): # 주차값이 10미만일시 주차값 앞에 0을 붙여서(미관상 보기 좋게)\n",
    "        result=str(year)+\"Y0\"+str(week)+\"W\"\n",
    "    else: # 아닐시 그대로\n",
    "        result=str(year)+\"Y\"+str(week)+\"W\"\n",
    "    return result"
   ]
  },
  {
   "cell_type": "code",
   "execution_count": 5,
   "id": "4d55ef4b-12e3-42fb-b949-907afc44712e",
   "metadata": {},
   "outputs": [
    {
     "data": {
      "text/plain": [
       "'2017Y15W'"
      ]
     },
     "execution_count": 5,
     "metadata": {},
     "output_type": "execute_result"
    }
   ],
   "source": [
    "weekCalcul(\"201720\",\"5\")"
   ]
  }
 ],
 "metadata": {
  "kernelspec": {
   "display_name": "Python 3 (ipykernel)",
   "language": "python",
   "name": "python3"
  },
  "language_info": {
   "codemirror_mode": {
    "name": "ipython",
    "version": 3
   },
   "file_extension": ".py",
   "mimetype": "text/x-python",
   "name": "python",
   "nbconvert_exporter": "python",
   "pygments_lexer": "ipython3",
   "version": "3.9.13"
  }
 },
 "nbformat": 4,
 "nbformat_minor": 5
}
