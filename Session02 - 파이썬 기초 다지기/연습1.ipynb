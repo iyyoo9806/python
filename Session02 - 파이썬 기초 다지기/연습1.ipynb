{
 "cells": [
  {
   "cell_type": "code",
   "execution_count": 1,
   "id": "dfd1b1b0-a69d-45d1-ab52-a76e070a6f1a",
   "metadata": {},
   "outputs": [],
   "source": [
    "yearweek = \"2023W03\""
   ]
  },
  {
   "cell_type": "code",
   "execution_count": 2,
   "id": "dfce1d8b-2520-44d9-961b-9f020a221275",
   "metadata": {},
   "outputs": [
    {
     "name": "stdout",
     "output_type": "stream",
     "text": [
      "1\n"
     ]
    }
   ],
   "source": [
    "print(yearweek.count(\"W\"))"
   ]
  },
  {
   "cell_type": "code",
   "execution_count": 5,
   "id": "e1454bc1-d6c9-4099-b556-31147816f67d",
   "metadata": {},
   "outputs": [
    {
     "data": {
      "text/plain": [
       "'2023w01'"
      ]
     },
     "execution_count": 5,
     "metadata": {},
     "output_type": "execute_result"
    }
   ],
   "source": [
    "yearweek = \"2023W01\"\n",
    "yearweek = yearweek.lower()\n",
    "yearweek"
   ]
  },
  {
   "cell_type": "code",
   "execution_count": 8,
   "id": "f408c390-75b1-4dea-bf7c-abe941591b4f",
   "metadata": {},
   "outputs": [
    {
     "data": {
      "text/plain": [
       "['2023', '01']"
      ]
     },
     "execution_count": 8,
     "metadata": {},
     "output_type": "execute_result"
    }
   ],
   "source": [
    "yearweek = \"2023w01\"\n",
    "yearweek = yearweek.split(\"w\")\n",
    "yearweek"
   ]
  },
  {
   "cell_type": "code",
   "execution_count": 11,
   "id": "58d4a116-4820-472a-9c9a-f0034d088394",
   "metadata": {},
   "outputs": [
    {
     "data": {
      "text/plain": [
       "123"
      ]
     },
     "execution_count": 11,
     "metadata": {},
     "output_type": "execute_result"
    }
   ],
   "source": [
    "fValue = 123.45\n",
    "iValue = int(fValue)\n",
    "iValue"
   ]
  },
  {
   "cell_type": "code",
   "execution_count": 12,
   "id": "6b37b208-99de-4d69-8c76-ff4a86e46619",
   "metadata": {},
   "outputs": [
    {
     "data": {
      "text/plain": [
       "12345.0"
      ]
     },
     "execution_count": 12,
     "metadata": {},
     "output_type": "execute_result"
    }
   ],
   "source": [
    "iValue = 12345\n",
    "fValue = float(iValue)\n",
    "fValue"
   ]
  },
  {
   "cell_type": "code",
   "execution_count": 13,
   "id": "43da8984-12c1-42c4-9958-1ff767fc21ea",
   "metadata": {},
   "outputs": [
    {
     "data": {
      "text/plain": [
       "'12345'"
      ]
     },
     "execution_count": 13,
     "metadata": {},
     "output_type": "execute_result"
    }
   ],
   "source": [
    "iValue = 12345\n",
    "nValue = str(iValue)\n",
    "nValue"
   ]
  },
  {
   "cell_type": "code",
   "execution_count": 14,
   "id": "21941b1d-700b-41ca-843d-e2aaa8aaeb23",
   "metadata": {},
   "outputs": [
    {
     "data": {
      "text/plain": [
       "'AAA'"
      ]
     },
     "execution_count": 14,
     "metadata": {},
     "output_type": "execute_result"
    }
   ],
   "source": [
    "ll = \"aaa\"\n",
    "ul = ll.upper()\n",
    "ul"
   ]
  },
  {
   "cell_type": "code",
   "execution_count": 15,
   "id": "c097adf6-9de0-49e8-8c70-c2040e4f5b05",
   "metadata": {},
   "outputs": [],
   "source": [
    "test1 = [1,4,5,3,2,6,8,7,9]"
   ]
  },
  {
   "cell_type": "code",
   "execution_count": 19,
   "id": "b66a177f-075d-46a1-a070-ca2ad58d0a3e",
   "metadata": {},
   "outputs": [],
   "source": [
    "testmin = min(test1)\n",
    "testmax = max(test1)\n",
    "\n",
    "test2 = testmin + testmax\n",
    "\n",
    "test3 = sum(test1) - testmax + testmin"
   ]
  },
  {
   "cell_type": "code",
   "execution_count": 23,
   "id": "c8265977-9847-44f0-b9cc-819be64140bb",
   "metadata": {},
   "outputs": [
    {
     "data": {
      "text/plain": [
       "[9, 8, 7, 6, 5, 4, 3, 2, 1]"
      ]
     },
     "execution_count": 23,
     "metadata": {},
     "output_type": "execute_result"
    }
   ],
   "source": [
    "test1.sort(reverse=True)\n",
    "test1"
   ]
  },
  {
   "cell_type": "code",
   "execution_count": 24,
   "id": "98db8dca-e77b-49ff-93cb-96deba957a5d",
   "metadata": {},
   "outputs": [
    {
     "data": {
      "text/plain": [
       "[1, 2, 3, 4, 5, 6, 7, 8, 9]"
      ]
     },
     "execution_count": 24,
     "metadata": {},
     "output_type": "execute_result"
    }
   ],
   "source": [
    "test1.sort(reverse=False)\n",
    "test1"
   ]
  },
  {
   "cell_type": "code",
   "execution_count": 25,
   "id": "59a8ea63-499a-4410-84e8-42c3fd0045ae",
   "metadata": {},
   "outputs": [],
   "source": [
    "line1 = \"My Name is Darious. and My DMG is 2019\";"
   ]
  },
  {
   "cell_type": "code",
   "execution_count": 28,
   "id": "b793b6b5-e591-4873-9cab-376a1ee4c37c",
   "metadata": {},
   "outputs": [
    {
     "data": {
      "text/plain": [
       "9"
      ]
     },
     "execution_count": 28,
     "metadata": {},
     "output_type": "execute_result"
    }
   ],
   "source": [
    "line2 = line1.split(\" \")\n",
    "legList = len(line2)\n",
    "legList"
   ]
  },
  {
   "cell_type": "code",
   "execution_count": 35,
   "id": "6ee0c4f7-4328-451a-9e2c-abf56f8d4262",
   "metadata": {},
   "outputs": [],
   "source": [
    "letter = \"2023w0310\""
   ]
  },
  {
   "cell_type": "code",
   "execution_count": 36,
   "id": "1ad379e1-e43e-4288-a385-799f961a395b",
   "metadata": {},
   "outputs": [],
   "source": [
    "splitter = \"w\"\n",
    "answer = letter.split(splitter)"
   ]
  },
  {
   "cell_type": "code",
   "execution_count": 37,
   "id": "4cf10453-3120-4bcd-872d-d3702e94efc8",
   "metadata": {},
   "outputs": [
    {
     "data": {
      "text/plain": [
       "['2023', '0310']"
      ]
     },
     "execution_count": 37,
     "metadata": {},
     "output_type": "execute_result"
    }
   ],
   "source": [
    "answer"
   ]
  },
  {
   "cell_type": "code",
   "execution_count": 38,
   "id": "aa6b8af1-abe0-465b-b049-9c3e7c148b47",
   "metadata": {},
   "outputs": [
    {
     "data": {
      "text/plain": [
       "'2023'"
      ]
     },
     "execution_count": 38,
     "metadata": {},
     "output_type": "execute_result"
    }
   ],
   "source": [
    "answer[0]"
   ]
  },
  {
   "cell_type": "code",
   "execution_count": 39,
   "id": "9c682574-bfe2-4d52-99c3-7837523249cb",
   "metadata": {},
   "outputs": [
    {
     "data": {
      "text/plain": [
       "'0310'"
      ]
     },
     "execution_count": 39,
     "metadata": {},
     "output_type": "execute_result"
    }
   ],
   "source": [
    "answer[1]"
   ]
  },
  {
   "cell_type": "code",
   "execution_count": 4,
   "id": "4b6eae29-5015-45f2-a2fd-32577780b6a2",
   "metadata": {},
   "outputs": [
    {
     "name": "stdout",
     "output_type": "stream",
     "text": [
      "SEC\n",
      "20230310\n",
      "250\n"
     ]
    }
   ],
   "source": [
    "testtext = \"SEC 20230310 250\"\n",
    "\n",
    "testtext = testtext.replace(\" \",\"\")\n",
    "\n",
    "stock_name = testtext[:3]\n",
    "date = testtext[3:11]\n",
    "value = testtext[11:]\n",
    "\n",
    "print(stock_name)\n",
    "print(date)\n",
    "print(value)"
   ]
  },
  {
   "cell_type": "code",
   "execution_count": 5,
   "id": "04e217b5-41d4-46de-950c-94d5cf8c20be",
   "metadata": {},
   "outputs": [
    {
     "name": "stdout",
     "output_type": "stream",
     "text": [
      "STOCK NAME : SEC\n",
      "DATA VALUE : 201828\n",
      "VALUE IS : 250\n"
     ]
    }
   ],
   "source": [
    "ta1_full_name = \"Sec 2018W28 250\";\n",
    "ta1_full_name = ta1_full_name.upper();\n",
    "ta1_value = ta1_full_name.split(\" \");\n",
    "ta1_stock_name = ta1_value[0];\n",
    "ta1_date_value = ta1_value[1].replace(\"W\", \"\");\n",
    "ta1_value_value = ta1_value[2];\n",
    "\n",
    "print(\"STOCK NAME : \" + ta1_stock_name);\n",
    "print(\"DATA VALUE : \" + ta1_date_value);\n",
    "print(\"VALUE IS : \" + ta1_value_value);"
   ]
  },
  {
   "cell_type": "code",
   "execution_count": null,
   "id": "05e06ce6-9ec8-4ef8-b824-fff5ccb8002d",
   "metadata": {},
   "outputs": [],
   "source": []
  }
 ],
 "metadata": {
  "kernelspec": {
   "display_name": "Python 3 (ipykernel)",
   "language": "python",
   "name": "python3"
  },
  "language_info": {
   "codemirror_mode": {
    "name": "ipython",
    "version": 3
   },
   "file_extension": ".py",
   "mimetype": "text/x-python",
   "name": "python",
   "nbconvert_exporter": "python",
   "pygments_lexer": "ipython3",
   "version": "3.9.13"
  }
 },
 "nbformat": 4,
 "nbformat_minor": 5
}
