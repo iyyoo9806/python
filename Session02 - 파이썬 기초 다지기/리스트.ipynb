{
 "cells": [
  {
   "cell_type": "code",
   "execution_count": 3,
   "id": "eaaae138-2fea-4188-b940-7e1de323e23f",
   "metadata": {},
   "outputs": [],
   "source": [
    "Flist = [1,2,3,5]"
   ]
  },
  {
   "cell_type": "code",
   "execution_count": 4,
   "id": "88f6941d-578f-4e03-9ee5-7fe6a9a9e78e",
   "metadata": {},
   "outputs": [
    {
     "data": {
      "text/plain": [
       "[1, 2, 3, 5, 4]"
      ]
     },
     "execution_count": 4,
     "metadata": {},
     "output_type": "execute_result"
    }
   ],
   "source": [
    "Flist.append(4)\n",
    "Flist"
   ]
  },
  {
   "cell_type": "code",
   "execution_count": 3,
   "id": "09b0eebf-3b65-4348-9351-42ba03bcded5",
   "metadata": {},
   "outputs": [
    {
     "data": {
      "text/plain": [
       "[1, 2, 3, 100, 5, 4]"
      ]
     },
     "execution_count": 3,
     "metadata": {},
     "output_type": "execute_result"
    }
   ],
   "source": [
    "Flist.insert(3,100)\n",
    "Flist"
   ]
  },
  {
   "cell_type": "code",
   "execution_count": 4,
   "id": "1eb95fb2-9d2d-4541-88d4-a789dc4421f1",
   "metadata": {},
   "outputs": [
    {
     "data": {
      "text/plain": [
       "[1, 2, 3, 100, 5, 4, 11, 12]"
      ]
     },
     "execution_count": 4,
     "metadata": {},
     "output_type": "execute_result"
    }
   ],
   "source": [
    "Flist.extend([11,12])\n",
    "Flist"
   ]
  },
  {
   "cell_type": "code",
   "execution_count": 5,
   "id": "666e0234-bbea-4b34-a401-61460c038fbc",
   "metadata": {},
   "outputs": [
    {
     "name": "stdout",
     "output_type": "stream",
     "text": [
      "4\n"
     ]
    }
   ],
   "source": [
    "print(Flist.index(5))"
   ]
  },
  {
   "cell_type": "code",
   "execution_count": 7,
   "id": "52a8bb47-771d-4789-b9c8-3907714e1d1b",
   "metadata": {},
   "outputs": [
    {
     "data": {
      "text/plain": [
       "3"
      ]
     },
     "execution_count": 7,
     "metadata": {},
     "output_type": "execute_result"
    }
   ],
   "source": [
    "fnList = [1,2,3,3,3,4,5]\n",
    "fnList.count(3)"
   ]
  },
  {
   "cell_type": "code",
   "execution_count": 8,
   "id": "e8b9b7c3-5cab-4d5e-9cf3-7e04872466c9",
   "metadata": {},
   "outputs": [
    {
     "data": {
      "text/plain": [
       "5"
      ]
     },
     "execution_count": 8,
     "metadata": {},
     "output_type": "execute_result"
    }
   ],
   "source": [
    "fnList.pop()"
   ]
  },
  {
   "cell_type": "code",
   "execution_count": 2,
   "id": "d2709b76-248f-40ce-bd3a-ea62555c8bad",
   "metadata": {},
   "outputs": [
    {
     "name": "stdout",
     "output_type": "stream",
     "text": [
      "{'name': 'sec', 'id': '30', 'address': 'suwom'}\n"
     ]
    }
   ],
   "source": [
    "dic = {\"name\":\"sec\",\"id\":\"30\",\"address\":\"suwom\"}\n",
    "print(dic)"
   ]
  },
  {
   "cell_type": "code",
   "execution_count": 3,
   "id": "44be18ae-7d6b-44e0-a1ea-1a3533952b74",
   "metadata": {},
   "outputs": [
    {
     "name": "stdout",
     "output_type": "stream",
     "text": [
      "sec\n"
     ]
    }
   ],
   "source": [
    "dic = {\"name\":\"sec\",\"id\":\"30\",\"address\":\"suwom\"}\n",
    "print(dic['name'])"
   ]
  },
  {
   "cell_type": "code",
   "execution_count": 4,
   "id": "ac1437b1-a046-46be-b4e0-474326a4e438",
   "metadata": {},
   "outputs": [
    {
     "name": "stdout",
     "output_type": "stream",
     "text": [
      "{'name': 'sec2', 'id': '30', 'address': 'suwom', 'stock': 'yes'}\n",
      "yes\n"
     ]
    }
   ],
   "source": [
    "dic[\"name\"] = \"sec2\"\n",
    "dic[\"stock\"] = \"yes\"\n",
    "print(dic)\n",
    "print(dic[\"stock\"])"
   ]
  },
  {
   "cell_type": "code",
   "execution_count": 5,
   "id": "3dd3b97a-632f-48a3-9ed0-3551694b0b4e",
   "metadata": {},
   "outputs": [
    {
     "name": "stdout",
     "output_type": "stream",
     "text": [
      "{'name': 'sec2', 'address': 'suwom', 'stock': 'yes'}\n"
     ]
    }
   ],
   "source": [
    "del dic[\"id\"]\n",
    "print(dic)"
   ]
  },
  {
   "cell_type": "code",
   "execution_count": 6,
   "id": "be2a710b-a83e-471f-afe0-fc56f9394bea",
   "metadata": {},
   "outputs": [
    {
     "name": "stdout",
     "output_type": "stream",
     "text": [
      "{'name': 'sec', 'address': 'suwom'}\n"
     ]
    }
   ],
   "source": [
    "dic = {\"name\":\"sec\",\"id\":\"30\",\"address\":\"suwom\"}\n",
    "\n",
    "del dic[\"id\"]\n",
    "print(dic)"
   ]
  }
 ],
 "metadata": {
  "kernelspec": {
   "display_name": "Python 3 (ipykernel)",
   "language": "python",
   "name": "python3"
  },
  "language_info": {
   "codemirror_mode": {
    "name": "ipython",
    "version": 3
   },
   "file_extension": ".py",
   "mimetype": "text/x-python",
   "name": "python",
   "nbconvert_exporter": "python",
   "pygments_lexer": "ipython3",
   "version": "3.9.13"
  }
 },
 "nbformat": 4,
 "nbformat_minor": 5
}
