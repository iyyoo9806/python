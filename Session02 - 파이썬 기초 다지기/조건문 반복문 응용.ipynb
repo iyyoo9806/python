{
 "cells": [
  {
   "cell_type": "code",
   "execution_count": 1,
   "id": "e644cef3-a8b9-4887-be5c-1e486ba14d87",
   "metadata": {},
   "outputs": [],
   "source": [
    "## 그림 그릴 때 처리는 사각형 조건은 마름모로 그림?"
   ]
  },
  {
   "cell_type": "code",
   "execution_count": 10,
   "id": "7c9ed6ee-9590-479c-98c9-d89ef3b6c6b2",
   "metadata": {},
   "outputs": [],
   "source": [
    "strName = \"LEDTV_52001\"\n",
    "\n",
    "preFix = \"LEDTV_\"\n",
    "\n",
    "if strName.count(preFix) == 0:\n",
    "    strName = preFix + strName\n",
    "\n",
    "elif strName.count(preFix) >= 2:\n",
    "    strName = tvList.repalce(preFix,\"\")\n",
    "    strName = preFix + strName\n",
    "    \n",
    "else:\n",
    "        pass\n",
    "\n",
    "strName"
   ]
  },
  {
   "cell_type": "code",
   "execution_count": 18,
   "id": "03c8288b-7108-494d-b00d-7df8fd402ac5",
   "metadata": {},
   "outputs": [],
   "source": [
    "tvList = [\"LEDTV_LEDTV_UN40EN001\", \"UN40EN002\", \"LEDTV_UN40EN003\", \"UN40EN004\"]\n",
    "# tvList[2].replace(\"LEDTV_\",\"\")\n",
    "# tvList[2]"
   ]
  },
  {
   "cell_type": "code",
   "execution_count": 19,
   "id": "6c74e0b8-a510-4fac-8c06-7c9c215b52aa",
   "metadata": {},
   "outputs": [
    {
     "name": "stdout",
     "output_type": "stream",
     "text": [
      "['LEDTV_UN40EN001', 'LEDTV_UN40EN002', 'LEDTV_UN40EN002', 'LEDTV_UN40EN004']\n"
     ]
    }
   ],
   "source": [
    "preFix = \"LEDTV_\"\n",
    "outModel = \"\"\n",
    "\n",
    "len(tvList)\n",
    "\n",
    "for i in range(0, len(tvList)):\n",
    "    if tvList[i].count(preFix) == 0:\n",
    "        outModel = preFix + tvList[i]\n",
    "    elif tvList[i].count(preFix) >= 2:\n",
    "        inModel = tvList[i]\n",
    "        outModel = preFix + inModel.replace(preFix,\"\")\n",
    "    else:\n",
    "        pass\n",
    "    tvList[i] = outModel\n",
    "    \n",
    "print(tvList)"
   ]
  },
  {
   "cell_type": "code",
   "execution_count": null,
   "id": "be0ab647-85ca-4d83-b962-fc8257358d0f",
   "metadata": {},
   "outputs": [],
   "source": []
  },
  {
   "cell_type": "code",
   "execution_count": 7,
   "id": "1b6a195f-f300-42fb-af52-93592cd97a06",
   "metadata": {},
   "outputs": [],
   "source": [
    "inModelName = \"UN0001\"\n",
    "preFix = \"LEDTV_\""
   ]
  },
  {
   "cell_type": "code",
   "execution_count": 8,
   "id": "6e0f81aa-667d-4248-8271-d92f09b9ddec",
   "metadata": {},
   "outputs": [],
   "source": [
    "outModel = \"\""
   ]
  },
  {
   "cell_type": "code",
   "execution_count": 49,
   "id": "b22947d1-9f78-47b7-9e1f-381b8eb867e0",
   "metadata": {},
   "outputs": [
    {
     "data": {
      "text/plain": [
       "[0, 1, 2]"
      ]
     },
     "execution_count": 49,
     "metadata": {},
     "output_type": "execute_result"
    }
   ],
   "source": [
    "list( range (0, 3) )"
   ]
  },
  {
   "cell_type": "code",
   "execution_count": 47,
   "id": "a58610e4-87f0-4eec-a598-83f91d6ba859",
   "metadata": {},
   "outputs": [],
   "source": [
    "targetList = [\"LEDTV_UN001\",\"LEDTV_LEDTV_UN002\",\"UN003\"]\n",
    "\n",
    "preFix = \"LEDTV_\"\n",
    "\n",
    "outModel = \"\""
   ]
  },
  {
   "cell_type": "code",
   "execution_count": 48,
   "id": "a8c3636e-d9f9-491b-9381-a216b72fee1a",
   "metadata": {},
   "outputs": [
    {
     "name": "stdout",
     "output_type": "stream",
     "text": [
      "0\n",
      "1\n",
      "2\n"
     ]
    }
   ],
   "source": [
    "for i in range (0, 3):\n",
    "    print(i)\n",
    "    inModelName = targetList[i]\n",
    "\n",
    "    if inModelName.count(preFix) == 0:\n",
    "        outModel = preFix + inModelName\n",
    "\n",
    "\n",
    "    elif inModelName.count(preFix) == 1:\n",
    "        outModel = inModelName\n",
    "\n",
    "    elif inModelName.count(preFix) >= 2:\n",
    "        outModel = preFix + inModelName.replace(preFix,\"\")\n",
    "\n",
    "    else:\n",
    "        targetList = inModelName\n",
    "\n",
    "    targetList[i] = outModel"
   ]
  },
  {
   "cell_type": "code",
   "execution_count": 46,
   "id": "2efa0456-fdae-4aa4-b2f6-19979b94b910",
   "metadata": {},
   "outputs": [
    {
     "data": {
      "text/plain": [
       "['LEDTV_UN001', 'LEDTV_UN002', 'LEDTV_UN003']"
      ]
     },
     "execution_count": 46,
     "metadata": {},
     "output_type": "execute_result"
    }
   ],
   "source": [
    "targetList"
   ]
  },
  {
   "cell_type": "code",
   "execution_count": null,
   "id": "503a901d-75b1-4936-802c-054ff64d2e90",
   "metadata": {},
   "outputs": [],
   "source": []
  },
  {
   "cell_type": "code",
   "execution_count": 41,
   "id": "7f2a5256-83ef-4547-96ec-60a30b2d761e",
   "metadata": {},
   "outputs": [
    {
     "data": {
      "text/plain": [
       "True"
      ]
     },
     "execution_count": 41,
     "metadata": {},
     "output_type": "execute_result"
    }
   ],
   "source": [
    "inModelName.count(preFix) == 0"
   ]
  },
  {
   "cell_type": "code",
   "execution_count": null,
   "id": "80b7ffba-3ee5-49bc-a43d-fde6cf355d02",
   "metadata": {},
   "outputs": [],
   "source": []
  },
  {
   "cell_type": "code",
   "execution_count": null,
   "id": "7dc699a2-3d0a-45a9-9b12-b48dd56e7dbf",
   "metadata": {},
   "outputs": [],
   "source": []
  },
  {
   "cell_type": "code",
   "execution_count": 28,
   "id": "26f725cd-b2f2-4afe-b403-d8fdb428d9f7",
   "metadata": {},
   "outputs": [
    {
     "data": {
      "text/plain": [
       "True"
      ]
     },
     "execution_count": 28,
     "metadata": {},
     "output_type": "execute_result"
    }
   ],
   "source": [
    "inModelName.count(preFix) == 1"
   ]
  },
  {
   "cell_type": "code",
   "execution_count": null,
   "id": "d625eb7f-1022-43dc-a103-3ced54890b8f",
   "metadata": {},
   "outputs": [],
   "source": []
  },
  {
   "cell_type": "code",
   "execution_count": null,
   "id": "95c93482-e08f-4ffb-90c2-f881f0ea0228",
   "metadata": {},
   "outputs": [],
   "source": []
  },
  {
   "cell_type": "code",
   "execution_count": 2,
   "id": "b35a3e91-161e-4348-af0f-b0430b397832",
   "metadata": {},
   "outputs": [],
   "source": [
    "for i in range (0, len(targetList)):\n",
    "    \n",
    "    inModelName = targetList[i]\n",
    "    if inModelName.count(preFix) == 0:\n",
    "        outModel = preFix + inModelName\n",
    "        \n",
    "\n",
    "    elif inModelName.count(preFix) == 1:\n",
    "        outModel = inModelName\n",
    "        \n",
    "    elif inModelName.count(preFix) >= 2:\n",
    "        outModel = preFix + inModelName.replace(preFix,\"\")\n",
    "        \n",
    "    else:\n",
    "        targetList = inModelName\n",
    "\n",
    "    targetList[i] = outModel\n",
    "        \n",
    "print(targetList)"
   ]
  },
  {
   "cell_type": "code",
   "execution_count": null,
   "id": "78a28065-0808-4a21-b452-7a757b81933f",
   "metadata": {},
   "outputs": [],
   "source": []
  },
  {
   "cell_type": "code",
   "execution_count": null,
   "id": "4ba71dde-f3c6-4ed4-a3f1-528950879b7e",
   "metadata": {},
   "outputs": [],
   "source": [
    "targetList = [\"LEDTV_UN001\",\"LEDTV_LEDTV_UN002\",\"UN003\"]"
   ]
  }
 ],
 "metadata": {
  "kernelspec": {
   "display_name": "Python 3 (ipykernel)",
   "language": "python",
   "name": "python3"
  },
  "language_info": {
   "codemirror_mode": {
    "name": "ipython",
    "version": 3
   },
   "file_extension": ".py",
   "mimetype": "text/x-python",
   "name": "python",
   "nbconvert_exporter": "python",
   "pygments_lexer": "ipython3",
   "version": "3.9.13"
  }
 },
 "nbformat": 4,
 "nbformat_minor": 5
}
