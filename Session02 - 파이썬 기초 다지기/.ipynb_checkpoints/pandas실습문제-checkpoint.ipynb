{
 "cells": [
  {
   "cell_type": "code",
   "execution_count": 4,
   "id": "174a19ef-c1c1-463b-88b2-2320c4846317",
   "metadata": {},
   "outputs": [
    {
     "data": {
      "text/plain": [
       "35248.91490376756"
      ]
     },
     "execution_count": 4,
     "metadata": {},
     "output_type": "execute_result"
    }
   ],
   "source": [
    "import pandas as pd\n",
    "\n",
    "customerData = pd.read_csv(\"../dataset/kopo_customerdata.csv\")\n",
    "\n",
    "customerTotalList = customerData[\"TOTAL_AMOUNT\"].tolist()\n",
    "\n",
    "listsum = sum(customerTotalList);\n",
    "listmax = max(customerTotalList);\n",
    "maxnum = customerTotalList.count(listmax);\n",
    "\n",
    "listmin = min(customerTotalList);\n",
    "minnum = customerTotalList.count(listmin)\n",
    "\n",
    "listlen = len(customerTotalList);\n",
    "listtest = (listsum - (listmin*minnum) - (listmax*maxnum))/(listlen-(maxnum+minnum))\n",
    "listtest"
   ]
  },
  {
   "cell_type": "code",
   "execution_count": null,
   "id": "65bc1e28-440a-4cb6-b3a2-3e982dedd440",
   "metadata": {},
   "outputs": [],
   "source": []
  }
 ],
 "metadata": {
  "kernelspec": {
   "display_name": "Python 3 (ipykernel)",
   "language": "python",
   "name": "python3"
  },
  "language_info": {
   "codemirror_mode": {
    "name": "ipython",
    "version": 3
   },
   "file_extension": ".py",
   "mimetype": "text/x-python",
   "name": "python",
   "nbconvert_exporter": "python",
   "pygments_lexer": "ipython3",
   "version": "3.9.13"
  }
 },
 "nbformat": 4,
 "nbformat_minor": 5
}
