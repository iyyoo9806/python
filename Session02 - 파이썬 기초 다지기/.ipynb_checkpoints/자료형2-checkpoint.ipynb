{
 "cells": [
  {
   "cell_type": "markdown",
   "id": "21295f1e-4f8d-4c9c-9d4f-b8d64a1d83dc",
   "metadata": {},
   "source": [
    "# 데이터 타입 문자"
   ]
  },
  {
   "cell_type": "code",
   "execution_count": null,
   "id": "2061094b-552a-4e5f-9203-64c4f04ab9d6",
   "metadata": {},
   "outputs": [],
   "source": [
    "## 문자열 더하기"
   ]
  },
  {
   "cell_type": "code",
   "execution_count": null,
   "id": "25d070df-e55b-471d-b3c5-640e4ac04649",
   "metadata": {},
   "outputs": [],
   "source": [
    "asdfasdf"
   ]
  },
  {
   "cell_type": "code",
   "execution_count": 2,
   "id": "3ddabdf4-0c89-48fb-9749-88dc0a93a9ec",
   "metadata": {},
   "outputs": [
    {
     "name": "stdout",
     "output_type": "stream",
     "text": [
      "database access completed\n"
     ]
    }
   ],
   "source": [
    "print(\"database access completed\")"
   ]
  },
  {
   "cell_type": "code",
   "execution_count": 38,
   "id": "4578f6c4-5b30-4156-afa1-11d370dd65f9",
   "metadata": {},
   "outputs": [
    {
     "name": "stdout",
     "output_type": "stream",
     "text": [
      "*****database access completed*****\n"
     ]
    }
   ],
   "source": [
    "print(\"*\"*5+\"database access completed\"+ \"*\"*5)"
   ]
  },
  {
   "cell_type": "code",
   "execution_count": null,
   "id": "fe4b06c4-933a-4315-8b8c-d6cde89fc0d0",
   "metadata": {},
   "outputs": [],
   "source": [
    "## 문자열 인덱싱 0부터 시작"
   ]
  },
  {
   "cell_type": "code",
   "execution_count": 4,
   "id": "729f95da-7fa9-4a53-aef9-e979843815c2",
   "metadata": {},
   "outputs": [],
   "source": [
    "yearweek = \"202301\""
   ]
  },
  {
   "cell_type": "code",
   "execution_count": 5,
   "id": "f75f524d-ae06-4a51-97ff-e82cbe87d552",
   "metadata": {},
   "outputs": [
    {
     "data": {
      "text/plain": [
       "'2'"
      ]
     },
     "execution_count": 5,
     "metadata": {},
     "output_type": "execute_result"
    }
   ],
   "source": [
    "yearweek[0]"
   ]
  },
  {
   "cell_type": "code",
   "execution_count": 6,
   "id": "2a0251ac-a65d-4910-a868-28a9061d5a08",
   "metadata": {},
   "outputs": [
    {
     "data": {
      "text/plain": [
       "'2023'"
      ]
     },
     "execution_count": 6,
     "metadata": {},
     "output_type": "execute_result"
    }
   ],
   "source": [
    "yearweek[0:4]"
   ]
  },
  {
   "cell_type": "code",
   "execution_count": 7,
   "id": "02764b5b-bcec-4364-a23e-692fd2e949d6",
   "metadata": {},
   "outputs": [
    {
     "data": {
      "text/plain": [
       "'01'"
      ]
     },
     "execution_count": 7,
     "metadata": {},
     "output_type": "execute_result"
    }
   ],
   "source": [
    "yearweek[4:]"
   ]
  },
  {
   "cell_type": "code",
   "execution_count": 8,
   "id": "e816459b-aacd-431c-b7e9-696171ac98de",
   "metadata": {},
   "outputs": [],
   "source": [
    "# 기준 값(고객과 협의됨) -> 이것은 da에 넣어두는 것이 좋다!"
   ]
  },
  {
   "cell_type": "code",
   "execution_count": 12,
   "id": "2af456ab-c007-484b-bde7-930857d5209b",
   "metadata": {},
   "outputs": [],
   "source": [
    "yearLen = 4\n",
    "weekLen = 2    #### 하드코딩"
   ]
  },
  {
   "cell_type": "code",
   "execution_count": 11,
   "id": "3a1cb4eb-5bca-41c6-bc1f-f7ca85671862",
   "metadata": {},
   "outputs": [
    {
     "data": {
      "text/plain": [
       "'01'"
      ]
     },
     "execution_count": 11,
     "metadata": {},
     "output_type": "execute_result"
    }
   ],
   "source": [
    "yearweek[yearLen:]"
   ]
  },
  {
   "cell_type": "code",
   "execution_count": 227,
   "id": "e8d497f5-6aa4-4e3e-9737-03f41b4eb39e",
   "metadata": {},
   "outputs": [
    {
     "data": {
      "text/plain": [
       "1"
      ]
     },
     "execution_count": 227,
     "metadata": {},
     "output_type": "execute_result"
    }
   ],
   "source": [
    "# 문자열 개수세기\n",
    "\n",
    "yearweek = \"2023W01\"\n",
    "\n",
    "yearweek.count(\"W\")  ### yearweek 에 W가 있는지 없는지 찾아보기, 1개 있다라고 답변나옴"
   ]
  },
  {
   "cell_type": "code",
   "execution_count": 13,
   "id": "7137291f-5a0c-4fe8-8cfc-f6fe1687fc61",
   "metadata": {},
   "outputs": [],
   "source": [
    "### .누르고텝 누르면 무엇을 실행할 수 있는지 목록이 나옴 \n",
    "### ( 를 누르고 쉬프트 탭을 하면 무엇을 하는지 나옴"
   ]
  },
  {
   "cell_type": "code",
   "execution_count": 228,
   "id": "e1adcf1f-abf2-4206-8348-6cf3d6b584e9",
   "metadata": {},
   "outputs": [
    {
     "data": {
      "text/plain": [
       "4"
      ]
     },
     "execution_count": 228,
     "metadata": {},
     "output_type": "execute_result"
    }
   ],
   "source": [
    "# 문자열 위치 확인 -> 몇번째에 지정한 단어가 있는지 알려줌 -> W의 위치가 4번 째에 있다고 알려줌\n",
    "\n",
    "yearweek.index(\"W\")"
   ]
  },
  {
   "cell_type": "code",
   "execution_count": 21,
   "id": "d97b625d-496a-4458-8385-2004b188cd8b",
   "metadata": {},
   "outputs": [],
   "source": [
    "yearValue = yearweek[:stdChar]"
   ]
  },
  {
   "cell_type": "code",
   "execution_count": 23,
   "id": "6197573a-a778-4ded-a7aa-e4c169ce8530",
   "metadata": {},
   "outputs": [],
   "source": [
    "weekValue = yearweek[stdChar:]"
   ]
  },
  {
   "cell_type": "code",
   "execution_count": null,
   "id": "6193137b-4301-4ad1-9f86-1746bd3e2c1e",
   "metadata": {},
   "outputs": [],
   "source": [
    "# 대소문자 구별함수 (upper/lower)"
   ]
  },
  {
   "cell_type": "code",
   "execution_count": 230,
   "id": "eef5f38f-cb64-45bc-aed8-bd35aed14ba9",
   "metadata": {},
   "outputs": [
    {
     "data": {
      "text/plain": [
       "'2023W01'"
      ]
     },
     "execution_count": 230,
     "metadata": {},
     "output_type": "execute_result"
    }
   ],
   "source": [
    "yearweek = \"2023w01\"\n",
    "yearweek = yearweek.upper()\n",
    "yearweek"
   ]
  },
  {
   "cell_type": "code",
   "execution_count": 29,
   "id": "41c3c414-fe25-4afa-a937-1a491d9c65b3",
   "metadata": {},
   "outputs": [],
   "source": [
    "### 문자치환"
   ]
  },
  {
   "cell_type": "code",
   "execution_count": 232,
   "id": "00d24854-f6bd-4081-baba-4857550eaaa9",
   "metadata": {},
   "outputs": [
    {
     "data": {
      "text/plain": [
       "'202310'"
      ]
     },
     "execution_count": 232,
     "metadata": {},
     "output_type": "execute_result"
    }
   ],
   "source": [
    "yearweek = \"2023@!#@!$10\"\n",
    "yearweek.replace(\"@!#@!$\",\"\")"
   ]
  },
  {
   "cell_type": "code",
   "execution_count": 233,
   "id": "e40cc7eb-6bf5-487c-87a4-34ee4d9e4248",
   "metadata": {},
   "outputs": [
    {
     "data": {
      "text/plain": [
       "'2023_10'"
      ]
     },
     "execution_count": 233,
     "metadata": {},
     "output_type": "execute_result"
    }
   ],
   "source": [
    "yearweek = \"2023@!#@!$10\"\n",
    "yearweek.replace(\"@!#@!$\",\"_\")"
   ]
  },
  {
   "cell_type": "code",
   "execution_count": 234,
   "id": "67ac19c0-a3c2-4a87-863a-dc42454c0084",
   "metadata": {},
   "outputs": [
    {
     "data": {
      "text/plain": [
       "'202310'"
      ]
     },
     "execution_count": 234,
     "metadata": {},
     "output_type": "execute_result"
    }
   ],
   "source": [
    "yearweek = \"2023      10\"\n",
    "yearweek.replace(\" \",\"\")"
   ]
  },
  {
   "cell_type": "code",
   "execution_count": 235,
   "id": "36b9437c-c323-4d19-a825-c61eb1d78f91",
   "metadata": {},
   "outputs": [
    {
     "data": {
      "text/plain": [
       "'202310'"
      ]
     },
     "execution_count": 235,
     "metadata": {},
     "output_type": "execute_result"
    }
   ],
   "source": [
    "##정규표현식\n",
    "\n",
    "yearweek = \"2023!@#10\"\n",
    "\n",
    "import re #(regular 정규표현식)\n",
    "\n",
    "refinedYearweek = re.sub(\"[)(!@#]\",\"\",yearweek)\n",
    "refinedYearweek"
   ]
  },
  {
   "cell_type": "code",
   "execution_count": null,
   "id": "2f57fe78-ce2f-4250-b33d-3467ad3a8d93",
   "metadata": {},
   "outputs": [],
   "source": [
    "yearweek = \"2016W12\""
   ]
  },
  {
   "cell_type": "code",
   "execution_count": 50,
   "id": "79b8c28e-54f4-4329-a23d-643b5cffaec5",
   "metadata": {},
   "outputs": [],
   "source": [
    "stdChar =\"W\""
   ]
  },
  {
   "cell_type": "code",
   "execution_count": 54,
   "id": "a7778f9e-ad43-4fb8-9e8b-b0436b06a8ea",
   "metadata": {},
   "outputs": [
    {
     "data": {
      "text/plain": [
       "'201612'"
      ]
     },
     "execution_count": 54,
     "metadata": {},
     "output_type": "execute_result"
    }
   ],
   "source": [
    "yearweek.replace(\"W\",\"\")"
   ]
  },
  {
   "cell_type": "markdown",
   "id": "b92c44dc-60a0-4d06-a2cc-288097f4e539",
   "metadata": {
    "tags": []
   },
   "source": [
    "# 형변환"
   ]
  },
  {
   "cell_type": "code",
   "execution_count": 57,
   "id": "615612b9-a780-4018-a321-096cb8abc36e",
   "metadata": {},
   "outputs": [],
   "source": [
    "yearweek = yearweek.replace(\"W\",\"\")"
   ]
  },
  {
   "cell_type": "code",
   "execution_count": 58,
   "id": "7268be59-c255-4aad-9ff0-20d92a7c61e2",
   "metadata": {},
   "outputs": [
    {
     "data": {
      "text/plain": [
       "201622"
      ]
     },
     "execution_count": 58,
     "metadata": {},
     "output_type": "execute_result"
    }
   ],
   "source": [
    "int( yearweek ) + 10"
   ]
  },
  {
   "cell_type": "code",
   "execution_count": null,
   "id": "23de187a-845c-4eb3-b1b8-3528b36ee2c5",
   "metadata": {},
   "outputs": [],
   "source": [
    "### 숫자를 문자를 바꾸겠다."
   ]
  },
  {
   "cell_type": "code",
   "execution_count": 59,
   "id": "b156e57b-ecc9-4105-a126-7d2c141d4cc8",
   "metadata": {},
   "outputs": [],
   "source": [
    "inValue = 202301"
   ]
  },
  {
   "cell_type": "code",
   "execution_count": 60,
   "id": "eb78d60f-6185-43ac-82b2-8d91a031ba95",
   "metadata": {},
   "outputs": [],
   "source": [
    "### 잘못된 예제\n",
    "year = 2023\n",
    "week = 1"
   ]
  },
  {
   "cell_type": "code",
   "execution_count": 63,
   "id": "0fcae953-5da1-4231-a2ea-a06b052e4e0e",
   "metadata": {},
   "outputs": [],
   "source": [
    "inValue = 202301"
   ]
  },
  {
   "cell_type": "code",
   "execution_count": 64,
   "id": "0e9aa8c4-5954-4b58-8d19-e51a49f51fd7",
   "metadata": {},
   "outputs": [],
   "source": [
    "inValue = str(inValue)"
   ]
  },
  {
   "cell_type": "code",
   "execution_count": 65,
   "id": "eaa15066-3f03-4c80-a80b-71f9518b2b64",
   "metadata": {},
   "outputs": [],
   "source": [
    "yearLen = 4"
   ]
  },
  {
   "cell_type": "code",
   "execution_count": 66,
   "id": "b4b2ac51-f64b-40c4-b54f-7ded42ace71d",
   "metadata": {},
   "outputs": [],
   "source": [
    "year = inValue[:4]\n",
    "week = inValue[2:]"
   ]
  },
  {
   "cell_type": "code",
   "execution_count": 67,
   "id": "46e116bd-4358-43d9-8d73-506f5876603e",
   "metadata": {},
   "outputs": [
    {
     "data": {
      "text/plain": [
       "'2023'"
      ]
     },
     "execution_count": 67,
     "metadata": {},
     "output_type": "execute_result"
    }
   ],
   "source": [
    "year"
   ]
  },
  {
   "cell_type": "code",
   "execution_count": 79,
   "id": "26bee371-d070-46aa-bf7c-c54be587834d",
   "metadata": {},
   "outputs": [],
   "source": [
    "## 실습  (주식코드 : 3자리, 연주차코드는 : 7자리, 거래량 : 3자리)"
   ]
  },
  {
   "cell_type": "code",
   "execution_count": 107,
   "id": "cbc83312-50e9-4821-810f-dd8c329b7e8a",
   "metadata": {},
   "outputs": [
    {
     "name": "stdout",
     "output_type": "stream",
     "text": [
      "SEC\n",
      "201828 \n",
      "250\n"
     ]
    }
   ],
   "source": [
    "inFo = \"Sec 2018W28 250\"\n",
    "inFo = inFo.upper()\n",
    "inFo = inFo.replace(\"W\",\"\")\n",
    "inFo.replace(\" \",\"\")\n",
    "stock_name = inFo[:3]\n",
    "date = inFo[4:11]\n",
    "value = inFo[-3:]\n",
    "\n",
    "print(stock_name)\n",
    "print(date)\n",
    "print(value)"
   ]
  },
  {
   "cell_type": "code",
   "execution_count": null,
   "id": "5adc5af1-3787-416f-a276-1d7341a0f42a",
   "metadata": {},
   "outputs": [],
   "source": [
    "### 교수님 풀이"
   ]
  },
  {
   "cell_type": "code",
   "execution_count": 93,
   "id": "81ce3d84-20d4-4020-8ad1-bdd6dad14eab",
   "metadata": {},
   "outputs": [],
   "source": [
    "inValue = \"Sec 2018W28 250\""
   ]
  },
  {
   "cell_type": "code",
   "execution_count": 94,
   "id": "4756404d-fd66-411c-9f6e-c6bff5f444e6",
   "metadata": {},
   "outputs": [],
   "source": [
    "stdChar = \"W\"\n",
    "cleanedData = inValue.upper()\n",
    "delimeter = \" \"\n",
    "firstDeli = cleanedData.index(delimeter)\n",
    "stockName = cleanedData[:firstDeli]\n",
    "middleData = cleanedData[firstDeli]\n",
    "lastData = cleanedData[firstDeli+1]\n",
    "# 이따 영상 보고 ㄱㄱ"
   ]
  },
  {
   "cell_type": "markdown",
   "id": "9ecc149a-0dd5-49fb-a65f-4888ba0443e7",
   "metadata": {},
   "source": [
    "# 리스트"
   ]
  },
  {
   "cell_type": "code",
   "execution_count": 110,
   "id": "f23cfc22-fb7c-4ea1-a40f-56f2b8870033",
   "metadata": {},
   "outputs": [],
   "source": [
    "# 특정 집합 모음을 표현할 수 있는 자료형"
   ]
  },
  {
   "cell_type": "code",
   "execution_count": 111,
   "id": "01e84d34-4f89-47da-a1d8-70a0fda0c924",
   "metadata": {},
   "outputs": [],
   "source": [
    "emptyList =[]"
   ]
  },
  {
   "cell_type": "code",
   "execution_count": 113,
   "id": "346ce610-3477-4668-8591-b362d820b793",
   "metadata": {},
   "outputs": [
    {
     "data": {
      "text/plain": [
       "[1, 2, 3, 4, 5]"
      ]
     },
     "execution_count": 113,
     "metadata": {},
     "output_type": "execute_result"
    }
   ],
   "source": [
    "pricelist = [1,2,3,4,5]\n",
    "pricelist"
   ]
  },
  {
   "cell_type": "code",
   "execution_count": 114,
   "id": "41ae7005-6f5b-4096-b72e-6221da80475a",
   "metadata": {},
   "outputs": [
    {
     "data": {
      "text/plain": [
       "['SEC', 120, 130, [202310, 202312], 'b']"
      ]
     },
     "execution_count": 114,
     "metadata": {},
     "output_type": "execute_result"
    }
   ],
   "source": [
    "compList = [\"SEC\",120,130,[202310,202312],\"b\"]\n",
    "compList"
   ]
  },
  {
   "cell_type": "code",
   "execution_count": 115,
   "id": "8e5e918c-bf79-4d70-a239-30b9f3b6f6ce",
   "metadata": {},
   "outputs": [],
   "source": [
    "# 리스트 연산"
   ]
  },
  {
   "cell_type": "code",
   "execution_count": 116,
   "id": "0088183b-c778-4b8a-b319-b1eaae8d4786",
   "metadata": {},
   "outputs": [
    {
     "data": {
      "text/plain": [
       "[1, 2, 3, 4, 5, 6, 7, 8]"
      ]
     },
     "execution_count": 116,
     "metadata": {},
     "output_type": "execute_result"
    }
   ],
   "source": [
    "priceList = [1,2,3,4]\n",
    "priceList2 = [5,6,7,8]\n",
    "priceList + priceList2"
   ]
  },
  {
   "cell_type": "code",
   "execution_count": 117,
   "id": "147d33e7-5a2c-4727-ad88-eedf82347b3c",
   "metadata": {},
   "outputs": [],
   "source": [
    "#리스트 인덱싱"
   ]
  },
  {
   "cell_type": "code",
   "execution_count": 120,
   "id": "f9c378cb-50c7-4c50-8d91-601fe238d475",
   "metadata": {},
   "outputs": [],
   "source": [
    "testList = [1,\"한국\",2,\"미국\",3,\"네덜란드\"]"
   ]
  },
  {
   "cell_type": "code",
   "execution_count": 125,
   "id": "c9a93205-0f65-4fc2-b730-d28b59d5e567",
   "metadata": {},
   "outputs": [
    {
     "data": {
      "text/plain": [
       "'한국'"
      ]
     },
     "execution_count": 125,
     "metadata": {},
     "output_type": "execute_result"
    }
   ],
   "source": [
    "testList[1]"
   ]
  },
  {
   "cell_type": "code",
   "execution_count": 126,
   "id": "f0122952-19cb-4b29-bf9c-6566b9a4cc45",
   "metadata": {},
   "outputs": [
    {
     "data": {
      "text/plain": [
       "[1, '한국', 2]"
      ]
     },
     "execution_count": 126,
     "metadata": {},
     "output_type": "execute_result"
    }
   ],
   "source": [
    "testList[:3]"
   ]
  },
  {
   "cell_type": "code",
   "execution_count": 127,
   "id": "c1aaa85b-1d12-426d-a160-0a35c77e0bb3",
   "metadata": {},
   "outputs": [],
   "source": [
    "# 리스트 길이"
   ]
  },
  {
   "cell_type": "code",
   "execution_count": 128,
   "id": "c6c66b96-8e72-4bf2-9336-7c7004d508e2",
   "metadata": {},
   "outputs": [
    {
     "data": {
      "text/plain": [
       "6"
      ]
     },
     "execution_count": 128,
     "metadata": {},
     "output_type": "execute_result"
    }
   ],
   "source": [
    "len(testList)"
   ]
  },
  {
   "cell_type": "code",
   "execution_count": 134,
   "id": "d94e849c-8c29-4fd6-ac75-f4fea956299c",
   "metadata": {},
   "outputs": [],
   "source": [
    "# 리스트 내에서 replace 활용 예시"
   ]
  },
  {
   "cell_type": "code",
   "execution_count": 130,
   "id": "18a3129c-a562-4438-b269-62e2030fd57a",
   "metadata": {},
   "outputs": [],
   "source": [
    "testList2 = [1,\"한^국\",2,\"미국\"]"
   ]
  },
  {
   "cell_type": "code",
   "execution_count": 132,
   "id": "a13868b0-6e4f-4137-82e6-18676daca87e",
   "metadata": {},
   "outputs": [],
   "source": [
    "testList2[1] = testList2[1].replace(\"^\",\"\")"
   ]
  },
  {
   "cell_type": "code",
   "execution_count": 133,
   "id": "e6ae6d6a-3c36-4cad-b2ef-a63d25494841",
   "metadata": {},
   "outputs": [
    {
     "data": {
      "text/plain": [
       "[1, '한국', 2, '미국']"
      ]
     },
     "execution_count": 133,
     "metadata": {},
     "output_type": "execute_result"
    }
   ],
   "source": [
    "testList2"
   ]
  },
  {
   "cell_type": "code",
   "execution_count": 135,
   "id": "36dbeeab-967e-4c74-88f3-dc4e7728c2e6",
   "metadata": {},
   "outputs": [],
   "source": [
    "#리스트 값 업데이트 하기"
   ]
  },
  {
   "cell_type": "code",
   "execution_count": 136,
   "id": "de6263b1-fe87-46b5-915a-d9a53238926f",
   "metadata": {},
   "outputs": [
    {
     "name": "stdout",
     "output_type": "stream",
     "text": [
      "[1, 2, 3, 4]\n",
      "[1, 2, 8, 4]\n"
     ]
    }
   ],
   "source": [
    "updateList = [1,2,3,4]\n",
    "print(updateList)\n",
    "updateList[2] = 8\n",
    "print(updateList)"
   ]
  },
  {
   "cell_type": "code",
   "execution_count": null,
   "id": "807d1cd2-f8dc-4f0d-a2be-e3bc1242e8bf",
   "metadata": {},
   "outputs": [],
   "source": [
    "#리스트"
   ]
  },
  {
   "cell_type": "code",
   "execution_count": null,
   "id": "6b515c0c-0203-4e3d-bd7c-7a0e47a49ea4",
   "metadata": {},
   "outputs": [],
   "source": []
  },
  {
   "cell_type": "code",
   "execution_count": 160,
   "id": "bc56be22-ffea-490e-92c4-092bf950965d",
   "metadata": {},
   "outputs": [],
   "source": [
    "testList = [1,2,3,4]"
   ]
  },
  {
   "cell_type": "code",
   "execution_count": 161,
   "id": "868de2cb-d369-4ac0-8072-06b63700a1eb",
   "metadata": {},
   "outputs": [],
   "source": [
    "adData = 10"
   ]
  },
  {
   "cell_type": "code",
   "execution_count": 162,
   "id": "98621401-d1a5-4e2a-bfaf-01b68e679a52",
   "metadata": {},
   "outputs": [
    {
     "data": {
      "text/plain": [
       "[99999, 2, 3, 4]"
      ]
     },
     "execution_count": 162,
     "metadata": {},
     "output_type": "execute_result"
    }
   ],
   "source": [
    "testList[0] = 99999\n",
    "testList"
   ]
  },
  {
   "cell_type": "code",
   "execution_count": 163,
   "id": "0a29cc44-484d-4517-a23c-b93438dd6396",
   "metadata": {},
   "outputs": [
    {
     "data": {
      "text/plain": [
       "[99999, 2, 3, 4, 10]"
      ]
     },
     "execution_count": 163,
     "metadata": {},
     "output_type": "execute_result"
    }
   ],
   "source": [
    "testList.append(adData)\n",
    "testList"
   ]
  },
  {
   "cell_type": "code",
   "execution_count": 164,
   "id": "562afe9e-90e1-419e-a36e-97465a71b751",
   "metadata": {},
   "outputs": [
    {
     "data": {
      "text/plain": [
       "[99999, 3, 4, 10]"
      ]
     },
     "execution_count": 164,
     "metadata": {},
     "output_type": "execute_result"
    }
   ],
   "source": [
    "testList.remove(2)\n",
    "testList"
   ]
  },
  {
   "cell_type": "code",
   "execution_count": 177,
   "id": "40abc389-2c28-4a54-a73f-978680883f4c",
   "metadata": {},
   "outputs": [],
   "source": [
    "testList =[1,2,3,4,5,6,7,8]"
   ]
  },
  {
   "cell_type": "code",
   "execution_count": 178,
   "id": "72afb46b-7c1a-4925-be8f-001c34a61aba",
   "metadata": {},
   "outputs": [
    {
     "data": {
      "text/plain": [
       "[1, 2, 3, 4, 5, 6, 7, 8]"
      ]
     },
     "execution_count": 178,
     "metadata": {},
     "output_type": "execute_result"
    }
   ],
   "source": [
    "testList"
   ]
  },
  {
   "cell_type": "code",
   "execution_count": 179,
   "id": "9183174c-642a-4d70-9519-da2a115713b0",
   "metadata": {},
   "outputs": [
    {
     "data": {
      "text/plain": [
       "36"
      ]
     },
     "execution_count": 179,
     "metadata": {},
     "output_type": "execute_result"
    }
   ],
   "source": [
    "sum(testList) ##sum, len, max, min / sum, len -> avg"
   ]
  },
  {
   "cell_type": "code",
   "execution_count": 180,
   "id": "7ba08089-e405-45cd-a250-557ebc36d5d5",
   "metadata": {},
   "outputs": [
    {
     "name": "stdout",
     "output_type": "stream",
     "text": [
      "36\n",
      "8\n",
      "8\n",
      "1\n"
     ]
    }
   ],
   "source": [
    "print(sum(testList)) ## 합\n",
    "print(len(testList)) ## 길이\n",
    "print(max(testList)) ##최댓값\n",
    "print(min(testList)) ##최소값"
   ]
  },
  {
   "cell_type": "code",
   "execution_count": 181,
   "id": "036a6cf0-48be-4d7d-bebb-c6d815827107",
   "metadata": {},
   "outputs": [],
   "source": [
    "##정렬"
   ]
  },
  {
   "cell_type": "code",
   "execution_count": 182,
   "id": "01c5d18e-651e-4159-b748-43b3a87314de",
   "metadata": {},
   "outputs": [],
   "source": [
    "testList = [1,5,4,2,3,7,9,8]"
   ]
  },
  {
   "cell_type": "code",
   "execution_count": 187,
   "id": "be7428e9-2aaf-4639-885b-4b3bf53bca3a",
   "metadata": {},
   "outputs": [
    {
     "data": {
      "text/plain": [
       "[1, 2, 3, 4, 5, 7, 8, 9]"
      ]
     },
     "execution_count": 187,
     "metadata": {},
     "output_type": "execute_result"
    }
   ],
   "source": [
    "testList.sort(reverse=False)\n",
    "testList"
   ]
  },
  {
   "cell_type": "code",
   "execution_count": 188,
   "id": "e913f04a-fbca-4995-9ce3-47553d34e889",
   "metadata": {},
   "outputs": [
    {
     "data": {
      "text/plain": [
       "[9, 8, 7, 5, 4, 3, 2, 1]"
      ]
     },
     "execution_count": 188,
     "metadata": {},
     "output_type": "execute_result"
    }
   ],
   "source": [
    "testList.sort(reverse=True)\n",
    "testList"
   ]
  },
  {
   "cell_type": "code",
   "execution_count": 189,
   "id": "7f76b89d-34e4-40cd-a066-5fc83c172785",
   "metadata": {},
   "outputs": [],
   "source": [
    "#count 쓰임"
   ]
  },
  {
   "cell_type": "code",
   "execution_count": 190,
   "id": "3c0f7f1a-05b3-43c5-ae29-24293eae0534",
   "metadata": {},
   "outputs": [
    {
     "data": {
      "text/plain": [
       "2"
      ]
     },
     "execution_count": 190,
     "metadata": {},
     "output_type": "execute_result"
    }
   ],
   "source": [
    "testList = [1,2,2,4,5]\n",
    "testList.count(2)"
   ]
  },
  {
   "cell_type": "code",
   "execution_count": 212,
   "id": "4550338f-dafe-4380-bdf2-9724ea9ae604",
   "metadata": {},
   "outputs": [],
   "source": [
    "##문제"
   ]
  },
  {
   "cell_type": "code",
   "execution_count": 201,
   "id": "795a1710-0098-40b5-8e4e-188f6404fc2a",
   "metadata": {},
   "outputs": [],
   "source": [
    "testList = [120,150,300,500,1000,100,2000]"
   ]
  },
  {
   "cell_type": "code",
   "execution_count": 202,
   "id": "3ee4a985-dacd-4119-92fb-4b8ff8574688",
   "metadata": {},
   "outputs": [],
   "source": [
    "testList.remove(min(testList))\n",
    "testList.remove(max(testList))"
   ]
  },
  {
   "cell_type": "code",
   "execution_count": 208,
   "id": "f1a23722-55d5-44db-860b-47c757d9a426",
   "metadata": {},
   "outputs": [],
   "source": [
    "sumtestList = sum(testList)"
   ]
  },
  {
   "cell_type": "code",
   "execution_count": 209,
   "id": "6e113232-2f63-4768-864d-730caf4ad007",
   "metadata": {},
   "outputs": [],
   "source": [
    "lentestList = len(testList)"
   ]
  },
  {
   "cell_type": "code",
   "execution_count": 211,
   "id": "862347dd-01da-4428-b03d-4e17cb5bc77d",
   "metadata": {},
   "outputs": [
    {
     "data": {
      "text/plain": [
       "414.0"
      ]
     },
     "execution_count": 211,
     "metadata": {},
     "output_type": "execute_result"
    }
   ],
   "source": [
    "average = sumtestList / inlentestList\n",
    "average"
   ]
  },
  {
   "cell_type": "code",
   "execution_count": null,
   "id": "f0f33cf5-a34e-40ca-8540-c02224c5538b",
   "metadata": {},
   "outputs": [],
   "source": [
    "## 교수님 풀이"
   ]
  },
  {
   "cell_type": "code",
   "execution_count": 218,
   "id": "0fa1c13a-849b-4654-baf9-d16a71422909",
   "metadata": {},
   "outputs": [],
   "source": [
    "testList = [120,150,300,500,1000,100,2000]"
   ]
  },
  {
   "cell_type": "code",
   "execution_count": 219,
   "id": "0d087dec-43c8-49d2-84a4-a054a98ec0b9",
   "metadata": {},
   "outputs": [],
   "source": [
    "### step 1 최소값 제거\n",
    "### step 2 최대값을 제거한다\n",
    "### step 3 나머지 리스트의 평균을 구한다 합/길이\n",
    "\n",
    "### 이런식으로 내가 무엇을 할 것인지 기준을 잡아두는 습관을 기르자"
   ]
  },
  {
   "cell_type": "code",
   "execution_count": 220,
   "id": "deb8c091-60bd-40cd-a2db-a55cff6f2126",
   "metadata": {},
   "outputs": [],
   "source": [
    "## 포멧팅"
   ]
  },
  {
   "cell_type": "code",
   "execution_count": 224,
   "id": "19270e77-9b7c-4b51-b956-876b45d96b4c",
   "metadata": {},
   "outputs": [],
   "source": [
    "minValue = min(testList)\n",
    "maxValue = max(testList)"
   ]
  },
  {
   "cell_type": "code",
   "execution_count": 225,
   "id": "e78ba9c5-aaeb-43df-8df3-86ab9b3c4b9f",
   "metadata": {},
   "outputs": [
    {
     "data": {
      "text/plain": [
       "'최소값 : 100'"
      ]
     },
     "execution_count": 225,
     "metadata": {},
     "output_type": "execute_result"
    }
   ],
   "source": [
    "\"최소값 : {}\".format(minValue)"
   ]
  },
  {
   "cell_type": "code",
   "execution_count": 226,
   "id": "c9a88533-ec46-48cc-8dae-4870cb6b8937",
   "metadata": {},
   "outputs": [
    {
     "data": {
      "text/plain": [
       "'최소값 : 100 최대값 :2000 '"
      ]
     },
     "execution_count": 226,
     "metadata": {},
     "output_type": "execute_result"
    }
   ],
   "source": [
    "\"최소값 : {} 최대값 :{} \".format(minValue,maxValue)"
   ]
  }
 ],
 "metadata": {
  "kernelspec": {
   "display_name": "Python 3 (ipykernel)",
   "language": "python",
   "name": "python3"
  },
  "language_info": {
   "codemirror_mode": {
    "name": "ipython",
    "version": 3
   },
   "file_extension": ".py",
   "mimetype": "text/x-python",
   "name": "python",
   "nbconvert_exporter": "python",
   "pygments_lexer": "ipython3",
   "version": "3.9.13"
  }
 },
 "nbformat": 4,
 "nbformat_minor": 5
}
