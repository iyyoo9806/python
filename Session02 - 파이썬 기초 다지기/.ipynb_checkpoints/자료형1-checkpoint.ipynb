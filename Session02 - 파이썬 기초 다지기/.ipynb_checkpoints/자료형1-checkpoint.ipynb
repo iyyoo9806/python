{
 "cells": [
  {
   "cell_type": "markdown",
   "id": "89adc3bd-5f08-4562-bffc-795e0b8c1863",
   "metadata": {},
   "source": [
    "# 자료형"
   ]
  },
  {
   "cell_type": "code",
   "execution_count": 2,
   "id": "1209a82d-a209-42cf-9425-eaa3606f1577",
   "metadata": {},
   "outputs": [
    {
     "ename": "SyntaxError",
     "evalue": "invalid syntax (836113385.py, line 2)",
     "output_type": "error",
     "traceback": [
      "\u001b[1;36m  File \u001b[1;32m\"C:\\Users\\SMART01\\AppData\\Local\\Temp\\ipykernel_4104\\836113385.py\"\u001b[1;36m, line \u001b[1;32m2\u001b[0m\n\u001b[1;33m    3a=3\u001b[0m\n\u001b[1;37m     ^\u001b[0m\n\u001b[1;31mSyntaxError\u001b[0m\u001b[1;31m:\u001b[0m invalid syntax\n"
     ]
    }
   ],
   "source": [
    "# 규칙1:변수명 맨 앞에 숫자가 올 수 없다\n",
    "3a=3"
   ]
  },
  {
   "cell_type": "code",
   "execution_count": 8,
   "id": "b56c0f39-0783-4c58-abcf-cb2602d67cb3",
   "metadata": {},
   "outputs": [
    {
     "data": {
      "text/plain": [
       "9"
      ]
     },
     "execution_count": 8,
     "metadata": {},
     "output_type": "execute_result"
    }
   ],
   "source": [
    "# 규칙2: 변수는 대소문자를 구별한다.\n",
    "a=5\n",
    "A=6\n",
    "b=3\n",
    "A+b"
   ]
  },
  {
   "cell_type": "code",
   "execution_count": 10,
   "id": "9e8c5243-7fc0-4e5e-b30f-78319e9f46a5",
   "metadata": {},
   "outputs": [],
   "source": [
    "# 규칙3: 예약어는 올 수 없다!\n",
    "# 예약어 : for, if, else 등"
   ]
  },
  {
   "cell_type": "code",
   "execution_count": null,
   "id": "3fa690d5-27a4-498c-9aa3-94c73871e35c",
   "metadata": {},
   "outputs": [],
   "source": [
    "## 변수명은 엄청나게 고민해야 한다.\n",
    "## 알고리즘을 개발하는것보다 변수명 작명하는게 제일 힘들다."
   ]
  },
  {
   "cell_type": "code",
   "execution_count": 11,
   "id": "f9c2ea9d-0df5-4ece-a32b-8a242775a5cf",
   "metadata": {},
   "outputs": [
    {
     "data": {
      "text/plain": [
       "8000.0"
      ]
     },
     "execution_count": 11,
     "metadata": {},
     "output_type": "execute_result"
    }
   ],
   "source": [
    "a=10000\n",
    "b=0.2\n",
    "c=a-(a*b)\n",
    "c"
   ]
  },
  {
   "cell_type": "code",
   "execution_count": 15,
   "id": "a4888eec-e897-4fcd-8292-b805cafc8779",
   "metadata": {},
   "outputs": [
    {
     "data": {
      "text/plain": [
       "8000.0"
      ]
     },
     "execution_count": 15,
     "metadata": {},
     "output_type": "execute_result"
    }
   ],
   "source": [
    "# 가격할인정보 적용코드 (가독성! 읽기 편하게 작성하라!)\n",
    "# -> 단어와 단어 사이를 대문자로 구분한다. 혹은 단어와 단어 사이를 \"_\" 로 구분한다.\n",
    "# 축약어를 쓰되 변수 명의 길이가 가급적 13자를 넘기지 말자!\n",
    "orgPrice = 10000\n",
    "discountRatio = 0.2\n",
    "selloutPrice = orgPrice * (1-discountRatio)\n",
    "selloutPrice"
   ]
  },
  {
   "cell_type": "code",
   "execution_count": 4,
   "id": "07caad06-4452-4ef4-aebc-52e5df7a7fec",
   "metadata": {},
   "outputs": [
    {
     "data": {
      "text/plain": [
       "'35'"
      ]
     },
     "execution_count": 4,
     "metadata": {},
     "output_type": "execute_result"
    }
   ],
   "source": [
    "c=\"3\"\n",
    "d=\"5\"\n",
    "c+d"
   ]
  },
  {
   "cell_type": "code",
   "execution_count": 5,
   "id": "0272eb50-8568-48c8-8d85-b8c47dccd7fe",
   "metadata": {},
   "outputs": [
    {
     "data": {
      "text/plain": [
       "str"
      ]
     },
     "execution_count": 5,
     "metadata": {},
     "output_type": "execute_result"
    }
   ],
   "source": [
    "type(c)"
   ]
  },
  {
   "cell_type": "markdown",
   "id": "99e7c5b9-ddd7-4381-b56a-8ebb7c250877",
   "metadata": {},
   "source": [
    "## 수"
   ]
  },
  {
   "cell_type": "code",
   "execution_count": 16,
   "id": "da0e3166-11ff-4302-85ce-b0371d193e98",
   "metadata": {},
   "outputs": [],
   "source": [
    "a = 10\n",
    "b = 1.5"
   ]
  },
  {
   "cell_type": "code",
   "execution_count": 17,
   "id": "1d4463d2-b14a-448a-ab5b-d9dd2f6fc749",
   "metadata": {},
   "outputs": [
    {
     "data": {
      "text/plain": [
       "float"
      ]
     },
     "execution_count": 17,
     "metadata": {},
     "output_type": "execute_result"
    }
   ],
   "source": [
    "type(b)"
   ]
  },
  {
   "cell_type": "code",
   "execution_count": 20,
   "id": "854bcc55-5dd7-487d-8ea1-6885ad953b85",
   "metadata": {},
   "outputs": [],
   "source": [
    "intValue = 10\n",
    "floatValue = 1.5"
   ]
  },
  {
   "cell_type": "code",
   "execution_count": 35,
   "id": "8e0bb4e8-00f6-4722-982e-9cb4178e4406",
   "metadata": {},
   "outputs": [
    {
     "name": "stdout",
     "output_type": "stream",
     "text": [
      "135.456\n"
     ]
    }
   ],
   "source": [
    "#더하기 = + = sumation\n",
    "integer_value = 123\n",
    "float_value = 12.456\n",
    "sumation = integer_value+float_value\n",
    "print(sumation)"
   ]
  },
  {
   "cell_type": "code",
   "execution_count": 36,
   "id": "554796da-7e36-42dc-8b79-de85df1790c1",
   "metadata": {},
   "outputs": [
    {
     "name": "stdout",
     "output_type": "stream",
     "text": [
      "1532.088\n"
     ]
    }
   ],
   "source": [
    "#곱하기 = * = multiple\n",
    "integer_value = 123\n",
    "float_value = 12.456\n",
    "multiple = integer_value*float_value\n",
    "print(multiple)"
   ]
  },
  {
   "cell_type": "code",
   "execution_count": 37,
   "id": "7617a096-b3e1-4150-b644-c8a54ccac261",
   "metadata": {},
   "outputs": [
    {
     "name": "stdout",
     "output_type": "stream",
     "text": [
      "9.8747591522158\n"
     ]
    }
   ],
   "source": [
    "#나누기 = / = division\n",
    "integer_value = 123\n",
    "float_value = 12.456\n",
    "division = integer_value/float_value\n",
    "print(division)"
   ]
  },
  {
   "cell_type": "code",
   "execution_count": 27,
   "id": "c8eebdb1-54a3-4b10-987c-78e0c5d1f385",
   "metadata": {},
   "outputs": [
    {
     "name": "stdout",
     "output_type": "stream",
     "text": [
      "-5.5\n"
     ]
    }
   ],
   "source": [
    "# 빼기 연산 = - = diff\n",
    "integer_value = 123\n",
    "float_value = 12.456\n",
    "diff = intValue - floatValue\n",
    "print(diff)"
   ]
  },
  {
   "cell_type": "code",
   "execution_count": 45,
   "id": "4738d77f-5df6-4fe8-96f8-ef352a689e40",
   "metadata": {},
   "outputs": [
    {
     "name": "stdout",
     "output_type": "stream",
     "text": [
      "144\n"
     ]
    }
   ],
   "source": [
    "#제곱 = ** = exponential\n",
    "#정답 :100 예측 : 95 틀린거 5\n",
    "#제곱을 시켜서 틀린것을 눈에 잘띄게 해주는 역할\n",
    "integer_value = 123\n",
    "float_value = 12.456\n",
    "integer_value2 = int(float_value)\n",
    "exponential = integer_value2**2\n",
    "print(exponential)"
   ]
  },
  {
   "cell_type": "code",
   "execution_count": 39,
   "id": "099b4325-e0b3-4fa1-b636-0232d03ef468",
   "metadata": {},
   "outputs": [
    {
     "name": "stdout",
     "output_type": "stream",
     "text": [
      "3\n"
     ]
    }
   ],
   "source": [
    "#나머지 = % = mod\n",
    "integer_value = 123\n",
    "float_value = 12.456\n",
    "mod = integer_value%int(float_value)\n",
    "print(mod)"
   ]
  },
  {
   "cell_type": "code",
   "execution_count": 5,
   "id": "c7bedad6-ba0d-4215-a14a-d2484308996d",
   "metadata": {},
   "outputs": [],
   "source": [
    "# 정수\n",
    "intValue = 5\n",
    "floatValue = 10.5"
   ]
  },
  {
   "cell_type": "code",
   "execution_count": 14,
   "id": "231afe1e-4b9c-42a7-b357-08570d86750a",
   "metadata": {},
   "outputs": [
    {
     "name": "stdout",
     "output_type": "stream",
     "text": [
      "15.5\n",
      "-5.5\n"
     ]
    }
   ],
   "source": [
    "# 더하기 연산\n",
    "sumation = intValue + floatValue\n",
    "print(sumation)\n",
    "\n",
    "# 빼기 연산\n",
    "diff = intValue - floatValue\n",
    "print(diff)"
   ]
  },
  {
   "cell_type": "markdown",
   "id": "ad49a705-f846-417c-a907-22e7c92c68a2",
   "metadata": {},
   "source": [
    "# 나머지 연산 (mod)"
   ]
  },
  {
   "cell_type": "code",
   "execution_count": 34,
   "id": "6a963058-4e9f-4076-b615-c10084098a77",
   "metadata": {},
   "outputs": [],
   "source": [
    "# 패턴을 찾는 나머지 연산"
   ]
  },
  {
   "cell_type": "code",
   "execution_count": 37,
   "id": "f2f77b71-a573-4009-b088-72f64a86d5dc",
   "metadata": {},
   "outputs": [
    {
     "data": {
      "text/plain": [
       "1"
      ]
     },
     "execution_count": 37,
     "metadata": {},
     "output_type": "execute_result"
    }
   ],
   "source": [
    "6%5"
   ]
  },
  {
   "cell_type": "code",
   "execution_count": 36,
   "id": "c1698f2f-78b6-4525-a572-e42ca78f123c",
   "metadata": {},
   "outputs": [
    {
     "data": {
      "text/plain": [
       "3.0"
      ]
     },
     "execution_count": 36,
     "metadata": {},
     "output_type": "execute_result"
    }
   ],
   "source": [
    "6/2"
   ]
  },
  {
   "cell_type": "markdown",
   "id": "7e799e72-a4ca-4469-a4dc-638289a616ba",
   "metadata": {},
   "source": [
    "# 다음"
   ]
  },
  {
   "cell_type": "code",
   "execution_count": 51,
   "id": "f984144d-0488-4a36-8c5f-db52dffe68fd",
   "metadata": {},
   "outputs": [
    {
     "name": "stdout",
     "output_type": "stream",
     "text": [
      "18\n"
     ]
    }
   ],
   "source": [
    "## 실습문재 현재 시간 분을 더하는 프로그램을 작성하시오\n",
    "pH = 17\n",
    "pM = 1\n",
    "sumation = pH + pM\n",
    "print(sumation)"
   ]
  },
  {
   "cell_type": "code",
   "execution_count": 10,
   "id": "150882e5-5bdb-4e3e-9dbb-ff92efd67d72",
   "metadata": {},
   "outputs": [],
   "source": [
    "# 라이브러리 선언\n",
    "from datetime import datetime"
   ]
  },
  {
   "cell_type": "code",
   "execution_count": 11,
   "id": "2a26a2ff-d15f-4a86-a41f-93eb39e21ed9",
   "metadata": {},
   "outputs": [],
   "source": [
    "currentDate = datetime.now()"
   ]
  },
  {
   "cell_type": "code",
   "execution_count": 12,
   "id": "1ccb1b47-c29b-4790-9d2c-3ddbc0dad851",
   "metadata": {},
   "outputs": [],
   "source": [
    "currentHour = currentDate.hour\n",
    "currentMinute = currentDate.minute"
   ]
  },
  {
   "cell_type": "code",
   "execution_count": 13,
   "id": "eb294ea9-4867-4f66-8026-6328960c18f6",
   "metadata": {},
   "outputs": [
    {
     "data": {
      "text/plain": [
       "76"
      ]
     },
     "execution_count": 13,
     "metadata": {},
     "output_type": "execute_result"
    }
   ],
   "source": [
    "currentHour + currentMinute"
   ]
  },
  {
   "cell_type": "markdown",
   "id": "1299272d-c9a6-4fd8-9ccc-55b1fd64909d",
   "metadata": {},
   "source": [
    "# 1-2 문자열"
   ]
  },
  {
   "cell_type": "code",
   "execution_count": 68,
   "id": "2d580051-4242-41ab-bd4b-d7dac20387bd",
   "metadata": {},
   "outputs": [],
   "source": [
    "# 문자선언은 '_',\"_\",\"\"\"_\"\"\" 하면 됨(내가 선언해야하는 문자 안의 따옴표와 중복되면 안됨)"
   ]
  },
  {
   "cell_type": "code",
   "execution_count": 67,
   "id": "668bd045-9c5e-4853-a212-f81252226515",
   "metadata": {
    "tags": []
   },
   "outputs": [],
   "source": [
    "stringValue = \"SEC\""
   ]
  },
  {
   "cell_type": "code",
   "execution_count": 69,
   "id": "0f4639f2-c254-434a-94fc-2630bfba40ac",
   "metadata": {},
   "outputs": [],
   "source": [
    "stringValue2 = \"I'm a student\""
   ]
  },
  {
   "cell_type": "code",
   "execution_count": 71,
   "id": "99bf6fb6-7bbd-47bd-baa4-7640ca8b975a",
   "metadata": {},
   "outputs": [],
   "source": [
    "stringValue2 = \"\"\"I'm a student\"\"\""
   ]
  },
  {
   "cell_type": "code",
   "execution_count": 1,
   "id": "f9ef9fd2-13c2-48f7-b805-d46587086f6a",
   "metadata": {},
   "outputs": [],
   "source": [
    "stringValue2 = '\"input\"'"
   ]
  },
  {
   "cell_type": "code",
   "execution_count": 30,
   "id": "4b512b51-0497-4297-b38d-fbac67850c31",
   "metadata": {},
   "outputs": [
    {
     "name": "stdout",
     "output_type": "stream",
     "text": [
      "nh 18\n",
      "nm 9\n",
      "nh+nm 9\n"
     ]
    }
   ],
   "source": [
    "import datetime\n",
    "now = datetime.datetime.now();\n",
    "now_hour = now.hour;\n",
    "print(\"nh\",now_hour);\n",
    "now_min = now.minute;\n",
    "print(\"nm\",now_min);\n",
    "diff = now_hour - now_min;\n",
    "print(\"nh+nm\",diff);"
   ]
  },
  {
   "cell_type": "code",
   "execution_count": 4,
   "id": "4244d60f-00aa-4ab8-b8aa-bcb88eecf4be",
   "metadata": {},
   "outputs": [],
   "source": [
    "integer_Value = 150\n",
    "float_Value = 12.7"
   ]
  },
  {
   "cell_type": "code",
   "execution_count": 6,
   "id": "c43b8378-0590-4502-921b-2f7441fa111a",
   "metadata": {},
   "outputs": [
    {
     "name": "stdout",
     "output_type": "stream",
     "text": [
      "10.300000000000008\n"
     ]
    }
   ],
   "source": [
    "mod = integer_Value%float_Value\n",
    "print(mod)"
   ]
  },
  {
   "cell_type": "code",
   "execution_count": 7,
   "id": "da706e32-662b-43b3-965c-ef44bb7209c7",
   "metadata": {},
   "outputs": [
    {
     "data": {
      "text/plain": [
       "'C:\\\\Users\\\\SMART01\\\\stdcode6\\\\Session02 - 파이썬 기초 다지기\\\\자료형 실습'"
      ]
     },
     "execution_count": 7,
     "metadata": {},
     "output_type": "execute_result"
    }
   ],
   "source": [
    "pwd"
   ]
  }
 ],
 "metadata": {
  "kernelspec": {
   "display_name": "Python 3 (ipykernel)",
   "language": "python",
   "name": "python3"
  },
  "language_info": {
   "codemirror_mode": {
    "name": "ipython",
    "version": 3
   },
   "file_extension": ".py",
   "mimetype": "text/x-python",
   "name": "python",
   "nbconvert_exporter": "python",
   "pygments_lexer": "ipython3",
   "version": "3.9.13"
  }
 },
 "nbformat": 4,
 "nbformat_minor": 5
}
