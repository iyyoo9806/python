{
 "cells": [
  {
   "cell_type": "code",
   "execution_count": 2,
   "id": "a3cabb1a-a6e9-4ee2-bf80-36c5b756e5e8",
   "metadata": {},
   "outputs": [],
   "source": [
    "import pandas as pd"
   ]
  },
  {
   "cell_type": "code",
   "execution_count": null,
   "id": "8ac3f345-3044-46e9-aec3-e63644138884",
   "metadata": {},
   "outputs": [],
   "source": [
    "indata = pd.read_csv(\"C:/Users/SMART01/stdcode6/dataset/kopo_customerdata.csv\")"
   ]
  },
  {
   "cell_type": "code",
   "execution_count": null,
   "id": "bd6427e8-7fc9-4c24-a756-198213e0c698",
   "metadata": {},
   "outputs": [],
   "source": [
    "pd.read_csv(\"../da"
   ]
  }
 ],
 "metadata": {
  "kernelspec": {
   "display_name": "Python 3 (ipykernel)",
   "language": "python",
   "name": "python3"
  },
  "language_info": {
   "codemirror_mode": {
    "name": "ipython",
    "version": 3
   },
   "file_extension": ".py",
   "mimetype": "text/x-python",
   "name": "python",
   "nbconvert_exporter": "python",
   "pygments_lexer": "ipython3",
   "version": "3.9.13"
  }
 },
 "nbformat": 4,
 "nbformat_minor": 5
}
