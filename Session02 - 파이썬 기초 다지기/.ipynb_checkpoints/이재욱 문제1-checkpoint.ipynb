{
 "cells": [
  {
   "cell_type": "code",
   "execution_count": 1,
   "id": "0a0caf35-9d62-4930-9264-ba13479745ea",
   "metadata": {},
   "outputs": [
    {
     "data": {
      "text/plain": [
       "8"
      ]
     },
     "execution_count": 1,
     "metadata": {},
     "output_type": "execute_result"
    }
   ],
   "source": [
    "##문제 1번\n",
    "a= 3\n",
    "b= 5\n",
    "a+b"
   ]
  },
  {
   "cell_type": "code",
   "execution_count": 2,
   "id": "36fb4a95-e4b0-4f2e-99dc-4a59fb10ccf8",
   "metadata": {},
   "outputs": [
    {
     "name": "stdout",
     "output_type": "stream",
     "text": [
      "I'm A STUDENT\n"
     ]
    }
   ],
   "source": [
    "##문제 2번\n",
    "word1 = \"I'm\";\n",
    "word2 = \"A STUDENT\";\n",
    "\n",
    "complete_word = word1 +\" \" + word2;\n",
    "\n",
    "print(complete_word);"
   ]
  },
  {
   "cell_type": "code",
   "execution_count": 3,
   "id": "625de7d6-eb9f-4ec7-b08c-565e521ddef1",
   "metadata": {
    "tags": []
   },
   "outputs": [
    {
     "name": "stdout",
     "output_type": "stream",
     "text": [
      "['d']\n"
     ]
    }
   ],
   "source": [
    "##문제 3번\n",
    "Alpb = ['a','b','c','d','e','f','g','h'];\n",
    "\n",
    "print(Alpb[3:4]);"
   ]
  },
  {
   "cell_type": "code",
   "execution_count": 13,
   "id": "fcff9cf1-0686-4861-be79-e0a7f90ab56a",
   "metadata": {},
   "outputs": [
    {
     "name": "stdout",
     "output_type": "stream",
     "text": [
      "d\n"
     ]
    }
   ],
   "source": [
    "##문제 3-1번\n",
    "Alpb = ['a','b','c','d','e','f','g','h'];\n",
    "\n",
    "print(Alpb[3]);"
   ]
  },
  {
   "cell_type": "code",
   "execution_count": 4,
   "id": "7293a026-4e4e-4c9b-a614-0a30bc6f061a",
   "metadata": {},
   "outputs": [
    {
     "name": "stdout",
     "output_type": "stream",
     "text": [
      "['a', 'b', 'c', 'd']\n"
     ]
    }
   ],
   "source": [
    "##문제 4번\n",
    "Alpb = ['a','b','c','d','e','f','g','h'];\n",
    "print(Alpb[:4]);"
   ]
  },
  {
   "cell_type": "code",
   "execution_count": 5,
   "id": "7918fb91-e014-458d-8c5e-58e01f038b00",
   "metadata": {},
   "outputs": [
    {
     "name": "stdout",
     "output_type": "stream",
     "text": [
      "['b', 'c', 'd', 'e', 'f', 'g', 'h']\n"
     ]
    }
   ],
   "source": [
    "##문제 5번\n",
    "Alpb = ['a','b','c','d','e','f','g','h'];\n",
    "\n",
    "print(Alpb[1:])"
   ]
  },
  {
   "cell_type": "code",
   "execution_count": 6,
   "id": "2e38d1b4-fc60-47e0-8c2b-7288cc9530cd",
   "metadata": {},
   "outputs": [
    {
     "data": {
      "text/plain": [
       "4"
      ]
     },
     "execution_count": 6,
     "metadata": {},
     "output_type": "execute_result"
    }
   ],
   "source": [
    "##문제 6번\n",
    "Alpb = ['a','b','c','a','b','d','a','e','r','a']\n",
    "\n",
    "Alpb.count(\"a\")"
   ]
  },
  {
   "cell_type": "code",
   "execution_count": 7,
   "id": "e8ac2cae-2c5d-40b8-a549-ba8032e19f26",
   "metadata": {},
   "outputs": [
    {
     "data": {
      "text/plain": [
       "4"
      ]
     },
     "execution_count": 7,
     "metadata": {},
     "output_type": "execute_result"
    }
   ],
   "source": [
    "## 문제 7번\n",
    "Alpb = ['a','b','c','d','e','f','g','h'];\n",
    "\n",
    "Alpb.index('e')"
   ]
  },
  {
   "cell_type": "code",
   "execution_count": 14,
   "id": "712796ca-8755-4612-879a-7fdd1a597797",
   "metadata": {},
   "outputs": [
    {
     "name": "stdout",
     "output_type": "stream",
     "text": [
      "43\n"
     ]
    }
   ],
   "source": [
    "## 문제 8번\n",
    "Numlist = [21,43,49,67,71,11,50];\n",
    "\n",
    "print(Numlist[1])"
   ]
  },
  {
   "cell_type": "code",
   "execution_count": 9,
   "id": "7bb479d6-8ea2-4619-8573-2edc821ece72",
   "metadata": {},
   "outputs": [
    {
     "name": "stdout",
     "output_type": "stream",
     "text": [
      "11\n"
     ]
    }
   ],
   "source": [
    "## 문제 9번\n",
    "Numlist = [21,43,49,67,71,11,50];\n",
    "\n",
    "testmin = min(Numlist)\n",
    "print(testmin)"
   ]
  },
  {
   "cell_type": "code",
   "execution_count": 10,
   "id": "6f35e5cb-b8b1-4635-a0c7-9e0416824ea2",
   "metadata": {},
   "outputs": [
    {
     "name": "stdout",
     "output_type": "stream",
     "text": [
      "71\n"
     ]
    }
   ],
   "source": [
    "## 문제 10번\n",
    "Numlist = [21,43,49,67,71,11,50];\n",
    "\n",
    "testmax = max(Numlist)\n",
    "print(testmax)"
   ]
  },
  {
   "cell_type": "code",
   "execution_count": 11,
   "id": "73475296-68f2-4483-a696-9e66cf7e997d",
   "metadata": {},
   "outputs": [
    {
     "name": "stdout",
     "output_type": "stream",
     "text": [
      "312\n"
     ]
    }
   ],
   "source": [
    "## 문제 11번\n",
    "Numlist = [21,43,49,67,71,11,50];\n",
    "\n",
    "testsum = sum(Numlist)\n",
    "print(testsum)\n"
   ]
  },
  {
   "cell_type": "code",
   "execution_count": 12,
   "id": "319f3f01-1e05-4813-ba2c-22514ee3327a",
   "metadata": {},
   "outputs": [
    {
     "data": {
      "text/plain": [
       "230"
      ]
     },
     "execution_count": 12,
     "metadata": {},
     "output_type": "execute_result"
    }
   ],
   "source": [
    "## 문제 12번\n",
    "Numlist = [21,43,49,67,71,11,50];\n",
    "\n",
    "testsum = sum(Numlist);\n",
    "testmax = max(Numlist);\n",
    "testmin = min(Numlist);\n",
    "\n",
    "lasttest = testsum - testmin - testmax\n",
    "lasttest"
   ]
  },
  {
   "cell_type": "code",
   "execution_count": 1,
   "id": "3b3f740a-1741-4d0a-b57c-9aeea4437c41",
   "metadata": {},
   "outputs": [
    {
     "data": {
      "text/plain": [
       "32.857142857142854"
      ]
     },
     "execution_count": 1,
     "metadata": {},
     "output_type": "execute_result"
    }
   ],
   "source": [
    "## 문제 12-1번\n",
    "Numlist = [21,43,49,67,71,11,50];\n",
    "\n",
    "testsum = sum(Numlist);\n",
    "testmax = max(Numlist);\n",
    "testmin = min(Numlist);\n",
    "testlen = len(Numlist);\n",
    "\n",
    "lasttest = (testsum - testmin - testmax)/testlen\n",
    "lasttest"
   ]
  },
  {
   "cell_type": "code",
   "execution_count": 2,
   "id": "b6b6a184-b193-49aa-8779-a48fe0c05632",
   "metadata": {},
   "outputs": [
    {
     "data": {
      "text/plain": [
       "46.0"
      ]
     },
     "execution_count": 2,
     "metadata": {},
     "output_type": "execute_result"
    }
   ],
   "source": [
    "## 문제 12-2번\n",
    "Numlist = [21,43,49,67,71,11,50];\n",
    "\n",
    "testsum = sum(Numlist);\n",
    "testmax = max(Numlist);\n",
    "testmin = min(Numlist);\n",
    "testlen = len(Numlist)-2;\n",
    "\n",
    "lasttest = (testsum - testmin - testmax)/testlen\n",
    "lasttest"
   ]
  },
  {
   "cell_type": "code",
   "execution_count": null,
   "id": "62fd418c-1dcd-487c-9e1c-20876ed59601",
   "metadata": {},
   "outputs": [],
   "source": [
    "##심화문제 3"
   ]
  },
  {
   "cell_type": "code",
   "execution_count": 35,
   "id": "f70baf3e-f1c9-4d2d-82d9-d5f08ef051d3",
   "metadata": {},
   "outputs": [
    {
     "data": {
      "text/plain": [
       "'AVNEBGWYJGYJORUFVNE12W3FJKVWADFNJADFJDSWAFGANFDJAN'"
      ]
     },
     "execution_count": 35,
     "metadata": {},
     "output_type": "execute_result"
    }
   ],
   "source": [
    "testlist = \"AVNEbgwyjgyjORUF VNE12w3FJKV wADFNJ ADFJdswafG AN FDJAN\";\n",
    "testlist2 = testlist.upper()\n",
    "testlist3 = testlist2.replace(\" \",\"\")\n",
    "testlist3"
   ]
  },
  {
   "cell_type": "code",
   "execution_count": 37,
   "id": "37e77644-072a-404e-bf1e-b63439991ea0",
   "metadata": {},
   "outputs": [
    {
     "data": {
      "text/plain": [
       "['AVNEBG', 'YJGYJORUFVNE12', '3FJKV', 'ADFNJADFJDS', 'AFGANFDJAN']"
      ]
     },
     "execution_count": 37,
     "metadata": {},
     "output_type": "execute_result"
    }
   ],
   "source": [
    "testlist4 = testlist3.split(\"W\");\n",
    "testlist4"
   ]
  },
  {
   "cell_type": "code",
   "execution_count": 38,
   "id": "dc26f168-7841-400f-bf28-78b65cdaed1f",
   "metadata": {},
   "outputs": [
    {
     "name": "stdout",
     "output_type": "stream",
     "text": [
      "5\n",
      "YJGYJORUFVNE12\n"
     ]
    }
   ],
   "source": [
    "testlen = len(testlist4)\n",
    "print(testlen)\n",
    "print(testlist4[1])"
   ]
  }
 ],
 "metadata": {
  "kernelspec": {
   "display_name": "Python 3 (ipykernel)",
   "language": "python",
   "name": "python3"
  },
  "language_info": {
   "codemirror_mode": {
    "name": "ipython",
    "version": 3
   },
   "file_extension": ".py",
   "mimetype": "text/x-python",
   "name": "python",
   "nbconvert_exporter": "python",
   "pygments_lexer": "ipython3",
   "version": "3.9.13"
  }
 },
 "nbformat": 4,
 "nbformat_minor": 5
}
