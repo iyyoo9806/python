{
 "cells": [
  {
   "cell_type": "code",
   "execution_count": 1,
   "id": "42f04a00-707f-4dec-bb4a-631db1959efd",
   "metadata": {},
   "outputs": [],
   "source": [
    "### 월별 과거 월을 계산하는 함수"
   ]
  },
  {
   "cell_type": "code",
   "execution_count": 24,
   "id": "6070d967-50e0-41dc-838f-1bffed80ea48",
   "metadata": {},
   "outputs": [],
   "source": [
    "def weekCal(inputValue,inputMinusWeek) :\n",
    "    \"\"\"\n",
    "    parameter : inputValue(int),inputMinusWeek(int)\n",
    "    return : 계산된 주차값\n",
    "    \"\"\"\n",
    "    from isoweek import Week\n",
    "\n",
    "    # currYear = 2017\n",
    "\n",
    "    ###입력값\n",
    "\n",
    "#     inputValue = \"201701\"\n",
    "#     inputMinusWeek = \"5\"\n",
    "\n",
    "    ##입력값 구분, 정수변환 및 주차 계산\n",
    "    inputString = str(inputValue)\n",
    "    currYear = inputString[0:4]\n",
    "    currWeek = inputString[4:6]\n",
    "    currYearInt = int(currYear)\n",
    "    currWeekInt = int(currWeek)\n",
    "    minusWeekInt = int(inputMinusWeek)\n",
    "    calWeek = currWeekInt - minusWeekInt\n",
    "\n",
    "    ##\n",
    "\n",
    "    for i in range(0,minusWeekInt):\n",
    "        if(calWeek<=0):\n",
    "            currWeekInt = Week.last_week_of_year(currYearInt-1).week\n",
    "            currYearInt = currYearInt-1\n",
    "            currWeekInt = currWeekInt + calWeek\n",
    "            calWeek = currWeekInt\n",
    "        else:\n",
    "            currWeekInt = calWeek\n",
    "            break;\n",
    "    if(currWeekInt<10):\n",
    "        result = str(currYearInt) + \"Y0\" + str(currWeekInt)+\"W\"\n",
    "    else :\n",
    "        result = str(currYearInt) + \"Y\" + str(currWeekInt)+\"W\"\n",
    "    return result"
   ]
  },
  {
   "cell_type": "code",
   "execution_count": 26,
   "id": "4b7a40e0-17e1-4fc6-b16a-d564e2621dc4",
   "metadata": {},
   "outputs": [],
   "source": [
    "weekCal(\"201710\",\"5\")"
   ]
  },
  {
   "cell_type": "code",
   "execution_count": null,
   "id": "edf4f16e-9458-403a-83f8-a15cd5b6a7f0",
   "metadata": {},
   "outputs": [],
   "source": [
    "### 일자별 과거 일자를 계산하는 함수"
   ]
  }
 ],
 "metadata": {
  "kernelspec": {
   "display_name": "Python 3 (ipykernel)",
   "language": "python",
   "name": "python3"
  },
  "language_info": {
   "codemirror_mode": {
    "name": "ipython",
    "version": 3
   },
   "file_extension": ".py",
   "mimetype": "text/x-python",
   "name": "python",
   "nbconvert_exporter": "python",
   "pygments_lexer": "ipython3",
   "version": "3.9.13"
  }
 },
 "nbformat": 4,
 "nbformat_minor": 5
}
