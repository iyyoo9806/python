{
 "cells": [
  {
   "cell_type": "markdown",
   "id": "70a05de5-f558-461a-9dc5-2fa1c3cb169c",
   "metadata": {},
   "source": [
    "# 조건문"
   ]
  },
  {
   "cell_type": "code",
   "execution_count": 5,
   "id": "9f84c953-5523-47c1-9e4e-990894ed92db",
   "metadata": {},
   "outputs": [],
   "source": [
    "inputScore = 88"
   ]
  },
  {
   "cell_type": "code",
   "execution_count": 6,
   "id": "94cd79ec-7780-4f8e-8d63-2c510d2a7319",
   "metadata": {},
   "outputs": [],
   "source": [
    "hakjum = \"미달\""
   ]
  },
  {
   "cell_type": "code",
   "execution_count": 7,
   "id": "b5997fbf-fbe2-448e-b7b6-3e61ae54f34e",
   "metadata": {},
   "outputs": [],
   "source": [
    "if inputScore >= 90:\n",
    "    hakjum = \"프리미엄\"\n",
    "elif inputScore >= 80:\n",
    "    hakjum = \"중간\"\n",
    "elif inputScore >= 70:\n",
    "    hakjum = \"약함\"\n",
    "else :\n",
    "    hakjum = \"미달\""
   ]
  },
  {
   "cell_type": "code",
   "execution_count": 9,
   "id": "ccea075e-849d-4d9a-aa39-05b78b5e3a52",
   "metadata": {},
   "outputs": [
    {
     "data": {
      "text/plain": [
       "'중간'"
      ]
     },
     "execution_count": 9,
     "metadata": {},
     "output_type": "execute_result"
    }
   ],
   "source": [
    "hakjum"
   ]
  },
  {
   "cell_type": "code",
   "execution_count": 12,
   "id": "2ea9b9fa-1335-4b35-a1ef-15625c232ce8",
   "metadata": {},
   "outputs": [
    {
     "data": {
      "text/plain": [
       "False"
      ]
     },
     "execution_count": 12,
     "metadata": {},
     "output_type": "execute_result"
    }
   ],
   "source": [
    "inputScore >= 90"
   ]
  },
  {
   "cell_type": "code",
   "execution_count": 13,
   "id": "a4ee94b7-6def-48f6-a0eb-896404b7a194",
   "metadata": {},
   "outputs": [
    {
     "data": {
      "text/plain": [
       "True"
      ]
     },
     "execution_count": 13,
     "metadata": {},
     "output_type": "execute_result"
    }
   ],
   "source": [
    "inputScore >= 80"
   ]
  }
 ],
 "metadata": {
  "kernelspec": {
   "display_name": "Python 3 (ipykernel)",
   "language": "python",
   "name": "python3"
  },
  "language_info": {
   "codemirror_mode": {
    "name": "ipython",
    "version": 3
   },
   "file_extension": ".py",
   "mimetype": "text/x-python",
   "name": "python",
   "nbconvert_exporter": "python",
   "pygments_lexer": "ipython3",
   "version": "3.9.13"
  }
 },
 "nbformat": 4,
 "nbformat_minor": 5
}
