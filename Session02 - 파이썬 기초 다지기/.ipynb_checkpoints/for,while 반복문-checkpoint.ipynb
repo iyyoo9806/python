{
 "cells": [
  {
   "cell_type": "code",
   "execution_count": 1,
   "id": "c6570b70-1147-43e7-9595-ac2af22a7d42",
   "metadata": {},
   "outputs": [],
   "source": [
    "#여기앞에 LED_TV 를 다 붙여야 한다."
   ]
  },
  {
   "cell_type": "code",
   "execution_count": 2,
   "id": "9abf6b07-840e-4e37-a34c-5c2b1913b294",
   "metadata": {},
   "outputs": [],
   "source": [
    "inList = [\"UN40EN001\",\"UN40EN002\"]"
   ]
  },
  {
   "cell_type": "code",
   "execution_count": null,
   "id": "30e203ea-5dbc-4ece-a8bd-2e88ccca2307",
   "metadata": {},
   "outputs": [],
   "source": [
    "## Step1 : 문자열로 \"LED_TV\" 선언한다."
   ]
  },
  {
   "cell_type": "code",
   "execution_count": 3,
   "id": "6696d45a-65e5-4833-939f-78a742a14f47",
   "metadata": {},
   "outputs": [],
   "source": [
    "preFix = \"LEDTV_\""
   ]
  },
  {
   "cell_type": "code",
   "execution_count": null,
   "id": "3602db73-9a76-4447-bb23-c030fc186e34",
   "metadata": {},
   "outputs": [],
   "source": [
    "## Step2 : 리스트 0번을 불러와서 문자열을 앞에 삽입한다."
   ]
  },
  {
   "cell_type": "code",
   "execution_count": 6,
   "id": "69b3802a-4285-4792-8dad-b9802a909cc9",
   "metadata": {},
   "outputs": [],
   "source": [
    "inList[0] = preFix + inList[0]"
   ]
  },
  {
   "cell_type": "code",
   "execution_count": 7,
   "id": "b34a12d5-a86b-46dd-984d-be7b705ac84c",
   "metadata": {},
   "outputs": [
    {
     "data": {
      "text/plain": [
       "['LEDTV_UN40EN001', 'UN40EN002']"
      ]
     },
     "execution_count": 7,
     "metadata": {},
     "output_type": "execute_result"
    }
   ],
   "source": [
    "inList"
   ]
  },
  {
   "cell_type": "code",
   "execution_count": 8,
   "id": "d84fd0e5-31bc-40eb-a493-d64b33fb40d9",
   "metadata": {},
   "outputs": [],
   "source": [
    "inList[1] = preFix + inList[1]"
   ]
  },
  {
   "cell_type": "code",
   "execution_count": 9,
   "id": "cf26ba1a-f048-4f16-8c01-83ffff986766",
   "metadata": {},
   "outputs": [
    {
     "data": {
      "text/plain": [
       "['LEDTV_UN40EN001', 'LEDTV_UN40EN002']"
      ]
     },
     "execution_count": 9,
     "metadata": {},
     "output_type": "execute_result"
    }
   ],
   "source": [
    "inList"
   ]
  },
  {
   "cell_type": "code",
   "execution_count": null,
   "id": "74f02338-cf21-4231-8a18-dde128a7170d",
   "metadata": {},
   "outputs": [],
   "source": [
    "## Step3 : 리스트 1번째 인덱스를 불러와서 문자열을 앞에 삽입한다.\n",
    "## 리스트를 같이 업데이트한다."
   ]
  },
  {
   "cell_type": "code",
   "execution_count": 8,
   "id": "1585bf5c-4c92-44d2-ad41-9cf9929d3812",
   "metadata": {},
   "outputs": [],
   "source": [
    "inList = [\"UN40EN001\",\"UN40EN002\"]"
   ]
  },
  {
   "cell_type": "code",
   "execution_count": 9,
   "id": "cdf5e0a7-715f-42bd-a0b6-b67b4b2eb189",
   "metadata": {},
   "outputs": [],
   "source": [
    "preFix = \"LEDTV_\""
   ]
  },
  {
   "cell_type": "code",
   "execution_count": 21,
   "id": "e1a0b966-9867-49e3-af12-666872780f15",
   "metadata": {},
   "outputs": [],
   "source": [
    "for i in range(0, 2, 2):\n",
    "    inList[i] = preFix + inList[i]"
   ]
  },
  {
   "cell_type": "code",
   "execution_count": 23,
   "id": "d9e6136a-bebf-4b99-b61c-a89718b50ac3",
   "metadata": {},
   "outputs": [
    {
     "data": {
      "text/plain": [
       "['LEDTV_LEDTV_LEDTV_LEDTV_LEDTV_LEDTV_UN40EN001', 'LEDTV_UN40EN002']"
      ]
     },
     "execution_count": 23,
     "metadata": {},
     "output_type": "execute_result"
    }
   ],
   "source": [
    "inList"
   ]
  },
  {
   "cell_type": "code",
   "execution_count": 7,
   "id": "d2057830-ca0b-4fe2-840d-b8f2d61eb711",
   "metadata": {},
   "outputs": [
    {
     "data": {
      "text/plain": [
       "['LEDTV_UN40EN001', 'UN40EN002', 'LEDTV_UN40EN003']"
      ]
     },
     "execution_count": 7,
     "metadata": {},
     "output_type": "execute_result"
    }
   ],
   "source": [
    "inList = [\"UN40EN001\",\"UN40EN002\",\"UN40EN003\"]\n",
    "preFix = \"LEDTV_\"\n",
    "inListLen = len(inList)\n",
    "for i in range(0, inListLen ,2):\n",
    "    inList[i] = preFix + inList[i]\n",
    "\n",
    "inList"
   ]
  },
  {
   "cell_type": "code",
   "execution_count": 1,
   "id": "0237c0df-e89b-4e68-aced-dda9aff5c833",
   "metadata": {},
   "outputs": [],
   "source": [
    "import pandas as pd\n",
    "\n",
    "csData = pd.read_csv(\"../dataset/kopo_customerdata.csv\")\n",
    "\n",
    "csCodeData = list(csData.CUSTOMERCODE)\n",
    "\n",
    "preFix = \"한국은행\"\n",
    "inListLen = len(csCodeData)\n",
    "for i in range(0, inListLen):\n",
    "    csCodeData[i] = preFix +  str(csCodeData[i])\n",
    "\n"
   ]
  },
  {
   "cell_type": "code",
   "execution_count": null,
   "id": "687133ca-cd7c-4378-bff9-bb69da8962b4",
   "metadata": {},
   "outputs": [],
   "source": [
    "##debug"
   ]
  },
  {
   "cell_type": "code",
   "execution_count": 37,
   "id": "6f25bb93-b75c-4a7b-94e1-63ab250a33a7",
   "metadata": {},
   "outputs": [],
   "source": [
    "preFix = \"한국은행\"\n",
    "inListLen = len(csCodeData)"
   ]
  },
  {
   "cell_type": "code",
   "execution_count": 38,
   "id": "d76fdbb4-7e08-41b2-843d-8d2f3528f740",
   "metadata": {},
   "outputs": [],
   "source": [
    "i = 0"
   ]
  },
  {
   "cell_type": "code",
   "execution_count": 40,
   "id": "257da3b3-30c2-4d5b-b50a-eb6c8f7cc70c",
   "metadata": {},
   "outputs": [
    {
     "data": {
      "text/plain": [
       "int"
      ]
     },
     "execution_count": 40,
     "metadata": {},
     "output_type": "execute_result"
    }
   ],
   "source": [
    "type(csCodeData[i])"
   ]
  },
  {
   "cell_type": "code",
   "execution_count": null,
   "id": "e98375ff-b562-4ffb-8f67-6441424e4b2a",
   "metadata": {},
   "outputs": [],
   "source": []
  }
 ],
 "metadata": {
  "kernelspec": {
   "display_name": "Python 3 (ipykernel)",
   "language": "python",
   "name": "python3"
  },
  "language_info": {
   "codemirror_mode": {
    "name": "ipython",
    "version": 3
   },
   "file_extension": ".py",
   "mimetype": "text/x-python",
   "name": "python",
   "nbconvert_exporter": "python",
   "pygments_lexer": "ipython3",
   "version": "3.9.13"
  }
 },
 "nbformat": 4,
 "nbformat_minor": 5
}
